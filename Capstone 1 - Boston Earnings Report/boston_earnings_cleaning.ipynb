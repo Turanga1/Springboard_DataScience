{
 "cells": [
  {
   "cell_type": "markdown",
   "metadata": {},
   "source": [
    "# City of Boston Payroll Analysis - Part 1: Data Cleaning\n",
    "Salary data is available for City of Boston employees from at least 2011 to 2017.  Roughly 20,000 employees and salaries are classified by department, job title, “regular” or “overtime”, zip code and a few other criteria."
   ]
  },
  {
   "cell_type": "code",
   "execution_count": 1,
   "metadata": {},
   "outputs": [],
   "source": [
    "# import modules\n",
    "import numpy as np\n",
    "import pandas as pd\n",
    "import re, os, glob\n",
    "import matplotlib.pyplot as plt\n",
    "import seaborn as sns\n",
    "plt.style.use('seaborn-colorblind')\n",
    "sns.set()"
   ]
  },
  {
   "cell_type": "markdown",
   "metadata": {},
   "source": [
    "## Read data, and basic fixes"
   ]
  },
  {
   "cell_type": "code",
   "execution_count": 2,
   "metadata": {
    "collapsed": true
   },
   "outputs": [],
   "source": [
    "# read file(s)\n",
    "path = os.getcwd()                    \n",
    "all_files = glob.glob(os.path.join(path, \"employee*.csv\"))  \n",
    "\n",
    "column_names = ['name', 'department', 'title', 'regular', 'retro', 'other', 'overtime', 'injured',\\\n",
    "                'detail', 'quinn', 'total', 'zipcode']\n",
    "df_from_each_file = (pd.read_csv(f, encoding = \"ISO-8859-1\", header=0, names=column_names, \\\n",
    "                                 index_col=None).assign(year=f) for f in all_files)  \n",
    "earnings   = pd.concat(df_from_each_file, ignore_index=True)"
   ]
  },
  {
   "cell_type": "markdown",
   "metadata": {},
   "source": [
    "A complete set of names/employees, departments, titles and total earnings are availble for the years 2011-2017. Some fields are blank due to no earnings in that particular category. Number columns are not number type due to empty cells. 8 zipcodes are missing. "
   ]
  },
  {
   "cell_type": "code",
   "execution_count": 3,
   "metadata": {},
   "outputs": [],
   "source": [
    "# extract year from file name\n",
    "earnings['year'] = earnings['year'].replace({'\\D':''}, regex=True)\n",
    "earnings['year'] = earnings['year'].str[-4:]  # remove any numbers from file path\n",
    "\n",
    "# switch \"department\" and \"title\" columns for 2013 and 2014\n",
    "earnings.loc[earnings.year.isin(['2013', '2014']),['department','title']] = \\\n",
    "        earnings.loc[earnings.year.isin(['2013', '2014']),['title','department']].values\n",
    "\n",
    "# ignore zip \"+4\" and add leading zero\n",
    "earnings.zipcode = np.where(earnings.zipcode.str.len() == 4, '0' + earnings.zipcode, earnings.zipcode)\n",
    "earnings['zipcode'] = earnings['zipcode'].str[:5]\n",
    " \n",
    "# missing zipcodes\n",
    "earnings = earnings.sort_values(by='name').fillna(method='ffill')\n",
    "\n",
    "# convert number strings to numeric dtype\n",
    "number_columns = ['regular', 'retro', 'other', 'overtime', 'injured', 'detail', 'quinn', 'total']\n",
    "earnings[number_columns] = earnings[number_columns].replace({'\\$': '', ',': ''}, regex=True)\\\n",
    "                                .apply(pd.to_numeric, errors='coerce').fillna(0, axis=1)"
   ]
  },
  {
   "cell_type": "markdown",
   "metadata": {},
   "source": [
    "## Consolidate department names\n",
    "\n",
    "There are roughly 1400 unique job titles - a plausible number. Interestingly there is a sharp increase in department names between 2013 and 2014. The city's website lists 72 departments. This appears to be due to a detailed breakdown of the public school department."
   ]
  },
  {
   "cell_type": "code",
   "execution_count": 4,
   "metadata": {},
   "outputs": [
    {
     "name": "stdout",
     "output_type": "stream",
     "text": [
      "Number of job titles: year\n",
      "2011    1390\n",
      "2012    1411\n",
      "2013    1418\n",
      "2014    1400\n",
      "2015    1419\n",
      "2016    1448\n",
      "2017    1444\n",
      "Name: title, dtype: int64\n",
      "\n",
      "Number of departments: year\n",
      "2011     49\n",
      "2012     49\n",
      "2013     51\n",
      "2014    239\n",
      "2015    233\n",
      "2016    228\n",
      "2017    227\n",
      "Name: department, dtype: int64\n"
     ]
    }
   ],
   "source": [
    "print('Number of job titles:', earnings.groupby('year')['title'].nunique())\n",
    "print('')\n",
    "print('Number of departments:',  earnings.groupby('year')['department'].nunique())"
   ]
  },
  {
   "cell_type": "code",
   "execution_count": 5,
   "metadata": {},
   "outputs": [
    {
     "name": "stdout",
     "output_type": "stream",
     "text": [
      "Number of departments: year\n",
      "2011    49\n",
      "2012    49\n",
      "2013    51\n",
      "2014    53\n",
      "2015    51\n",
      "2016    53\n",
      "2017    55\n",
      "Name: dept_clean, dtype: int64\n",
      "Unique department names (all years):  71\n"
     ]
    }
   ],
   "source": [
    "# combine all school departments into a single \"Boston Public Schools\" department\n",
    "\n",
    "earnings['dept_clean'] = earnings['department'] # all others to stay the same\n",
    "\n",
    "earnings['dept_clean'] = np.where(earnings.department.astype(str).str[:3] == 'BPS', 'Boston Public Schools', earnings.dept_clean)\n",
    "earnings['dept_clean'] = np.where(earnings.department.astype(str).str[-3:] == 'K-8', 'Boston Public Schools', earnings.dept_clean)\n",
    "earnings['dept_clean'] = np.where(earnings.department.astype(str).str[-3:] == 'EEC', 'Boston Public Schools', earnings.dept_clean)\n",
    "earnings['dept_clean'] = np.where(earnings.department.astype(str).str[-3:] == 'ELC', 'Boston Public Schools', earnings.dept_clean)\n",
    "earnings['dept_clean'] = np.where(earnings.department.astype(str).str[-6:] == 'Middle', 'Boston Public Schools', earnings.dept_clean)\n",
    "earnings['dept_clean'] = np.where(earnings.department.astype(str).str[-6:] == 'School', 'Boston Public Schools', earnings.dept_clean)\n",
    "earnings['dept_clean'] = np.where(earnings.department.astype(str).str[-7:] == 'Academy', 'Boston Public Schools', earnings.dept_clean)\n",
    "earnings['dept_clean'] = np.where(earnings.department.astype(str).str[-10:] == 'Elementary', 'Boston Public Schools', earnings.dept_clean)\n",
    "earnings['dept_clean'] = np.where(earnings.department.astype(str).str[:10] == 'Asst Super', 'Boston Public Schools', earnings.dept_clean)\n",
    "\n",
    "bps = ['Greenwood, E Leadership Acad', 'UP Academy Dorchester',\\\n",
    "       'UP \"Unlocking Potential\" Acad', 'Lyon Pilot High 9-12', 'Ellison/Parks EES',\\\n",
    "       'Chief Academic Officer', 'UP Academy Holland', 'Achievement Gap', \\\n",
    "       'BPS Boston Comm Leadership Ac', 'English Language Learn', 'Haley Pilot',\\\n",
    "       'Greater Egleston High', 'Early Learning Services', 'Career & Technical Ed', \\\n",
    "       'Teaching & Learning', 'Unified Student Svc', 'Superintendent',\\\n",
    "       'Student Support Svc', 'Harbor High', 'Fam & Student Engagemt', \\\n",
    "       'Enrollment Services', 'Food & Nutrition Svc', 'HPEC: Com Acd Science & Health',\\\n",
    "       'Institutional Advancemt', 'Legal Advisor', 'Professional Developmnt', \\\n",
    "       'Chief Operating Officer', 'Research Assess & Eval', 'Info & Instr Technology',\\\n",
    "       'BTU Pilot', 'Boston Collaborative High Sch', 'Diplomas Plus', 'Chief Financial Officer']  \n",
    "earnings['dept_clean'] = np.where(earnings.department.isin(bps), 'Boston Public Schools', earnings.dept_clean)\n",
    "\n",
    "print('Number of departments:',  earnings.groupby('year')['dept_clean'].nunique())\n",
    "print('Unique department names (all years): ', earnings.dept_clean.nunique())"
   ]
  },
  {
   "cell_type": "markdown",
   "metadata": {},
   "source": [
    "New departments in 2017:"
   ]
  },
  {
   "cell_type": "code",
   "execution_count": 6,
   "metadata": {},
   "outputs": [
    {
     "name": "stdout",
     "output_type": "stream",
     "text": [
      "{'Chief of Staff', 'Advancement & Ext. Affairs'}\n"
     ]
    }
   ],
   "source": [
    "print(set(earnings.dept_clean.loc[earnings.year == '2017'].unique()) - \\\n",
    "      set(earnings.dept_clean.loc[earnings.year == '2016'].unique()))"
   ]
  },
  {
   "cell_type": "markdown",
   "metadata": {},
   "source": [
    "Further consolidation of departments would be difficult without further information from the city. The Pareto rule can be applied to focus on the largest departments."
   ]
  },
  {
   "cell_type": "code",
   "execution_count": 7,
   "metadata": {},
   "outputs": [
    {
     "name": "stdout",
     "output_type": "stream",
     "text": [
      "Boston Public Schools             89690\n",
      "Boston Police Department          21607\n",
      "Boston Fire Department            11932\n",
      "Boston Cntr - Youth & Families     3970\n",
      "Boston Public Library              3628\n",
      "Public Works Department            3250\n",
      "Parks Department                   2083\n",
      "Inspectional Services Dept         1625\n",
      "Traffic Division                   1442\n",
      "Property Management                1380\n",
      "Neighborhood Development           1139\n",
      "Transportation Department          1109\n",
      "Dpt of Innovation & Technology     1051\n",
      "Boston City Council                 839\n",
      "Workers Compensation Service        703\n",
      "Assessing Department                635\n",
      "Elderly Commission                  546\n",
      "ASD Human Resources                 406\n",
      "Law Department                      375\n",
      "Transportation-Parking Clerk        356\n",
      "Name: dept_clean, dtype: int64\n"
     ]
    }
   ],
   "source": [
    "print(earnings.dept_clean.value_counts().nlargest(20)) # all years combined"
   ]
  },
  {
   "cell_type": "markdown",
   "metadata": {},
   "source": [
    "## Consolidate Job Titles\n",
    "\n",
    "A closer look at the job titles shows some data cleaning might be helpful as well. Fortunately the school department titles look reasonably clean, however the police, fire and library departments could use some work. The Pareto rule will be applied again to limit further investigation of job titles. (Note: the code below combines all years)"
   ]
  },
  {
   "cell_type": "markdown",
   "metadata": {},
   "source": [
    "### Police Department Titles"
   ]
  },
  {
   "cell_type": "code",
   "execution_count": 8,
   "metadata": {},
   "outputs": [
    {
     "name": "stdout",
     "output_type": "stream",
     "text": [
      "Number of unique job titles in police department: 166\n",
      "Police Officer                  10951\n",
      "Police Detective                 2063\n",
      "Police Sergeant                  2046\n",
      "School Traffic Supv              1360\n",
      "Police Lieutenant                 565\n",
      "CommunEquipOp III, R-13 (CT)      422\n",
      "Police Clerk And Typist           376\n",
      "Police Dispatcher                 283\n",
      "Communic. EquipOp II 9II(SS)      253\n",
      "Head Clerk & Secretary            209\n",
      "Name: title_clean, dtype: int64\n"
     ]
    }
   ],
   "source": [
    "# consolidate police department titles\n",
    "earnings['title_clean'] = earnings['title'] # all others to stay the same\n",
    "earnings['title_clean'] = np.where(earnings.title.astype(str).str[:9] == 'Police Of', 'Police Officer', earnings.title_clean)\n",
    "earnings['title_clean'] = np.where(earnings.title.astype(str).str[:9] == 'Police Se', 'Police Sergeant', earnings.title_clean)\n",
    "earnings['title_clean'] = np.where(earnings.title.astype(str).str[:9] == 'PoliceSer', 'Police Sergeant', earnings.title_clean)\n",
    "earnings['title_clean'] = np.where(earnings.title.astype(str).str[:9] == 'Police Li', 'Police Lieutenant', earnings.title_clean)\n",
    "earnings['title_clean'] = np.where(earnings.title.astype(str).str[:9] == 'Police Ca', 'Police Captain', earnings.title_clean)\n",
    "earnings['title_clean'] = np.where(earnings.title.astype(str).str[:9] == 'Police Li', 'Police Lieutenant', earnings.title_clean)\n",
    "\n",
    "\n",
    "police_titles = earnings.title_clean.loc[(earnings.department == 'Boston Police Department')]\n",
    "print('Number of unique job titles in police department:', len(set(police_titles)))\n",
    "print(police_titles.value_counts().nlargest(10))"
   ]
  },
  {
   "cell_type": "markdown",
   "metadata": {},
   "source": [
    "### Fire Department Titles"
   ]
  },
  {
   "cell_type": "code",
   "execution_count": 9,
   "metadata": {
    "scrolled": false
   },
   "outputs": [
    {
     "name": "stdout",
     "output_type": "stream",
     "text": [
      "Number of unique job titles in fire department: 104\n",
      "Fire Fighter                      7971\n",
      "Fire Lieutenant                   1605\n",
      "Fire Captain                       545\n",
      "District Fire Chief                390\n",
      "Fire Alarm Operator                144\n",
      "Sr Admin (Fire)                    122\n",
      "Dep Fire Chief                     117\n",
      "Head Clerk                          77\n",
      "Hvy Mtr Equip Repairperson BFD      45\n",
      "Sr Fire Alarm Operator              43\n",
      "Name: title_clean, dtype: int64\n"
     ]
    }
   ],
   "source": [
    "# consolidate fire department titles\n",
    "earnings['title_clean'] = np.where(earnings.title.astype(str).str[:2] == 'FF', 'Fire Fighter', earnings.title_clean)\n",
    "earnings['title_clean'] = np.where(earnings.title.astype(str).str[:7] == 'Fire Fi', 'Fire Fighter', earnings.title_clean)\n",
    "earnings['title_clean'] = np.where(earnings.title.astype(str).str[:7] == 'FireFig', 'Fire Fighter', earnings.title_clean)\n",
    "earnings['title_clean'] = np.where(earnings.title.astype(str).str[:7] == 'Fire Ca', 'Fire Captain', earnings.title_clean)\n",
    "earnings['title_clean'] = np.where(earnings.title.astype(str).str[:6] == 'Fire L', 'Fire Lieutenant', earnings.title_clean)\n",
    "earnings['title_clean'] = np.where(earnings.title.astype(str).str[:6] == 'FireLi', 'Fire Lieutenant', earnings.title_clean)\n",
    "earnings['title_clean'] = np.where(earnings.title.astype(str).str[:7] == 'Distric', 'District Fire Chief', earnings.title_clean)\n",
    "earnings['title_clean'] = np.where(earnings.title.astype(str).str[:7] == 'Dist Fi', 'District Fire Chief', earnings.title_clean)\n",
    "earnings['title_clean'] = np.where(earnings.title.astype(str).str[:7] == 'DistFCh', 'District Fire Chief', earnings.title_clean)\n",
    "earnings['title_clean'] = np.where(earnings.title.astype(str).str[:7] == 'Dep Fir', 'Dep Fire Chief', earnings.title_clean)\n",
    "earnings['title_clean'] = np.where(earnings.title.astype(str).str[:7] == 'DepFire', 'Dep Fire Chief', earnings.title_clean)\n",
    "earnings['title_clean'] = np.where((earnings.title.astype(str).str[:10] == 'Sr Admin A') \\\n",
    "                                   & (earnings.dept_clean == 'Boston Fire Department'), 'Sr Admin (Fire)', earnings.title_clean)\n",
    "\n",
    "\n",
    "fd_titles = earnings.title_clean.loc[(earnings.dept_clean == 'Boston Fire Department')]\n",
    "print('Number of unique job titles in fire department:', len(set(fd_titles)))\n",
    "print(fd_titles.value_counts().nlargest(10))"
   ]
  },
  {
   "cell_type": "markdown",
   "metadata": {},
   "source": [
    "### Library titles"
   ]
  },
  {
   "cell_type": "code",
   "execution_count": 10,
   "metadata": {},
   "outputs": [
    {
     "name": "stdout",
     "output_type": "stream",
     "text": [
      "Number of unique job titles in Boston Public Library: 149\n",
      "Librarian                      781\n",
      "Spec Library Asst              575\n",
      "Sr Library Asst                564\n",
      "Library Aide                   504\n",
      "Sr Bldg Custodian              154\n",
      "Jr Building Custodian          100\n",
      "Prin Library Asst               45\n",
      "Generalist II                   40\n",
      "Technical Support Associate     30\n",
      "Curator-Professional Lib IV     28\n",
      "Name: title_clean, dtype: int64\n"
     ]
    }
   ],
   "source": [
    "earnings['title_clean'] = np.where(earnings.title.astype(str).str[-6:] == 'rian I', 'Librarian I', earnings.title_clean)\n",
    "earnings['title_clean'] = np.where(earnings.title.astype(str).str[-7:] == 'rian II', 'Librarian II', earnings.title_clean)\n",
    "earnings['title_clean'] = np.where(earnings.title.astype(str).str.contains('Librarian'), 'Librarian', earnings.title_clean)\n",
    "earnings['title_clean'] = np.where(earnings.title.astype(str).str.contains('Spec Library Asst'), 'Spec Library Asst', earnings.title_clean)\n",
    "earnings['title_clean'] = np.where(earnings.title.astype(str).str.contains('Sr Library Asst'), 'Sr Library Asst', earnings.title_clean)\n",
    "earnings['title_clean'] = np.where(earnings.title.astype(str).str.contains('Special Library'), 'Spec Library Asst', earnings.title_clean)\n",
    "earnings['title_clean'] = np.where(earnings.title.astype(str).str.contains('Spec Collection L'), 'Librarian', earnings.title_clean)\n",
    "earnings['title_clean'] = np.where(earnings.title.astype(str).str.contains('Collection Libr'), 'Librarian', earnings.title_clean)\n",
    "\n",
    "bpl_titles = earnings.title_clean.loc[(earnings.dept_clean == 'Boston Public Library')]\n",
    "print('Number of unique job titles in Boston Public Library:', len(set(bpl_titles)))\n",
    "print(bpl_titles.value_counts().nlargest(10))"
   ]
  },
  {
   "cell_type": "code",
   "execution_count": 11,
   "metadata": {},
   "outputs": [],
   "source": [
    "# save combined data to file\n",
    "earnings.to_csv('earnings.csv')"
   ]
  }
 ],
 "metadata": {
  "kernelspec": {
   "display_name": "Python 3",
   "language": "python",
   "name": "python3"
  },
  "language_info": {
   "codemirror_mode": {
    "name": "ipython",
    "version": 3
   },
   "file_extension": ".py",
   "mimetype": "text/x-python",
   "name": "python",
   "nbconvert_exporter": "python",
   "pygments_lexer": "ipython3",
   "version": "3.6.3"
  }
 },
 "nbformat": 4,
 "nbformat_minor": 2
}
