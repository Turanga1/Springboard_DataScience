{
 "cells": [
  {
   "cell_type": "markdown",
   "metadata": {},
   "source": [
    "# City of Boston Payroll Analysis\n",
    "Salary data is available for City of Boston employees from at least 2011 to 2016.  Roughly 20,000 employees and salaries are classified by department, job title, “regular” or “overtime”, zip code and a few other criteria."
   ]
  },
  {
   "cell_type": "code",
   "execution_count": null,
   "metadata": {
    "collapsed": true
   },
   "outputs": [],
   "source": []
  },
  {
   "cell_type": "code",
   "execution_count": 72,
   "metadata": {
    "collapsed": true
   },
   "outputs": [],
   "source": [
    "# import modules\n",
    "import numpy as np\n",
    "import pandas as pd\n",
    "import re\n",
    "import matplotlib.pyplot as plt\n",
    "import seaborn as sns\n",
    "sns.set()"
   ]
  },
  {
   "cell_type": "raw",
   "metadata": {},
   "source": [
    "Let's start by reading the most recent year: 2016."
   ]
  },
  {
   "cell_type": "code",
   "execution_count": 126,
   "metadata": {},
   "outputs": [],
   "source": [
    "# read and convert numerical entries to numbers\n",
    "earnings = pd.read_csv('C:/Users/rujjn/Springboard_DataScience/employee-earnings-report-2016.csv', \\\n",
    "                       encoding = \"ISO-8859-1\", header=0, dtype={'Zip Code': 'category'})\n",
    "c = ['REGULAR', 'RETRO', 'OTHER', 'OVERTIME', 'INJURED', 'DETAIL', 'QUINN/EDUCATION INCENTIVE', 'TOTAL EARNINGS']\n",
    "earnings[c] = earnings[c].replace({'\\$': '', ',': ''}, regex=True).apply(pd.to_numeric, errors='coerce')"
   ]
  },
  {
   "cell_type": "markdown",
   "metadata": {},
   "source": [
    "## Data Cleaning\n",
    "The file contains 22046 entries, a complete set of names/employees and total earnings. One zip code is missing. There are 1448 unique job titles - a plausible number. Interestingly there are 228 unique department names. According to the city's website, there are actually only 72 departments. This suggests some data cleaning might be necessary."
   ]
  },
  {
   "cell_type": "code",
   "execution_count": 99,
   "metadata": {},
   "outputs": [
    {
     "name": "stdout",
     "output_type": "stream",
     "text": [
      "<class 'pandas.core.frame.DataFrame'>\n",
      "RangeIndex: 22046 entries, 0 to 22045\n",
      "Data columns (total 12 columns):\n",
      "NAME                         22046 non-null object\n",
      "DEPARTMENT_NAME              22046 non-null object\n",
      "TITLE                        22046 non-null object\n",
      "REGULAR                      21463 non-null float64\n",
      "RETRO                        416 non-null float64\n",
      "OTHER                        12845 non-null float64\n",
      "OVERTIME                     6690 non-null float64\n",
      "INJURED                      1378 non-null float64\n",
      "DETAIL                       2425 non-null float64\n",
      "QUINN/EDUCATION INCENTIVE    1290 non-null float64\n",
      "TOTAL EARNINGS               22046 non-null float64\n",
      "POSTAL                       22045 non-null object\n",
      "dtypes: float64(8), object(4)\n",
      "memory usage: 2.0+ MB\n",
      "None\n",
      "Number of job titles: 1448\n",
      "Number of departments: 228\n"
     ]
    }
   ],
   "source": [
    "print(earnings.info())\n",
    "print('Number of job titles:', len(earnings.TITLE.unique()))\n",
    "print('Number of departments:', len(earnings.DEPARTMENT_NAME.unique()))"
   ]
  },
  {
   "cell_type": "markdown",
   "metadata": {},
   "source": [
    "A closer look at the job titles shows some data cleaning might be helpful as well:"
   ]
  },
  {
   "cell_type": "code",
   "execution_count": 100,
   "metadata": {},
   "outputs": [
    {
     "name": "stdout",
     "output_type": "stream",
     "text": [
      "Number of unique job titles in police department 178\n",
      "Police Officer                    1279\n",
      "Police Offc Comm Serv Offc 3$8      52\n",
      "Police Offc Mobile Offc 2$6         47\n",
      "Police Offc Acad Instr 2$6          28\n",
      "Police Offc/FgrPrt Ev Tch 4$10      23\n",
      "Police Offc/Juvenile Offc 4$10      18\n",
      "Police Offc Canine 2$6              18\n",
      "Police Officer Hdq Dispatch         14\n",
      "Police Offc Harborboat 3$8          13\n",
      "Police Offc Hackney Invest 3$8      13\n",
      "Police Offc/Auto Invest 4$10        10\n",
      "Police Offc Canine Offc 2$6         10\n",
      "Police Offc/Bomb Squad               9\n",
      "Police Offc Bomb Squad               6\n",
      "Police Offc Ballistician 4$10        6\n",
      "Police Offc/Hosp Liaison 4$10        5\n",
      "Police Officer Harborboat 3$8        4\n",
      "Police Officer Mobile Oper 2$6       2\n",
      "Police Offc Breath $13.50            1\n",
      "Name: TITLE, dtype: int64\n"
     ]
    }
   ],
   "source": [
    "police_titles = earnings['TITLE'].loc[(earnings['DEPARTMENT_NAME'] == 'Boston Police Department') & \\\n",
    "                                      (earnings['TITLE'].str.startswith('Police Off'))]\n",
    "police_department = earnings['TITLE'].loc[(earnings['DEPARTMENT_NAME'] == 'Boston Police Department')]\n",
    "print('Number of unique job titles in police department', len(set(police_department)))\n",
    "print(police_titles.value_counts())"
   ]
  },
  {
   "cell_type": "markdown",
   "metadata": {},
   "source": [
    "Note: $ symbols are possible errors in the dataset, but don't seem to affect the other columns."
   ]
  },
  {
   "cell_type": "code",
   "execution_count": 208,
   "metadata": {},
   "outputs": [],
   "source": [
    "bps = earnings['TITLE'].loc[(earnings['DEPARTMENT_NAME'].str.startswith('BPS'))]\n",
    "# bps.value_counts()"
   ]
  },
  {
   "cell_type": "markdown",
   "metadata": {},
   "source": [
    "Median total earnings by department:"
   ]
  },
  {
   "cell_type": "code",
   "execution_count": 210,
   "metadata": {},
   "outputs": [],
   "source": [
    "salary = earnings.groupby(['TITLE'])['TOTAL EARNINGS'].agg(np.median)\n",
    "# too many to list"
   ]
  },
  {
   "cell_type": "markdown",
   "metadata": {},
   "source": [
    "\"Cab Monitors\" (=bus monitors) earn at least \\$21.73 per trip in 2018. How does someone earn only $2.14?"
   ]
  },
  {
   "cell_type": "code",
   "execution_count": 80,
   "metadata": {},
   "outputs": [
    {
     "name": "stdout",
     "output_type": "stream",
     "text": [
      "9849     2.14\n",
      "1986     2.50\n",
      "13853    3.85\n",
      "2346     4.38\n",
      "4942     6.48\n",
      "16437    6.53\n",
      "20862    7.58\n",
      "21887    8.05\n",
      "10289    8.45\n",
      "2993     8.82\n",
      "Name: TOTAL EARNINGS, dtype: float64\n"
     ]
    }
   ],
   "source": [
    "cab = earnings.loc[(earnings['TITLE'] == 'Cab Monitor')]\n",
    "# salary = cab.loc[(cab['TOTAL EARNINGS'] == min(cab['TOTAL EARNINGS']))]\n",
    "cab = cab.sort_values(by='TOTAL EARNINGS')\n",
    "print(cab['TOTAL EARNINGS'][:10])"
   ]
  },
  {
   "cell_type": "code",
   "execution_count": 84,
   "metadata": {},
   "outputs": [
    {
     "data": {
      "text/plain": [
       "NAME                          Jameau,Bernadette\n",
       "DEPARTMENT_NAME              BPS Transportation\n",
       "TITLE                               Cab Monitor\n",
       "REGULAR                                    2.14\n",
       "RETRO                                       NaN\n",
       "OTHER                                       NaN\n",
       "OVERTIME                                    NaN\n",
       "INJURED                                     NaN\n",
       "DETAIL                                      NaN\n",
       "QUINN/EDUCATION INCENTIVE                   NaN\n",
       "TOTAL EARNINGS                             2.14\n",
       "POSTAL                                    02124\n",
       "Name: 9849, dtype: object"
      ]
     },
     "execution_count": 84,
     "metadata": {},
     "output_type": "execute_result"
    }
   ],
   "source": [
    "earnings.iloc[9849]"
   ]
  },
  {
   "cell_type": "markdown",
   "metadata": {},
   "source": [
    "## Residency Requirement\n",
    "Boston city employees are required to live within city limits. The law is not strictly enforced and is confounded by state, federal and union regulations. \n",
    "\n",
    "https://www.boston.gov/departments/human-resources/residency-requirements-city-workers\n",
    "\n",
    "https://www.bostonglobe.com/metro/2016/01/13/mayor-walsh-seeks-strengthen-boston-residency-requirement-with-caveat/ZyG8xmkOsu0dMHgITSUOKN/story.html\n",
    "\n",
    "What does the distribution look like in 2016?"
   ]
  },
  {
   "cell_type": "code",
   "execution_count": 223,
   "metadata": {},
   "outputs": [
    {
     "name": "stdout",
     "output_type": "stream",
     "text": [
      "69 % of city employees live in Boston.\n"
     ]
    },
    {
     "data": {
      "image/png": "[encoded data removed]",
      "text/plain": [
       "<matplotlib.figure.Figure at 0x1b70baddcf8>"
      ]
     },
     "metadata": {},
     "output_type": "display_data"
    }
   ],
   "source": [
    "# Read in Boston zipcode list\n",
    "boston_zips = pd.read_csv('boston-zipcodes.csv', names=['Bzips'], header=None)\n",
    "boston_zips = boston_zips.astype(str).apply(lambda x: '0' + x) # treat zipcodes as strings and add leading \"0\"\n",
    "\n",
    "# define resident and non-resident employees\n",
    "inzips = earnings.loc[(earnings.POSTAL.isin(boston_zips.Bzips))]\n",
    "outzips = earnings.loc[(~earnings.POSTAL.isin(boston_zips.Bzips))]\n",
    "residents = inzips.shape[0] / zips.shape[0] * 100\n",
    "print(int(residents), '% of city employees live in Boston.')\n",
    "\n",
    "# income distribution\n",
    "in_earnings = inzips['TOTAL EARNINGS'].agg(np.median)\n",
    "out_earnings = outzips['TOTAL EARNINGS'].agg(np.median)\n",
    "_ = plt.bar(['Residents', 'Non-residents'],[in_earnings, out_earnings], 0.4, color=['dodgerblue', 'b'])\n",
    "_ = plt.ylabel('Median Total Earnings ($)')\n",
    "plt.margins(0.2)\n",
    "plt.show()"
   ]
  },
  {
   "cell_type": "markdown",
   "metadata": {},
   "source": [
    "Note: How can I reverse the order of the bars?"
   ]
  }
 ],
 "metadata": {
  "kernelspec": {
   "display_name": "Python 3",
   "language": "python",
   "name": "python3"
  },
  "language_info": {
   "codemirror_mode": {
    "name": "ipython",
    "version": 3
   },
   "file_extension": ".py",
   "mimetype": "text/x-python",
   "name": "python",
   "nbconvert_exporter": "python",
   "pygments_lexer": "ipython3",
   "version": "3.6.3"
  }
 },
 "nbformat": 4,
 "nbformat_minor": 2
}
