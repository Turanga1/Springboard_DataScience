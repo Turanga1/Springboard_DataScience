{
 "cells": [
  {
   "cell_type": "markdown",
   "metadata": {},
   "source": [
    "# City of Boston Payroll Analysis\n",
    "Salary data is available for City of Boston employees from at least 2011 to 2016.  Roughly 20,000 employees and salaries are classified by department, job title, “regular” or “overtime”, zip code and a few other criteria."
   ]
  },
  {
   "cell_type": "code",
   "execution_count": 1,
   "metadata": {
    "collapsed": true
   },
   "outputs": [],
   "source": [
    "# import modules\n",
    "import numpy as np\n",
    "import pandas as pd\n",
    "import re, os, glob\n",
    "import matplotlib.pyplot as plt\n",
    "import seaborn as sns\n",
    "sns.set()"
   ]
  },
  {
   "cell_type": "code",
   "execution_count": 2,
   "metadata": {},
   "outputs": [],
   "source": [
    "# read file(s)\n",
    "path = os.getcwd()                    \n",
    "all_files = glob.glob(os.path.join(path, \"employee*.csv\"))  \n",
    "\n",
    "column_names = ['name', 'department', 'title', 'regular', 'retro', 'other', 'overtime', 'injured',\\\n",
    "                'detail', 'quinn', 'total', 'zipcode']\n",
    "df_from_each_file = (pd.read_csv(f, encoding = \"ISO-8859-1\", header=0, names=column_names, \\\n",
    "                                 index_col=None).assign(year=f) for f in all_files)  \n",
    "earnings   = pd.concat(df_from_each_file, ignore_index=True)"
   ]
  },
  {
   "cell_type": "markdown",
   "metadata": {},
   "source": [
    "## Data Cleaning\n",
    "\n",
    "A complete set of names/employees, departments, titles and total earnings are availble for the years 2011-2016. Some fields are blank due to no earnings in that particular category. 5 zipcodes are missing. "
   ]
  },
  {
   "cell_type": "code",
   "execution_count": 3,
   "metadata": {},
   "outputs": [
    {
     "name": "stdout",
     "output_type": "stream",
     "text": [
      "<class 'pandas.core.frame.DataFrame'>\n",
      "RangeIndex: 130299 entries, 0 to 130298\n",
      "Data columns (total 13 columns):\n",
      "name          130299 non-null object\n",
      "department    130299 non-null object\n",
      "title         130299 non-null object\n",
      "regular       129716 non-null object\n",
      "retro         108669 non-null object\n",
      "other         121098 non-null object\n",
      "overtime      114943 non-null object\n",
      "injured       109631 non-null object\n",
      "detail        110677 non-null object\n",
      "quinn         109543 non-null object\n",
      "total         130299 non-null object\n",
      "zipcode       130294 non-null object\n",
      "year          130299 non-null object\n",
      "dtypes: object(13)\n",
      "memory usage: 12.9+ MB\n",
      "None\n"
     ]
    }
   ],
   "source": [
    "print(earnings.info())"
   ]
  },
  {
   "cell_type": "code",
   "execution_count": 4,
   "metadata": {
    "collapsed": true
   },
   "outputs": [],
   "source": [
    "# extract year from file name\n",
    "earnings['year'] = earnings['year'].replace({'\\D':''}, regex=True)\n",
    "earnings['year'] = earnings['year'].str[-4:]  # remove any numbers from file path\n",
    "\n",
    "# keep first 5 digits of zipcode\n",
    "earnings['zipcode'] = earnings['zipcode'].str[:5].astype('category')\n",
    "\n",
    "# missing zipcodes\n",
    "earnings = earnings.sort_values(by='name').fillna(method='ffill')\n",
    "\n",
    "# convert number strings to numeric dtype\n",
    "number_columns = ['regular', 'retro', 'other', 'overtime', 'injured', 'detail', 'quinn', 'total']\n",
    "earnings[number_columns] = earnings[number_columns].replace({'\\$': '', ',': ''}, regex=True)\\\n",
    "                                .apply(pd.to_numeric, errors='coerce').fillna(0, axis=1)"
   ]
  },
  {
   "cell_type": "code",
   "execution_count": 5,
   "metadata": {
    "scrolled": true
   },
   "outputs": [
    {
     "name": "stdout",
     "output_type": "stream",
     "text": [
      "<class 'pandas.core.frame.DataFrame'>\n",
      "Int64Index: 130299 entries, 21210 to 79724\n",
      "Data columns (total 14 columns):\n",
      "name          130299 non-null object\n",
      "department    130299 non-null object\n",
      "title         130299 non-null object\n",
      "regular       130299 non-null float64\n",
      "retro         130299 non-null float64\n",
      "other         130299 non-null float64\n",
      "overtime      130299 non-null float64\n",
      "injured       130299 non-null float64\n",
      "detail        130299 non-null float64\n",
      "quinn         130299 non-null float64\n",
      "total         130299 non-null float64\n",
      "zipcode       130299 non-null category\n",
      "year          130299 non-null object\n",
      "new_dept      0 non-null float64\n",
      "dtypes: category(1), float64(9), object(4)\n",
      "memory usage: 14.2+ MB\n"
     ]
    }
   ],
   "source": [
    "earnings.insert(13, 'new_dept', np.nan)\n",
    "earnings.info()"
   ]
  },
  {
   "cell_type": "markdown",
   "metadata": {},
   "source": [
    "There are 2087 unique job titles - a plausible number. Interestingly there are 1747 unique department names. According to the city's website, there are actually only 72 departments. "
   ]
  },
  {
   "cell_type": "code",
   "execution_count": 6,
   "metadata": {},
   "outputs": [
    {
     "name": "stdout",
     "output_type": "stream",
     "text": [
      "Number of job titles: 2087\n",
      "Number of departments: 1747\n"
     ]
    }
   ],
   "source": [
    "print('Number of job titles:', len(earnings.title.unique()))\n",
    "print('Number of departments:', len(earnings.department.unique()))"
   ]
  },
  {
   "cell_type": "markdown",
   "metadata": {},
   "source": [
    "A closer look at the job titles shows some data cleaning might be helpful as well:"
   ]
  },
  {
   "cell_type": "code",
   "execution_count": 7,
   "metadata": {},
   "outputs": [
    {
     "name": "stdout",
     "output_type": "stream",
     "text": [
      "Number of unique job titles in police department (2016): 178\n",
      "Police Officer                    1279\n",
      "Police Offc Comm Serv Offc 3$8      52\n",
      "Police Offc Mobile Offc 2$6         47\n",
      "Police Offc Acad Instr 2$6          28\n",
      "Police Offc/FgrPrt Ev Tch 4$10      23\n",
      "Police Offc Canine 2$6              18\n",
      "Police Offc/Juvenile Offc 4$10      18\n",
      "Police Officer Hdq Dispatch         14\n",
      "Police Offc Harborboat 3$8          13\n",
      "Police Offc Hackney Invest 3$8      13\n",
      "Police Offc/Auto Invest 4$10        10\n",
      "Police Offc Canine Offc 2$6         10\n",
      "Police Offc/Bomb Squad               9\n",
      "Police Offc Bomb Squad               6\n",
      "Police Offc Ballistician 4$10        6\n",
      "Police Offc/Hosp Liaison 4$10        5\n",
      "Police Officer Harborboat 3$8        4\n",
      "Police Officer Mobile Oper 2$6       2\n",
      "Police Offc Breath $13.50            1\n",
      "Name: title, dtype: int64\n"
     ]
    }
   ],
   "source": [
    "police_titles = earnings.title.loc[(earnings.department == 'Boston Police Department') & \\\n",
    "                                   (earnings.title.str.startswith('Police Off')) & \\\n",
    "                                   (earnings.year == '2016')]\n",
    "police_department = earnings.title.loc[(earnings.department == 'Boston Police Department') & \\\n",
    "                                       (earnings.year == '2016')]\n",
    "print('Number of unique job titles in police department (2016):', len(set(police_department)))\n",
    "print(police_titles.value_counts())"
   ]
  },
  {
   "cell_type": "markdown",
   "metadata": {},
   "source": [
    "Note: $ symbols are possible errors in the dataset, but don't seem to affect the other columns."
   ]
  },
  {
   "cell_type": "code",
   "execution_count": 8,
   "metadata": {},
   "outputs": [
    {
     "data": {
      "text/plain": [
       "department\n",
       "Boston Public Schools             24459\n",
       "Boston Police Department          12195\n",
       "Teacher                           10938\n",
       "Boston Fire Department             6728\n",
       "Police Officer                     2657\n",
       "Paraprofessional                   2322\n",
       "Boston Cntr - Youth & Families     2244\n",
       "Boston Public Library              2007\n",
       "BPS Substitute Teachers/Nurs       1910\n",
       "Substitute Teacher                 1882\n",
       "Public Works Department            1845\n",
       "Fire Fighter                       1734\n",
       "BPS Special Education              1486\n",
       "Parks Department                   1136\n",
       "BPS Facility Management            1123\n",
       "BPS Transportation                  985\n",
       "Inspectional Services Dept          928\n",
       "Lunch Hour Monitors                 808\n",
       "Property Management                 782\n",
       "Part-Time Cafeteria Attendant       777\n",
       "Name: department, dtype: int64"
      ]
     },
     "execution_count": 8,
     "metadata": {},
     "output_type": "execute_result"
    }
   ],
   "source": [
    "departments = earnings.groupby('department')['department'].agg('count').nlargest(20)\n",
    "departments"
   ]
  },
  {
   "cell_type": "code",
   "execution_count": 9,
   "metadata": {},
   "outputs": [
    {
     "name": "stdout",
     "output_type": "stream",
     "text": [
      "                    department               new_dept\n",
      "11184    Boston Public Schools  Boston Public Schools\n",
      "11257    Boston Public Schools  Boston Public Schools\n",
      "75111           ABA Specialist         ABA Specialist\n",
      "92128    BPS Special Education  Boston Public Schools\n",
      "11570    Boston Public Schools  Boston Public Schools\n",
      "47714              Cab Monitor  Boston Public Schools\n",
      "50286              Cab Monitor  Boston Public Schools\n",
      "1409       Property Management    Property Management\n",
      "23286      Property Management    Property Management\n",
      "13765    Boston Public Schools  Boston Public Schools\n",
      "119631      Veterans' Services     Veterans' Services\n",
      "98059     BPS Charlestown High  Boston Public Schools\n",
      "54789              Cab Monitor  Boston Public Schools\n",
      "61219              Cab Monitor  Boston Public Schools\n",
      "106779  BPS Counseling Service  Boston Public Schools\n",
      "65027           Counselor (CC)         Counselor (CC)\n",
      "107033              Kilmer K-8  Boston Public Schools\n",
      "129081              Kilmer K-8  Boston Public Schools\n",
      "62831                  Teacher  Boston Public Schools\n",
      "79724                  Teacher  Boston Public Schools\n"
     ]
    }
   ],
   "source": [
    "earnings['new_dept'] = earnings['department']\n",
    "bps = ['Teacher', 'Substitute Teacher', 'Paraprofessional', 'Cab Monitor', 'Tech Boston Academy', 'Sub Teacher - Retiree',\\\n",
    "       'One to One Para', 'Surround Care Paraprofessional', 'School Traffic Supv', 'Lunch Hour Monitors', \\\n",
    "       'Prin Clerk/School Sec 19', 'Henderson Elementary', 'UP Academy Dorchester', 'Umana Middle', \\\n",
    "       'SpEd Support Svcs Coordinator', 'Frederick Pilot Middle', 'King K-8', 'Kilmer K-8', 'Boston Public Schools']\n",
    "earnings['new_dept'] = np.where(earnings.department.astype(str).str[:3] == 'BPS', 'Boston Public Schools', earnings.new_dept)\n",
    "earnings['new_dept'] = np.where(earnings.department.isin(bps), 'Boston Public Schools', earnings.new_dept)\n",
    "\n",
    "print(earnings[['department','new_dept']].tail(20))"
   ]
  },
  {
   "cell_type": "code",
   "execution_count": 10,
   "metadata": {
    "scrolled": true
   },
   "outputs": [
    {
     "name": "stdout",
     "output_type": "stream",
     "text": [
      "Teacher                           10365\n",
      "Paraprofessional                   2269\n",
      "Substitute Teacher                 1513\n",
      "Lunch Hour Monitors                 756\n",
      "Part-Time Cafeteria Attendant       749\n",
      "Cab Monitor                         571\n",
      "Community Field Coordinator         313\n",
      "Jr Cust/Nights                      310\n",
      "Prin Clerk/School Sec 19            249\n",
      "One to One Para                     240\n",
      "Sub Teacher - Retiree               235\n",
      "Nurse                               234\n",
      "Sen Cust C                          225\n",
      "Part-Time Custodian                 223\n",
      "BPS Bi-Weekly 26 Leave              220\n",
      "Summer BTU Para                     212\n",
      "SpEd Support Svcs Coordinator       193\n",
      "Surround Care Paraprofessional      175\n",
      "Cluster Substitute                  167\n",
      "Substitute Cafeteria Attendant      166\n",
      "Hot Line Worker                     152\n",
      "Specialist (BTU)                    136\n",
      "Principal Elementary                135\n",
      "Sen Cust C/Nights                   134\n",
      "Jr Custodian                        134\n",
      "Sen Clerk School Sec 766-15B        120\n",
      "Attendant                           119\n",
      "Sum Sch - BTU Prof                  116\n",
      "Guidance Counselor(1)               115\n",
      "School Psychologist(1)              115\n",
      "                                  ...  \n",
      "Telephone Operator                    2\n",
      "Family Resource Specialist            2\n",
      "Sen Cust D                            2\n",
      "Prin Storekeeper 23                   2\n",
      "Chief Financial Officer               2\n",
      "Deputy CIO                            2\n",
      "Chief Supv Htg &Ventilation           2\n",
      "Manager 12                            2\n",
      "Store Deliveryman 17                  2\n",
      "Coordinator 6                         2\n",
      "Project Director                      2\n",
      "Chief of Safety Serv                  2\n",
      "Sen Coordinator/Planner               2\n",
      "Chief Accountability Officer          2\n",
      "Prin Systems Analyst                  1\n",
      "Deputy Director (E)                   1\n",
      "Program Director Basas 11             1\n",
      "Supervisor Of Attendance              1\n",
      "Sen Prog Director (Basas 11B)         1\n",
      "Sen Data Edit/Entry Operator          1\n",
      "Prog Director (D) (non-ac)            1\n",
      "Prin Clerk/School Sec 15A             1\n",
      "Asst Director (Basas 10B)             1\n",
      "Asst Director (Basas 11)              1\n",
      "Field Monitor                         1\n",
      "Program Director (BASAS 11B)          1\n",
      "Sen Officer                           1\n",
      "Admin Asst/School Committee           1\n",
      "Stores Delivery Man 19                1\n",
      "Prin Clerk/School Sec 17              1\n",
      "Name: title, Length: 313, dtype: int64\n"
     ]
    }
   ],
   "source": [
    "bps = earnings.title.loc[(earnings.department.str.startswith('Boston Public Schoo'))]\n",
    "print(bps.value_counts())"
   ]
  },
  {
   "cell_type": "markdown",
   "metadata": {},
   "source": [
    "Median total earnings by department:"
   ]
  },
  {
   "cell_type": "code",
   "execution_count": 11,
   "metadata": {},
   "outputs": [
    {
     "name": "stdout",
     "output_type": "stream",
     "text": [
      "      total payroll ($)\n",
      "year                   \n",
      "2011       1.297467e+09\n",
      "2012       1.315063e+09\n",
      "2013       1.384350e+09\n",
      "2014       1.487853e+09\n",
      "2015       1.551892e+09\n",
      "2016       1.580210e+09\n"
     ]
    },
    {
     "data": {
      "image/png": "[encoded data removed]",
      "text/plain": [
       "<matplotlib.figure.Figure at 0x1f21d4f5e48>"
      ]
     },
     "metadata": {},
     "output_type": "display_data"
    }
   ],
   "source": [
    "total_earnings = earnings.groupby(earnings['year'])['total'].agg(np.sum).reset_index().set_index('year').rename(columns={'total':'total payroll ($)'})\n",
    "print(total_earnings)\n",
    "total_earnings.plot(kind='bar')\n",
    "plt.show()"
   ]
  },
  {
   "cell_type": "code",
   "execution_count": 12,
   "metadata": {},
   "outputs": [
    {
     "name": "stdout",
     "output_type": "stream",
     "text": [
      "department\n",
      "DepFireChiefAdmn-AdvTechnician    183086.920\n",
      "President                         178455.525\n",
      "Dep Fire Chief Administration     172032.660\n",
      "Chief of Support Services         170007.270\n",
      "Deputy Superintendent             167158.025\n",
      "Mayor                             164903.870\n",
      "Supn (Bfd/Fad)                    163459.700\n",
      "Supn-In Chief                     162513.590\n",
      "District FireChiefAdmn-AdvTech    160967.545\n",
      "Dep Fire Chief                    159629.990\n",
      "Name: regular, dtype: float64\n"
     ]
    }
   ],
   "source": [
    "salary = earnings.groupby(earnings['department'])['regular'].agg(np.median).nlargest(10)\n",
    "print(salary)"
   ]
  },
  {
   "cell_type": "markdown",
   "metadata": {},
   "source": [
    "\"Cab Monitors\" (=bus monitors) earn at least \\$21.73 per trip in 2018. How does someone earn only $2.14?"
   ]
  },
  {
   "cell_type": "code",
   "execution_count": 13,
   "metadata": {},
   "outputs": [
    {
     "name": "stdout",
     "output_type": "stream",
     "text": [
      "118102    2.14\n",
      "110239    2.50\n",
      "122106    3.85\n",
      "110599    4.38\n",
      "113195    6.48\n",
      "124690    6.53\n",
      "129115    7.58\n",
      "130140    8.05\n",
      "118542    8.45\n",
      "111246    8.82\n",
      "Name: total, dtype: float64\n"
     ]
    }
   ],
   "source": [
    "cab = earnings.loc[(earnings.title == 'Cab Monitor')]\n",
    "# salary = cab.loc[(cab.total == min(cab.total))]\n",
    "cab = cab.sort_values(by='total')\n",
    "print(cab.total[:10])"
   ]
  },
  {
   "cell_type": "markdown",
   "metadata": {},
   "source": [
    "## Residency Requirement\n",
    "Boston city employees are required to live within city limits. The law is not strictly enforced and is confounded by state, federal and union regulations. \n",
    "\n",
    "https://www.boston.gov/departments/human-resources/residency-requirements-city-workers\n",
    "\n",
    "https://www.bostonglobe.com/metro/2016/01/13/mayor-walsh-seeks-strengthen-boston-residency-requirement-with-caveat/ZyG8xmkOsu0dMHgITSUOKN/story.html\n",
    "\n",
    "What does the distribution look like in 2016?"
   ]
  },
  {
   "cell_type": "code",
   "execution_count": 14,
   "metadata": {},
   "outputs": [
    {
     "name": "stdout",
     "output_type": "stream",
     "text": [
      "69 % of city employees live in Boston (2016).\n"
     ]
    },
    {
     "data": {
      "image/png": "[encoded data removed]",
      "text/plain": [
       "<matplotlib.figure.Figure at 0x1f21d4f0160>"
      ]
     },
     "metadata": {},
     "output_type": "display_data"
    }
   ],
   "source": [
    "# Read in Boston zipcode list\n",
    "boston_zips = pd.read_csv('boston-zipcodes.csv', names=['bzips'], header=None)\n",
    "boston_zips = boston_zips.astype(str).apply(lambda x: '0' + x) # treat zipcodes as strings and add leading \"0\"\n",
    "\n",
    "# define resident and non-resident employees\n",
    "inzips = earnings.loc[(earnings.zipcode.isin(boston_zips.bzips) & (earnings.year == '2016'))]\n",
    "outzips = earnings.loc[(~earnings.zipcode.isin(boston_zips.bzips) & (earnings.year == '2016'))]\n",
    "residents = inzips.shape[0] /(inzips.shape[0] + outzips.shape[0]) * 100\n",
    "print(int(residents), '% of city employees live in Boston (2016).')\n",
    "\n",
    "# income distribution\n",
    "in_earnings = inzips['total'].agg(np.median)\n",
    "out_earnings = outzips['total'].agg(np.median)\n",
    "zip_df = pd.DataFrame({'residency status': ['Residents', 'Non-residents'], 'median earnings ($)': [in_earnings, out_earnings]}, index=[0, 1])\n",
    "\n",
    "# plot\n",
    "sns.barplot(x='residency status', y='median earnings ($)', data=zip_df)\n",
    "plt.margins(0.2)\n",
    "plt.show()"
   ]
  }
 ],
 "metadata": {
  "kernelspec": {
   "display_name": "Python 3",
   "language": "python",
   "name": "python3"
  },
  "language_info": {
   "codemirror_mode": {
    "name": "ipython",
    "version": 3
   },
   "file_extension": ".py",
   "mimetype": "text/x-python",
   "name": "python",
   "nbconvert_exporter": "python",
   "pygments_lexer": "ipython3",
   "version": "3.6.3"
  }
 },
 "nbformat": 4,
 "nbformat_minor": 2
}
