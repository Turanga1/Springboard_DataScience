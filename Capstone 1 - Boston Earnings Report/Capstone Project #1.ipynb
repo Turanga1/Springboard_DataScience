{
 "cells": [
  {
   "cell_type": "markdown",
   "metadata": {},
   "source": [
    "# City of Boston Payroll Analysis\n",
    "Salary data is available for City of Boston employees from at least 2011 to 2016.  Roughly 20,000 employees and salaries are classified by department, job title, “regular” or “overtime”, zip code and a few other criteria."
   ]
  },
  {
   "cell_type": "code",
   "execution_count": 1,
   "metadata": {
    "collapsed": true
   },
   "outputs": [],
   "source": [
    "# import modules\n",
    "import numpy as np\n",
    "import pandas as pd\n",
    "import re, os, glob\n",
    "import matplotlib.pyplot as plt\n",
    "import seaborn as sns\n",
    "sns.set()"
   ]
  },
  {
   "cell_type": "code",
   "execution_count": 2,
   "metadata": {
    "collapsed": true
   },
   "outputs": [],
   "source": [
    "# read file(s)\n",
    "\n",
    "path = os.getcwd()                    \n",
    "all_files = glob.glob(os.path.join(path, \"employee*.csv\"))  \n",
    "\n",
    "column_names = ['name', 'department', 'title', 'regular', 'retro', 'other', 'overtime', 'injured',\\\n",
    "                'detail', 'quinn', 'total', 'zipcode']\n",
    "\n",
    "df_from_each_file = (pd.read_csv(f, encoding = \"ISO-8859-1\", header=0, names=column_names, \\\n",
    "                                 index_col=None).assign(year=f) for f in all_files)  #, dtype={'zipcode': 'category'}\n",
    "earnings   = pd.concat(df_from_each_file, ignore_index=True)"
   ]
  },
  {
   "cell_type": "markdown",
   "metadata": {},
   "source": [
    "## Clean Data\n",
    "\n",
    "A complete set of names/employees, departments, titles and total earnings are availble for the years 2011-2016. Some fields are blank due to no earnings in that particular category. 5 zipcodes are missing. "
   ]
  },
  {
   "cell_type": "code",
   "execution_count": 3,
   "metadata": {},
   "outputs": [
    {
     "name": "stdout",
     "output_type": "stream",
     "text": [
      "<class 'pandas.core.frame.DataFrame'>\n",
      "RangeIndex: 130299 entries, 0 to 130298\n",
      "Data columns (total 13 columns):\n",
      "name          130299 non-null object\n",
      "department    130299 non-null object\n",
      "title         130299 non-null object\n",
      "regular       129716 non-null object\n",
      "retro         108669 non-null object\n",
      "other         121098 non-null object\n",
      "overtime      114943 non-null object\n",
      "injured       109631 non-null object\n",
      "detail        110677 non-null object\n",
      "quinn         109543 non-null object\n",
      "total         130299 non-null object\n",
      "zipcode       130294 non-null object\n",
      "year          130299 non-null object\n",
      "dtypes: object(13)\n",
      "memory usage: 12.9+ MB\n",
      "None\n"
     ]
    }
   ],
   "source": [
    "print(earnings.info())"
   ]
  },
  {
   "cell_type": "code",
   "execution_count": 4,
   "metadata": {},
   "outputs": [],
   "source": [
    "# extract year from file name\n",
    "earnings['year'] = earnings['year'].replace({'\\D':''}, regex=True)\n",
    "earnings['year'] = earnings['year'].str[-4:]  # remove any numbers from file path\n",
    "\n",
    "# keep first 5 digits of zipcode\n",
    "earnings['zipcode'] = earnings['zipcode'].str[:5].astype('category')\n",
    "\n",
    "# missing zipcodes\n",
    "earnings = earnings.sort_values(by='name').fillna(method='ffill')\n",
    "\n",
    "# convert number strings to numeric type\n",
    "number_columns = ['regular', 'retro', 'other', 'overtime', 'injured', 'detail', 'quinn', 'total']\n",
    "earnings[number_columns] = earnings[number_columns].replace({'\\$': '', ',': ''}, regex=True)\\\n",
    "                                .apply(pd.to_numeric, errors='coerce').fillna(0, axis=1)"
   ]
  },
  {
   "cell_type": "code",
   "execution_count": 5,
   "metadata": {},
   "outputs": [
    {
     "name": "stdout",
     "output_type": "stream",
     "text": [
      "<class 'pandas.core.frame.DataFrame'>\n",
      "Int64Index: 130299 entries, 21210 to 79724\n",
      "Data columns (total 13 columns):\n",
      "name          130299 non-null object\n",
      "department    130299 non-null object\n",
      "title         130299 non-null object\n",
      "regular       130299 non-null float64\n",
      "retro         130299 non-null float64\n",
      "other         130299 non-null float64\n",
      "overtime      130299 non-null float64\n",
      "injured       130299 non-null float64\n",
      "detail        130299 non-null float64\n",
      "quinn         130299 non-null float64\n",
      "total         130299 non-null float64\n",
      "zipcode       130299 non-null category\n",
      "year          130299 non-null object\n",
      "dtypes: category(1), float64(8), object(4)\n",
      "memory usage: 13.2+ MB\n"
     ]
    }
   ],
   "source": [
    "earnings.info()"
   ]
  },
  {
   "cell_type": "markdown",
   "metadata": {},
   "source": [
    "There are 2087 unique job titles - a plausible number. Interestingly there are 1747 unique department names. According to the city's website, there are actually only 72 departments. "
   ]
  },
  {
   "cell_type": "code",
   "execution_count": 6,
   "metadata": {},
   "outputs": [
    {
     "name": "stdout",
     "output_type": "stream",
     "text": [
      "Number of job titles: 2087\n",
      "Number of departments: 1747\n"
     ]
    }
   ],
   "source": [
    "print('Number of job titles:', len(earnings.title.unique()))\n",
    "print('Number of departments:', len(earnings.department.unique()))"
   ]
  },
  {
   "cell_type": "markdown",
   "metadata": {},
   "source": [
    "A closer look at the job titles shows some data cleaning might be helpful as well:"
   ]
  },
  {
   "cell_type": "code",
   "execution_count": 7,
   "metadata": {},
   "outputs": [
    {
     "name": "stdout",
     "output_type": "stream",
     "text": [
      "Number of unique job titles in police department (2016): 178\n",
      "Police Officer                    1279\n",
      "Police Offc Comm Serv Offc 3$8      52\n",
      "Police Offc Mobile Offc 2$6         47\n",
      "Police Offc Acad Instr 2$6          28\n",
      "Police Offc/FgrPrt Ev Tch 4$10      23\n",
      "Police Offc Canine 2$6              18\n",
      "Police Offc/Juvenile Offc 4$10      18\n",
      "Police Officer Hdq Dispatch         14\n",
      "Police Offc Hackney Invest 3$8      13\n",
      "Police Offc Harborboat 3$8          13\n",
      "Police Offc Canine Offc 2$6         10\n",
      "Police Offc/Auto Invest 4$10        10\n",
      "Police Offc/Bomb Squad               9\n",
      "Police Offc Bomb Squad               6\n",
      "Police Offc Ballistician 4$10        6\n",
      "Police Offc/Hosp Liaison 4$10        5\n",
      "Police Officer Harborboat 3$8        4\n",
      "Police Officer Mobile Oper 2$6       2\n",
      "Police Offc Breath $13.50            1\n",
      "Name: title, dtype: int64\n"
     ]
    }
   ],
   "source": [
    "police_titles = earnings.title.loc[(earnings.department == 'Boston Police Department') & \\\n",
    "                                      (earnings.title.str.startswith('Police Off')) & \\\n",
    "                                    (earnings.year == '2016')]\n",
    "police_department = earnings.title.loc[(earnings.department == 'Boston Police Department') & (earnings.year == '2016')]\n",
    "print('Number of unique job titles in police department (2016):', len(set(police_department)))\n",
    "print(police_titles.value_counts())"
   ]
  },
  {
   "cell_type": "markdown",
   "metadata": {},
   "source": [
    "Note: $ symbols are possible errors in the dataset, but don't seem to affect the other columns."
   ]
  },
  {
   "cell_type": "code",
   "execution_count": 8,
   "metadata": {
    "collapsed": true
   },
   "outputs": [],
   "source": [
    "bps = earnings.title.loc[(earnings.department.str.startswith('BPS'))]\n",
    "# bps.value_counts()"
   ]
  },
  {
   "cell_type": "markdown",
   "metadata": {},
   "source": [
    "Median total earnings by department:"
   ]
  },
  {
   "cell_type": "code",
   "execution_count": 9,
   "metadata": {},
   "outputs": [
    {
     "name": "stdout",
     "output_type": "stream",
     "text": [
      "department\n",
      "DepFireChiefAdmn-AdvTechnician    183086.920\n",
      "President                         178455.525\n",
      "Dep Fire Chief Administration     172032.660\n",
      "Chief of Support Services         170007.270\n",
      "Deputy Superintendent             167158.025\n",
      "Mayor                             164903.870\n",
      "Supn (Bfd/Fad)                    163459.700\n",
      "Supn-In Chief                     162513.590\n",
      "District FireChiefAdmn-AdvTech    160967.545\n",
      "Dep Fire Chief                    159629.990\n",
      "Name: regular, dtype: float64\n"
     ]
    }
   ],
   "source": [
    "salary = earnings.groupby(earnings['department'])['regular'].agg(np.median).nlargest(10)\n",
    "print(salary)"
   ]
  },
  {
   "cell_type": "markdown",
   "metadata": {},
   "source": [
    "\"Cab Monitors\" (=bus monitors) earn at least \\$21.73 per trip in 2018. How does someone earn only $2.14?"
   ]
  },
  {
   "cell_type": "code",
   "execution_count": 10,
   "metadata": {},
   "outputs": [
    {
     "name": "stdout",
     "output_type": "stream",
     "text": [
      "118102    2.14\n",
      "110239    2.50\n",
      "122106    3.85\n",
      "110599    4.38\n",
      "113195    6.48\n",
      "124690    6.53\n",
      "129115    7.58\n",
      "130140    8.05\n",
      "118542    8.45\n",
      "111246    8.82\n",
      "Name: total, dtype: float64\n"
     ]
    }
   ],
   "source": [
    "cab = earnings.loc[(earnings.title == 'Cab Monitor')]\n",
    "# salary = cab.loc[(cab.total == min(cab.total))]\n",
    "cab = cab.sort_values(by='total')\n",
    "print(cab.total[:10])"
   ]
  },
  {
   "cell_type": "markdown",
   "metadata": {},
   "source": [
    "## Residency Requirement\n",
    "Boston city employees are required to live within city limits. The law is not strictly enforced and is confounded by state, federal and union regulations. \n",
    "\n",
    "https://www.boston.gov/departments/human-resources/residency-requirements-city-workers\n",
    "\n",
    "https://www.bostonglobe.com/metro/2016/01/13/mayor-walsh-seeks-strengthen-boston-residency-requirement-with-caveat/ZyG8xmkOsu0dMHgITSUOKN/story.html\n",
    "\n",
    "What does the distribution look like in 2016?"
   ]
  },
  {
   "cell_type": "code",
   "execution_count": 11,
   "metadata": {},
   "outputs": [
    {
     "name": "stdout",
     "output_type": "stream",
     "text": [
      "69 % of city employees live in Boston.\n"
     ]
    },
    {
     "data": {
      "image/png": "[encoded data removed]",
      "text/plain": [
       "<matplotlib.figure.Figure at 0x249309f1b00>"
      ]
     },
     "metadata": {},
     "output_type": "display_data"
    }
   ],
   "source": [
    "# Read in Boston zipcode list\n",
    "boston_zips = pd.read_csv('boston-zipcodes.csv', names=['bzips'], header=None)\n",
    "boston_zips = boston_zips.astype(str).apply(lambda x: '0' + x) # treat zipcodes as strings and add leading \"0\"\n",
    "\n",
    "# define resident and non-resident employees\n",
    "inzips = earnings.loc[(earnings.zipcode.isin(boston_zips.bzips))]\n",
    "outzips = earnings.loc[(~earnings.zipcode.isin(boston_zips.bzips))]\n",
    "residents = inzips.shape[0] /(inzips.shape[0] + outzips.shape[0]) * 100\n",
    "print(int(residents), '% of city employees live in Boston.')\n",
    "\n",
    "# income distribution\n",
    "in_earnings = inzips['total'].agg(np.median)\n",
    "out_earnings = outzips['total'].agg(np.median)\n",
    "zip_df = pd.DataFrame({'residency status': ['Residents', 'Non-residents'], 'median earnings ($)': [in_earnings, out_earnings]}, index=[0, 1])\n",
    "\n",
    "# plot\n",
    "sns.barplot(x='residency status', y='median earnings ($)', data=zip_df)\n",
    "plt.margins(0.2)\n",
    "plt.show()"
   ]
  }
 ],
 "metadata": {
  "kernelspec": {
   "display_name": "Python 3",
   "language": "python",
   "name": "python3"
  },
  "language_info": {
   "codemirror_mode": {
    "name": "ipython",
    "version": 3
   },
   "file_extension": ".py",
   "mimetype": "text/x-python",
   "name": "python",
   "nbconvert_exporter": "python",
   "pygments_lexer": "ipython3",
   "version": "3.6.3"
  }
 },
 "nbformat": 4,
 "nbformat_minor": 2
}
