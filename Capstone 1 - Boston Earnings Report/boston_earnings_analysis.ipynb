{
 "cells": [
  {
   "cell_type": "code",
   "execution_count": 1,
   "metadata": {},
   "outputs": [],
   "source": [
    "# import modules\n",
    "import numpy as np\n",
    "import pandas as pd\n",
    "import re, os, glob\n",
    "import matplotlib.pyplot as plt\n",
    "from matplotlib import rcParams, cycler\n",
    "import seaborn as sns\n",
    "from scipy import interpolate\n",
    "\n",
    "# map functions\n",
    "import cartopy.feature as cfeature\n",
    "import cartopy.crs as ccrs\n",
    "from cartopy.io.img_tiles import OSM\n",
    "\n",
    "# ordinary least squares\n",
    "from statsmodels.formula.api import ols\n",
    "\n",
    "# scikit-learn machine learning\n",
    "from sklearn import svm, metrics\n",
    "from sklearn.linear_model import LogisticRegression, RidgeClassifier, Lasso, LinearRegression\n",
    "from sklearn.model_selection import GridSearchCV, train_test_split, cross_val_score\n",
    "from sklearn.neighbors import KNeighborsClassifier\n",
    "from sklearn.ensemble import RandomForestClassifier\n",
    "from sklearn.tree import DecisionTreeClassifier\n",
    "from sklearn.calibration import CalibratedClassifierCV\n",
    "from sklearn.cluster import KMeans\n",
    "from sklearn.decomposition import PCA\n",
    "from scipy.cluster.hierarchy import linkage, dendrogram\n",
    "from sklearn.preprocessing import Normalizer, StandardScaler\n",
    "from sklearn.pipeline import Pipeline\n",
    "\n",
    "# for graphing decision trees\n",
    "import graphviz \n",
    "from sklearn.tree import export_graphviz\n",
    "\n",
    "plt.style.use('seaborn-colorblind')\n",
    "\n",
    "# special Jupyter Notebook command to prepare the notebook for matplotlib and other libraries\n",
    "%matplotlib inline \n",
    "\n",
    "# Setup Pandas\n",
    "pd.set_option('display.width', 500)\n",
    "pd.set_option('display.max_columns', 100)\n",
    "pd.set_option('display.notebook_repr_html', True)\n",
    "\n",
    "# Setup Seaborn\n",
    "sns.set_style(\"darkgrid\")\n",
    "sns.set_context(\"notebook\")"
   ]
  },
  {
   "cell_type": "code",
   "execution_count": 2,
   "metadata": {
    "scrolled": false
   },
   "outputs": [
    {
     "name": "stdout",
     "output_type": "stream",
     "text": [
      "<class 'pandas.core.frame.DataFrame'>\n",
      "RangeIndex: 152544 entries, 0 to 152543\n",
      "Data columns (total 15 columns):\n",
      "name           152544 non-null object\n",
      "department     152544 non-null object\n",
      "title          152544 non-null object\n",
      "regular        152544 non-null float64\n",
      "retro          152544 non-null float64\n",
      "other          152544 non-null float64\n",
      "overtime       152544 non-null float64\n",
      "injured        152544 non-null float64\n",
      "detail         152544 non-null float64\n",
      "quinn          152544 non-null float64\n",
      "total          152544 non-null float64\n",
      "zip            152544 non-null object\n",
      "year           152544 non-null int64\n",
      "dept_clean     152544 non-null object\n",
      "title_clean    152544 non-null object\n",
      "dtypes: float64(8), int64(1), object(6)\n",
      "memory usage: 17.5+ MB\n"
     ]
    }
   ],
   "source": [
    "# read cleaned data file\n",
    "earnings = pd.read_csv('earnings.csv', index_col=False)\n",
    "earnings.info()"
   ]
  },
  {
   "cell_type": "code",
   "execution_count": 3,
   "metadata": {},
   "outputs": [
    {
     "name": "stdout",
     "output_type": "stream",
     "text": [
      "Index(['Teacher', 'Police Officer', 'Paraprofessional', 'Fire Fighter', 'Substitute Teacher', 'Lunch Hour Monitors', 'Part-Time Cafeteria Attendant', 'Cab Monitor', 'Police Detective', 'Police Sergeant'], dtype='object', name='title_clean')\n",
      "Index(['Boston Public Schools', 'Boston Police Department', 'Boston Fire Department', 'Boston Cntr - Youth & Families', 'Boston Public Library', 'Public Works Department', 'Traffic Division', 'Parks Department', 'Inspectional Services Dept', 'Public Facilities Department'], dtype='object', name='dept_clean')\n"
     ]
    }
   ],
   "source": [
    "# get top 10 titles by number of employees\n",
    "\n",
    "titles_top10 = earnings\\\n",
    "                .groupby('title_clean')\\\n",
    "                .agg('size')\\\n",
    "                .sort_values(ascending=False)\\\n",
    "                .index[:10]\n",
    "\n",
    "# get top 10 departments by number of employees\n",
    "\n",
    "departments_top10 = earnings\\\n",
    "                .groupby('dept_clean')\\\n",
    "                .agg('size')\\\n",
    "                .sort_values(ascending=False)\\\n",
    "                .index[:10]\n",
    "print(titles_top10)\n",
    "print(departments_top10)"
   ]
  },
  {
   "cell_type": "markdown",
   "metadata": {},
   "source": [
    "# Classification based on job titles\n",
    "\n",
    "- extract the 10 most common job titles for 2017\n",
    "- run classifiers on the numeric earnings data"
   ]
  },
  {
   "cell_type": "code",
   "execution_count": 4,
   "metadata": {},
   "outputs": [
    {
     "name": "stdout",
     "output_type": "stream",
     "text": [
      "Number of observations: 11430\n"
     ]
    }
   ],
   "source": [
    "# top 10 jobs in 2017\n",
    "top10 = earnings[earnings['title_clean'].isin(titles_top10) & (earnings.year == 2017)]\n",
    "print('Number of observations:', top10.shape[0])"
   ]
  },
  {
   "cell_type": "code",
   "execution_count": 5,
   "metadata": {},
   "outputs": [],
   "source": [
    "# data for linear regression:\n",
    "\n",
    "# remove non-numeric columns as well as \"total\" and \"quinn\"\n",
    "X_lm = top10.drop(['name', 'department', 'title', 'quinn', 'total', 'zip', 'year', 'title_clean', 'dept_clean'], axis=1)\n",
    "\n",
    "y_lm = top10['total']\n",
    "\n",
    "# split into training and test datasets\n",
    "X_lm_train, X_lm_test, y_lm_train, y_lm_test = train_test_split(X_lm, y_lm, test_size=0.2, random_state=26)"
   ]
  },
  {
   "cell_type": "code",
   "execution_count": 6,
   "metadata": {},
   "outputs": [
    {
     "data": {
      "image/png": "[encoded data removed]",
      "text/plain": [
       "<Figure size 432x288 with 2 Axes>"
      ]
     },
     "metadata": {},
     "output_type": "display_data"
    }
   ],
   "source": [
    "# heat map for identification of correlated data\n",
    "sns.heatmap(X_lm.corr(), square=True, cmap='RdYlGn')\n",
    "plt.show()"
   ]
  },
  {
   "cell_type": "markdown",
   "metadata": {},
   "source": [
    "The heat map above shows mostly red hues in the off-diagonal squares. This indicates low correlation between most of the earnings categories. Only \"overtime\" and \"retro\" show a green hue, suggesting that employees who collect overtime and more likely to collect retro earnings than those who don't."
   ]
  },
  {
   "cell_type": "code",
   "execution_count": 7,
   "metadata": {},
   "outputs": [
    {
     "name": "stdout",
     "output_type": "stream",
     "text": [
      "   features  estimatedCoefficients\n",
      "0   regular               1.005860\n",
      "1     retro               1.564228\n",
      "2     other               1.051744\n",
      "3  overtime               1.085879\n",
      "4   injured               1.053268\n",
      "5    detail               1.055482\n",
      "The linear regression model explains 99.50% of the job title prediction variance.\n"
     ]
    }
   ],
   "source": [
    "# Linear Regression\n",
    "lm = LinearRegression()\n",
    "\n",
    "# Fit the regressor to the data\n",
    "lm.fit(X_lm_train, y_lm_train)\n",
    "\n",
    "print(pd.DataFrame(data={'features': X_lm.columns , 'estimatedCoefficients': list(lm.coef_)})\\\n",
    "      [['features', 'estimatedCoefficients']])\n",
    "\n",
    "r_sq = lm.score(X_lm_test, y_lm_test)\n",
    "print('The linear regression model explains {:.2f}% of the job title prediction variance.'.format(r_sq*100))"
   ]
  },
  {
   "cell_type": "markdown",
   "metadata": {},
   "source": [
    "Unsurprisingly, the linear regression model has an R-squared of almost 100%. This is an obvious result since the \"total\" is the numerical sum of the independent variables."
   ]
  },
  {
   "cell_type": "code",
   "execution_count": 8,
   "metadata": {},
   "outputs": [
    {
     "name": "stdout",
     "output_type": "stream",
     "text": [
      "[1.00488447 1.55527622 1.04731267 1.08584953 1.04927025 1.05376315] -124.46562443852599\n"
     ]
    },
    {
     "data": {
      "image/png": "[encoded data removed]",
      "text/plain": [
       "<Figure size 432x288 with 1 Axes>"
      ]
     },
     "metadata": {},
     "output_type": "display_data"
    },
    {
     "name": "stdout",
     "output_type": "stream",
     "text": [
      "The linear regression model explains 99.50% of the job title prediction variance.\n"
     ]
    }
   ],
   "source": [
    "# Instantiate a lasso regressor: lasso\n",
    "lasso = Lasso(alpha=0.4, normalize=True)\n",
    "\n",
    "# Fit the regressor to the data\n",
    "lasso.fit(X_lm_train, y_lm_train)\n",
    "\n",
    "# Compute and print the coefficients\n",
    "lasso_coef = lasso.coef_\n",
    "print(lasso_coef, lasso.intercept_)\n",
    "\n",
    "# Plot the coefficients\n",
    "plt.plot(range(len(X_lm.columns)), lasso_coef)\n",
    "plt.xticks(range(len(X_lm.columns)), X_lm.columns.values, rotation=60)\n",
    "plt.margins(0.02)\n",
    "plt.show()\n",
    "\n",
    "r_sq = lasso.score(X_lm_test, y_lm_test)\n",
    "print('The linear regression model explains {:.2f}% of the job title prediction variance.'.format(r_sq*100))"
   ]
  },
  {
   "cell_type": "markdown",
   "metadata": {},
   "source": [
    "\"retro\" is the most important coefficient for the prediction of total earnings."
   ]
  },
  {
   "cell_type": "code",
   "execution_count": 9,
   "metadata": {},
   "outputs": [],
   "source": [
    "# data for classifiers:\n",
    "\n",
    "# remove non-numeric columns as well as \"total\" and \"quinn\"\n",
    "X = top10.drop(['name', 'department', 'title', 'quinn', 'total', 'zip', 'year', 'title_clean', 'dept_clean'], axis=1)\n",
    "\n",
    "# factorize job titles\n",
    "y = pd.factorize(top10['title_clean'])[0]\n",
    "\n",
    "# split into training and test datasets\n",
    "X_train, X_test, y_train, y_test = train_test_split(X, y, test_size=0.2, random_state=26)"
   ]
  },
  {
   "cell_type": "code",
   "execution_count": 10,
   "metadata": {},
   "outputs": [
    {
     "name": "stdout",
     "output_type": "stream",
     "text": [
      "Score: 0.7777777777777778\n",
      "Accuracy: 0.7777777777777778\n",
      "mean cv score: 0.763494473611776 \n",
      "\n"
     ]
    }
   ],
   "source": [
    "# support vector classifier\n",
    "\n",
    "steps = [('scaler', StandardScaler()), ('clf', svm.SVC())]\n",
    "pipeline = Pipeline(steps)\n",
    "pipeline.fit(X_train, y_train)\n",
    "pipeline.score(X_test, y_test)\n",
    "\n",
    "# metrics:\n",
    "print('Score:', pipeline.score(X_test, y_test))\n",
    "\n",
    "pred = pipeline.predict(X_test)\n",
    "a2 = metrics.accuracy_score(pred, y_test)\n",
    "print('Accuracy:', a2)\n",
    "\n",
    "cv_scores = cross_val_score(pipeline, X, y, cv=10)\n",
    "print('mean cv score:', np.mean(cv_scores), '\\n')"
   ]
  },
  {
   "cell_type": "markdown",
   "metadata": {},
   "source": [
    "After scaling the independent variables, the SVC classifier correctly predicts the job title approximately 77% of the time."
   ]
  },
  {
   "cell_type": "code",
   "execution_count": 11,
   "metadata": {},
   "outputs": [
    {
     "name": "stdout",
     "output_type": "stream",
     "text": [
      "Score: 0.8123359580052494\n",
      "Accuracy: 0.8123359580052494\n",
      "mean cv score: 0.7747156776667813 \n",
      "\n"
     ]
    }
   ],
   "source": [
    "# Knn\n",
    "clf = KNeighborsClassifier(n_neighbors=7)\n",
    "clf.fit(X_train, y_train)\n",
    "\n",
    "# metrics:\n",
    "print('Score:', clf.score(X_test, y_test))\n",
    "\n",
    "pred = clf.predict(X_test)\n",
    "a2 = metrics.accuracy_score(pred, y_test)\n",
    "print('Accuracy:', a2)\n",
    "\n",
    "cv_scores = cross_val_score(clf, X, y, cv=10)\n",
    "print('mean cv score:', np.mean(cv_scores), '\\n')"
   ]
  },
  {
   "cell_type": "markdown",
   "metadata": {},
   "source": [
    "KNN performs slightly better than SVC at predicting the correct job title from the earnings categories."
   ]
  },
  {
   "cell_type": "markdown",
   "metadata": {},
   "source": [
    "# Cluster Analysis"
   ]
  },
  {
   "cell_type": "code",
   "execution_count": 12,
   "metadata": {},
   "outputs": [],
   "source": [
    "# KMeans\n",
    "kmeans = KMeans(n_clusters=10)\n",
    "labels = kmeans.fit_predict(X)"
   ]
  },
  {
   "cell_type": "code",
   "execution_count": 13,
   "metadata": {},
   "outputs": [
    {
     "data": {
      "image/png": "[encoded data removed]",
      "text/plain": [
       "<Figure size 432x288 with 2 Axes>"
      ]
     },
     "metadata": {},
     "output_type": "display_data"
    },
    {
     "data": {
      "image/png": "[encoded data removed]",
      "text/plain": [
       "<Figure size 432x288 with 1 Axes>"
      ]
     },
     "metadata": {},
     "output_type": "display_data"
    },
    {
     "data": {
      "image/png": "[encoded data removed]",
      "text/plain": [
       "<Figure size 432x288 with 1 Axes>"
      ]
     },
     "metadata": {},
     "output_type": "display_data"
    }
   ],
   "source": [
    "# reduce to two dimensions\n",
    "pca = PCA(n_components=2)\n",
    "\n",
    "components = pca.fit_transform(X)\n",
    "\n",
    "y = top10['title_clean']\n",
    "\n",
    "# add to data frame and plot\n",
    "df_pca = pd.DataFrame({'title': y, 'cluster_id': labels, 'x': components[:,0], 'y': components[:,1]})\\\n",
    "            .plot.scatter('x', 'y', c='cluster_id', cmap=plt.cm.get_cmap('viridis', 10), sharex=False, title='10 Clusters')\n",
    "\n",
    "plt.show()\n",
    "\n",
    "features = range(pca.n_components_)\n",
    "plt.bar(features, pca.explained_variance_)\n",
    "plt.xticks(features)\n",
    "plt.ylabel('variance')\n",
    "plt.xlabel('PCA feature')\n",
    "plt.show()\n",
    "\n",
    "mergings = linkage(X, method='complete')\n",
    "dendrogram(mergings, p=5, truncate_mode='level')\n",
    "plt.show()"
   ]
  },
  {
   "cell_type": "markdown",
   "metadata": {},
   "source": [
    "Principal component analysis with cluster labels from a KMeans classfier show no clear boundaries between points. This suggests that job titles can not be predicted by the earnings data with sufficient accuracy. Likewise, it is difficult to identify an appropriate cutoff value for a dendrogram such that exactly 10 clusters (= job titles) are generated."
   ]
  },
  {
   "cell_type": "code",
   "execution_count": 14,
   "metadata": {},
   "outputs": [],
   "source": [
    "\"\"\"\n",
    "compound annual growth rate\n",
    "\n",
    "1. An arbitrary limit is set on \"first\" since low earnings are often not full time positions\n",
    "2. An arbitrary cap on the growth rate result is needed for new hires whose first year earnings are not a full year\n",
    "3. Negative growth is not allowed (part-time, retirement, resignation, termination, etc.)\n",
    "\"\"\"\n",
    "\n",
    "def cagr(first, last, periods=1): \n",
    "    if (first < 40000):\n",
    "        return np.nan\n",
    "    x = ((last/first) ** (1/periods) - 1 ) * 100\n",
    "    if ((x > 22) & (periods == 1)) | (x < 0) : \n",
    "        return np.nan\n",
    "    return x"
   ]
  },
  {
   "cell_type": "code",
   "execution_count": 15,
   "metadata": {
    "scrolled": false
   },
   "outputs": [
    {
     "name": "stdout",
     "output_type": "stream",
     "text": [
      "<class 'pandas.core.frame.DataFrame'>\n",
      "Int64Index: 16221 entries, 0 to 16220\n",
      "Data columns (total 18 columns):\n",
      "name                 16221 non-null object\n",
      "2011                 13163 non-null float64\n",
      "2012                 13933 non-null float64\n",
      "2013                 14721 non-null float64\n",
      "2014                 15177 non-null float64\n",
      "2015                 15051 non-null float64\n",
      "2016                 14407 non-null float64\n",
      "2017                 13698 non-null float64\n",
      "yoy2012              8873 non-null float64\n",
      "yoy2013              9584 non-null float64\n",
      "yoy2014              10287 non-null float64\n",
      "yoy2015              10778 non-null float64\n",
      "yoy2016              7639 non-null float64\n",
      "yoy2017              8301 non-null float64\n",
      "title_clean_first    16221 non-null object\n",
      "title_clean_last     16221 non-null object\n",
      "dept_clean_last      16221 non-null object\n",
      "cagr_all             8106 non-null float64\n",
      "dtypes: float64(14), object(4)\n",
      "memory usage: 2.4+ MB\n"
     ]
    }
   ],
   "source": [
    "# pivot earnings data to show annual earnings by name:\n",
    "growth = pd.pivot_table(earnings, columns='year', index=['name'], values='regular')\\\n",
    "                    .reset_index()\\\n",
    "                    .apply(pd.to_numeric, errors='ignore')\n",
    "\n",
    "# calculate CAGR for all available years:\n",
    "years = (earnings.year.unique())\n",
    "for previous, following in zip(years, years[1:]):\n",
    "    growth['yoy' + str(following)] = growth.apply(lambda x: cagr(x[previous], x[following]), axis=1)\n",
    "\n",
    "# drop names with no qualified CAGR entries:\n",
    "c = growth.iloc[0:, -(len(years)-1):].columns\n",
    "growth = growth.dropna(subset=c, how='all')\n",
    "\n",
    "# merge with 'titles_clean' (both first and last) and 'dept_clean' (only the most recent):\n",
    "titles = earnings.groupby('name')[['title_clean', 'dept_clean']]\\\n",
    "                 .agg({'title_clean':['first', 'last'], 'dept_clean':'last'})\\\n",
    "                 .reset_index()\n",
    "\n",
    "# avoid multiindex issues:\n",
    "titles.columns = ['_'.join(tup).rstrip('_') for tup in titles.columns.values]\n",
    "\n",
    "# merge dataframes:\n",
    "growth_title = growth.merge(titles, how='left', on='name')\n",
    "\n",
    "# calculate compound annual growth rate for all available years:\n",
    "\n",
    "growth_title['cagr_all'] = growth_title.apply(lambda y: cagr(y[2011], y[2011+len(years)-1], len(years)-1), axis=1)\n",
    "growth_title.info()\n"
   ]
  },
  {
   "cell_type": "markdown",
   "metadata": {},
   "source": [
    "There are over 1000 unique job titles and 50 departments in the earnings dataset. In order to prioritize the analysis, subsets will sometimes be generated to focus on the top 10:"
   ]
  },
  {
   "cell_type": "code",
   "execution_count": 16,
   "metadata": {},
   "outputs": [
    {
     "data": {
      "text/html": [
       "<div>\n",
       "<style scoped>\n",
       "    .dataframe tbody tr th:only-of-type {\n",
       "        vertical-align: middle;\n",
       "    }\n",
       "\n",
       "    .dataframe tbody tr th {\n",
       "        vertical-align: top;\n",
       "    }\n",
       "\n",
       "    .dataframe thead th {\n",
       "        text-align: right;\n",
       "    }\n",
       "</style>\n",
       "<table border=\"1\" class=\"dataframe\">\n",
       "  <thead>\n",
       "    <tr style=\"text-align: right;\">\n",
       "      <th></th>\n",
       "      <th>yoy2012</th>\n",
       "      <th>yoy2013</th>\n",
       "      <th>yoy2014</th>\n",
       "      <th>yoy2015</th>\n",
       "      <th>yoy2016</th>\n",
       "      <th>yoy2017</th>\n",
       "      <th>mean_rows</th>\n",
       "      <th>cagr_all</th>\n",
       "    </tr>\n",
       "    <tr>\n",
       "      <th>title_clean_first</th>\n",
       "      <th></th>\n",
       "      <th></th>\n",
       "      <th></th>\n",
       "      <th></th>\n",
       "      <th></th>\n",
       "      <th></th>\n",
       "      <th></th>\n",
       "      <th></th>\n",
       "    </tr>\n",
       "  </thead>\n",
       "  <tbody>\n",
       "    <tr>\n",
       "      <th>Teacher</th>\n",
       "      <td>4.040561</td>\n",
       "      <td>5.984074</td>\n",
       "      <td>5.758944</td>\n",
       "      <td>9.373089</td>\n",
       "      <td>4.751721</td>\n",
       "      <td>4.580495</td>\n",
       "      <td>6.016875</td>\n",
       "      <td>3.745675</td>\n",
       "    </tr>\n",
       "    <tr>\n",
       "      <th>Police Sergeant</th>\n",
       "      <td>2.089566</td>\n",
       "      <td>2.721173</td>\n",
       "      <td>8.483153</td>\n",
       "      <td>11.112521</td>\n",
       "      <td>2.239219</td>\n",
       "      <td>1.325387</td>\n",
       "      <td>5.362431</td>\n",
       "      <td>4.006218</td>\n",
       "    </tr>\n",
       "    <tr>\n",
       "      <th>Police Officer</th>\n",
       "      <td>2.366742</td>\n",
       "      <td>2.442829</td>\n",
       "      <td>14.404099</td>\n",
       "      <td>7.821254</td>\n",
       "      <td>3.218319</td>\n",
       "      <td>6.649635</td>\n",
       "      <td>6.348318</td>\n",
       "      <td>5.256190</td>\n",
       "    </tr>\n",
       "    <tr>\n",
       "      <th>Police Detective</th>\n",
       "      <td>1.033808</td>\n",
       "      <td>1.326743</td>\n",
       "      <td>1.572922</td>\n",
       "      <td>2.518039</td>\n",
       "      <td>17.051179</td>\n",
       "      <td>5.904420</td>\n",
       "      <td>4.584125</td>\n",
       "      <td>4.970954</td>\n",
       "    </tr>\n",
       "    <tr>\n",
       "      <th>Parking Meter Supervisor</th>\n",
       "      <td>2.740584</td>\n",
       "      <td>4.790012</td>\n",
       "      <td>5.833529</td>\n",
       "      <td>6.576075</td>\n",
       "      <td>3.660477</td>\n",
       "      <td>4.416928</td>\n",
       "      <td>4.813606</td>\n",
       "      <td>3.254662</td>\n",
       "    </tr>\n",
       "    <tr>\n",
       "      <th>Paraprofessional</th>\n",
       "      <td>4.450372</td>\n",
       "      <td>8.881443</td>\n",
       "      <td>7.627653</td>\n",
       "      <td>10.595755</td>\n",
       "      <td>7.978553</td>\n",
       "      <td>5.845892</td>\n",
       "      <td>7.786584</td>\n",
       "      <td>5.262935</td>\n",
       "    </tr>\n",
       "    <tr>\n",
       "      <th>Nurse</th>\n",
       "      <td>3.301549</td>\n",
       "      <td>5.458083</td>\n",
       "      <td>4.716457</td>\n",
       "      <td>8.769313</td>\n",
       "      <td>5.363786</td>\n",
       "      <td>5.843652</td>\n",
       "      <td>5.647477</td>\n",
       "      <td>3.451910</td>\n",
       "    </tr>\n",
       "    <tr>\n",
       "      <th>Librarian</th>\n",
       "      <td>3.025612</td>\n",
       "      <td>3.726203</td>\n",
       "      <td>6.618717</td>\n",
       "      <td>8.900005</td>\n",
       "      <td>4.252917</td>\n",
       "      <td>2.490335</td>\n",
       "      <td>5.044567</td>\n",
       "      <td>3.408024</td>\n",
       "    </tr>\n",
       "    <tr>\n",
       "      <th>Fire Lieutenant</th>\n",
       "      <td>4.888989</td>\n",
       "      <td>4.794028</td>\n",
       "      <td>7.261268</td>\n",
       "      <td>9.948828</td>\n",
       "      <td>4.651710</td>\n",
       "      <td>4.925020</td>\n",
       "      <td>6.245763</td>\n",
       "      <td>4.291255</td>\n",
       "    </tr>\n",
       "    <tr>\n",
       "      <th>Fire Fighter</th>\n",
       "      <td>5.674314</td>\n",
       "      <td>5.755429</td>\n",
       "      <td>7.867601</td>\n",
       "      <td>11.165332</td>\n",
       "      <td>6.014586</td>\n",
       "      <td>6.073925</td>\n",
       "      <td>7.183165</td>\n",
       "      <td>4.798427</td>\n",
       "    </tr>\n",
       "    <tr>\n",
       "      <th>mean_columns</th>\n",
       "      <td>3.361210</td>\n",
       "      <td>4.588002</td>\n",
       "      <td>7.014434</td>\n",
       "      <td>8.678021</td>\n",
       "      <td>5.918247</td>\n",
       "      <td>4.805569</td>\n",
       "      <td>5.903291</td>\n",
       "      <td>4.244625</td>\n",
       "    </tr>\n",
       "  </tbody>\n",
       "</table>\n",
       "</div>"
      ],
      "text/plain": [
       "                           yoy2012   yoy2013    yoy2014    yoy2015    yoy2016   yoy2017  mean_rows  cagr_all\n",
       "title_clean_first                                                                                           \n",
       "Teacher                   4.040561  5.984074   5.758944   9.373089   4.751721  4.580495   6.016875  3.745675\n",
       "Police Sergeant           2.089566  2.721173   8.483153  11.112521   2.239219  1.325387   5.362431  4.006218\n",
       "Police Officer            2.366742  2.442829  14.404099   7.821254   3.218319  6.649635   6.348318  5.256190\n",
       "Police Detective          1.033808  1.326743   1.572922   2.518039  17.051179  5.904420   4.584125  4.970954\n",
       "Parking Meter Supervisor  2.740584  4.790012   5.833529   6.576075   3.660477  4.416928   4.813606  3.254662\n",
       "Paraprofessional          4.450372  8.881443   7.627653  10.595755   7.978553  5.845892   7.786584  5.262935\n",
       "Nurse                     3.301549  5.458083   4.716457   8.769313   5.363786  5.843652   5.647477  3.451910\n",
       "Librarian                 3.025612  3.726203   6.618717   8.900005   4.252917  2.490335   5.044567  3.408024\n",
       "Fire Lieutenant           4.888989  4.794028   7.261268   9.948828   4.651710  4.925020   6.245763  4.291255\n",
       "Fire Fighter              5.674314  5.755429   7.867601  11.165332   6.014586  6.073925   7.183165  4.798427\n",
       "mean_columns              3.361210  4.588002   7.014434   8.678021   5.918247  4.805569   5.903291  4.244625"
      ]
     },
     "execution_count": 16,
     "metadata": {},
     "output_type": "execute_result"
    }
   ],
   "source": [
    "# get top 10 titles by number of employees\n",
    "\n",
    "titles_top10 = growth_title[growth_title['title_clean_first'] == growth_title['title_clean_last']]\\\n",
    "                .groupby('title_clean_first')\\\n",
    "                .agg('size')\\\n",
    "                .sort_values(ascending=False)\\\n",
    "                .index[:10]\n",
    "\n",
    "# keep only growth rate columns ('yoy...') and top 10 title rows\n",
    "\n",
    "payraise = growth_title.iloc[:, len(years)+1:(len(years)*2)+1]\n",
    "payraise = payraise[payraise['title_clean_first'].isin(titles_top10)]\n",
    "\n",
    "# calculate means and mean of means\n",
    "\n",
    "payraise = payraise.set_index('title_clean_first')\n",
    "payraise['mean_rows'] = payraise.stack().groupby(level=0).mean()\n",
    "payraise  = payraise.groupby(payraise.index).agg('mean')\n",
    "payraise = payraise[::-1]\n",
    "\n",
    "# append all years cagr:\n",
    "\n",
    "cagr_all = growth_title[['title_clean_first', 'cagr_all']]\n",
    "cagr_all = cagr_all.groupby('title_clean_first')[['title_clean_first', 'cagr_all']].agg('mean')\n",
    "payraise = payraise.merge(cagr_all, how='left', left_index=True, right_index=True)\n",
    "payraise.loc['mean_columns'] = payraise.mean()\n",
    "payraise"
   ]
  },
  {
   "cell_type": "code",
   "execution_count": 17,
   "metadata": {},
   "outputs": [
    {
     "data": {
      "image/png": "[encoded data removed]",
      "text/plain": [
       "<Figure size 720x432 with 1 Axes>"
      ]
     },
     "metadata": {},
     "output_type": "display_data"
    },
    {
     "data": {
      "image/png": "[encoded data removed]",
      "text/plain": [
       "<Figure size 720x432 with 1 Axes>"
      ]
     },
     "metadata": {},
     "output_type": "display_data"
    }
   ],
   "source": [
    "# pay raises by year\n",
    "\n",
    " \n",
    "# plot\n",
    "ax = payraise.drop('mean_columns').drop(columns=['mean_rows', 'cagr_all']).T.plot(figsize=(10,6), xticks=[0,1,2,3,4,5])\n",
    "ax.set_ylabel('Percent')\n",
    "ax.set_title('YOY regular earnings increase (excluding promotions)', fontsize=14)\n",
    "plt.show()\n",
    "\n",
    "# pay raises - all years\n",
    "ax = payraise.drop('mean_columns').sort_values('cagr_all', ascending=False).iloc[:,-1].T.plot(kind='bar',figsize=(10,6), xticks=[0,1,2,3,4,5])\n",
    "ax.set_ylabel('Percent')\n",
    "ax.set_title('All years, regular earnings increase (excluding promotions)', fontsize=14)\n",
    "plt.show()\n"
   ]
  },
  {
   "cell_type": "markdown",
   "metadata": {},
   "source": [
    "The most interesting observation from these charts are the two spikes in regular earnings growth rates, 15% for police officers in 2014 and 17% for police detectives in 2016. While this may seem at first very generous, it was preceded by several years of virtually no regular earnings increases. In the end, the average growth rate is about 5% annually for both job titles, which is only slightly higher than most other job titles. More years of earnings data would be needed to \n",
    "\n",
    "The only job title with a higher average regular earnings growth rate is \"Paraprofessional\". Paraprofessional is typically not a steady, full time career. This can make the growth rate artificially high.  "
   ]
  },
  {
   "cell_type": "code",
   "execution_count": 18,
   "metadata": {},
   "outputs": [
    {
     "name": "stdout",
     "output_type": "stream",
     "text": [
      "       year       cagr\n",
      "81085     0   0.323188\n",
      "81086     1   2.922107\n",
      "81087     2   2.915162\n",
      "81088     3   7.059178\n",
      "81089     4   0.000000\n",
      "81090     0   0.965963\n",
      "81091     1   4.000173\n",
      "81092     2   0.000000\n",
      "81093     3   0.000000\n",
      "81094     4   0.000000\n",
      "81095     0   0.000000\n",
      "81096     1   0.000000\n",
      "81097     2   4.461912\n",
      "81098     3   6.284562\n",
      "81099     4   0.000000\n",
      "81100     0   0.000000\n",
      "81101     1   0.000000\n",
      "81102     2   0.000000\n",
      "81103     3  18.295745\n",
      "81104     4   4.096592\n"
     ]
    }
   ],
   "source": [
    "# Extract growth columns\n",
    "c = [k for k in growth_title.columns if 'yoy' in str(k)]\n",
    "growth_pred = growth_title[c].fillna(0)\n",
    "\n",
    "# do I need to convert year to number?\n",
    "\n",
    "growth_pred.columns = list(range(len(years)-1))\n",
    "\n",
    "\n",
    "X = growth_pred.drop(5, axis=1).stack().reset_index().drop('level_0', axis=1)\n",
    "X = X.rename(columns={'level_1': 'year', 0: 'cagr'})\n",
    "print(X.tail(20))\n",
    "# y = pd.factorize(growth_title['title_clean_first'])\n",
    "y = growth_title['yoy2017'].fillna(0)\n",
    "\n",
    "\n",
    "# X_train, X_test, y_train, y_test = train_test_split(X, y, test_size=0.2, random_state=26)\n",
    "\n",
    "# logistic regression:\n",
    "# rc = RidgeClassifier()\n",
    "# rc.fit(X_train, y_train)\n",
    "# cv_scores = cross_val_score(rc, X_train, y_train, cv=10, scoring='roc_auc')\n",
    "# print('mean cv score:', np.mean(cv_scores), '\\n')\n",
    "\n",
    "# # hyper-parameter tuning\n",
    "# param_grid = {'C': [0.001, 0.1, 1, 10, 100]}\n",
    "\n",
    "# gs = GridSearchCV(lrc, param_grid, cv=10)\n",
    "# gs.fit(X_train, y_train)\n",
    "# print(gs.best_params_)\n",
    "# print(gs.best_score_)\n",
    "# cv_scores = cross_val_score(lrc, X, y, cv=10, scoring='roc_auc')\n",
    "# print('mean cv score:', np.mean(cv_scores), '\\n')"
   ]
  },
  {
   "cell_type": "code",
   "execution_count": null,
   "metadata": {},
   "outputs": [],
   "source": [
    "# keep only growth rate columns ('yoy...') and limit titles\n",
    "titles_4plot = ['Police Officer', 'Police Detective', 'Police Sergeant']\n",
    "payraise = growth_title.iloc[:, len(years)+1:(len(years)*2)+1]\n",
    "payraise = payraise[payraise['title_clean_first'].isin(titles_4plot)].fillna(0)\n",
    "\n",
    "#plot\n",
    "sns.pairplot(payraise, hue='title_clean_first')\n"
   ]
  },
  {
   "cell_type": "code",
   "execution_count": null,
   "metadata": {},
   "outputs": [],
   "source": [
    "# extract 10 largest departments\n",
    "departments = earnings[earnings['year'] == 2017].groupby('dept_clean')['name'].agg(np.size).nlargest(10)\n",
    "dept_list = departments.index\n",
    "departments = earnings[(earnings['dept_clean'].isin(dept_list)) & (earnings['year'] == 2017)] \\\n",
    "                    .rename(index=str, columns={'dept_clean': 'Department'})  # for plot legend"
   ]
  },
  {
   "cell_type": "code",
   "execution_count": null,
   "metadata": {},
   "outputs": [],
   "source": [
    "# extract 10 most common job titles\n",
    "titles = earnings[earnings['year'] == 2017].groupby('title_clean')['name'].agg(np.size).nlargest(10)\n",
    "titles_list = titles.index\n",
    "titles = earnings[(earnings['title_clean'].isin(titles_list)) & (earnings['year'] == 2017)] \\\n",
    "                .rename(index=str, columns={'title_clean': 'Job Title'})  # for plot legend"
   ]
  },
  {
   "cell_type": "code",
   "execution_count": null,
   "metadata": {},
   "outputs": [],
   "source": [
    "usecols = ['regular', 'retro', 'other', 'overtime', 'injured', 'detail']\n",
    "g = sns.pairplot(departments, hue='Department', vars=usecols, plot_kws={\"s\": 20}, palette=\"bright\")\n",
    "g.fig.subplots_adjust(top=.93)\n",
    "g.fig.suptitle('Pairplots of 2017 numerical columns\\nTop 10 departments', fontsize=16)\n",
    "plt.show()"
   ]
  },
  {
   "cell_type": "code",
   "execution_count": null,
   "metadata": {
    "scrolled": false
   },
   "outputs": [],
   "source": [
    "g = sns.pairplot(titles, hue='Job Title', vars=usecols, plot_kws={\"s\": 20}, palette=\"bright\")\n",
    "g.fig.subplots_adjust(top=.93)\n",
    "g.fig.suptitle('Pairplots of 2017 numerical columns\\nTop 10 job titles', fontsize=16)\n",
    "plt.show()"
   ]
  },
  {
   "cell_type": "markdown",
   "metadata": {},
   "source": [
    "The paired scatter plots above show the relationship between all of the numerical columns in the dataframe with exception of \"Quinn\" which is an education incentive specific to the police department, and \"Total\", which is the sum of the numerical columns. \n",
    "\n",
    "A few general observations follow:\n",
    "\n",
    "- The charts are dominated by the highest paid employees: Police and fire fighters. \n",
    "- \"Retro\" payments are almost exclusive to the police department.\n",
    "- \"Overtime\" is primarily for middle income employees. Salaried employees don't usually get overtime pay and lower income employees get overtime pay proportional to their income.\n",
    "- \"Injured\" pay is mostly for police and fire fighters, and it appears to replace \"regular\" pay.\n",
    "- \"Detail\" and \"overtime\" scatter plots have similar shapes and may possibly be alternative categories for similar compensation."
   ]
  },
  {
   "cell_type": "code",
   "execution_count": null,
   "metadata": {},
   "outputs": [],
   "source": [
    "\"\"\" \n",
    "dataset focused on 'normal' income levels with both regular and injured earnings types\n",
    "\"\"\"\n",
    "# injured = titles[((titles.injured > 40000) | (titles.regular > 40000)) & ((titles.injured > 3000) & (titles.regular > 3000))]\n",
    "injured = titles[((titles.injured + titles.regular) > 50000)  & (titles.injured > 3000)]\n",
    "print('2017 number of employees:', injured.shape[0])\n",
    "sns.regplot(x='regular', y='injured', data=injured)\n",
    "plt.show()"
   ]
  },
  {
   "cell_type": "code",
   "execution_count": null,
   "metadata": {
    "scrolled": false
   },
   "outputs": [],
   "source": [
    "m = ols('regular ~ injured',injured).fit()\n",
    "print(m.summary())"
   ]
  },
  {
   "cell_type": "code",
   "execution_count": null,
   "metadata": {},
   "outputs": [],
   "source": [
    "# logistic regression:\n",
    "lrc = LogisticRegression()\n",
    "lrc.fit(X_train, y_train)\n",
    "cv_scores = cross_val_score(lrc, X_train, y_train, cv=10, scoring='roc_auc')\n",
    "print('mean cv score:', np.mean(cv_scores), '\\n')\n",
    "\n",
    "# hyper-parameter tuning\n",
    "param_grid = {'C': [0.001, 0.1, 1, 10, 100]}\n",
    "\n",
    "gs = GridSearchCV(lrc, param_grid, cv=10)\n",
    "gs.fit(X_train, y_train)\n",
    "print(gs.best_params_)\n",
    "print(gs.best_score_)\n",
    "cv_scores = cross_val_score(lrc, X, y, cv=10, scoring='roc_auc')\n",
    "print('mean cv score:', np.mean(cv_scores), '\\n')\n"
   ]
  },
  {
   "cell_type": "code",
   "execution_count": null,
   "metadata": {},
   "outputs": [],
   "source": [
    "# train a decision tree classifier:\n",
    "dtc = DecisionTreeClassifier(max_depth=2, min_samples_split=100)\n",
    "dtc.fit(X_train, y_train)\n",
    "\n",
    "# metrics:\n",
    "print('Score:', dtc.score(X_test, y_test))\n",
    "cm = metrics.confusion_matrix(y, dtc.predict(X))\n",
    "print('Confusion matrix:', '\\n', cm)\n",
    "accuracy = (cm[0][0] + cm[1][1])/pol_ff.shape[0]\n",
    "a2 = metrics.accuracy_score(dtc.predict(X_test), y_test)\n",
    "print('Accuracy:', accuracy, '\\n', a2)\n",
    "cv_scores = cross_val_score(dtc, X, y, cv=10)\n",
    "print('mean cv score:', np.mean(cv_scores), '\\n')\n"
   ]
  },
  {
   "cell_type": "code",
   "execution_count": null,
   "metadata": {
    "scrolled": false
   },
   "outputs": [],
   "source": [
    "dot_data = export_graphviz(dtc, out_file=None) \n",
    "graph = graphviz.Source(dot_data) \n",
    "graph\n"
   ]
  },
  {
   "cell_type": "code",
   "execution_count": null,
   "metadata": {
    "scrolled": false
   },
   "outputs": [],
   "source": [
    "# train a random forest classifier:\n",
    "rfc = RandomForestClassifier(n_estimators=100, max_depth=8, min_samples_split=20)\n",
    "rfc.fit(X_train, y_train)\n",
    "\n",
    "# metrics:\n",
    "print('Score:', rfc.score(X_test, y_test))\n",
    "cm = metrics.confusion_matrix(y, rfc.predict(X))\n",
    "print('Confusion matrix:', '\\n', cm)\n",
    "accuracy = (cm[0][0] + cm[1][1])/pol_ff.shape[0]\n",
    "a2 = metrics.accuracy_score(rfc.predict(X_test), y_test)\n",
    "print('Accuracy:', accuracy, '\\n', a2)\n",
    "cv_scores = cross_val_score(rfc, X, y, cv=10)\n",
    "print('mean cv score:', np.mean(cv_scores), '\\n')\n",
    "\n",
    "# generate feature importances and standard deviations dataframe\n",
    "std = np.std([tree.feature_importances_ for tree in rfc.estimators_], axis=0)\n",
    "importances = pd.DataFrame([X_test.columns, rfc.feature_importances_, std])\\\n",
    "                .T.rename(columns={0:'feature', 1:'importance', 2:'std'})\\\n",
    "                .sort_values(by='importance', ascending=False)\n",
    "print(importances)"
   ]
  },
  {
   "cell_type": "code",
   "execution_count": null,
   "metadata": {},
   "outputs": [],
   "source": [
    "# Plot the feature importances of the forest\n",
    "fig, ax = plt.subplots(facecolor='powderblue', figsize=(8,5))\n",
    "importances.plot('feature', 'importance', kind='bar', color=\"b\", yerr='std', align=\"center\", ax=ax)\n",
    "plt.title('Feature importances', fontsize=14)\n",
    "plt.ylabel('importance')\n",
    "ax.set_xticklabels(importances['feature'], rotation=0, fontsize=14)\n",
    "plt.show()"
   ]
  },
  {
   "cell_type": "code",
   "execution_count": null,
   "metadata": {},
   "outputs": [],
   "source": [
    "df = pd.DataFrame(np.arange(20).reshape(10, -1),\n",
    "                  [['a', 'a', 'a', 'a', 'b', 'b', 'b', 'c', 'c', 'd'],\n",
    "                   ['a', 'b', 'c', 'd', 'e', 'f', 'g', 'h', 'i', 'j']],\n",
    "                  ['X', 'Y'])\n",
    "df"
   ]
  },
  {
   "cell_type": "code",
   "execution_count": null,
   "metadata": {},
   "outputs": [],
   "source": [
    "growth = pd.pivot_table(earnings, columns='year', index=['name', 'title_clean', 'dept_clean'], values='total')\n",
    "print('Unique employees, 2011-2017:', growth.shape[0])\n",
    "growth = growth.dropna()\n",
    "growth['cagr'] = (growth.iloc[:,-1] / growth.iloc[:,-5]) ** (1/(len(growth.columns)-1)) - 1\n",
    "growth = growth[growth['cagr'] > 0].reset_index() # filter retirees etc.\n",
    "print('Continuously employed, 2011-2017', growth.shape[0])\n",
    "growth = growth.groupby('title_clean')['name','cagr'].agg({'name':np.size, 'cagr':np.mean})\n",
    "growth = growth[growth['name'] > 50]\n",
    "growth"
   ]
  },
  {
   "cell_type": "code",
   "execution_count": null,
   "metadata": {},
   "outputs": [],
   "source": [
    "# total payroll by year\n",
    "total_payroll = earnings.groupby(earnings['year'])[['regular', 'total', 'name']]\\\n",
    "                        .agg({'regular': np.sum, 'total': np.sum, 'name': 'count'})\\\n",
    "                        .reset_index()\\\n",
    "                        .set_index('year')\n",
    "total_payroll['epc'] = total_payroll['total'] / total_payroll['name'] # average total earnings per capita\n",
    "total_payroll['rpc'] = total_payroll['regular'] / total_payroll['name'] # average regular earnings per capita\n",
    "total_payroll = total_payroll.reset_index()\n",
    "\n",
    "\"\"\" \n",
    "Average wage index (AWI) for the United States\n",
    "Source: https://www.ssa.gov/oact/cola/awidevelop.html\n",
    "\"\"\"\n",
    "total_payroll['awi'] = pd.Series([42979.61, 44321.67, 44888.16, 46481.52, 48098.63, 48642.15]) # AWI, years 2011-2016\n",
    "\n",
    "\"\"\"\n",
    "City of Boston population estimates\n",
    "https://www.census.gov/quickfacts/fact/table/bostoncitymassachusetts/PST045216\n",
    "2017 data is extrapolated from 2011-2016 data\n",
    "\"\"\"\n",
    "\n",
    "year_actual, pop_actual = np.array([2011, 2012, 2013, 2014, 2015, 2016]), \\\n",
    "                        np.array([630195, 641911, 651090, 659180, 665984, 673184])\n",
    "f = interpolate.interp1d(year_actual, pop_actual, fill_value='extrapolate')\n",
    "population = np.append(pop_actual, f(2017))\n",
    "\n",
    "fig, ((ax1, ax2), (ax3, ax4)) = plt.subplots(2, 2, figsize=(10, 8))\n",
    "\n",
    "x = total_payroll['year']\n",
    "\n",
    "# Total payroll by year\n",
    "ax1.bar(x, total_payroll['total']/1000000)\n",
    "ax1.set_xlabel('year')\n",
    "ax1.set_ylabel('annual payroll expenditure (millions $)')\n",
    "ax1.set_title('Total payroll by year')\n",
    "\n",
    "# City population\n",
    "ax2.bar(x, population/1000)\n",
    "ax2.set_xlabel('year')\n",
    "ax2.set_ylabel('Number of residents (thousands)')\n",
    "ax2.set_title('City population (2017 estimated)')\n",
    "\n",
    "# Employees per year\n",
    "ax3.bar(x, total_payroll['name'])\n",
    "ax3.set_xlabel('year')\n",
    "ax3.set_ylabel('Number of employees')\n",
    "ax3.set_title('Employees per year')\n",
    "\n",
    "# Average earnings per employee\n",
    "ax4.bar(x, total_payroll['epc'])\n",
    "ax4.plot(x, total_payroll['rpc'], alpha=1, color='r', linewidth=4)\n",
    "ax4.plot(x, total_payroll['awi'], color='y', linewidth=4)\n",
    "ax4.set_xlabel('year')\n",
    "ax4.set_ylabel('average earnings ($)')\n",
    "ax4.set_title('Average earnings per employee')\n",
    "ax4.legend(['regular earnings', 'SSA average wage index', 'total earnings'])\n",
    "ax4.set_ylim(0, 100000)\n",
    "\n",
    "plt.tight_layout()\n",
    "plt.show()"
   ]
  },
  {
   "cell_type": "markdown",
   "metadata": {},
   "source": [
    "The plots above show that the rate of payroll growth is slowing in the past few years. The number of employees has not grown since 2013 despite a growing population and the average earnings per employee are nearly stagnant since 2015."
   ]
  },
  {
   "cell_type": "code",
   "execution_count": null,
   "metadata": {},
   "outputs": [],
   "source": [
    "teachers = earnings[(earnings['year'] == 2017) & (earnings['title_clean'] == 'Teacher')][['regular', 'department']]\n",
    "teachers.plot(kind='hist', bins=30, title='Histogram of Teacher\\'s regular earnings')\n",
    "plt.xlabel('regular earnings')\n",
    "plt.show()"
   ]
  },
  {
   "cell_type": "markdown",
   "metadata": {},
   "source": [
    "Three modes are visible in the histogram plot. The first at around \\$20,000 could be due to part time work, new hires, retirees, etc. The third at around \\$100,000 is what is generally considered a teacher's salary in Boston. The second between \\$60,000 and \\$80,000 is worth looking into. The chart below suggests that the title \"Teacher\" may have been inappropriately given to "
   ]
  },
  {
   "cell_type": "code",
   "execution_count": null,
   "metadata": {},
   "outputs": [],
   "source": [
    "# separate out the employees from the second mode from $60-85K\n",
    "teachers70 = earnings[(earnings['year'] == 2017) \\\n",
    "                      & (earnings['title_clean'] == 'Teacher') \\\n",
    "                      & (earnings['regular'] > 60000) \\\n",
    "                      & (earnings['regular'] < 85000)] \\\n",
    "                      .groupby('department')\\\n",
    "                     [['regular', 'department']]\\\n",
    "                      .agg([np.median, np.size])\\\n",
    "                    .reset_index()\n",
    "teachers70.columns = ['department', 'median', 'employees']\n",
    "teachers70 = teachers70.sort_values(by='employees', ascending=False)[:20]\n",
    "    \n",
    "# for comparison: departments by size:\n",
    "bps_depts = earnings[(earnings['year'] == 2017) \\\n",
    "                      & (earnings['title_clean'] == 'Teacher')] \\\n",
    "                     .groupby('department')\\\n",
    "                     ['name']\\\n",
    "                     .agg(np.size)\\\n",
    "            .reset_index()\n",
    "            \n",
    "bps_depts.columns = ['department', 'total_employees']\n",
    "\n",
    "teachers_merged = pd.merge(teachers70, bps_depts, how='left', on='department')\n",
    "                      \n",
    "print(teachers_merged)"
   ]
  },
  {
   "cell_type": "code",
   "execution_count": null,
   "metadata": {},
   "outputs": [],
   "source": [
    "# Median earnings by department for 2017. Small departments are excluded for better statistics.\n",
    "\n",
    "large_depts = pd.pivot_table(earnings[earnings.year==2017], values='total', aggfunc=[np.size, np.median], index='dept_clean')\n",
    "large_depts = large_depts[large_depts[('size', 'total')] > 200] \\\n",
    "              .sort_values([('median', 'total')], ascending=False)[:15]\n",
    "\n",
    "# for later use\n",
    "large_depts_list = large_depts.index \n",
    "\n",
    "large_depts.columns = large_depts.columns.droplevel(1)\n",
    "large_depts = large_depts['median']\n",
    "\n",
    "fig = plt.figure(figsize=(10, 8))                 \n",
    "large_depts.plot.barh().invert_yaxis()\n",
    "\n",
    "_ = plt.title('Median Earnings of Boston\\'s Largest Departments', fontsize=15)\n",
    "_ = plt.ylabel('Department')\n",
    "_ = plt.xlabel('Median earnings')\n",
    "_ = plt.rc('ytick', labelsize=12)\n",
    "_ = plt.rc('axes', labelsize=12)\n",
    "\n",
    "plt.show()"
   ]
  },
  {
   "cell_type": "code",
   "execution_count": null,
   "metadata": {},
   "outputs": [],
   "source": [
    "# plot earnings growth by department\n",
    "ld = pd.pivot_table(earnings, index='dept_clean', columns='year', values=['total'], aggfunc=np.median)\n",
    "ld.columns = ld.columns.droplevel()\n",
    "ld = ld.loc[large_depts_list].T # filter based on list above\n",
    "\n",
    "fig, ax = plt.subplots(figsize=(8,8))\n",
    "ld.plot(ax=ax)\n",
    "ax.legend(bbox_to_anchor=(1.1, 1.05))\n",
    "ax.set_title('median earnings growth by department')\n",
    "ax.set_ylabel('US-$')\n",
    "ax.set_xlabel('year')\n",
    "# ax.set_yscale('log')\n",
    "\n",
    "# cmap = plt.cm.hot\n",
    "# rcParams['axes.prop_cycle'] = cycler(color=cmap(np.linspace(0, 1, len(ld.columns))))\n",
    "\n",
    "plt.show()"
   ]
  },
  {
   "cell_type": "code",
   "execution_count": null,
   "metadata": {},
   "outputs": [],
   "source": [
    "# fire fighters vs. police officers\n",
    "\n",
    "ff = earnings[(earnings['title_clean'] == 'Police Officer')\\\n",
    "                             | (earnings['title_clean'] == 'Fire Fighter')]\n",
    "\n",
    "fig, (ax1, ax2) = plt.subplots(1, 2, figsize=(15, 6))\n",
    "ax1.set_title('Median total earnings of police officers and fire fighters')\n",
    "sns.violinplot(x='year', y='total', hue='title_clean', data=ff, split=True, ax=ax1,\n",
    "              inner='quartile', palette='RdBu_r')\n",
    "ax2.set_title('Median regular earnings of police officers and fire fighters')\n",
    "sns.violinplot(x='year', y='total', hue='title_clean', data=ff, split=True, ax=ax2,\n",
    "              inner='quartile', palette='RdBu_r')\n",
    "plt.show()"
   ]
  },
  {
   "cell_type": "code",
   "execution_count": null,
   "metadata": {},
   "outputs": [],
   "source": [
    "# fire fighters vs. police officers: Overtime\n",
    "\n",
    "ff = earnings[(earnings['title_clean'] == 'Police Officer')\\\n",
    "                             | (earnings['title_clean'] == 'Fire Fighter')]\n",
    "\n",
    "fig, ax= plt.subplots(figsize=(8, 6))\n",
    "ax.set_title('Median overtime earnings of police officers and fire fighters')\n",
    "sns.violinplot(x='year', y='overtime', hue='title_clean', data=ff, split=True, ax=ax,\n",
    "              inner='quartile', palette='RdBu_r')\n",
    "plt.show()"
   ]
  },
  {
   "cell_type": "code",
   "execution_count": null,
   "metadata": {},
   "outputs": [],
   "source": [
    "# What???\n",
    "\n",
    "retro = earnings[(earnings['title_clean'] == 'Police Officer')\\\n",
    "                             | (earnings['title_clean'] == 'Fire Fighter')]\n",
    "\n",
    "fig, ax = plt.subplots(figsize=(8, 6))\n",
    "ax.set_title('Median retro earnings of police officers and fire fighters')\n",
    "sns.violinplot(x='year', y='retro', hue='title_clean', data=ff, split=True, ax=ax,\n",
    "              inner='quartile', palette='RdBu_r')\n",
    "plt.show()"
   ]
  },
  {
   "cell_type": "code",
   "execution_count": null,
   "metadata": {},
   "outputs": [],
   "source": [
    "# retro earnings by year\n",
    "retro_by_year = pd.pivot_table(earnings[earnings.retro != 0], columns='year', values='retro', index='dept_clean', aggfunc=[np.size, np.sum]).agg(np.sum)\n",
    "print(retro_by_year)"
   ]
  },
  {
   "cell_type": "code",
   "execution_count": null,
   "metadata": {},
   "outputs": [],
   "source": [
    "# by dept\n",
    "retro_by_dept = pd.pivot_table(earnings[(earnings.year == 2014)], values='retro', index='dept_clean', aggfunc=np.sum).sort_values(by='retro', ascending=False)\n",
    "print(retro_by_dept[:10])"
   ]
  },
  {
   "cell_type": "code",
   "execution_count": null,
   "metadata": {},
   "outputs": [],
   "source": [
    "# by title\n",
    "retro_by_title = earnings[(earnings.year == 2014) \\\n",
    "                          & (earnings.dept_clean.isin(['Boston Police Department', \\\n",
    "                                                        'Boston Fire Department']))]\\\n",
    "                        .groupby('title_clean')\\\n",
    "                        ['retro']\\\n",
    "                        .agg(np.sum)\\\n",
    "                        .sort_values(ascending=False)\n",
    "print(retro_by_title[:10])\n"
   ]
  },
  {
   "cell_type": "code",
   "execution_count": null,
   "metadata": {},
   "outputs": [],
   "source": [
    "# by name 2016\n",
    "retro_by_name = earnings.loc[(earnings.year == 2016) & (earnings.title == 'Police Detective')]\\\n",
    "                    [['name', 'regular', 'retro']]\\\n",
    "                    .sort_values(by='retro', ascending=False)\n",
    "print(retro_by_name[:20])"
   ]
  },
  {
   "cell_type": "code",
   "execution_count": null,
   "metadata": {},
   "outputs": [],
   "source": [
    "greg = earnings.loc[earnings.name.str.startswith('Therriault')]\n",
    "greg"
   ]
  },
  {
   "cell_type": "code",
   "execution_count": null,
   "metadata": {},
   "outputs": [],
   "source": [
    "\"\"\"\n",
    "1. Obtain latitude and longitude data for US zip codes from\n",
    "https://www.census.gov/geo/maps-data/data/gazetteer2017.html\n",
    "\n",
    "2. Count number of employees by zip code\n",
    "\n",
    "3. Perform inner merge to get complete sets \n",
    "\n",
    "4. Filter Boston zip codes from suburban zip codes.\n",
    "\"\"\"\n",
    "zll = pd.read_csv('2017_Gaz_zcta_national.txt', sep='\\t', encoding = \"ISO-8859-1\", usecols=[0, 5, 6], names=['zip', 'lat', 'long'], header=0, dtype={'zip': object})\n",
    "\n",
    "zip_count = earnings[earnings.year == 2017].groupby('zip')['name'].agg(np.size).reset_index().rename(columns={'name': 'employees'})\n",
    "\n",
    "zip_df = pd.merge(zip_count, zll, on='zip', how='inner')\n",
    "\n",
    "# Read in Boston zipcode list\n",
    "boston = pd.read_csv('boston-zipcodes.csv', names=['zip'], header=None, dtype={'zip': object})\n",
    "\n",
    "# US population by zipcode (2010 Census)\n",
    "population = pd.read_csv('2010+Census+Population+By+Zipcode+(ZCTA).csv', encoding = \"ISO-8859-1\", usecols=[0, 1], names=['zip', 'pop'], header=0, dtype={'zip': object})\n",
    "population = population.groupby('zip')['pop'].agg(np.sum).reset_index()\n",
    "\n",
    "# generate various zip code maps\n",
    "boston = pd.merge(zip_df, boston, on='zip', how='inner')\n",
    "suburbs = zip_df[~zip_df['zip'].isin(boston.zip)]\n",
    "\n",
    "# by title\n",
    "teachers = earnings[(earnings['year'] == 2017) & (earnings['title_clean'] == 'Teacher')].groupby('zip')['name'].agg(np.size).reset_index().rename(columns={'name': 'teachers'})\n",
    "policemen = earnings[(earnings['year'] == 2017) & (earnings['title_clean'] == 'Police Officer')].groupby('zip')['name'].agg(np.size).reset_index().rename(columns={'name': 'police_officers'})\n",
    "firemen = earnings[(earnings['year'] == 2017) & (earnings['title_clean'] == 'Fire Fighter')].groupby('zip')['name'].agg(np.size).reset_index().rename(columns={'name': 'fire_fighters'})\n",
    "titles = teachers.merge(policemen, on='zip', how='outer')\\\n",
    "                .merge(firemen, on='zip', how='outer')\\\n",
    "                .merge(zll, on='zip', how='left')\\\n",
    "                .merge(population, on='zip', how='left')\\\n",
    "                .fillna(0)\n",
    "titles = titles[titles['pop'] >= 1] # avoid div by zero error (and nonsense data)\n",
    "titles['teachers_pc'] = titles['teachers'] / titles['pop'] * 100\n",
    "                \n",
    "# by income level \n",
    "rich = earnings[(earnings['year'] == 2017) & (earnings['total'] >= 81500)].groupby('zip')['name'].agg(np.size).reset_index().rename(columns={'name': 'employees'})\n",
    "poor = earnings[(earnings['year'] == 2017) & (earnings['total'] < 81500) & (earnings['total'] >= 19917)].groupby('zip')['name'].agg(np.size).reset_index().rename(columns={'name': 'employees'})\n",
    "rich = rich.merge(zll, on='zip', how='left').merge(population, on='zip', how='left')\n",
    "poor = poor.merge(zll, on='zip', how='left').merge(population, on='zip', how='left')\n",
    "rich = rich[rich['pop'] >= 1] # avoid div by zero error (and nonsense data)\n",
    "poor = poor[poor['pop'] >= 1] # avoid div by zero error (and nonsense data)\n",
    "rich['emp'] = rich['employees'] / rich['pop'] * 100\n",
    "poor['emp'] = poor['employees'] / poor['pop'] * 100\n",
    "\n",
    "# normalize \"rich\" employee count to match \"poor\":\n",
    "print(rich.employees.sum(), poor.employees.sum())\n",
    "# titles[titles['teachers_pc'] >1]\n",
    "\n",
    "rich.head()"
   ]
  },
  {
   "cell_type": "code",
   "execution_count": null,
   "metadata": {},
   "outputs": [],
   "source": [
    "# map image from open street maps\n",
    "osm_tiles = OSM()\n",
    "\n",
    "fig = plt.figure(figsize=(16, 16))\n",
    "ax = plt.axes(projection=osm_tiles.crs)\n",
    "\n",
    "# define map range\n",
    "img_extent = (-71.8, -70.5, 42.85, 41.8)\n",
    "ax.set_extent(img_extent, ccrs.PlateCarree())\n",
    "\n",
    "# add map image, state lines\n",
    "ax.add_image(osm_tiles, 9)\n",
    "states_provinces = cfeature.NaturalEarthFeature(\n",
    "        category='cultural',\n",
    "        name='admin_1_states_provinces_lines',\n",
    "        scale='10m',\n",
    "        facecolor='none')\n",
    "ax.add_feature(states_provinces, edgecolor='gray')\n",
    "\n",
    "# suburban zip codes with at least 10 employees\n",
    "suburbs_min10 = suburbs[suburbs['employees'] > 9]\n",
    "suburbs_min10.plot('long','lat', kind='scatter', marker='.', s=suburbs_min10['employees'].values * 10, c='employees', cmap=plt.cm.inferno, ax=ax, transform=ccrs.PlateCarree())\n",
    "\n",
    "ax.set_title('In which suburbs do Boston city employees live?', fontsize=15)\n",
    "plt.savefig('suburbs.png')\n",
    "plt.show()"
   ]
  },
  {
   "cell_type": "code",
   "execution_count": null,
   "metadata": {},
   "outputs": [],
   "source": [
    "fig, (ax1, ax2) = plt.subplots(ncols=2, subplot_kw={'projection': osm_tiles.crs}, figsize=(16, 8))\n",
    "\n",
    "# define map range\n",
    "img_extent = (-71.3, -70.9, 42.45, 42.2)\n",
    "ax1.set_extent(img_extent, ccrs.PlateCarree())\n",
    "ax2.set_extent(img_extent, ccrs.PlateCarree())\n",
    "\n",
    "# # add map image, state lines\n",
    "ax1.add_image(osm_tiles, 10)\n",
    "ax2.add_image(osm_tiles, 10)\n",
    "\n",
    "poor.plot('long','lat', kind='scatter', marker='.', s=poor['emp'].values*1000, c='emp', cmap=plt.cm.inferno, ax=ax1, transform=ccrs.PlateCarree())\n",
    "rich.plot('long','lat', kind='scatter', marker='.', s=rich['emp'].values*1000, c='emp', cmap=plt.cm.inferno, ax=ax2, transform=ccrs.PlateCarree())\n",
    "\n",
    "ax1.set_title('Lower income employees', fontsize=12)\n",
    "ax2.set_title('Higher income employees', fontsize=12)\n",
    "plt.suptitle('Wealth segregation (equal populations)', fontsize=18)\n",
    "plt.show()\n"
   ]
  },
  {
   "cell_type": "code",
   "execution_count": null,
   "metadata": {},
   "outputs": [],
   "source": [
    "fig = plt.figure(figsize=(16, 16))\n",
    "ax = plt.axes(projection=osm_tiles.crs)\n",
    "\n",
    "# define map range\n",
    "img_extent = (-71.8, -70.5, 42.85, 41.8)\n",
    "ax.set_extent(img_extent, ccrs.PlateCarree())\n",
    "\n",
    "# add map image, state lines\n",
    "ax.add_image(osm_tiles, 9)\n",
    "states_provinces = cfeature.NaturalEarthFeature(\n",
    "        category='cultural',\n",
    "        name='admin_1_states_provinces_lines',\n",
    "        scale='10m',\n",
    "        facecolor='none')\n",
    "ax.add_feature(states_provinces, edgecolor='gray')\n",
    "\n",
    "titles.plot('long','lat', kind='scatter', marker='.', s=titles['teachers_pc'].values * 1000, c='teachers_pc', cmap=plt.cm.inferno, ax=ax, transform=ccrs.PlateCarree())\n",
    "\n",
    "ax.set_title('Where do Boston\\'s public school teachers live?', fontsize=15)\n",
    "\n",
    "plt.show()"
   ]
  },
  {
   "cell_type": "code",
   "execution_count": null,
   "metadata": {
    "scrolled": false
   },
   "outputs": [],
   "source": [
    "fig = plt.figure(figsize=(16, 16))\n",
    "ax = plt.axes(projection=osm_tiles.crs)\n",
    "\n",
    "# define map range (city of Boston)\n",
    "img_extent = (-71.19, -70.985, 42.395, 42.23)\n",
    "ax.set_extent(img_extent, ccrs.PlateCarree())\n",
    "\n",
    "# add map image\n",
    "ax.add_image(osm_tiles, 12)\n",
    "\n",
    "# boston data\n",
    "boston.plot('long','lat', kind='scatter', marker='.', s=boston['employees'].values*5, c='employees', cmap=plt.cm.viridis, ax=ax, transform=ccrs.PlateCarree())\n",
    "\n",
    "ax.set_title('In which Boston neighborhoods do city employees live?', fontsize=16)\n",
    "\n",
    "plt.show()"
   ]
  },
  {
   "cell_type": "code",
   "execution_count": null,
   "metadata": {},
   "outputs": [],
   "source": [
    "\"\"\"\n",
    "Adjusted Gross Income (AGI) by zip code\n",
    "\n",
    "Available for years 1998 through 2015\n",
    "from:\n",
    "https://www.irs.gov/statistics/soi-tax-stats-individual-income-tax-statistics-2015-zip-code-data-soi\n",
    "\n",
    "data:\n",
    "https://www.irs.gov/pub/irs-soi/15zpallagi.csv\n",
    "data documentation:\n",
    "https://www.irs.gov/pub/irs-soi/15zpdoc.doc\n",
    "\n",
    "\"\"\"\n",
    "agi = pd.read_csv('15zpallagi.csv', encoding = \"ISO-8859-1\", usecols=['STATE', 'zipcode', 'agi_stub', 'N1', 'NUMDEP', 'A00100', 'A00200', 'A02650'], dtype={'zipcode': object})\n",
    "print(agi.head())\n",
    "agi['sum'] = agi['N1'] *  agi['A00100']\n",
    "agi = agi.groupby('zipcode').agg(np.sum).reset_index()\n",
    "\n",
    "agi['agi'] = agi['sum'] / agi['N1']"
   ]
  },
  {
   "cell_type": "code",
   "execution_count": null,
   "metadata": {
    "scrolled": false
   },
   "outputs": [],
   "source": [
    "fig, ax = plt.subplots(1, 1, figsize=(8, 8))\n",
    "zipcode = earnings.groupby('zip')['total'].agg([np.size, np.median]).sort_values(by='size', ascending=False).reset_index()[:100]\n",
    "zip_agi = pd.merge(zipcode, agi, left_on='zip', right_on='zipcode', how='left')\n",
    "ax.scatter(zip_agi['agi'], zip_agi['median'])\n",
    "ax.set_xlim(0, 1000000)\n",
    "ax.set_xlabel('adjusted gross income ($, by zipcode)')\n",
    "ax.set_ylabel('median income ($, by zipcode)')\n",
    "ax.set_title('income by agi of zipcode')\n",
    "# plt.xticks(rotation='vertical')\n",
    "# ax.locator_params(nbins=25, axis='x')\n",
    "plt.show()"
   ]
  },
  {
   "cell_type": "markdown",
   "metadata": {},
   "source": [
    "## Residency Requirement\n",
    "Boston city employees are required to live within city limits. The law is not strictly enforced and is confounded by state, federal and union regulations. \n",
    "\n",
    "https://www.boston.gov/departments/human-resources/residency-requirements-city-workers\n",
    "\n",
    "https://www.bostonglobe.com/metro/2016/01/13/mayor-walsh-seeks-strengthen-boston-residency-requirement-with-caveat/ZyG8xmkOsu0dMHgITSUOKN/story.html\n",
    "\n",
    "What does the distribution look like in 2017?"
   ]
  },
  {
   "cell_type": "code",
   "execution_count": null,
   "metadata": {},
   "outputs": [],
   "source": [
    "# Read in Boston zipcode list\n",
    "boston_zips = pd.read_csv('boston-zipcodes.csv', names=['bzips'], header=None)\n",
    "boston_zips = boston_zips.astype(str).apply(lambda x: '0' + x) # treat zipcodes as strings and add leading \"0\"\n",
    "\n",
    "# define resident and non-resident employees\n",
    "inzips = earnings.loc[(earnings.zip.isin(boston_zips.bzips) & (earnings.year == 2017))]\n",
    "outzips = earnings.loc[(~earnings.zip.isin(boston_zips.bzips) & (earnings.year == 2017))]\n",
    "residents = inzips.shape[0] /(inzips.shape[0] + outzips.shape[0]) * 100\n",
    "\n",
    "# income distribution\n",
    "in_earnings = inzips['total'].agg(np.median)\n",
    "print(in_earnings)\n",
    "out_earnings = outzips['total'].agg(np.median)\n",
    "zip_df = pd.DataFrame({'median earnings ($)': [in_earnings, out_earnings]}, index=['Residents', 'Non-residents'])\n",
    " \n",
    "# plot\n",
    "ax = zip_df.plot.bar(title='%s %% of city employees live in Boston (2017)'%(int(residents)), rot=0)\n",
    "ax.set_ylabel(\"median earnings ($)\")\n",
    "plt.show()"
   ]
  }
 ],
 "metadata": {
  "kernelspec": {
   "display_name": "Python 3",
   "language": "python",
   "name": "python3"
  },
  "language_info": {
   "codemirror_mode": {
    "name": "ipython",
    "version": 3
   },
   "file_extension": ".py",
   "mimetype": "text/x-python",
   "name": "python",
   "nbconvert_exporter": "python",
   "pygments_lexer": "ipython3",
   "version": "3.6.4"
  }
 },
 "nbformat": 4,
 "nbformat_minor": 2
}
