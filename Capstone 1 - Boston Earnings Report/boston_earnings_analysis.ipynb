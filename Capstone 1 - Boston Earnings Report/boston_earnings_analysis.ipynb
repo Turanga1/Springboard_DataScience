{
 "cells": [
  {
   "cell_type": "code",
   "execution_count": 1,
   "metadata": {
    "collapsed": true
   },
   "outputs": [],
   "source": [
    "# import modules\n",
    "import numpy as np\n",
    "import pandas as pd\n",
    "import re, os, glob\n",
    "import matplotlib.pyplot as plt\n",
    "import seaborn as sns\n",
    "plt.style.use('seaborn-colorblind')\n",
    "sns.set()"
   ]
  },
  {
   "cell_type": "code",
   "execution_count": 18,
   "metadata": {},
   "outputs": [
    {
     "name": "stdout",
     "output_type": "stream",
     "text": [
      "<class 'pandas.core.frame.DataFrame'>\n",
      "RangeIndex: 152544 entries, 0 to 152543\n",
      "Data columns (total 16 columns):\n",
      "Unnamed: 0     152544 non-null int64\n",
      "name           152544 non-null object\n",
      "department     152544 non-null category\n",
      "title          152544 non-null category\n",
      "regular        152544 non-null float64\n",
      "retro          152544 non-null float64\n",
      "other          152544 non-null float64\n",
      "overtime       152544 non-null float64\n",
      "injured        152544 non-null float64\n",
      "detail         152544 non-null float64\n",
      "quinn          152544 non-null float64\n",
      "total          152544 non-null float64\n",
      "zipcode        152544 non-null object\n",
      "year           152544 non-null category\n",
      "dept_clean     152544 non-null category\n",
      "title_clean    152544 non-null category\n",
      "dtypes: category(5), float64(8), int64(1), object(2)\n",
      "memory usage: 14.2+ MB\n"
     ]
    }
   ],
   "source": [
    "# read cleaned data file\n",
    "earnings = pd.read_csv('earnings.csv', encoding = \"ISO-8859-1\", header=0,\\\n",
    "                       dtype={'name': 'str',\\\n",
    "                              'department': 'category',\\\n",
    "                              'title': 'category',\\\n",
    "                              'year': 'category',\\\n",
    "                              'dept_clean': 'category',\\\n",
    "                              'title_clean': 'category'})\n",
    "earnings.info()"
   ]
  },
  {
   "cell_type": "code",
   "execution_count": 7,
   "metadata": {},
   "outputs": [
    {
     "name": "stdout",
     "output_type": "stream",
     "text": [
      "      total payroll ($)\n",
      "year                   \n",
      "2011       1.297467e+09\n",
      "2012       1.315063e+09\n",
      "2013       1.384350e+09\n",
      "2014       1.487853e+09\n",
      "2015       1.551892e+09\n",
      "2016       1.580210e+09\n",
      "2017       1.590906e+09\n"
     ]
    },
    {
     "data": {
      "image/png": "[encoded data removed]",
      "text/plain": [
       "<matplotlib.figure.Figure at 0x1cbbd6e4f60>"
      ]
     },
     "metadata": {},
     "output_type": "display_data"
    }
   ],
   "source": [
    "total_earnings = earnings.groupby(earnings['year'])['total']\\\n",
    "                        .agg(np.sum)\\\n",
    "                        .reset_index()\\\n",
    "                        .set_index('year')\\\n",
    "                        .rename(columns={'total':'total payroll ($)'})\n",
    "print(total_earnings)\n",
    "total_earnings.plot(kind='bar')\n",
    "plt.show()"
   ]
  },
  {
   "cell_type": "code",
   "execution_count": 9,
   "metadata": {},
   "outputs": [
    {
     "name": "stdout",
     "output_type": "stream",
     "text": [
      "dept_clean\n",
      "Boston Police Department          129707.620\n",
      "Boston Fire Department            123488.065\n",
      "Public Facilities Department       94147.145\n",
      "Dpt of Innovation & Technology     86958.740\n",
      "Neighborhood Development           75712.495\n",
      "Inspectional Services Dept         72544.130\n",
      "Assessing Department               70647.120\n",
      "Property Management                70068.355\n",
      "Law Department                     69416.390\n",
      "Boston Retirement System           67564.160\n",
      "Public Works Department            58223.695\n",
      "Mayor's Office                     57671.620\n",
      "ASD Human Resources                55941.285\n",
      "Traffic Division                   54284.070\n",
      "Boston Public Library              54204.800\n",
      "Boston Public Schools              53277.260\n",
      "Transportation-Parking Clerk       51843.790\n",
      "Neighborhood Services              50357.680\n",
      "Elderly Commission                 47840.215\n",
      "Parks Department                   43352.655\n",
      "Name: total, dtype: float64\n"
     ]
    }
   ],
   "source": [
    "# Median earnings by department for 2016. Small departments are excluded for better statistics.\n",
    "\n",
    "large_depts = earnings[earnings.year == '2017'] \\\n",
    "                    .groupby('dept_clean')[['dept_clean', 'total']] \\\n",
    "                    .filter(lambda x: (x['dept_clean'].agg('count') > 50)) \\\n",
    "                    .reset_index() \\\n",
    "                    .groupby('dept_clean')['total'] \\\n",
    "                    .agg(np.median) \\\n",
    "                    .nlargest(20)\n",
    "print(large_depts)"
   ]
  },
  {
   "cell_type": "markdown",
   "metadata": {},
   "source": [
    "## Residency Requirement\n",
    "Boston city employees are required to live within city limits. The law is not strictly enforced and is confounded by state, federal and union regulations. \n",
    "\n",
    "https://www.boston.gov/departments/human-resources/residency-requirements-city-workers\n",
    "\n",
    "https://www.bostonglobe.com/metro/2016/01/13/mayor-walsh-seeks-strengthen-boston-residency-requirement-with-caveat/ZyG8xmkOsu0dMHgITSUOKN/story.html\n",
    "\n",
    "What does the distribution look like in 2016?"
   ]
  },
  {
   "cell_type": "code",
   "execution_count": 19,
   "metadata": {},
   "outputs": [
    {
     "name": "stdout",
     "output_type": "stream",
     "text": [
      "68 % of city employees live in Boston (2017).\n"
     ]
    },
    {
     "data": {
      "image/png": "[encoded data removed]",
      "text/plain": [
       "<matplotlib.figure.Figure at 0x1cbc0488be0>"
      ]
     },
     "metadata": {},
     "output_type": "display_data"
    }
   ],
   "source": [
    "# Read in Boston zipcode list\n",
    "boston_zips = pd.read_csv('boston-zipcodes.csv', names=['bzips'], header=None)\n",
    "boston_zips = boston_zips.astype(str).apply(lambda x: '0' + x) # treat zipcodes as strings and add leading \"0\"\n",
    "# boston_zips['bzips'] = boston_zips['bzips'].astype('category')\n",
    "\n",
    "# define resident and non-resident employees\n",
    "inzips = earnings.loc[(earnings.zipcode.isin(boston_zips.bzips) & (earnings.year == '2017'))]\n",
    "outzips = earnings.loc[(~earnings.zipcode.isin(boston_zips.bzips) & (earnings.year == '2017'))]\n",
    "residents = inzips.shape[0] /(inzips.shape[0] + outzips.shape[0]) * 100\n",
    "print(int(residents), '% of city employees live in Boston (2017).')\n",
    "\n",
    "# income distribution\n",
    "in_earnings = inzips['total'].agg(np.median)\n",
    "out_earnings = outzips['total'].agg(np.median)\n",
    "zip_df = pd.DataFrame({'residency status': ['Residents', 'Non-residents'], 'median earnings ($)': [in_earnings, out_earnings]}, index=[0, 1])\n",
    "\n",
    "# plot\n",
    "sns.barplot(x='residency status', y='median earnings ($)', data=zip_df)\n",
    "plt.margins(0.2)\n",
    "plt.show()"
   ]
  }
 ],
 "metadata": {
  "kernelspec": {
   "display_name": "Python 3",
   "language": "python",
   "name": "python3"
  },
  "language_info": {
   "codemirror_mode": {
    "name": "ipython",
    "version": 3
   },
   "file_extension": ".py",
   "mimetype": "text/x-python",
   "name": "python",
   "nbconvert_exporter": "python",
   "pygments_lexer": "ipython3",
   "version": "3.6.3"
  }
 },
 "nbformat": 4,
 "nbformat_minor": 2
}
