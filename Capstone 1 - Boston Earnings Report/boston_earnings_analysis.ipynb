{
 "cells": [
  {
   "cell_type": "markdown",
   "metadata": {},
   "source": [
    "https://www.bostonglobe.com/metro/2017/06/20/for-some-boston-police-officers-extra-money-comes-easy/oS47lc7OuYyVZbTPBv1zQL/story.html\n",
    "\n",
    "# For some Boston officers, extra money comes easy\n",
    "\n",
    "### By Jan Ransom GLOBE STAFF  JUNE 21, 2017\n",
    "\n",
    "A Boston police detective made more than four times his base salary last year, increasing his pay through a contract provision that allowed him to receive roughly four months of overtime for hours he didn’t work, records show.\n",
    "\n",
    "Boston Police Detective Waiman Lee, a 34-year department veteran in the domestic violence unit, took home about $403,000 in 2016, making him the highest paid city employee last year, according to payroll records. His base salary was $92,515.\n",
    "\n",
    "In what critics call an extreme example of a systemic problem, Lee bolstered his wages thanks to police union contracts that require that officers who work detail shifts or testify in court be paid a minimum of four hours, even if the assignment lasts only 30 minutes.\n",
    "\n",
    "Last year, Lee earned $58,600 by working more than 1,100 hours of overtime, according to a Globe review of police payroll records. Records show that Lee did not work 674 of those hours — more than 16 40-hour weeks — yet received time-and-a-half pay.\n",
    "\n",
    "Get Fast Forward in your inbox:\n",
    "Forget yesterday's news. Get what you need today in this early-morning email.\n",
    "\n",
    "Enter email address\n",
    "Sign Up\n",
    "Most of Lee’s overtime pay stemmed from court appearances that typically lasted no more than an hour, the Globe found. He was also paid for 2,771 hours for detail shifts, including 861 unworked hours. That allowed him to make close to $130,000, a sum that did not include his overtime pay.\n",
    "\n",
    "“It’s a generous system,” said Sam Tyler, president of the Boston Municipal Research Bureau, a fiscal watchdog group. “You’re paid for hours you don’t work. It isn’t a new issue, but it’s one that really does need stricter focus and management to control those costs.”\n",
    "\n",
    "Lee declined to comment about his wages Tuesday. Union leaders with the Boston Police Patrolmen’s Association and the Boston Police Detectives Benevolent Society did not respond to requests for comment.\n",
    "\n",
    "Details about Lee’s wages were obtained through a public records request, which showed that some of the department’s highest paid and top overtime earners benefit immensely from contract requirements that allow overtime for unworked hours. Officers can work up to 90 hours a week.\n",
    "\n",
    "The Globe reviewed the salary records of 10 officers who were among the highest overtime earners, and 10 additional officers who were the highest paid. Overall, the Police Department paid nearly $60 million in overtime in the 2016 fiscal year.\n",
    "\n",
    "Lieutenant Detective Michael McCarthy, a department spokesman, said the four-hour requirement “is a contractual obligation that was bargained for between the city and the police unions over 20 years ago.”\n",
    "\n",
    "“Officers are permitted under their current collective bargaining agreements to work additional assignments once they are relieved from their court obligation,” McCarthy said.\n",
    "\n",
    "McCarthy said the department regularly audits officers’ time records to ensure compliance with internal rules and procedures, and has not found any violations recently.\n",
    "\n",
    "The generous contract provision demonstrates the union’s ability, over the years, to demand and win favorable terms in contract negotiations, observers say.\n",
    "\n",
    "“Boston police have historically earned some of the highest salaries in the country,” said Thomas Nolan, a former Boston police officer who is now a criminology professor at Merrimack College in North Andover. “There has been a history of the police obtaining [contracts] and being very successful at the bargaining table.”\n",
    "\n",
    "The department has faced questions on overtime pay before. A 2012 Globe review of officers in the drug unit found a pattern of overtime abuse by officers who were showing up to court when they were not needed. Ten officers were disciplined that year for collecting undeserved overtime pay.\n",
    "\n",
    "A year earlier, the department conducted an internal audit that examined hundreds of cases in three courthouses around the city. The review found as many as 350 instances of questionable court overtime filings by drug unit officers, and recommended a centralized electronic subpoena system that would monitor court appearances in real time. A change in the use of court overtime slips — a record of the overtime an officer worked that day — took effect immediately.\n",
    "\n",
    "Still, last year, the department paid $7.7 million in court overtime alone, down slightly from $8.6 million in 2011.\n",
    "\n",
    "Of the 20 officers whose pay or overtime ranked among the highest the Globe reviewed, utility and construction companies paid an additional $630,000 to 10 of the officers for detail shifts, department records show. Some of those companies included utilities such as Eversource, which paid roughly $4 million in Boston police details in 2016, a cost added to the bills of its customers, a company spokesman said.\n",
    "\n",
    "Public and private companies hire police officers for details, which are shifts in which officers direct traffic or provide security at construction sites or near roadwork. For construction and utility details that last more than four hours, the officer is paid for a minimum of eight hours, and then hourly after that, McCarthy said. For nonconstruction details that run beyond six hours, the officer is paid for a minimum of eight hours, followed by an hourly rate, he said.\n",
    "\n",
    "Massachusetts became one of the last states in the country to allow civilian flaggers — rather than police officers — to work at construction sites in 2008. Two years later, the Globe reported tension between the Boston Police Department and the Massachusetts Department of Transportation over the use of civilian flaggers at city construction sites overseen by the state."
   ]
  },
  {
   "cell_type": "code",
   "execution_count": 1,
   "metadata": {},
   "outputs": [],
   "source": [
    "# import modules\n",
    "import numpy as np\n",
    "import pandas as pd\n",
    "import re, os, glob\n",
    "import matplotlib.pyplot as plt\n",
    "from matplotlib import rcParams, cycler\n",
    "import seaborn as sns\n",
    "from scipy import interpolate\n",
    "\n",
    "# map functions\n",
    "import cartopy.feature as cfeature\n",
    "import cartopy.crs as ccrs\n",
    "from cartopy.io.img_tiles import OSM\n",
    "\n",
    "# statsmodels\n",
    "from statsmodels.formula.api import ols\n",
    "from statsmodels.stats.anova import anova_lm\n",
    "from statsmodels.stats.multicomp import pairwise_tukeyhsd\n",
    "\n",
    "# scikit-learn machine learning\n",
    "from sklearn.preprocessing import Normalizer, StandardScaler, normalize, scale\n",
    "from sklearn import svm, metrics\n",
    "from sklearn.linear_model import LogisticRegression, RidgeClassifier, Lasso, LinearRegression, SGDRegressor, RANSACRegressor\n",
    "from sklearn.pipeline import Pipeline, make_pipeline\n",
    "from sklearn.model_selection import GridSearchCV, train_test_split, cross_val_score, cross_val_predict, cross_validate\n",
    "from sklearn.feature_selection import SelectFromModel, SelectKBest, f_classif\n",
    "from sklearn.neighbors import KNeighborsClassifier\n",
    "from sklearn.ensemble import RandomForestClassifier\n",
    "from sklearn.tree import DecisionTreeClassifier\n",
    "from sklearn.calibration import CalibratedClassifierCV\n",
    "from sklearn.cluster import KMeans\n",
    "from sklearn.decomposition import PCA\n",
    "\n",
    "from scipy.cluster.hierarchy import linkage, dendrogram\n",
    "from skopt import BayesSearchCV\n",
    "\n",
    "\n",
    "# for graphing decision trees\n",
    "import graphviz \n",
    "from sklearn.tree import export_graphviz\n",
    "\n",
    "plt.style.use('seaborn-colorblind')\n",
    "\n",
    "# special Jupyter Notebook command to prepare the notebook for matplotlib and other libraries\n",
    "%matplotlib inline \n",
    "\n",
    "# Setup Pandas\n",
    "pd.set_option('display.width', 500)\n",
    "pd.set_option('display.max_columns', 100)\n",
    "pd.set_option('display.notebook_repr_html', True)\n",
    "\n",
    "# Setup Seaborn\n",
    "sns.set_style(\"darkgrid\")\n",
    "sns.set_context(\"notebook\")"
   ]
  },
  {
   "cell_type": "code",
   "execution_count": 2,
   "metadata": {
    "scrolled": false
   },
   "outputs": [
    {
     "name": "stdout",
     "output_type": "stream",
     "text": [
      "<class 'pandas.core.frame.DataFrame'>\n",
      "RangeIndex: 152544 entries, 0 to 152543\n",
      "Data columns (total 15 columns):\n",
      "name           152544 non-null object\n",
      "department     152544 non-null object\n",
      "title          152544 non-null object\n",
      "regular        152544 non-null float64\n",
      "retro          152544 non-null float64\n",
      "other          152544 non-null float64\n",
      "overtime       152544 non-null float64\n",
      "injured        152544 non-null float64\n",
      "detail         152544 non-null float64\n",
      "quinn          152544 non-null float64\n",
      "total          152544 non-null float64\n",
      "zip            152544 non-null object\n",
      "year           152544 non-null int64\n",
      "dept_clean     152544 non-null object\n",
      "title_clean    152544 non-null object\n",
      "dtypes: float64(8), int64(1), object(6)\n",
      "memory usage: 17.5+ MB\n"
     ]
    }
   ],
   "source": [
    "# read cleaned data file\n",
    "earnings = pd.read_csv('earnings.csv', index_col=False)\n",
    "earnings.info()"
   ]
  },
  {
   "cell_type": "markdown",
   "metadata": {},
   "source": [
    "# Classification based on job titles and departments\n",
    "\n",
    "- extract the 10 most common job titles and 10 largest departments for 2017\n",
    "- run classifiers on the numeric earnings data"
   ]
  },
  {
   "cell_type": "markdown",
   "metadata": {},
   "source": [
    "### 1. Generate top 10 lists"
   ]
  },
  {
   "cell_type": "code",
   "execution_count": 3,
   "metadata": {},
   "outputs": [
    {
     "name": "stdout",
     "output_type": "stream",
     "text": [
      "Index(['Teacher', 'Police Officer', 'Paraprofessional', 'Fire Fighter', 'Substitute Teacher', 'Lunch Hour Monitors', 'Part-Time Cafeteria Attendant', 'Cab Monitor', 'Police Detective', 'Police Sergeant'], dtype='object', name='title_clean')\n",
      "Index(['Boston Public Schools', 'Boston Police Department', 'Boston Fire Department', 'Boston Cntr - Youth & Families', 'Boston Public Library', 'Public Works Department', 'Traffic Division', 'Parks Department', 'Inspectional Services Dept', 'Public Facilities Department'], dtype='object', name='dept_clean')\n"
     ]
    }
   ],
   "source": [
    "\"\"\"\n",
    "There are more than one thousand unique job titles for less than 20,000 employees in the city of Boston earnings database. \n",
    "Any meaningful classification of job titles will need to be limited. \n",
    "\n",
    "Likewise, of the more than 50 departments, some have only a handful of employees. For classification purposes the dataset\n",
    "will be limited to the top 10 titles and departments.\n",
    "\"\"\"\n",
    "# get top 10 titles by number of employees\n",
    "titles_top10 = earnings\\\n",
    "                .groupby('title_clean')\\\n",
    "                .agg('size')\\\n",
    "                .sort_values(ascending=False)\\\n",
    "                .index[:10]\n",
    "\n",
    "# get top 10 departments by number of employees\n",
    "\n",
    "departments_top10 = earnings\\\n",
    "                .groupby('dept_clean')\\\n",
    "                .agg('size')\\\n",
    "                .sort_values(ascending=False)\\\n",
    "                .index[:10]\n",
    "print(titles_top10)\n",
    "print(departments_top10)"
   ]
  },
  {
   "cell_type": "code",
   "execution_count": 4,
   "metadata": {},
   "outputs": [
    {
     "data": {
      "image/png": "[encoded data removed]",
      "text/plain": [
       "<Figure size 432x288 with 1 Axes>"
      ]
     },
     "metadata": {},
     "output_type": "display_data"
    }
   ],
   "source": [
    "# top 10 titles and departments employees in 2017\n",
    "\n",
    "# Number of employees in 2017\n",
    "emp_2017 = earnings[earnings.year == 2017].shape[0]\n",
    "\n",
    "# Employees with top 10 titles\n",
    "emp_titles = earnings[earnings['title_clean'].isin(titles_top10) & (earnings.year == 2017)].shape[0]\n",
    "\n",
    "# Employees in top 10 departments\n",
    "emp_dept = earnings[earnings['dept_clean'].isin(departments_top10) & (earnings.year == 2017)].shape[0] \n",
    "\n",
    "data = {'Total Employees in 2017': emp_2017, 'Employees with top 10 job titles': emp_titles, 'Employees in top 10 departments': emp_dept}\n",
    "category = list(data.keys())\n",
    "employees = list(data.values())\n",
    "\n",
    "plt.barh(category, employees, color=['darkgreen', 'mediumseagreen', 'lightgreen'])\n",
    "plt.gca().invert_yaxis()\n",
    "plt.title('Employees by Filter')\n",
    "plt.xlabel('Number of Employees in 2017')\n",
    "plt.show()"
   ]
  },
  {
   "cell_type": "markdown",
   "metadata": {},
   "source": [
    "### 2. Regression: Predict total earnings\n",
    "\n",
    "This is a trivial exercise since \"total\" is the sum of all other numerical columns."
   ]
  },
  {
   "cell_type": "code",
   "execution_count": 7,
   "metadata": {},
   "outputs": [],
   "source": [
    "# data for linear regression:\n",
    "\n",
    "top10_t = earnings[(earnings['title_clean'].isin(titles_top10)) & (earnings['year'] == 2017)]\n",
    "\n",
    "# remove non-numeric columns as well as \"total\" and \"quinn\"\n",
    "X_lm = top10_t.drop(['name', 'department', 'title', 'quinn', 'total', 'zip', 'year', 'title_clean', 'dept_clean'], axis=1)\n",
    "\n",
    "y_lm = top10_t['total']\n",
    "\n",
    "# split into training and test datasets\n",
    "X_lm_train, X_lm_test, y_lm_train, y_lm_test = train_test_split(X_lm, y_lm, test_size=0.2, random_state=26)"
   ]
  },
  {
   "cell_type": "code",
   "execution_count": 8,
   "metadata": {},
   "outputs": [
    {
     "data": {
      "image/png": "[encoded data removed]",
      "text/plain": [
       "<Figure size 432x288 with 2 Axes>"
      ]
     },
     "metadata": {},
     "output_type": "display_data"
    }
   ],
   "source": [
    "# heat map for identification of correlated data\n",
    "sns.heatmap(X_lm.corr(), square=True, annot=True, cmap='RdYlGn')\n",
    "plt.show()"
   ]
  },
  {
   "cell_type": "markdown",
   "metadata": {},
   "source": [
    "The heat map above shows mostly red hues in the off-diagonal squares. This indicates low correlation between most of the earnings categories. Only \"overtime\" and \"retro\" show a green hue, suggesting that employees who collect overtime and more likely to collect retro earnings than those who don't."
   ]
  },
  {
   "cell_type": "code",
   "execution_count": 9,
   "metadata": {},
   "outputs": [
    {
     "name": "stdout",
     "output_type": "stream",
     "text": [
      "   features  estimatedCoefficients\n",
      "0   regular               1.005860\n",
      "1     retro               1.564228\n",
      "2     other               1.051744\n",
      "3  overtime               1.085879\n",
      "4   injured               1.053268\n",
      "5    detail               1.055482\n",
      "The linear regression model explains 99.50% of the \"total\" earnings category prediction variance.\n"
     ]
    }
   ],
   "source": [
    "# Linear Regression\n",
    "lm = LinearRegression()\n",
    "\n",
    "# Fit the regressor to the data\n",
    "lm.fit(X_lm_train, y_lm_train)\n",
    "\n",
    "print(pd.DataFrame(data={'features': X_lm.columns , 'estimatedCoefficients': list(lm.coef_)})\\\n",
    "      [['features', 'estimatedCoefficients']])\n",
    "\n",
    "r_sq = lm.score(X_lm_test, y_lm_test)\n",
    "print('The linear regression model explains {:.2f}% of the \"total\" earnings category prediction variance.'.format(r_sq*100))"
   ]
  },
  {
   "cell_type": "markdown",
   "metadata": {},
   "source": [
    "Unsurprisingly, the linear regression model has an R-squared of almost 100%. This is an obvious result since the \"total\" is the numerical sum of the independent variables (Note that \"quinn\" earnings are removed from this dataset)."
   ]
  },
  {
   "cell_type": "code",
   "execution_count": 10,
   "metadata": {},
   "outputs": [
    {
     "data": {
      "image/png": "[encoded data removed]",
      "text/plain": [
       "<Figure size 432x288 with 1 Axes>"
      ]
     },
     "metadata": {},
     "output_type": "display_data"
    },
    {
     "name": "stdout",
     "output_type": "stream",
     "text": [
      "The linear regression model explains 99.50% of the job title prediction variance.\n"
     ]
    }
   ],
   "source": [
    "# Instantiate a lasso regressor: lasso\n",
    "lasso = Lasso(alpha=0.4, normalize=True)\n",
    "\n",
    "# Fit the regressor to the data\n",
    "lasso.fit(X_lm_train, y_lm_train)\n",
    "\n",
    "# Compute and print the coefficients\n",
    "lasso_coef = lasso.coef_\n",
    "\n",
    "# Plot the coefficients\n",
    "plt.plot(range(len(X_lm.columns)), lasso_coef)\n",
    "plt.xticks(range(len(X_lm.columns)), X_lm.columns.values, rotation=60)\n",
    "plt.margins(0.02)\n",
    "plt.show()\n",
    "\n",
    "r_sq = lasso.score(X_lm_test, y_lm_test)\n",
    "print('The linear regression model explains {:.2f}% of the job title prediction variance.'.format(r_sq*100))"
   ]
  },
  {
   "cell_type": "markdown",
   "metadata": {},
   "source": [
    "\"retro\" is the most important coefficient for the prediction of total earnings."
   ]
  },
  {
   "cell_type": "code",
   "execution_count": 11,
   "metadata": {},
   "outputs": [
    {
     "name": "stdout",
     "output_type": "stream",
     "text": [
      "   features  estimatedCoefficients\n",
      "0  overtime               1.194063\n",
      "1     retro               1.230856\n",
      "The linear regression model explains 46.07% of the \"total\" earnings category prediction variance.\n"
     ]
    }
   ],
   "source": [
    "# only \"overtime\" and \"retro\"\n",
    "X_or = top10_t[['overtime', 'retro']][(top10_t['overtime'] != 0) & (top10_t['retro'] != 0)]\n",
    "\n",
    "y_or = top10_t['total'][(top10_t['overtime'] != 0) & (top10_t['retro'] != 0)]\n",
    "\n",
    "# split into training and test datasets\n",
    "X_or_train, X_or_test, y_or_train, y_or_test = train_test_split(X_or, y_or, test_size=0.2, random_state=26)\n",
    "\n",
    "# Fit the regressor to the data\n",
    "lm.fit(X_or_train, y_or_train)\n",
    "\n",
    "print(pd.DataFrame(data={'features': X_or.columns , 'estimatedCoefficients': list(lm.coef_)})\\\n",
    "      [['features', 'estimatedCoefficients']])\n",
    "\n",
    "r_sq = lm.score(X_or_test, y_or_test)\n",
    "print('The linear regression model explains {:.2f}% of the \"total\" earnings category prediction variance.'.format(r_sq*100))"
   ]
  },
  {
   "cell_type": "markdown",
   "metadata": {},
   "source": [
    "### 3. Cluster Analysis"
   ]
  },
  {
   "cell_type": "code",
   "execution_count": 12,
   "metadata": {},
   "outputs": [],
   "source": [
    "# KMeans\n",
    "kmeans = KMeans(n_clusters=10)\n",
    "labels = kmeans.fit_predict(X_lm)"
   ]
  },
  {
   "cell_type": "code",
   "execution_count": 13,
   "metadata": {},
   "outputs": [
    {
     "data": {
      "image/png": "[encoded data removed]",
      "text/plain": [
       "<Figure size 432x288 with 2 Axes>"
      ]
     },
     "metadata": {},
     "output_type": "display_data"
    },
    {
     "data": {
      "image/png": "[encoded data removed]",
      "text/plain": [
       "<Figure size 432x288 with 1 Axes>"
      ]
     },
     "metadata": {},
     "output_type": "display_data"
    },
    {
     "data": {
      "image/png": "[encoded data removed]",
      "text/plain": [
       "<Figure size 432x288 with 1 Axes>"
      ]
     },
     "metadata": {},
     "output_type": "display_data"
    }
   ],
   "source": [
    "# reduce to two dimensions\n",
    "pca = PCA(n_components=2)\n",
    "\n",
    "components = pca.fit_transform(X_lm)\n",
    "\n",
    "y_lm = top10_t['title_clean']\n",
    "\n",
    "# add to data frame and plot\n",
    "df_pca = pd.DataFrame({'title': y_lm, 'cluster_id': labels, 'x': components[:,0], 'y': components[:,1]})\\\n",
    "            .plot.scatter('x', 'y', c='cluster_id', cmap=plt.cm.get_cmap('viridis', 10), sharex=False, title='10 Clusters')\n",
    "\n",
    "plt.show()\n",
    "\n",
    "features = range(pca.n_components_)\n",
    "plt.bar(features, pca.explained_variance_)\n",
    "plt.xticks(features)\n",
    "plt.ylabel('variance')\n",
    "plt.xlabel('PCA feature')\n",
    "plt.show()\n",
    "\n",
    "mergings = linkage(X_lm, method='complete')\n",
    "dendrogram(mergings, p=5, truncate_mode='level')\n",
    "plt.show()"
   ]
  },
  {
   "cell_type": "code",
   "execution_count": 15,
   "metadata": {},
   "outputs": [
    {
     "data": {
      "image/png": "[encoded data removed]",
      "text/plain": [
       "<Figure size 720x720 with 4 Axes>"
      ]
     },
     "metadata": {},
     "output_type": "display_data"
    }
   ],
   "source": [
    "sns.clustermap(X_lm, metric=\"euclidean\", standard_scale=1)\n",
    "plt.show()"
   ]
  },
  {
   "cell_type": "markdown",
   "metadata": {},
   "source": [
    "Principal component analysis with cluster labels from a KMeans classfier show no clear boundaries between points. This suggests that job titles can not be predicted by the earnings data with sufficient accuracy. Likewise, it is difficult to identify an appropriate cutoff value for a dendrogram such that exactly 10 clusters (= job titles) are generated."
   ]
  },
  {
   "cell_type": "markdown",
   "metadata": {},
   "source": [
    "### 4. Classification by job title"
   ]
  },
  {
   "cell_type": "code",
   "execution_count": 16,
   "metadata": {},
   "outputs": [
    {
     "data": {
      "text/plain": [
       "3429"
      ]
     },
     "execution_count": 16,
     "metadata": {},
     "output_type": "execute_result"
    }
   ],
   "source": [
    "# data for classifiers:\n",
    "\n",
    "# remove non-numeric columns as well as \"total\" and \"quinn\"\n",
    "X = top10_t.drop(['name', 'department', 'title', 'total', 'zip', 'year', 'title_clean', 'dept_clean'], axis=1)\n",
    "y = top10_t['title_clean']\n",
    "\n",
    "# split into training and test datasets\n",
    "X_train, X_test, y_train, y_test = train_test_split(X, y, test_size=0.3, random_state=26)\n",
    "y_test.shape[0]"
   ]
  },
  {
   "cell_type": "code",
   "execution_count": 17,
   "metadata": {},
   "outputs": [
    {
     "name": "stdout",
     "output_type": "stream",
     "text": [
      "The ridge classifier correctly identifies 59.26% of the job titles.\n"
     ]
    }
   ],
   "source": [
    "# Instantiate a RidgeClassifier:\n",
    "rclf = RidgeClassifier(alpha=0.01, normalize=True)\n",
    "\n",
    "# Fit the regressor to the data\n",
    "rclf.fit(X_train, y_train)\n",
    "\n",
    "# Compute and print the coefficients\n",
    "rclf_coef = rclf.coef_\n",
    "\n",
    "r_sq = rclf.score(X_test, y_test)\n",
    "print('The ridge classifier correctly identifies {:.2f}% of the job titles.'.format(r_sq*100))"
   ]
  },
  {
   "cell_type": "code",
   "execution_count": 18,
   "metadata": {},
   "outputs": [
    {
     "name": "stdout",
     "output_type": "stream",
     "text": [
      "Test set score: 0.78\n",
      "Confusion Matrix:\n",
      "                               0     1   2    3  4    5     6    7    8     9  count  score\n",
      "Cab Monitor                    0     0  11  233  0    0     0    0   54     8    306   0.00\n",
      "Fire Fighter                   0  1049   1    3  0    0    22    2    2    45   1124  93.33\n",
      "Lunch Hour Monitors            0     0  10   34  0    0     0    0  314     2    360   2.78\n",
      "Paraprofessional               0     1  51  996  0    0     0    0   88    79   1215  81.98\n",
      "Part-Time Cafeteria Attendant  0     0  61  158  0    0     0    0   65    50    334   0.00\n",
      "Police Detective               0     0   0    0  0  178   115    0    4     1    298  59.73\n",
      "Police Officer                 0    11   4   90  0   27  1423    0   54     7   1616  88.06\n",
      "Police Sergeant                0    12   0    0  0    7    31  241    1     7    299  80.60\n",
      "Substitute Teacher             0     0  18   87  0    0     0    0  325    11    441  73.70\n",
      "Teacher                        0     4  15  647  0    0     0    0   83  4688   5437  86.22\n",
      "Accuracy: 0.77 (+/- 0.27)\n"
     ]
    },
    {
     "data": {
      "image/png": "[encoded data removed]",
      "text/plain": [
       "<Figure size 432x288 with 1 Axes>"
      ]
     },
     "metadata": {},
     "output_type": "display_data"
    }
   ],
   "source": [
    "# support vector classifier\n",
    "\n",
    "steps = [('scaler', StandardScaler()), ('clf', svm.SVC())]\n",
    "pipeline = Pipeline(steps)\n",
    "pipeline.fit(X_train, y_train)\n",
    "pipeline.score(X_test, y_test)\n",
    "\n",
    "# metrics:\n",
    "print('Test set score: {:.2f}'.format(pipeline.score(X_test, y_test)))\n",
    "\n",
    "pred = pipeline.predict(X)\n",
    "# a2 = metrics.accuracy_score(y_test, pred)\n",
    "# print('Accuracy:', a2)\n",
    "print('Confusion Matrix:')\n",
    "cm = pd.DataFrame(metrics.confusion_matrix(y, pred)).set_index(np.sort(top10_t['title_clean'].unique()))\n",
    "cm['count'] = cm.sum(axis=1)\n",
    "cm['score'] = 0\n",
    "for row in range(10):\n",
    "    cm.iloc[row, 11] = round(cm.iloc[row, row] / cm.iloc[row, 10] * 100, 2)\n",
    "print(cm)\n",
    "cv_scores = cross_val_score(pipeline, X, y, cv=10)\n",
    "print(\"Accuracy: %0.2f (+/- %0.2f)\" % (cv_scores.mean(), cv_scores.std() * 2))\n",
    "cm.plot.scatter('count', 'score')\n",
    "plt.show()\n"
   ]
  },
  {
   "cell_type": "markdown",
   "metadata": {},
   "source": [
    "After scaling the independent variables, the SVC classifier correctly predicts the job title approximately 77% of the time. The most accurate predictions are for fire fighters and police officers. The least accurate predictions are for cab monitors and lunch hour monitors. The latter two jobs have a low count and are not full time positions, therefore most of the features are empty, i.e. \"0\". "
   ]
  },
  {
   "cell_type": "code",
   "execution_count": 19,
   "metadata": {
    "scrolled": false
   },
   "outputs": [
    {
     "data": {
      "image/png": "[encoded data removed]",
      "text/plain": [
       "<Figure size 432x288 with 2 Axes>"
      ]
     },
     "metadata": {},
     "output_type": "display_data"
    }
   ],
   "source": [
    "# Observation density map\n",
    "\n",
    "feature_matrix = top10_t[['name', 'regular', 'retro', 'other', 'overtime', 'injured', 'detail', 'quinn', 'title_clean']] \\\n",
    "                        .groupby('title_clean') \\\n",
    "                        .apply(lambda x: (x != 0).sum())\\\n",
    "                        .apply(lambda y: (y/y['name']*100).astype(int), axis=1)\\\n",
    "                        .drop(['name', 'title_clean'], axis=1)\n",
    "sns.heatmap(feature_matrix, annot=True, cmap='viridis')\n",
    "plt.title('Observation density map')\n",
    "plt.show()"
   ]
  },
  {
   "cell_type": "markdown",
   "metadata": {},
   "source": [
    "The heatmap above shows the percentage of entries which greater than zero for a given feature, i.e. earnings category. For example, at least 95% of observations for any title have non-zero \"regular\" entries, but no more than 27% of observations for any title have entries for the \"injured\" category. \n",
    "\n",
    "From this map and the confusion matrix above we can conclude that classification will be very difficult for the following job titles due to low number of feature/observation combinations:\n",
    "\n",
    "* Cab Monitor\n",
    "* Lunch Hour Monitors\n",
    "* Paraprofessional\n",
    "* Part-Time Cafeteria Attendant\n",
    "* Substitute Teacher\n",
    "\n",
    "The \"Teacher\" title should probably be excluded as well, but this is by far the largest group of observations.\n",
    "\n",
    "We can also conclude that the \"injured\" feature is unlikely to have much impact and could be excluded with little loss of accuracy.\n",
    "\n",
    "Lastly the confusion matrix shows substantial error for \"Police Detectives\", classifying this title as \"Police Officer\" in more than one-third of cases. An internet search found that a police detective is considered a police officer who performs detective work. In terms of earnings there is little difference and the two titles should be merged."
   ]
  },
  {
   "cell_type": "code",
   "execution_count": 20,
   "metadata": {},
   "outputs": [
    {
     "data": {
      "image/png": "[encoded data removed]",
      "text/plain": [
       "<Figure size 432x288 with 2 Axes>"
      ]
     },
     "metadata": {},
     "output_type": "display_data"
    },
    {
     "name": "stdout",
     "output_type": "stream",
     "text": [
      "Confusion Matrix:\n",
      "                    0     1    2     3  count   score\n",
      "Fire Fighter     1030     8    2    84   1124   91.64\n",
      "Police Officer      6  1727    0   181   1914   90.23\n",
      "Police Sergeant    11    33  247     8    299   82.61\n",
      "Teacher             0     0    0  5437   5437  100.00\n",
      "Accuracy: 0.955 (+/- 0.079)\n"
     ]
    },
    {
     "data": {
      "image/png": "[encoded data removed]",
      "text/plain": [
       "<Figure size 432x288 with 1 Axes>"
      ]
     },
     "metadata": {},
     "output_type": "display_data"
    }
   ],
   "source": [
    "# re-run pipeline with reduced dataset:\n",
    "new_titles = ['Fire Fighter', 'Police Detective', 'Police Officer', 'Police Sergeant', 'Teacher']\n",
    "\n",
    "top10_new = top10_t[['name','regular', 'retro', 'other', 'overtime', 'detail', 'quinn', 'title_clean', 'dept_clean']] \\\n",
    "                    [top10_t['title_clean'].isin(new_titles)]\n",
    "    \n",
    "# merge detectives and police officers    \n",
    "top10_new['title_clean'].replace({'Police Detective': 'Police Officer'}, inplace=True)\n",
    "\n",
    "# Observation density map\n",
    "feature_matrix = top10_new.groupby('title_clean') \\\n",
    "                        .apply(lambda x: (x != 0).sum())\\\n",
    "                        .apply(lambda y: (y/y['name']*100).astype(int), axis=1)\\\n",
    "                        .drop(['name', 'title_clean', 'dept_clean'], axis=1)\n",
    "sns.heatmap(feature_matrix, annot=True, cmap='viridis')\n",
    "plt.title('Observation density map')\n",
    "plt.show()\n",
    "\n",
    "# define classification data\n",
    "X = top10_new.drop(['name', 'title_clean', 'dept_clean'], axis=1)\n",
    "y = top10_new['title_clean']\n",
    "\n",
    "# fit the pipeline\n",
    "pipeline.fit(X, y)\n",
    "pred = pipeline.predict(X)\n",
    "\n",
    "# metrics:\n",
    "print('Confusion Matrix:')\n",
    "cm = pd.DataFrame(metrics.confusion_matrix(y, pred)).set_index(np.sort(top10_new['title_clean'].unique()))\n",
    "cm['count'] = cm.sum(axis=1)\n",
    "cm['score'] = 0\n",
    "for row in range(4):\n",
    "    cm.iloc[row, 5] = round(cm.iloc[row, row] / cm.iloc[row, 4] * 100, 2)\n",
    "print(cm)\n",
    "cv_scores = cross_val_score(pipeline, X, y, cv=10)\n",
    "print(\"Accuracy: %0.3f (+/- %0.3f)\" % (cv_scores.mean(), cv_scores.std() * 2))\n",
    "cm.plot.scatter('count', 'score')\n",
    "plt.show()\n"
   ]
  },
  {
   "cell_type": "markdown",
   "metadata": {},
   "source": [
    "The revised results show that classification accuracy is closely correlated with the number of employees (or observations). The accuracy is 96% before optimization and cross validation."
   ]
  },
  {
   "cell_type": "code",
   "execution_count": null,
   "metadata": {},
   "outputs": [],
   "source": [
    "# hyper-parameter tuning\n",
    "\n",
    "X_train, X_test, y_train, y_test = train_test_split(X, y, test_size=0.4, random_state=26)\n",
    "\n",
    "param_grid = {'C': [0.001, 0.1, 1, 10],\n",
    "              'gamma': [0.0001, 0.001, 0.01, 0.1]}\n",
    "\n",
    "gs = GridSearchCV(svm.SVC(), param_grid, cv=5)\n",
    "gs.fit(X_train, y_train)\n",
    "print(gs.best_params_)\n",
    "print(gs.best_score_)\n",
    "# cv_scores = cross_val_score(lrc, X, y, cv=10, scoring='roc_auc')\n",
    "# print('mean cv score:', np.mean(cv_scores), '\\n')\n"
   ]
  },
  {
   "cell_type": "code",
   "execution_count": null,
   "metadata": {},
   "outputs": [],
   "source": [
    "from skopt import BayesSearchCV\n",
    "\n",
    "X_train, X_test, y_train, y_test = train_test_split(X, y, test_size=0.4, random_state=26)\n",
    "\n",
    "# log-uniform: understand as search over p = exp(x) by varying x\n",
    "opt = BayesSearchCV(\n",
    "    svm.SVC(),\n",
    "    {\n",
    "        'C': (1e-3, 1e+3, 'log-uniform'),  \n",
    "        'gamma': (1e-3, 1e+1, 'log-uniform'),\n",
    "#         'degree': (3, 5),  # integer valued parameter\n",
    "        'kernel': ['linear', 'rbf'],  # categorical parameter  , 'poly'\n",
    "    },\n",
    "    n_iter=6\n",
    ")\n",
    "\n",
    "opt.fit(X_train, y_train)\n",
    "\n",
    "print(\"Parameters: \", opt.best_params_)\n",
    "print(\"val. score: %s\" % opt.best_score_)\n",
    "print(\"test score: %s\" % opt.score(X_test, y_test))"
   ]
  },
  {
   "cell_type": "code",
   "execution_count": 22,
   "metadata": {},
   "outputs": [
    {
     "ename": "KeyboardInterrupt",
     "evalue": "",
     "output_type": "error",
     "traceback": [
      "\u001b[1;31m---------------------------------------------------------------------------\u001b[0m",
      "\u001b[1;31mKeyboardInterrupt\u001b[0m                         Traceback (most recent call last)",
      "\u001b[1;32m<ipython-input-22-c0e1795514f2>\u001b[0m in \u001b[0;36m<module>\u001b[1;34m()\u001b[0m\n\u001b[0;32m      6\u001b[0m \u001b[0mpipeline\u001b[0m\u001b[1;33m.\u001b[0m\u001b[0mfit\u001b[0m\u001b[1;33m(\u001b[0m\u001b[0mX_train\u001b[0m\u001b[1;33m,\u001b[0m \u001b[0my_train\u001b[0m\u001b[1;33m)\u001b[0m\u001b[1;33m\u001b[0m\u001b[0m\n\u001b[0;32m      7\u001b[0m \u001b[0mpipeline\u001b[0m\u001b[1;33m.\u001b[0m\u001b[0mscore\u001b[0m\u001b[1;33m(\u001b[0m\u001b[0mX_test\u001b[0m\u001b[1;33m,\u001b[0m \u001b[0my_test\u001b[0m\u001b[1;33m)\u001b[0m\u001b[1;33m\u001b[0m\u001b[0m\n\u001b[1;32m----> 8\u001b[1;33m \u001b[0mcv_scores\u001b[0m \u001b[1;33m=\u001b[0m \u001b[0mcross_val_score\u001b[0m\u001b[1;33m(\u001b[0m\u001b[0mpipeline\u001b[0m\u001b[1;33m,\u001b[0m \u001b[0mX_test\u001b[0m\u001b[1;33m,\u001b[0m \u001b[0my_test\u001b[0m\u001b[1;33m,\u001b[0m \u001b[0mcv\u001b[0m\u001b[1;33m=\u001b[0m\u001b[1;36m5\u001b[0m\u001b[1;33m)\u001b[0m\u001b[1;33m\u001b[0m\u001b[0m\n\u001b[0m\u001b[0;32m      9\u001b[0m \u001b[0mprint\u001b[0m\u001b[1;33m(\u001b[0m\u001b[1;34m\"Accuracy: %0.3f (+/- %0.3f)\"\u001b[0m \u001b[1;33m%\u001b[0m \u001b[1;33m(\u001b[0m\u001b[0mcv_scores\u001b[0m\u001b[1;33m.\u001b[0m\u001b[0mmean\u001b[0m\u001b[1;33m(\u001b[0m\u001b[1;33m)\u001b[0m\u001b[1;33m,\u001b[0m \u001b[0mcv_scores\u001b[0m\u001b[1;33m.\u001b[0m\u001b[0mstd\u001b[0m\u001b[1;33m(\u001b[0m\u001b[1;33m)\u001b[0m \u001b[1;33m*\u001b[0m \u001b[1;36m2\u001b[0m\u001b[1;33m)\u001b[0m\u001b[1;33m)\u001b[0m\u001b[1;33m\u001b[0m\u001b[0m\n",
      "\u001b[1;32m~\\Anaconda3\\lib\\site-packages\\sklearn\\model_selection\\_validation.py\u001b[0m in \u001b[0;36mcross_val_score\u001b[1;34m(estimator, X, y, groups, scoring, cv, n_jobs, verbose, fit_params, pre_dispatch)\u001b[0m\n\u001b[0;32m    340\u001b[0m                                 \u001b[0mn_jobs\u001b[0m\u001b[1;33m=\u001b[0m\u001b[0mn_jobs\u001b[0m\u001b[1;33m,\u001b[0m \u001b[0mverbose\u001b[0m\u001b[1;33m=\u001b[0m\u001b[0mverbose\u001b[0m\u001b[1;33m,\u001b[0m\u001b[1;33m\u001b[0m\u001b[0m\n\u001b[0;32m    341\u001b[0m                                 \u001b[0mfit_params\u001b[0m\u001b[1;33m=\u001b[0m\u001b[0mfit_params\u001b[0m\u001b[1;33m,\u001b[0m\u001b[1;33m\u001b[0m\u001b[0m\n\u001b[1;32m--> 342\u001b[1;33m                                 pre_dispatch=pre_dispatch)\n\u001b[0m\u001b[0;32m    343\u001b[0m     \u001b[1;32mreturn\u001b[0m \u001b[0mcv_results\u001b[0m\u001b[1;33m[\u001b[0m\u001b[1;34m'test_score'\u001b[0m\u001b[1;33m]\u001b[0m\u001b[1;33m\u001b[0m\u001b[0m\n\u001b[0;32m    344\u001b[0m \u001b[1;33m\u001b[0m\u001b[0m\n",
      "\u001b[1;32m~\\Anaconda3\\lib\\site-packages\\sklearn\\model_selection\\_validation.py\u001b[0m in \u001b[0;36mcross_validate\u001b[1;34m(estimator, X, y, groups, scoring, cv, n_jobs, verbose, fit_params, pre_dispatch, return_train_score)\u001b[0m\n\u001b[0;32m    204\u001b[0m             \u001b[0mfit_params\u001b[0m\u001b[1;33m,\u001b[0m \u001b[0mreturn_train_score\u001b[0m\u001b[1;33m=\u001b[0m\u001b[0mreturn_train_score\u001b[0m\u001b[1;33m,\u001b[0m\u001b[1;33m\u001b[0m\u001b[0m\n\u001b[0;32m    205\u001b[0m             return_times=True)\n\u001b[1;32m--> 206\u001b[1;33m         for train, test in cv.split(X, y, groups))\n\u001b[0m\u001b[0;32m    207\u001b[0m \u001b[1;33m\u001b[0m\u001b[0m\n\u001b[0;32m    208\u001b[0m     \u001b[1;32mif\u001b[0m \u001b[0mreturn_train_score\u001b[0m\u001b[1;33m:\u001b[0m\u001b[1;33m\u001b[0m\u001b[0m\n",
      "\u001b[1;32m~\\Anaconda3\\lib\\site-packages\\sklearn\\externals\\joblib\\parallel.py\u001b[0m in \u001b[0;36m__call__\u001b[1;34m(self, iterable)\u001b[0m\n\u001b[0;32m    777\u001b[0m             \u001b[1;31m# was dispatched. In particular this covers the edge\u001b[0m\u001b[1;33m\u001b[0m\u001b[1;33m\u001b[0m\u001b[0m\n\u001b[0;32m    778\u001b[0m             \u001b[1;31m# case of Parallel used with an exhausted iterator.\u001b[0m\u001b[1;33m\u001b[0m\u001b[1;33m\u001b[0m\u001b[0m\n\u001b[1;32m--> 779\u001b[1;33m             \u001b[1;32mwhile\u001b[0m \u001b[0mself\u001b[0m\u001b[1;33m.\u001b[0m\u001b[0mdispatch_one_batch\u001b[0m\u001b[1;33m(\u001b[0m\u001b[0miterator\u001b[0m\u001b[1;33m)\u001b[0m\u001b[1;33m:\u001b[0m\u001b[1;33m\u001b[0m\u001b[0m\n\u001b[0m\u001b[0;32m    780\u001b[0m                 \u001b[0mself\u001b[0m\u001b[1;33m.\u001b[0m\u001b[0m_iterating\u001b[0m \u001b[1;33m=\u001b[0m \u001b[1;32mTrue\u001b[0m\u001b[1;33m\u001b[0m\u001b[0m\n\u001b[0;32m    781\u001b[0m             \u001b[1;32melse\u001b[0m\u001b[1;33m:\u001b[0m\u001b[1;33m\u001b[0m\u001b[0m\n",
      "\u001b[1;32m~\\Anaconda3\\lib\\site-packages\\sklearn\\externals\\joblib\\parallel.py\u001b[0m in \u001b[0;36mdispatch_one_batch\u001b[1;34m(self, iterator)\u001b[0m\n\u001b[0;32m    623\u001b[0m                 \u001b[1;32mreturn\u001b[0m \u001b[1;32mFalse\u001b[0m\u001b[1;33m\u001b[0m\u001b[0m\n\u001b[0;32m    624\u001b[0m             \u001b[1;32melse\u001b[0m\u001b[1;33m:\u001b[0m\u001b[1;33m\u001b[0m\u001b[0m\n\u001b[1;32m--> 625\u001b[1;33m                 \u001b[0mself\u001b[0m\u001b[1;33m.\u001b[0m\u001b[0m_dispatch\u001b[0m\u001b[1;33m(\u001b[0m\u001b[0mtasks\u001b[0m\u001b[1;33m)\u001b[0m\u001b[1;33m\u001b[0m\u001b[0m\n\u001b[0m\u001b[0;32m    626\u001b[0m                 \u001b[1;32mreturn\u001b[0m \u001b[1;32mTrue\u001b[0m\u001b[1;33m\u001b[0m\u001b[0m\n\u001b[0;32m    627\u001b[0m \u001b[1;33m\u001b[0m\u001b[0m\n",
      "\u001b[1;32m~\\Anaconda3\\lib\\site-packages\\sklearn\\externals\\joblib\\parallel.py\u001b[0m in \u001b[0;36m_dispatch\u001b[1;34m(self, batch)\u001b[0m\n\u001b[0;32m    586\u001b[0m         \u001b[0mdispatch_timestamp\u001b[0m \u001b[1;33m=\u001b[0m \u001b[0mtime\u001b[0m\u001b[1;33m.\u001b[0m\u001b[0mtime\u001b[0m\u001b[1;33m(\u001b[0m\u001b[1;33m)\u001b[0m\u001b[1;33m\u001b[0m\u001b[0m\n\u001b[0;32m    587\u001b[0m         \u001b[0mcb\u001b[0m \u001b[1;33m=\u001b[0m \u001b[0mBatchCompletionCallBack\u001b[0m\u001b[1;33m(\u001b[0m\u001b[0mdispatch_timestamp\u001b[0m\u001b[1;33m,\u001b[0m \u001b[0mlen\u001b[0m\u001b[1;33m(\u001b[0m\u001b[0mbatch\u001b[0m\u001b[1;33m)\u001b[0m\u001b[1;33m,\u001b[0m \u001b[0mself\u001b[0m\u001b[1;33m)\u001b[0m\u001b[1;33m\u001b[0m\u001b[0m\n\u001b[1;32m--> 588\u001b[1;33m         \u001b[0mjob\u001b[0m \u001b[1;33m=\u001b[0m \u001b[0mself\u001b[0m\u001b[1;33m.\u001b[0m\u001b[0m_backend\u001b[0m\u001b[1;33m.\u001b[0m\u001b[0mapply_async\u001b[0m\u001b[1;33m(\u001b[0m\u001b[0mbatch\u001b[0m\u001b[1;33m,\u001b[0m \u001b[0mcallback\u001b[0m\u001b[1;33m=\u001b[0m\u001b[0mcb\u001b[0m\u001b[1;33m)\u001b[0m\u001b[1;33m\u001b[0m\u001b[0m\n\u001b[0m\u001b[0;32m    589\u001b[0m         \u001b[0mself\u001b[0m\u001b[1;33m.\u001b[0m\u001b[0m_jobs\u001b[0m\u001b[1;33m.\u001b[0m\u001b[0mappend\u001b[0m\u001b[1;33m(\u001b[0m\u001b[0mjob\u001b[0m\u001b[1;33m)\u001b[0m\u001b[1;33m\u001b[0m\u001b[0m\n\u001b[0;32m    590\u001b[0m \u001b[1;33m\u001b[0m\u001b[0m\n",
      "\u001b[1;32m~\\Anaconda3\\lib\\site-packages\\sklearn\\externals\\joblib\\_parallel_backends.py\u001b[0m in \u001b[0;36mapply_async\u001b[1;34m(self, func, callback)\u001b[0m\n\u001b[0;32m    109\u001b[0m     \u001b[1;32mdef\u001b[0m \u001b[0mapply_async\u001b[0m\u001b[1;33m(\u001b[0m\u001b[0mself\u001b[0m\u001b[1;33m,\u001b[0m \u001b[0mfunc\u001b[0m\u001b[1;33m,\u001b[0m \u001b[0mcallback\u001b[0m\u001b[1;33m=\u001b[0m\u001b[1;32mNone\u001b[0m\u001b[1;33m)\u001b[0m\u001b[1;33m:\u001b[0m\u001b[1;33m\u001b[0m\u001b[0m\n\u001b[0;32m    110\u001b[0m         \u001b[1;34m\"\"\"Schedule a func to be run\"\"\"\u001b[0m\u001b[1;33m\u001b[0m\u001b[0m\n\u001b[1;32m--> 111\u001b[1;33m         \u001b[0mresult\u001b[0m \u001b[1;33m=\u001b[0m \u001b[0mImmediateResult\u001b[0m\u001b[1;33m(\u001b[0m\u001b[0mfunc\u001b[0m\u001b[1;33m)\u001b[0m\u001b[1;33m\u001b[0m\u001b[0m\n\u001b[0m\u001b[0;32m    112\u001b[0m         \u001b[1;32mif\u001b[0m \u001b[0mcallback\u001b[0m\u001b[1;33m:\u001b[0m\u001b[1;33m\u001b[0m\u001b[0m\n\u001b[0;32m    113\u001b[0m             \u001b[0mcallback\u001b[0m\u001b[1;33m(\u001b[0m\u001b[0mresult\u001b[0m\u001b[1;33m)\u001b[0m\u001b[1;33m\u001b[0m\u001b[0m\n",
      "\u001b[1;32m~\\Anaconda3\\lib\\site-packages\\sklearn\\externals\\joblib\\_parallel_backends.py\u001b[0m in \u001b[0;36m__init__\u001b[1;34m(self, batch)\u001b[0m\n\u001b[0;32m    330\u001b[0m         \u001b[1;31m# Don't delay the application, to avoid keeping the input\u001b[0m\u001b[1;33m\u001b[0m\u001b[1;33m\u001b[0m\u001b[0m\n\u001b[0;32m    331\u001b[0m         \u001b[1;31m# arguments in memory\u001b[0m\u001b[1;33m\u001b[0m\u001b[1;33m\u001b[0m\u001b[0m\n\u001b[1;32m--> 332\u001b[1;33m         \u001b[0mself\u001b[0m\u001b[1;33m.\u001b[0m\u001b[0mresults\u001b[0m \u001b[1;33m=\u001b[0m \u001b[0mbatch\u001b[0m\u001b[1;33m(\u001b[0m\u001b[1;33m)\u001b[0m\u001b[1;33m\u001b[0m\u001b[0m\n\u001b[0m\u001b[0;32m    333\u001b[0m \u001b[1;33m\u001b[0m\u001b[0m\n\u001b[0;32m    334\u001b[0m     \u001b[1;32mdef\u001b[0m \u001b[0mget\u001b[0m\u001b[1;33m(\u001b[0m\u001b[0mself\u001b[0m\u001b[1;33m)\u001b[0m\u001b[1;33m:\u001b[0m\u001b[1;33m\u001b[0m\u001b[0m\n",
      "\u001b[1;32m~\\Anaconda3\\lib\\site-packages\\sklearn\\externals\\joblib\\parallel.py\u001b[0m in \u001b[0;36m__call__\u001b[1;34m(self)\u001b[0m\n\u001b[0;32m    129\u001b[0m \u001b[1;33m\u001b[0m\u001b[0m\n\u001b[0;32m    130\u001b[0m     \u001b[1;32mdef\u001b[0m \u001b[0m__call__\u001b[0m\u001b[1;33m(\u001b[0m\u001b[0mself\u001b[0m\u001b[1;33m)\u001b[0m\u001b[1;33m:\u001b[0m\u001b[1;33m\u001b[0m\u001b[0m\n\u001b[1;32m--> 131\u001b[1;33m         \u001b[1;32mreturn\u001b[0m \u001b[1;33m[\u001b[0m\u001b[0mfunc\u001b[0m\u001b[1;33m(\u001b[0m\u001b[1;33m*\u001b[0m\u001b[0margs\u001b[0m\u001b[1;33m,\u001b[0m \u001b[1;33m**\u001b[0m\u001b[0mkwargs\u001b[0m\u001b[1;33m)\u001b[0m \u001b[1;32mfor\u001b[0m \u001b[0mfunc\u001b[0m\u001b[1;33m,\u001b[0m \u001b[0margs\u001b[0m\u001b[1;33m,\u001b[0m \u001b[0mkwargs\u001b[0m \u001b[1;32min\u001b[0m \u001b[0mself\u001b[0m\u001b[1;33m.\u001b[0m\u001b[0mitems\u001b[0m\u001b[1;33m]\u001b[0m\u001b[1;33m\u001b[0m\u001b[0m\n\u001b[0m\u001b[0;32m    132\u001b[0m \u001b[1;33m\u001b[0m\u001b[0m\n\u001b[0;32m    133\u001b[0m     \u001b[1;32mdef\u001b[0m \u001b[0m__len__\u001b[0m\u001b[1;33m(\u001b[0m\u001b[0mself\u001b[0m\u001b[1;33m)\u001b[0m\u001b[1;33m:\u001b[0m\u001b[1;33m\u001b[0m\u001b[0m\n",
      "\u001b[1;32m~\\Anaconda3\\lib\\site-packages\\sklearn\\externals\\joblib\\parallel.py\u001b[0m in \u001b[0;36m<listcomp>\u001b[1;34m(.0)\u001b[0m\n\u001b[0;32m    129\u001b[0m \u001b[1;33m\u001b[0m\u001b[0m\n\u001b[0;32m    130\u001b[0m     \u001b[1;32mdef\u001b[0m \u001b[0m__call__\u001b[0m\u001b[1;33m(\u001b[0m\u001b[0mself\u001b[0m\u001b[1;33m)\u001b[0m\u001b[1;33m:\u001b[0m\u001b[1;33m\u001b[0m\u001b[0m\n\u001b[1;32m--> 131\u001b[1;33m         \u001b[1;32mreturn\u001b[0m \u001b[1;33m[\u001b[0m\u001b[0mfunc\u001b[0m\u001b[1;33m(\u001b[0m\u001b[1;33m*\u001b[0m\u001b[0margs\u001b[0m\u001b[1;33m,\u001b[0m \u001b[1;33m**\u001b[0m\u001b[0mkwargs\u001b[0m\u001b[1;33m)\u001b[0m \u001b[1;32mfor\u001b[0m \u001b[0mfunc\u001b[0m\u001b[1;33m,\u001b[0m \u001b[0margs\u001b[0m\u001b[1;33m,\u001b[0m \u001b[0mkwargs\u001b[0m \u001b[1;32min\u001b[0m \u001b[0mself\u001b[0m\u001b[1;33m.\u001b[0m\u001b[0mitems\u001b[0m\u001b[1;33m]\u001b[0m\u001b[1;33m\u001b[0m\u001b[0m\n\u001b[0m\u001b[0;32m    132\u001b[0m \u001b[1;33m\u001b[0m\u001b[0m\n\u001b[0;32m    133\u001b[0m     \u001b[1;32mdef\u001b[0m \u001b[0m__len__\u001b[0m\u001b[1;33m(\u001b[0m\u001b[0mself\u001b[0m\u001b[1;33m)\u001b[0m\u001b[1;33m:\u001b[0m\u001b[1;33m\u001b[0m\u001b[0m\n",
      "\u001b[1;32m~\\Anaconda3\\lib\\site-packages\\sklearn\\model_selection\\_validation.py\u001b[0m in \u001b[0;36m_fit_and_score\u001b[1;34m(estimator, X, y, scorer, train, test, verbose, parameters, fit_params, return_train_score, return_parameters, return_n_test_samples, return_times, error_score)\u001b[0m\n\u001b[0;32m    456\u001b[0m             \u001b[0mestimator\u001b[0m\u001b[1;33m.\u001b[0m\u001b[0mfit\u001b[0m\u001b[1;33m(\u001b[0m\u001b[0mX_train\u001b[0m\u001b[1;33m,\u001b[0m \u001b[1;33m**\u001b[0m\u001b[0mfit_params\u001b[0m\u001b[1;33m)\u001b[0m\u001b[1;33m\u001b[0m\u001b[0m\n\u001b[0;32m    457\u001b[0m         \u001b[1;32melse\u001b[0m\u001b[1;33m:\u001b[0m\u001b[1;33m\u001b[0m\u001b[0m\n\u001b[1;32m--> 458\u001b[1;33m             \u001b[0mestimator\u001b[0m\u001b[1;33m.\u001b[0m\u001b[0mfit\u001b[0m\u001b[1;33m(\u001b[0m\u001b[0mX_train\u001b[0m\u001b[1;33m,\u001b[0m \u001b[0my_train\u001b[0m\u001b[1;33m,\u001b[0m \u001b[1;33m**\u001b[0m\u001b[0mfit_params\u001b[0m\u001b[1;33m)\u001b[0m\u001b[1;33m\u001b[0m\u001b[0m\n\u001b[0m\u001b[0;32m    459\u001b[0m \u001b[1;33m\u001b[0m\u001b[0m\n\u001b[0;32m    460\u001b[0m     \u001b[1;32mexcept\u001b[0m \u001b[0mException\u001b[0m \u001b[1;32mas\u001b[0m \u001b[0me\u001b[0m\u001b[1;33m:\u001b[0m\u001b[1;33m\u001b[0m\u001b[0m\n",
      "\u001b[1;32m~\\Anaconda3\\lib\\site-packages\\sklearn\\pipeline.py\u001b[0m in \u001b[0;36mfit\u001b[1;34m(self, X, y, **fit_params)\u001b[0m\n\u001b[0;32m    248\u001b[0m         \u001b[0mXt\u001b[0m\u001b[1;33m,\u001b[0m \u001b[0mfit_params\u001b[0m \u001b[1;33m=\u001b[0m \u001b[0mself\u001b[0m\u001b[1;33m.\u001b[0m\u001b[0m_fit\u001b[0m\u001b[1;33m(\u001b[0m\u001b[0mX\u001b[0m\u001b[1;33m,\u001b[0m \u001b[0my\u001b[0m\u001b[1;33m,\u001b[0m \u001b[1;33m**\u001b[0m\u001b[0mfit_params\u001b[0m\u001b[1;33m)\u001b[0m\u001b[1;33m\u001b[0m\u001b[0m\n\u001b[0;32m    249\u001b[0m         \u001b[1;32mif\u001b[0m \u001b[0mself\u001b[0m\u001b[1;33m.\u001b[0m\u001b[0m_final_estimator\u001b[0m \u001b[1;32mis\u001b[0m \u001b[1;32mnot\u001b[0m \u001b[1;32mNone\u001b[0m\u001b[1;33m:\u001b[0m\u001b[1;33m\u001b[0m\u001b[0m\n\u001b[1;32m--> 250\u001b[1;33m             \u001b[0mself\u001b[0m\u001b[1;33m.\u001b[0m\u001b[0m_final_estimator\u001b[0m\u001b[1;33m.\u001b[0m\u001b[0mfit\u001b[0m\u001b[1;33m(\u001b[0m\u001b[0mXt\u001b[0m\u001b[1;33m,\u001b[0m \u001b[0my\u001b[0m\u001b[1;33m,\u001b[0m \u001b[1;33m**\u001b[0m\u001b[0mfit_params\u001b[0m\u001b[1;33m)\u001b[0m\u001b[1;33m\u001b[0m\u001b[0m\n\u001b[0m\u001b[0;32m    251\u001b[0m         \u001b[1;32mreturn\u001b[0m \u001b[0mself\u001b[0m\u001b[1;33m\u001b[0m\u001b[0m\n\u001b[0;32m    252\u001b[0m \u001b[1;33m\u001b[0m\u001b[0m\n",
      "\u001b[1;32m~\\Anaconda3\\lib\\site-packages\\sklearn\\svm\\base.py\u001b[0m in \u001b[0;36mfit\u001b[1;34m(self, X, y, sample_weight)\u001b[0m\n\u001b[0;32m    185\u001b[0m \u001b[1;33m\u001b[0m\u001b[0m\n\u001b[0;32m    186\u001b[0m         \u001b[0mseed\u001b[0m \u001b[1;33m=\u001b[0m \u001b[0mrnd\u001b[0m\u001b[1;33m.\u001b[0m\u001b[0mrandint\u001b[0m\u001b[1;33m(\u001b[0m\u001b[0mnp\u001b[0m\u001b[1;33m.\u001b[0m\u001b[0miinfo\u001b[0m\u001b[1;33m(\u001b[0m\u001b[1;34m'i'\u001b[0m\u001b[1;33m)\u001b[0m\u001b[1;33m.\u001b[0m\u001b[0mmax\u001b[0m\u001b[1;33m)\u001b[0m\u001b[1;33m\u001b[0m\u001b[0m\n\u001b[1;32m--> 187\u001b[1;33m         \u001b[0mfit\u001b[0m\u001b[1;33m(\u001b[0m\u001b[0mX\u001b[0m\u001b[1;33m,\u001b[0m \u001b[0my\u001b[0m\u001b[1;33m,\u001b[0m \u001b[0msample_weight\u001b[0m\u001b[1;33m,\u001b[0m \u001b[0msolver_type\u001b[0m\u001b[1;33m,\u001b[0m \u001b[0mkernel\u001b[0m\u001b[1;33m,\u001b[0m \u001b[0mrandom_seed\u001b[0m\u001b[1;33m=\u001b[0m\u001b[0mseed\u001b[0m\u001b[1;33m)\u001b[0m\u001b[1;33m\u001b[0m\u001b[0m\n\u001b[0m\u001b[0;32m    188\u001b[0m         \u001b[1;31m# see comment on the other call to np.iinfo in this file\u001b[0m\u001b[1;33m\u001b[0m\u001b[1;33m\u001b[0m\u001b[0m\n\u001b[0;32m    189\u001b[0m \u001b[1;33m\u001b[0m\u001b[0m\n",
      "\u001b[1;32m~\\Anaconda3\\lib\\site-packages\\sklearn\\svm\\base.py\u001b[0m in \u001b[0;36m_dense_fit\u001b[1;34m(self, X, y, sample_weight, solver_type, kernel, random_seed)\u001b[0m\n\u001b[0;32m    252\u001b[0m                 \u001b[0mcache_size\u001b[0m\u001b[1;33m=\u001b[0m\u001b[0mself\u001b[0m\u001b[1;33m.\u001b[0m\u001b[0mcache_size\u001b[0m\u001b[1;33m,\u001b[0m \u001b[0mcoef0\u001b[0m\u001b[1;33m=\u001b[0m\u001b[0mself\u001b[0m\u001b[1;33m.\u001b[0m\u001b[0mcoef0\u001b[0m\u001b[1;33m,\u001b[0m\u001b[1;33m\u001b[0m\u001b[0m\n\u001b[0;32m    253\u001b[0m                 \u001b[0mgamma\u001b[0m\u001b[1;33m=\u001b[0m\u001b[0mself\u001b[0m\u001b[1;33m.\u001b[0m\u001b[0m_gamma\u001b[0m\u001b[1;33m,\u001b[0m \u001b[0mepsilon\u001b[0m\u001b[1;33m=\u001b[0m\u001b[0mself\u001b[0m\u001b[1;33m.\u001b[0m\u001b[0mepsilon\u001b[0m\u001b[1;33m,\u001b[0m\u001b[1;33m\u001b[0m\u001b[0m\n\u001b[1;32m--> 254\u001b[1;33m                 max_iter=self.max_iter, random_seed=random_seed)\n\u001b[0m\u001b[0;32m    255\u001b[0m \u001b[1;33m\u001b[0m\u001b[0m\n\u001b[0;32m    256\u001b[0m         \u001b[0mself\u001b[0m\u001b[1;33m.\u001b[0m\u001b[0m_warn_from_fit_status\u001b[0m\u001b[1;33m(\u001b[0m\u001b[1;33m)\u001b[0m\u001b[1;33m\u001b[0m\u001b[0m\n",
      "\u001b[1;31mKeyboardInterrupt\u001b[0m: "
     ]
    }
   ],
   "source": [
    "# Using optimized hyper-parameters\n",
    "\n",
    "X_train, X_test, y_train, y_test = train_test_split(X, y, test_size=0.3, random_state=26)\n",
    "steps = [('scaler', StandardScaler()), ('clf', svm.SVC(C=1000, kernel='linear', gamma=0.01))]\n",
    "pipeline = Pipeline(steps)\n",
    "pipeline.fit(X_train, y_train)\n",
    "pipeline.score(X_test, y_test)\n",
    "cv_scores = cross_val_score(pipeline, X_test, y_test, cv=5)\n",
    "print(\"Accuracy: %0.3f (+/- %0.3f)\" % (cv_scores.mean(), cv_scores.std() * 2))"
   ]
  },
  {
   "cell_type": "code",
   "execution_count": 23,
   "metadata": {},
   "outputs": [
    {
     "name": "stdout",
     "output_type": "stream",
     "text": [
      "                 precision    recall  f1-score   support\n",
      "\n",
      "   Fire Fighter       0.98      0.94      0.96       358\n",
      " Police Officer       0.98      0.92      0.95       576\n",
      "Police Sergeant       0.97      0.79      0.87        81\n",
      "        Teacher       0.96      1.00      0.98      1618\n",
      "\n",
      "    avg / total       0.97      0.97      0.97      2633\n",
      "\n"
     ]
    }
   ],
   "source": [
    "\n",
    "# Create an SelectKBest object to select features with two best ANOVA F-Values\n",
    "fvalue_selector = SelectKBest(f_classif, k=3)\n",
    "\n",
    "# Apply the SelectKBest object to the features and target\n",
    "# steps = [('scaler', StandardScaler()), (fvalue_selector), ('clf', svm.SVC(C=1000, gamma=0.01))]\n",
    "pipeline = make_pipeline(StandardScaler(), fvalue_selector, svm.SVC(C=1000, kernel='linear', gamma=0.01))\n",
    "pipeline.fit(X_train, y_train)\n",
    "pipeline.score(X_test, y_test)\n",
    "y_pred = pipeline.predict(X_test)\n",
    "print(metrics.classification_report(y_test, y_pred))\n",
    "# cv_scores = cross_val_score(pipeline, X, y, cv=5)\n",
    "# print(\"Accuracy: %0.3f (+/- %0.3f)\" % (cv_scores.mean(), cv_scores.std() * 2))\n"
   ]
  },
  {
   "cell_type": "code",
   "execution_count": 24,
   "metadata": {},
   "outputs": [
    {
     "name": "stdout",
     "output_type": "stream",
     "text": [
      "                   0    1   2     3  count  score\n",
      "Fire Fighter     337    2   0    19    358  94.13\n",
      "Police Officer     3  528   2    43    576  91.67\n",
      "Police Sergeant    4   11  64     2     81  79.01\n",
      "Teacher            1    0   0  1617   1618  99.94\n",
      "Accuracy: 0.96 (+/- 0.02)\n"
     ]
    },
    {
     "data": {
      "image/png": "[encoded data removed]",
      "text/plain": [
       "<Figure size 432x288 with 1 Axes>"
      ]
     },
     "metadata": {},
     "output_type": "display_data"
    }
   ],
   "source": [
    "# split into training and test datasets\n",
    "X_train, X_test, y_train, y_test = train_test_split(X, y, test_size=0.3, random_state=26)\n",
    "\n",
    "pipeline.fit(X_train, y_train)\n",
    "pred = pipeline.predict(X_test)\n",
    "\n",
    "# metrics:\n",
    "cm = pd.DataFrame(metrics.confusion_matrix(y_test, pred)).set_index(np.sort(top10_new['title_clean'].unique()))\n",
    "cm['count'] = cm.sum(axis=1)\n",
    "cm['score'] = 0\n",
    "for row in range(4):\n",
    "    cm.iloc[row, 5] = round(cm.iloc[row, row] / cm.iloc[row, 4] * 100, 2)\n",
    "print(cm)\n",
    "cv_scores = cross_val_score(pipeline, X_test, y_test, cv=10)\n",
    "print(\"Accuracy: %0.2f (+/- %0.2f)\" % (cv_scores.mean(), cv_scores.std() * 2))\n",
    "cm.plot.scatter('count', 'score')\n",
    "plt.show()\n"
   ]
  },
  {
   "cell_type": "code",
   "execution_count": 25,
   "metadata": {},
   "outputs": [
    {
     "name": "stdout",
     "output_type": "stream",
     "text": [
      "                 precision    recall  f1-score   support\n",
      "\n",
      "   Fire Fighter       0.99      0.95      0.97       358\n",
      " Police Officer       0.98      0.97      0.97       576\n",
      "Police Sergeant       1.00      0.89      0.94        81\n",
      "        Teacher       0.98      1.00      0.99      1618\n",
      "\n",
      "    avg / total       0.98      0.98      0.98      2633\n",
      "\n"
     ]
    }
   ],
   "source": [
    "clf = RandomForestClassifier(n_estimators=100, max_depth=8, min_samples_split=5, random_state=26).fit(X_train, y_train)\n",
    "clf.score(X_test, y_test)\n",
    "y_pred = clf.predict(X_test)\n",
    "print(metrics.classification_report(y_test, y_pred))"
   ]
  },
  {
   "cell_type": "markdown",
   "metadata": {},
   "source": [
    "### 5. Classification by department"
   ]
  },
  {
   "cell_type": "code",
   "execution_count": 26,
   "metadata": {},
   "outputs": [
    {
     "data": {
      "text/plain": [
       "4113"
      ]
     },
     "execution_count": 26,
     "metadata": {},
     "output_type": "execute_result"
    }
   ],
   "source": [
    "# data for classifiers (now including quinn):\n",
    "top10_d = earnings[(earnings['dept_clean'].isin(departments_top10)) & (earnings['year'] == 2017)]\n",
    "\n",
    "# remove non-numeric columns as well as \"total\" and \"quinn\"\n",
    "X = top10_d.drop(['name', 'department', 'title', 'quinn', 'total', 'zip', 'year', 'title_clean', 'dept_clean'], axis=1)\n",
    "\n",
    "# factorize job titles\n",
    "# y = pd.factorize(top10['title_clean'])[0]\n",
    "y = top10_d['dept_clean']\n",
    "\n",
    "# split into training and test datasets\n",
    "X_train, X_test, y_train, y_test = train_test_split(X, y, test_size=0.2, random_state=26)\n",
    "X_test.shape[0]"
   ]
  },
  {
   "cell_type": "code",
   "execution_count": 27,
   "metadata": {},
   "outputs": [
    {
     "name": "stdout",
     "output_type": "stream",
     "text": [
      "                                0    1    2  3     4  5  6  7   8  9  count  score\n",
      "Boston Cntr - Youth & Families  0    0    0  0   107  0  0  0   0  0    107   0.00\n",
      "Boston Fire Department          0  277   26  0    21  0  0  0   2  0    326  84.97\n",
      "Boston Police Department        0   27  450  0   169  1  0  0   1  0    648  69.44\n",
      "Boston Public Library           0    1    1  0   104  0  0  0   0  0    106   0.00\n",
      "Boston Public Schools           0   10   11  0  2587  0  0  0   0  0   2608  99.19\n",
      "Inspectional Services Dept      0    2   29  0    15  0  0  0   0  0     46   0.00\n",
      "Parks Department                0    1   19  0    40  0  0  0   5  0     65   0.00\n",
      "Public Facilities Department    0    1    5  0    25  0  0  9   1  0     41  21.95\n",
      "Public Works Department         0    3   36  0    20  0  0  0  27  0     86  31.40\n",
      "Traffic Division                0    0   59  0    16  0  0  0   5  0     80   0.00\n"
     ]
    },
    {
     "data": {
      "image/png": "[encoded data removed]",
      "text/plain": [
       "<Figure size 864x432 with 2 Axes>"
      ]
     },
     "metadata": {},
     "output_type": "display_data"
    }
   ],
   "source": [
    "# support vector classifier\n",
    "\n",
    "steps = [('scaler', StandardScaler()), ('clf', svm.SVC())]\n",
    "pipeline = Pipeline(steps)\n",
    "pipeline.fit(X_train, y_train)\n",
    "\n",
    "y_pred = cross_val_predict(pipeline, X_test, y_test, cv=5)\n",
    "\n",
    "# confusion matrix\n",
    "cm = pd.DataFrame(metrics.confusion_matrix(y_test, y_pred)).set_index(np.sort(top10_d['dept_clean'].unique()))\n",
    "cm['count'] = cm.sum(axis=1)\n",
    "cm['score'] = 0\n",
    "for row in range(10):\n",
    "    cm.iloc[row, 11] = round(cm.iloc[row, row] / cm.iloc[row, 10] * 100, 2)\n",
    "print(cm)\n",
    "\n",
    "# cross validation\n",
    "# cv_scores = cross_val_score(pipeline, X, y, cv=10)\n",
    "# print('mean cv score: {:.2f}'.format(np.mean(cv_scores)))\n",
    "\n",
    "feature_matrix = top10_d.groupby('dept_clean') \\\n",
    "                        .apply(lambda x: (x != 0).sum())\\\n",
    "                        .apply(lambda y: (y/y['name']*100).astype(int), axis=1)\\\n",
    "                        .drop(['name', 'dept_clean'], axis=1)\n",
    "\n",
    "fig, ax = plt.subplots(figsize=(12,6))\n",
    "sns.heatmap(feature_matrix, annot=True, cmap='viridis', ax=ax)\n",
    "ax.set_title('Percentage of observations for department and earnings category')\n",
    "plt.show()"
   ]
  },
  {
   "cell_type": "markdown",
   "metadata": {},
   "source": [
    "## Are teachers from different schools paid the same?\n",
    "\n",
    "In 2017 the \"department\" category lists each school as its own department. \n",
    "\n",
    "First we need to exclude school departments with few teachers in order for the statistical calculations to be significant. We'll add substitute teachers and paraprofessionals to the data."
   ]
  },
  {
   "cell_type": "code",
   "execution_count": 28,
   "metadata": {},
   "outputs": [
    {
     "data": {
      "text/plain": [
       "16"
      ]
     },
     "execution_count": 28,
     "metadata": {},
     "output_type": "execute_result"
    }
   ],
   "source": [
    "# Return list of largest schools\n",
    "\n",
    "schoolsize = earnings[(earnings.title_clean.isin(['Teacher', 'Substitute Teacher', 'Paraprofessional']))\\\n",
    "                   & (earnings.year == 2017)] \\\n",
    "                    .groupby('department')['name']\\\n",
    "                    .agg('count')\n",
    "largeschools = schoolsize[schoolsize > 100].index  # minimum number of teachers\n",
    "len(largeschools)"
   ]
  },
  {
   "cell_type": "markdown",
   "metadata": {},
   "source": [
    "Teachers are not paid overtime, detail or quinn, so we can remove these categories. "
   ]
  },
  {
   "cell_type": "code",
   "execution_count": 29,
   "metadata": {
    "scrolled": false
   },
   "outputs": [
    {
     "name": "stdout",
     "output_type": "stream",
     "text": [
      "(2344, 3)\n",
      "Score: 0.2869318181818182\n",
      "mean cv score: 0.2926467383286989 \n",
      "\n",
      "                               precision    recall  f1-score   support\n",
      "\n",
      "             BPS Boston Latin       0.20      0.43      0.27        42\n",
      "         BPS Charlestown High       0.03      0.03      0.03        31\n",
      "        BPS Condon Elementary       0.09      0.09      0.09        33\n",
      "         BPS East Boston High       0.06      0.05      0.06        39\n",
      "      BPS Human Resource Team       0.25      0.24      0.25        37\n",
      "           BPS Lee Elementary       0.09      0.13      0.11        30\n",
      "        BPS Madison Park High       0.05      0.06      0.06        34\n",
      "          BPS McKinley Middle       0.23      0.32      0.27        38\n",
      "BPS Orchard Gardens K-8 Pilot       0.05      0.03      0.04        36\n",
      "        BPS Quincy Elementary       0.12      0.03      0.04        39\n",
      "        BPS Special Education       0.31      0.43      0.36        79\n",
      " BPS Substitute Teachers/Nurs       0.69      0.92      0.78       121\n",
      "                   Curley K-8       0.14      0.08      0.10        38\n",
      "         Henderson Elementary       0.07      0.03      0.04        35\n",
      "             Jackson/Mann K-8       0.00      0.00      0.00        41\n",
      "                 Umana Middle       0.00      0.00      0.00        31\n",
      "\n",
      "                  avg / total       0.23      0.29      0.25       704\n",
      "\n"
     ]
    }
   ],
   "source": [
    "# using original school departments\n",
    "\n",
    "schools = earnings[['name','regular', 'retro', 'other', 'total', 'title_clean', 'department']]\\\n",
    "                    [(earnings.title_clean.isin(['Teacher', 'Substitute Teacher', 'Paraprofessional'])) \\\n",
    "                    & (earnings.department.isin(largeschools))\\\n",
    "                    & (earnings.year == 2017)]\n",
    "X = schools.drop(['name', 'total', 'title_clean', 'department'], axis=1)\n",
    "y = schools['department']\n",
    "print(X.shape)\n",
    "\n",
    "X_train, X_test, y_train, y_test = train_test_split(X, y, test_size=0.3, random_state=26)\n",
    "\n",
    "# Knn\n",
    "clf = KNeighborsClassifier(n_neighbors=7)\n",
    "clf.fit(X_train, y_train)\n",
    "\n",
    "# metrics:\n",
    "print('Score:', clf.score(X_test, y_test))\n",
    "\n",
    "y_pred = clf.predict(X_test)\n",
    "cv_scores = cross_val_score(clf, X, y, cv=10)\n",
    "\n",
    "print('mean cv score:', np.mean(cv_scores), '\\n')\n",
    "print(metrics.classification_report(y_test, y_pred))"
   ]
  },
  {
   "cell_type": "markdown",
   "metadata": {},
   "source": [
    "The accuracy and f1-score for predicting a school from the earnings categories is only ~25%. This result suggests there is no significant difference, though it appears the ***BPS Substitute Teachers/Nurs*** department is distinct from the rest. These are likely part time jobs and shouldn't be considered. Of course a proper statistical analysis would be appropriate too:"
   ]
  },
  {
   "cell_type": "code",
   "execution_count": 30,
   "metadata": {
    "scrolled": false
   },
   "outputs": [
    {
     "data": {
      "image/png": "[encoded data removed]",
      "text/plain": [
       "<Figure size 1008x360 with 1 Axes>"
      ]
     },
     "metadata": {},
     "output_type": "display_data"
    },
    {
     "name": "stdout",
     "output_type": "stream",
     "text": [
      "                  sum_sq      df         F        PR(>F)\n",
      "department  1.262818e+11    14.0  9.038371  1.726863e-19\n",
      "Residual    1.884189e+12  1888.0       NaN           NaN\n",
      "Effect size: 6.28% of the total earnings variance is explained by the associated school.\n"
     ]
    },
    {
     "data": {
      "text/html": [
       "<table class=\"simpletable\">\n",
       "<caption>Multiple Comparison of Means - Tukey HSD,FWER=0.05</caption>\n",
       "<tr>\n",
       "             <th>group1</th>                        <th>group2</th>              <th>meandiff</th>      <th>lower</th>       <th>upper</th>    <th>reject</th>\n",
       "</tr>\n",
       "<tr>\n",
       "        <td>BPS Boston Latin</td>            <td>BPS Charlestown High</td>      <td>-23081.2464</td> <td>-37247.7509</td> <td>-8914.7419</td>   <td>True</td> \n",
       "</tr>\n",
       "<tr>\n",
       "        <td>BPS Boston Latin</td>            <td>BPS Condon Elementary</td>     <td>-20474.6112</td> <td>-34490.0297</td> <td>-6459.1927</td>   <td>True</td> \n",
       "</tr>\n",
       "<tr>\n",
       "        <td>BPS Boston Latin</td>            <td>BPS East Boston High</td>      <td>-12885.7956</td> <td>-26327.1824</td>  <td>555.5911</td>    <td>False</td>\n",
       "</tr>\n",
       "<tr>\n",
       "        <td>BPS Boston Latin</td>           <td>BPS Human Resource Team</td>    <td>-15908.5477</td> <td>-29349.9345</td> <td>-2467.1609</td>   <td>True</td> \n",
       "</tr>\n",
       "<tr>\n",
       "        <td>BPS Boston Latin</td>             <td>BPS Lee Elementary</td>       <td>-27328.8942</td> <td>-41135.2467</td> <td>-13522.5418</td>  <td>True</td> \n",
       "</tr>\n",
       "<tr>\n",
       "        <td>BPS Boston Latin</td>            <td>BPS Madison Park High</td>     <td>-13094.3018</td> <td>-26563.7292</td>  <td>375.1255</td>    <td>False</td>\n",
       "</tr>\n",
       "<tr>\n",
       "        <td>BPS Boston Latin</td>             <td>BPS McKinley Middle</td>      <td>-28220.1748</td> <td>-41216.5422</td> <td>-15223.8074</td>  <td>True</td> \n",
       "</tr>\n",
       "<tr>\n",
       "        <td>BPS Boston Latin</td>        <td>BPS Orchard Gardens K-8 Pilot</td> <td>-20808.0942</td> <td>-35013.974</td>  <td>-6602.2144</td>   <td>True</td> \n",
       "</tr>\n",
       "<tr>\n",
       "        <td>BPS Boston Latin</td>            <td>BPS Quincy Elementary</td>     <td>-22403.6677</td> <td>-36243.5062</td> <td>-8563.8292</td>   <td>True</td> \n",
       "</tr>\n",
       "<tr>\n",
       "        <td>BPS Boston Latin</td>            <td>BPS Special Education</td>     <td>-6917.5488</td>  <td>-18267.1416</td>  <td>4432.0439</td>   <td>False</td>\n",
       "</tr>\n",
       "<tr>\n",
       "        <td>BPS Boston Latin</td>                 <td>Curley K-8</td>           <td>-21952.5952</td> <td>-35450.4632</td> <td>-8454.7273</td>   <td>True</td> \n",
       "</tr>\n",
       "<tr>\n",
       "        <td>BPS Boston Latin</td>            <td>Henderson Elementary</td>      <td>-25727.2512</td>  <td>-39373.64</td>  <td>-12080.8624</td>  <td>True</td> \n",
       "</tr>\n",
       "<tr>\n",
       "        <td>BPS Boston Latin</td>              <td>Jackson/Mann K-8</td>        <td>-23591.4464</td> <td>-37643.7065</td> <td>-9539.1862</td>   <td>True</td> \n",
       "</tr>\n",
       "<tr>\n",
       "        <td>BPS Boston Latin</td>                <td>Umana Middle</td>          <td>-18445.5911</td> <td>-32612.0956</td> <td>-4279.0866</td>   <td>True</td> \n",
       "</tr>\n",
       "<tr>\n",
       "      <td>BPS Charlestown High</td>          <td>BPS Condon Elementary</td>      <td>2606.6352</td>  <td>-12273.2345</td> <td>17486.5048</td>   <td>False</td>\n",
       "</tr>\n",
       "<tr>\n",
       "      <td>BPS Charlestown High</td>          <td>BPS East Boston High</td>      <td>10195.4508</td>  <td>-4145.0319</td>  <td>24535.9334</td>   <td>False</td>\n",
       "</tr>\n",
       "<tr>\n",
       "      <td>BPS Charlestown High</td>         <td>BPS Human Resource Team</td>     <td>7172.6987</td>   <td>-7167.784</td>  <td>21513.1814</td>   <td>False</td>\n",
       "</tr>\n",
       "<tr>\n",
       "      <td>BPS Charlestown High</td>           <td>BPS Lee Elementary</td>       <td>-4247.6478</td>  <td>-18930.7651</td> <td>10435.4694</td>   <td>False</td>\n",
       "</tr>\n",
       "<tr>\n",
       "      <td>BPS Charlestown High</td>          <td>BPS Madison Park High</td>      <td>9986.9446</td>   <td>-4379.824</td>  <td>24353.7131</td>   <td>False</td>\n",
       "</tr>\n",
       "<tr>\n",
       "      <td>BPS Charlestown High</td>           <td>BPS McKinley Middle</td>      <td>-5138.9284</td>  <td>-19063.1566</td>  <td>8785.2998</td>   <td>False</td>\n",
       "</tr>\n",
       "<tr>\n",
       "      <td>BPS Charlestown High</td>      <td>BPS Orchard Gardens K-8 Pilot</td>  <td>2273.1522</td>  <td>-12786.2497</td> <td>17332.5541</td>   <td>False</td>\n",
       "</tr>\n",
       "<tr>\n",
       "      <td>BPS Charlestown High</td>          <td>BPS Quincy Elementary</td>      <td>677.5787</td>   <td>-14037.0296</td> <td>15392.1869</td>   <td>False</td>\n",
       "</tr>\n",
       "<tr>\n",
       "      <td>BPS Charlestown High</td>          <td>BPS Special Education</td>     <td>16163.6975</td>   <td>3762.4145</td>  <td>28564.9806</td>   <td>True</td> \n",
       "</tr>\n",
       "<tr>\n",
       "      <td>BPS Charlestown High</td>               <td>Curley K-8</td>            <td>1128.6512</td>  <td>-13264.785</td>  <td>15522.0873</td>   <td>False</td>\n",
       "</tr>\n",
       "<tr>\n",
       "      <td>BPS Charlestown High</td>          <td>Henderson Elementary</td>      <td>-2646.0048</td>  <td>-17178.8122</td> <td>11886.8026</td>   <td>False</td>\n",
       "</tr>\n",
       "<tr>\n",
       "      <td>BPS Charlestown High</td>            <td>Jackson/Mann K-8</td>          <td>-510.2</td>    <td>-15424.7761</td> <td>14404.3761</td>   <td>False</td>\n",
       "</tr>\n",
       "<tr>\n",
       "      <td>BPS Charlestown High</td>              <td>Umana Middle</td>           <td>4635.6553</td>  <td>-10386.6087</td> <td>19657.9193</td>   <td>False</td>\n",
       "</tr>\n",
       "<tr>\n",
       "      <td>BPS Condon Elementary</td>         <td>BPS East Boston High</td>       <td>7588.8156</td>  <td>-6602.4334</td>  <td>21780.0646</td>   <td>False</td>\n",
       "</tr>\n",
       "<tr>\n",
       "      <td>BPS Condon Elementary</td>        <td>BPS Human Resource Team</td>     <td>4566.0635</td>  <td>-9625.1855</td>  <td>18757.3125</td>   <td>False</td>\n",
       "</tr>\n",
       "<tr>\n",
       "      <td>BPS Condon Elementary</td>          <td>BPS Lee Elementary</td>        <td>-6854.283</td>  <td>-21391.6844</td>  <td>7683.1183</td>   <td>False</td>\n",
       "</tr>\n",
       "<tr>\n",
       "      <td>BPS Condon Elementary</td>         <td>BPS Madison Park High</td>      <td>7380.3094</td>  <td>-6837.5014</td>  <td>21598.1202</td>   <td>False</td>\n",
       "</tr>\n",
       "<tr>\n",
       "      <td>BPS Condon Elementary</td>          <td>BPS McKinley Middle</td>      <td>-7745.5636</td>  <td>-21516.0478</td>  <td>6024.9207</td>   <td>False</td>\n",
       "</tr>\n",
       "<tr>\n",
       "      <td>BPS Condon Elementary</td>     <td>BPS Orchard Gardens K-8 Pilot</td>  <td>-333.483</td>   <td>-15250.845</td>  <td>14583.8791</td>   <td>False</td>\n",
       "</tr>\n",
       "<tr>\n",
       "      <td>BPS Condon Elementary</td>         <td>BPS Quincy Elementary</td>     <td>-1929.0565</td>  <td>-16498.2638</td> <td>12640.1508</td>   <td>False</td>\n",
       "</tr>\n",
       "<tr>\n",
       "      <td>BPS Condon Elementary</td>         <td>BPS Special Education</td>     <td>13557.0624</td>   <td>1328.6559</td>  <td>25785.4689</td>   <td>True</td> \n",
       "</tr>\n",
       "<tr>\n",
       "      <td>BPS Condon Elementary</td>              <td>Curley K-8</td>            <td>-1477.984</td>  <td>-15722.7413</td> <td>12766.7733</td>   <td>False</td>\n",
       "</tr>\n",
       "<tr>\n",
       "      <td>BPS Condon Elementary</td>         <td>Henderson Elementary</td>       <td>-5252.64</td>   <td>-19638.209</td>   <td>9132.9291</td>   <td>False</td>\n",
       "</tr>\n",
       "<tr>\n",
       "      <td>BPS Condon Elementary</td>           <td>Jackson/Mann K-8</td>        <td>-3116.8352</td>  <td>-17887.9789</td> <td>11654.3085</td>   <td>False</td>\n",
       "</tr>\n",
       "<tr>\n",
       "      <td>BPS Condon Elementary</td>             <td>Umana Middle</td>           <td>2029.0201</td>  <td>-12850.8495</td> <td>16908.8898</td>   <td>False</td>\n",
       "</tr>\n",
       "<tr>\n",
       "      <td>BPS East Boston High</td>         <td>BPS Human Resource Team</td>    <td>-3022.7521</td>  <td>-16647.3795</td> <td>10601.8753</td>   <td>False</td>\n",
       "</tr>\n",
       "<tr>\n",
       "      <td>BPS East Boston High</td>           <td>BPS Lee Elementary</td>       <td>-14443.0986</td> <td>-28427.9104</td>  <td>-458.2869</td>   <td>True</td> \n",
       "</tr>\n",
       "<tr>\n",
       "      <td>BPS East Boston High</td>          <td>BPS Madison Park High</td>      <td>-208.5062</td>  <td>-13860.7978</td> <td>13443.7854</td>   <td>False</td>\n",
       "</tr>\n",
       "<tr>\n",
       "      <td>BPS East Boston High</td>           <td>BPS McKinley Middle</td>      <td>-15334.3792</td> <td>-28520.173</td>  <td>-2148.5854</td>   <td>True</td> \n",
       "</tr>\n",
       "<tr>\n",
       "      <td>BPS East Boston High</td>      <td>BPS Orchard Gardens K-8 Pilot</td> <td>-7922.2986</td>  <td>-22301.6801</td>  <td>6457.083</td>    <td>False</td>\n",
       "</tr>\n",
       "<tr>\n",
       "      <td>BPS East Boston High</td>          <td>BPS Quincy Elementary</td>     <td>-9517.8721</td>  <td>-23535.7437</td>  <td>4499.9995</td>   <td>False</td>\n",
       "</tr>\n",
       "<tr>\n",
       "      <td>BPS East Boston High</td>          <td>BPS Special Education</td>      <td>5968.2468</td>  <td>-5597.7745</td>   <td>17534.268</td>   <td>False</td>\n",
       "</tr>\n",
       "<tr>\n",
       "      <td>BPS East Boston High</td>               <td>Curley K-8</td>           <td>-9066.7996</td>  <td>-22747.1517</td>  <td>4613.5524</td>   <td>False</td>\n",
       "</tr>\n",
       "<tr>\n",
       "      <td>BPS East Boston High</td>          <td>Henderson Elementary</td>      <td>-12841.4556</td> <td>-26668.3684</td>  <td>985.4573</td>    <td>False</td>\n",
       "</tr>\n",
       "<tr>\n",
       "      <td>BPS East Boston High</td>            <td>Jackson/Mann K-8</td>        <td>-10705.6508</td> <td>-24933.2862</td>  <td>3521.9846</td>   <td>False</td>\n",
       "</tr>\n",
       "<tr>\n",
       "      <td>BPS East Boston High</td>              <td>Umana Middle</td>          <td>-5559.7955</td>  <td>-19900.2782</td>  <td>8780.6872</td>   <td>False</td>\n",
       "</tr>\n",
       "<tr>\n",
       "     <td>BPS Human Resource Team</td>         <td>BPS Lee Elementary</td>       <td>-11420.3465</td> <td>-25405.1583</td>  <td>2564.4652</td>   <td>False</td>\n",
       "</tr>\n",
       "<tr>\n",
       "     <td>BPS Human Resource Team</td>        <td>BPS Madison Park High</td>      <td>2814.2459</td>  <td>-10838.0457</td> <td>16466.5375</td>   <td>False</td>\n",
       "</tr>\n",
       "<tr>\n",
       "     <td>BPS Human Resource Team</td>         <td>BPS McKinley Middle</td>      <td>-12311.6271</td> <td>-25497.4209</td>  <td>874.1667</td>    <td>False</td>\n",
       "</tr>\n",
       "<tr>\n",
       "     <td>BPS Human Resource Team</td>    <td>BPS Orchard Gardens K-8 Pilot</td> <td>-4899.5465</td>  <td>-19278.928</td>   <td>9479.8351</td>   <td>False</td>\n",
       "</tr>\n",
       "<tr>\n",
       "     <td>BPS Human Resource Team</td>        <td>BPS Quincy Elementary</td>      <td>-6495.12</td>   <td>-20512.9916</td>  <td>7522.7516</td>   <td>False</td>\n",
       "</tr>\n",
       "<tr>\n",
       "     <td>BPS Human Resource Team</td>        <td>BPS Special Education</td>      <td>8990.9989</td>  <td>-2575.0224</td>  <td>20557.0201</td>   <td>False</td>\n",
       "</tr>\n",
       "<tr>\n",
       "     <td>BPS Human Resource Team</td>             <td>Curley K-8</td>           <td>-6044.0475</td>  <td>-19724.3996</td>  <td>7636.3045</td>   <td>False</td>\n",
       "</tr>\n",
       "<tr>\n",
       "     <td>BPS Human Resource Team</td>        <td>Henderson Elementary</td>      <td>-9818.7035</td>  <td>-23645.6163</td>  <td>4008.2094</td>   <td>False</td>\n",
       "</tr>\n",
       "<tr>\n",
       "     <td>BPS Human Resource Team</td>          <td>Jackson/Mann K-8</td>        <td>-7682.8987</td>  <td>-21910.5341</td>  <td>6544.7367</td>   <td>False</td>\n",
       "</tr>\n",
       "<tr>\n",
       "     <td>BPS Human Resource Team</td>            <td>Umana Middle</td>          <td>-2537.0434</td>  <td>-16877.5261</td> <td>11803.4393</td>   <td>False</td>\n",
       "</tr>\n",
       "<tr>\n",
       "       <td>BPS Lee Elementary</td>           <td>BPS Madison Park High</td>     <td>14234.5924</td>   <td>222.8275</td>   <td>28246.3573</td>   <td>True</td> \n",
       "</tr>\n",
       "<tr>\n",
       "       <td>BPS Lee Elementary</td>            <td>BPS McKinley Middle</td>       <td>-891.2806</td>  <td>-14448.9223</td> <td>12666.3611</td>   <td>False</td>\n",
       "</tr>\n",
       "<tr>\n",
       "       <td>BPS Lee Elementary</td>       <td>BPS Orchard Gardens K-8 Pilot</td>   <td>6520.8</td>    <td>-8200.3107</td>  <td>21241.9108</td>   <td>False</td>\n",
       "</tr>\n",
       "<tr>\n",
       "       <td>BPS Lee Elementary</td>           <td>BPS Quincy Elementary</td>      <td>4925.2265</td>  <td>-9442.9749</td>   <td>19293.428</td>   <td>False</td>\n",
       "</tr>\n",
       "<tr>\n",
       "       <td>BPS Lee Elementary</td>           <td>BPS Special Education</td>     <td>20411.3454</td>   <td>8423.1288</td>   <td>32399.562</td>   <td>True</td> \n",
       "</tr>\n",
       "<tr>\n",
       "       <td>BPS Lee Elementary</td>                <td>Curley K-8</td>            <td>5376.299</td>   <td>-8662.8078</td>  <td>19415.4059</td>   <td>False</td>\n",
       "</tr>\n",
       "<tr>\n",
       "       <td>BPS Lee Elementary</td>           <td>Henderson Elementary</td>       <td>1601.643</td>   <td>-12580.3176</td> <td>15783.6037</td>   <td>False</td>\n",
       "</tr>\n",
       "<tr>\n",
       "       <td>BPS Lee Elementary</td>             <td>Jackson/Mann K-8</td>         <td>3737.4479</td>  <td>-10835.4756</td> <td>18310.3713</td>   <td>False</td>\n",
       "</tr>\n",
       "<tr>\n",
       "       <td>BPS Lee Elementary</td>               <td>Umana Middle</td>           <td>8883.3031</td>  <td>-5799.8141</td>  <td>23566.4204</td>   <td>False</td>\n",
       "</tr>\n",
       "<tr>\n",
       "      <td>BPS Madison Park High</td>          <td>BPS McKinley Middle</td>      <td>-15125.873</td>  <td>-28340.2498</td> <td>-1911.4961</td>   <td>True</td> \n",
       "</tr>\n",
       "<tr>\n",
       "      <td>BPS Madison Park High</td>     <td>BPS Orchard Gardens K-8 Pilot</td> <td>-7713.7923</td>  <td>-22119.3888</td>  <td>6691.8041</td>   <td>False</td>\n",
       "</tr>\n",
       "<tr>\n",
       "      <td>BPS Madison Park High</td>         <td>BPS Quincy Elementary</td>     <td>-9309.3659</td>  <td>-23354.1271</td>  <td>4735.3954</td>   <td>False</td>\n",
       "</tr>\n",
       "<tr>\n",
       "      <td>BPS Madison Park High</td>         <td>BPS Special Education</td>      <td>6176.753</td>   <td>-5421.8436</td>  <td>17775.3496</td>   <td>False</td>\n",
       "</tr>\n",
       "<tr>\n",
       "      <td>BPS Madison Park High</td>              <td>Curley K-8</td>           <td>-8858.2934</td>  <td>-22566.1972</td>  <td>4849.6104</td>   <td>False</td>\n",
       "</tr>\n",
       "<tr>\n",
       "      <td>BPS Madison Park High</td>         <td>Henderson Elementary</td>      <td>-12632.9494</td> <td>-26487.1225</td>  <td>1221.2238</td>   <td>False</td>\n",
       "</tr>\n",
       "<tr>\n",
       "      <td>BPS Madison Park High</td>           <td>Jackson/Mann K-8</td>        <td>-10497.1445</td> <td>-24751.2739</td>  <td>3756.9848</td>   <td>False</td>\n",
       "</tr>\n",
       "<tr>\n",
       "      <td>BPS Madison Park High</td>             <td>Umana Middle</td>          <td>-5351.2893</td>  <td>-19718.0578</td>  <td>9015.4793</td>   <td>False</td>\n",
       "</tr>\n",
       "<tr>\n",
       "       <td>BPS McKinley Middle</td>      <td>BPS Orchard Gardens K-8 Pilot</td>  <td>7412.0806</td>   <td>-6552.206</td>  <td>21376.3673</td>   <td>False</td>\n",
       "</tr>\n",
       "<tr>\n",
       "       <td>BPS McKinley Middle</td>          <td>BPS Quincy Elementary</td>      <td>5816.5071</td>  <td>-7775.2335</td>  <td>19408.2477</td>   <td>False</td>\n",
       "</tr>\n",
       "<tr>\n",
       "       <td>BPS McKinley Middle</td>          <td>BPS Special Education</td>      <td>21302.626</td>  <td>10256.9238</td>  <td>32348.3281</td>   <td>True</td> \n",
       "</tr>\n",
       "<tr>\n",
       "       <td>BPS McKinley Middle</td>               <td>Curley K-8</td>            <td>6267.5796</td>  <td>-6975.7856</td>  <td>19510.9447</td>   <td>False</td>\n",
       "</tr>\n",
       "<tr>\n",
       "       <td>BPS McKinley Middle</td>          <td>Henderson Elementary</td>       <td>2492.9236</td>  <td>-10901.7846</td> <td>15887.6318</td>   <td>False</td>\n",
       "</tr>\n",
       "<tr>\n",
       "       <td>BPS McKinley Middle</td>            <td>Jackson/Mann K-8</td>         <td>4628.7284</td>   <td>-9179.251</td>  <td>18436.7079</td>   <td>False</td>\n",
       "</tr>\n",
       "<tr>\n",
       "       <td>BPS McKinley Middle</td>              <td>Umana Middle</td>           <td>9774.5837</td>  <td>-4149.6445</td>  <td>23698.8119</td>   <td>False</td>\n",
       "</tr>\n",
       "<tr>\n",
       "  <td>BPS Orchard Gardens K-8 Pilot</td>     <td>BPS Quincy Elementary</td>     <td>-1595.5735</td>  <td>-16348.0942</td> <td>13156.9472</td>   <td>False</td>\n",
       "</tr>\n",
       "<tr>\n",
       "  <td>BPS Orchard Gardens K-8 Pilot</td>     <td>BPS Special Education</td>     <td>13890.5453</td>   <td>1444.3013</td>  <td>26336.7894</td>   <td>True</td> \n",
       "</tr>\n",
       "<tr>\n",
       "  <td>BPS Orchard Gardens K-8 Pilot</td>          <td>Curley K-8</td>            <td>-1144.501</td>  <td>-15576.6933</td> <td>13287.6913</td>   <td>False</td>\n",
       "</tr>\n",
       "<tr>\n",
       "  <td>BPS Orchard Gardens K-8 Pilot</td>     <td>Henderson Elementary</td>       <td>-4919.157</td>  <td>-19490.3499</td>  <td>9652.0359</td>   <td>False</td>\n",
       "</tr>\n",
       "<tr>\n",
       "  <td>BPS Orchard Gardens K-8 Pilot</td>       <td>Jackson/Mann K-8</td>        <td>-2783.3522</td>  <td>-17735.3337</td> <td>12168.6293</td>   <td>False</td>\n",
       "</tr>\n",
       "<tr>\n",
       "  <td>BPS Orchard Gardens K-8 Pilot</td>         <td>Umana Middle</td>           <td>2362.5031</td>  <td>-12696.8988</td>  <td>17421.905</td>   <td>False</td>\n",
       "</tr>\n",
       "<tr>\n",
       "      <td>BPS Quincy Elementary</td>         <td>BPS Special Education</td>     <td>15486.1189</td>   <td>3459.3528</td>  <td>27512.8849</td>   <td>True</td> \n",
       "</tr>\n",
       "<tr>\n",
       "      <td>BPS Quincy Elementary</td>              <td>Curley K-8</td>            <td>451.0725</td>   <td>-13620.9666</td> <td>14523.1116</td>   <td>False</td>\n",
       "</tr>\n",
       "<tr>\n",
       "      <td>BPS Quincy Elementary</td>         <td>Henderson Elementary</td>      <td>-3323.5835</td>  <td>-17538.1455</td> <td>10890.9785</td>   <td>False</td>\n",
       "</tr>\n",
       "<tr>\n",
       "      <td>BPS Quincy Elementary</td>           <td>Jackson/Mann K-8</td>        <td>-1187.7787</td>  <td>-15792.4307</td> <td>13416.8734</td>   <td>False</td>\n",
       "</tr>\n",
       "<tr>\n",
       "      <td>BPS Quincy Elementary</td>             <td>Umana Middle</td>           <td>3958.0766</td>  <td>-10756.5316</td> <td>18672.6848</td>   <td>False</td>\n",
       "</tr>\n",
       "<tr>\n",
       "      <td>BPS Special Education</td>              <td>Curley K-8</td>           <td>-15035.0464</td> <td>-26666.6589</td> <td>-3403.4339</td>   <td>True</td> \n",
       "</tr>\n",
       "<tr>\n",
       "      <td>BPS Special Education</td>         <td>Henderson Elementary</td>      <td>-18809.7024</td> <td>-30613.3415</td> <td>-7006.0632</td>   <td>True</td> \n",
       "</tr>\n",
       "<tr>\n",
       "      <td>BPS Special Education</td>           <td>Jackson/Mann K-8</td>        <td>-16673.8975</td> <td>-28944.5123</td> <td>-4403.2828</td>   <td>True</td> \n",
       "</tr>\n",
       "<tr>\n",
       "      <td>BPS Special Education</td>             <td>Umana Middle</td>          <td>-11528.0423</td> <td>-23929.3253</td>  <td>873.2408</td>    <td>False</td>\n",
       "</tr>\n",
       "<tr>\n",
       "           <td>Curley K-8</td>               <td>Henderson Elementary</td>       <td>-3774.656</td>  <td>-17656.4815</td> <td>10107.1696</td>   <td>False</td>\n",
       "</tr>\n",
       "<tr>\n",
       "           <td>Curley K-8</td>                 <td>Jackson/Mann K-8</td>        <td>-1638.8512</td>  <td>-15919.8585</td> <td>12642.1561</td>   <td>False</td>\n",
       "</tr>\n",
       "<tr>\n",
       "           <td>Curley K-8</td>                   <td>Umana Middle</td>           <td>3507.0041</td>  <td>-10886.432</td>  <td>17900.4403</td>   <td>False</td>\n",
       "</tr>\n",
       "<tr>\n",
       "      <td>Henderson Elementary</td>            <td>Jackson/Mann K-8</td>         <td>2135.8048</td>  <td>-12285.6603</td>  <td>16557.27</td>    <td>False</td>\n",
       "</tr>\n",
       "<tr>\n",
       "      <td>Henderson Elementary</td>              <td>Umana Middle</td>           <td>7281.6601</td>  <td>-7251.1473</td>  <td>21814.4675</td>   <td>False</td>\n",
       "</tr>\n",
       "<tr>\n",
       "        <td>Jackson/Mann K-8</td>                <td>Umana Middle</td>           <td>5145.8553</td>  <td>-9768.7208</td>  <td>20060.4314</td>   <td>False</td>\n",
       "</tr>\n",
       "</table>"
      ],
      "text/plain": [
       "<class 'statsmodels.iolib.table.SimpleTable'>"
      ]
     },
     "execution_count": 30,
     "metadata": {},
     "output_type": "execute_result"
    },
    {
     "data": {
      "image/png": "[encoded data removed]",
      "text/plain": [
       "<Figure size 720x432 with 1 Axes>"
      ]
     },
     "metadata": {},
     "output_type": "display_data"
    }
   ],
   "source": [
    "\"\"\" ANOVA analysis of total earnings by school\"\"\"\n",
    "\n",
    "# Remove substitute teachers:\n",
    "schools = schools[schools.department != 'BPS Substitute Teachers/Nurs']\n",
    "\n",
    "# Box plot:\n",
    "fig, ax = plt.subplots(figsize=(14,5))\n",
    "sns.boxplot(x='department', y='total', data=schools, ax=ax)\n",
    "ax.set_title('Boxplots of total earnings by school', fontsize=16)\n",
    "plt.xticks(rotation=45)\n",
    "plt.show()\n",
    "\n",
    "# OLS model:\n",
    "model = ols('total ~ department',\n",
    "                data=schools).fit()\n",
    "# ANOVA:                \n",
    "aov_table = anova_lm(model, typ=2)\n",
    "print(aov_table)\n",
    "\n",
    "# effect size\n",
    "esq_sm = aov_table['sum_sq'][0]/(aov_table['sum_sq'][0]+aov_table['sum_sq'][1])\n",
    "print('Effect size: {:.2f}% of the total earnings variance is explained by the associated school.'.format(esq_sm*100))\n",
    "\n",
    "# Tukey's comparison:\n",
    "tukey = pairwise_tukeyhsd(endog=schools['total'],     # Data\n",
    "                          groups=schools['department'],   # Groups\n",
    "                          alpha=0.05)          # Significance level\n",
    "\n",
    "tukey.plot_simultaneous()    # Plot group confidence intervals\n",
    "\n",
    "tukey.summary()              # See test summary"
   ]
  },
  {
   "cell_type": "markdown",
   "metadata": {},
   "source": [
    "The boxplots show high variance for earnings totals across select schools. The low variance for ***BPS Boston Latin*** could be due to low turnover since the data has not been adjusted for mid-year employment changes. Supporting the theory of low turnover are the next two lowest variance schools, ***BPS Madison Park High***, the only vocational school in Boston, and ***BPS Special Education***. These are two specialist schools that would imply teachers transfering to other schools is less likely. \n",
    "\n",
    "Overall the ANOVA results suggest teacher income is dependent on which school they teach at. Only about 6% of the variance in total earnings can be explained by the associated school. However, many schools are similar to each other and cannot be statistically distinguished by total earnings alone."
   ]
  },
  {
   "cell_type": "code",
   "execution_count": null,
   "metadata": {},
   "outputs": [],
   "source": [
    "\"\"\"\n",
    "compound annual growth rate\n",
    "\n",
    "1. An arbitrary limit is set on \"first\" since low earnings are often not full time positions\n",
    "2. An arbitrary cap on the growth rate result is needed for new hires whose first year earnings are not a full year\n",
    "3. Negative growth is not allowed (part-time, retirement, resignation, termination, etc.)\n",
    "\"\"\"\n",
    "\n",
    "def cagr(first, last, periods=1): \n",
    "    if (first < 40000):\n",
    "        return np.nan\n",
    "    x = ((last/first) ** (1/periods) - 1 ) * 100\n",
    "    if ((x > 22) & (periods == 1)) | (x < 0) : \n",
    "        return np.nan\n",
    "    return x"
   ]
  },
  {
   "cell_type": "code",
   "execution_count": null,
   "metadata": {
    "scrolled": false
   },
   "outputs": [],
   "source": [
    "# pivot earnings data to show annual earnings by name:\n",
    "growth = pd.pivot_table(earnings, columns='year', index=['name'], values='regular')\\\n",
    "                    .reset_index()\\\n",
    "                    .apply(pd.to_numeric, errors='ignore')\n",
    "\n",
    "# calculate CAGR for all available years:\n",
    "years = (earnings.year.unique())\n",
    "for previous, following in zip(years, years[1:]):\n",
    "    growth['yoy' + str(following)] = growth.apply(lambda x: cagr(x[previous], x[following]), axis=1)\n",
    "\n",
    "# drop names with no qualified CAGR entries:\n",
    "c = growth.iloc[0:, -(len(years)-1):].columns\n",
    "growth = growth.dropna(subset=c, how='all')\n",
    "\n",
    "# merge with 'titles_clean' (both first and last) and 'dept_clean' (only the most recent):\n",
    "titles = earnings.groupby('name')[['title_clean', 'dept_clean']]\\\n",
    "                 .agg({'title_clean':['first', 'last'], 'dept_clean':'last'})\\\n",
    "                 .reset_index()\n",
    "\n",
    "# avoid multiindex issues:\n",
    "titles.columns = ['_'.join(tup).rstrip('_') for tup in titles.columns.values]\n",
    "\n",
    "# merge dataframes:\n",
    "growth_title = growth.merge(titles, how='left', on='name')\n",
    "\n",
    "# calculate compound annual growth rate for all available years:\n",
    "\n",
    "growth_title['cagr_all'] = growth_title.apply(lambda y: cagr(y[2011], y[2011+len(years)-1], len(years)-1), axis=1)\n",
    "growth_title.info()\n"
   ]
  },
  {
   "cell_type": "markdown",
   "metadata": {},
   "source": [
    "There are over 1000 unique job titles and 50 departments in the earnings dataset. In order to prioritize the analysis, subsets will sometimes be generated to focus on the top 10:"
   ]
  },
  {
   "cell_type": "code",
   "execution_count": null,
   "metadata": {},
   "outputs": [],
   "source": [
    "# get top 10 titles by number of employees\n",
    "\n",
    "titles_top10 = growth_title[growth_title['title_clean_first'] == growth_title['title_clean_last']]\\\n",
    "                .groupby('title_clean_first')\\\n",
    "                .agg('size')\\\n",
    "                .sort_values(ascending=False)\\\n",
    "                .index[:10]\n",
    "\n",
    "# keep only growth rate columns ('yoy...') and top 10 title rows\n",
    "\n",
    "payraise = growth_title.iloc[:, len(years)+1:(len(years)*2)+1]\n",
    "payraise = payraise[payraise['title_clean_first'].isin(titles_top10)]\n",
    "\n",
    "# calculate means and mean of means\n",
    "\n",
    "payraise = payraise.set_index('title_clean_first')\n",
    "payraise['mean_rows'] = payraise.stack().groupby(level=0).mean()\n",
    "payraise  = payraise.groupby(payraise.index).agg('mean')\n",
    "payraise = payraise[::-1]\n",
    "\n",
    "# append all years cagr:\n",
    "\n",
    "cagr_all = growth_title[['title_clean_first', 'cagr_all']]\n",
    "cagr_all = cagr_all.groupby('title_clean_first')[['title_clean_first', 'cagr_all']].agg('mean')\n",
    "payraise = payraise.merge(cagr_all, how='left', left_index=True, right_index=True)\n",
    "payraise.loc['mean_columns'] = payraise.mean()\n",
    "print(payraise)\n",
    "sns.heatmap(payraise.drop('mean_columns').drop(['mean_rows', 'cagr_all'], axis=1), annot=True, cmap=\"YlGnBu\")\n",
    "plt.title('Mean earnings growth by year')\n",
    "plt.show()"
   ]
  },
  {
   "cell_type": "code",
   "execution_count": null,
   "metadata": {},
   "outputs": [],
   "source": [
    "# pay raises by year\n",
    "\n",
    " \n",
    "# plot\n",
    "ax = payraise.drop('mean_columns').drop(columns=['mean_rows', 'cagr_all']).T.plot(figsize=(10,6), xticks=[0,1,2,3,4,5])\n",
    "ax.set_ylabel('Percent')\n",
    "ax.set_title('YOY regular earnings increase (excluding promotions)', fontsize=14)\n",
    "plt.show()\n",
    "\n",
    "# pay raises - all years\n",
    "ax = payraise.drop('mean_columns').sort_values('cagr_all', ascending=False).iloc[:,-1].T.plot(kind='bar',figsize=(10,6), xticks=[0,1,2,3,4,5])\n",
    "ax.set_ylabel('Percent')\n",
    "ax.set_title('All years, regular earnings increase (excluding promotions)', fontsize=14)\n",
    "plt.show()\n"
   ]
  },
  {
   "cell_type": "markdown",
   "metadata": {},
   "source": [
    "The most interesting observation from these charts are the two spikes in regular earnings growth rates, 15% for police officers in 2014 and 17% for police detectives in 2016. While this may seem at first very generous, it was preceded by several years of virtually no regular earnings increases. In the end, the average growth rate is about 5% annually for both job titles, which is only slightly higher than most other job titles. More years of earnings data would be needed to \n",
    "\n",
    "The only job title with a higher average regular earnings growth rate is \"Paraprofessional\". Paraprofessional is typically not a steady, full time career. This can make the growth rate artificially high.  "
   ]
  },
  {
   "cell_type": "code",
   "execution_count": null,
   "metadata": {},
   "outputs": [],
   "source": [
    "# Extract growth columns\n",
    "c = [k for k in growth_title.columns if 'yoy' in str(k)]\n",
    "growth_pred = growth_title[c].fillna(0)\n",
    "\n",
    "# do I need to convert year to number?\n",
    "\n",
    "growth_pred.columns = list(range(len(years)-1))\n",
    "\n",
    "\n",
    "X = growth_pred.drop(5, axis=1).stack().reset_index().drop('level_0', axis=1)\n",
    "X = X.rename(columns={'level_1': 'year', 0: 'cagr'})\n",
    "print(X.tail(20))\n",
    "# y = pd.factorize(growth_title['title_clean_first'])\n",
    "y = growth_title['yoy2017'].fillna(0)\n",
    "\n",
    "\n",
    "# X_train, X_test, y_train, y_test = train_test_split(X, y, test_size=0.2, random_state=26)\n",
    "\n",
    "# logistic regression:\n",
    "# rc = RidgeClassifier()\n",
    "# rc.fit(X_train, y_train)\n",
    "# cv_scores = cross_val_score(rc, X_train, y_train, cv=10, scoring='roc_auc')\n",
    "# print('mean cv score:', np.mean(cv_scores), '\\n')\n",
    "\n",
    "# # hyper-parameter tuning\n",
    "# param_grid = {'C': [0.001, 0.1, 1, 10, 100]}\n",
    "\n",
    "# gs = GridSearchCV(lrc, param_grid, cv=10)\n",
    "# gs.fit(X_train, y_train)\n",
    "# print(gs.best_params_)\n",
    "# print(gs.best_score_)\n",
    "# cv_scores = cross_val_score(lrc, X, y, cv=10, scoring='roc_auc')\n",
    "# print('mean cv score:', np.mean(cv_scores), '\\n')"
   ]
  },
  {
   "cell_type": "code",
   "execution_count": null,
   "metadata": {},
   "outputs": [],
   "source": [
    "# keep only growth rate columns ('yoy...') and limit titles\n",
    "titles_4plot = ['Police Officer', 'Police Detective', 'Police Sergeant']\n",
    "payraise = growth_title.iloc[:, len(years)+1:(len(years)*2)+1]\n",
    "payraise = payraise[payraise['title_clean_first'].isin(titles_4plot)].fillna(0)\n",
    "\n",
    "#plot\n",
    "sns.pairplot(payraise, hue='title_clean_first')\n"
   ]
  },
  {
   "cell_type": "code",
   "execution_count": null,
   "metadata": {},
   "outputs": [],
   "source": [
    "# extract 10 largest departments\n",
    "departments = earnings[earnings['year'] == 2017].groupby('dept_clean')['name'].agg(np.size).nlargest(10)\n",
    "dept_list = departments.index\n",
    "departments = earnings[(earnings['dept_clean'].isin(dept_list)) & (earnings['year'] == 2017)] \\\n",
    "                    .rename(index=str, columns={'dept_clean': 'Department'})  # for plot legend"
   ]
  },
  {
   "cell_type": "code",
   "execution_count": null,
   "metadata": {},
   "outputs": [],
   "source": [
    "# extract 10 most common job titles\n",
    "titles = earnings[earnings['year'] == 2017].groupby('title_clean')['name'].agg(np.size).nlargest(10)\n",
    "titles_list = titles.index\n",
    "titles = earnings[(earnings['title_clean'].isin(titles_list)) & (earnings['year'] == 2017)] \\\n",
    "                .rename(index=str, columns={'title_clean': 'Job Title'})  # for plot legend"
   ]
  },
  {
   "cell_type": "code",
   "execution_count": null,
   "metadata": {},
   "outputs": [],
   "source": [
    "usecols = ['regular', 'retro', 'other', 'overtime', 'injured', 'detail']\n",
    "g = sns.pairplot(departments, hue='Department', vars=usecols, plot_kws={\"s\": 20}, palette=\"bright\")\n",
    "g.fig.subplots_adjust(top=.93)\n",
    "g.fig.suptitle('Pairplots of 2017 numerical columns\\nTop 10 departments', fontsize=16)\n",
    "plt.show()"
   ]
  },
  {
   "cell_type": "code",
   "execution_count": null,
   "metadata": {
    "scrolled": false
   },
   "outputs": [],
   "source": [
    "g = sns.pairplot(titles, hue='Job Title', vars=usecols, plot_kws={\"s\": 20}, palette=\"bright\")\n",
    "g.fig.subplots_adjust(top=.93)\n",
    "g.fig.suptitle('Pairplots of 2017 numerical columns\\nTop 10 job titles', fontsize=16)\n",
    "plt.show()"
   ]
  },
  {
   "cell_type": "markdown",
   "metadata": {},
   "source": [
    "The paired scatter plots above show the relationship between all of the numerical columns in the dataframe with exception of \"Quinn\" which is an education incentive specific to the police department, and \"Total\", which is the sum of the numerical columns. \n",
    "\n",
    "A few general observations follow:\n",
    "\n",
    "- The charts are dominated by the highest paid employees: Police and fire fighters. \n",
    "- \"Retro\" payments are almost exclusive to the police department.\n",
    "- \"Overtime\" is primarily for middle income employees. Salaried employees don't usually get overtime pay and lower income employees get overtime pay proportional to their income.\n",
    "- \"Injured\" pay is mostly for police and fire fighters, and it appears to replace \"regular\" pay.\n",
    "- \"Detail\" and \"overtime\" scatter plots have similar shapes and may possibly be alternative categories for similar compensation."
   ]
  },
  {
   "cell_type": "code",
   "execution_count": null,
   "metadata": {},
   "outputs": [],
   "source": [
    "\"\"\" \n",
    "dataset focused on 'normal' income levels with both regular and injured earnings types\n",
    "\"\"\"\n",
    "injured = earnings[((earnings.injured + earnings.regular) > 50000)  & (earnings.injured > 5000)] # & (earnings.year == 2017)]\n",
    "print('2017 number of employees:', injured.shape[0])\n",
    "sns.regplot(x='regular', y='injured', data=injured)\n",
    "plt.show()"
   ]
  },
  {
   "cell_type": "code",
   "execution_count": null,
   "metadata": {
    "scrolled": false
   },
   "outputs": [],
   "source": [
    "m = ols('regular ~ injured',injured).fit()\n",
    "print(m.summary())"
   ]
  },
  {
   "cell_type": "code",
   "execution_count": null,
   "metadata": {},
   "outputs": [],
   "source": [
    "# predict injured pay from other earnings categories\n",
    "# remove non-numeric columns as well as \"total\" \n",
    "X = injured.drop(['name', 'department', 'title', 'injured', 'total', 'zip', 'year', 'title_clean', 'dept_clean'], axis=1)\n",
    "print(X.shape)\n",
    "# factorize job titles\n",
    "y = injured['injured']\n",
    "\n",
    "# split into training and test datasets\n",
    "X_train, X_test, y_train, y_test = train_test_split(X, y, test_size=0.3, random_state=26)\n",
    "\n",
    "\n",
    "# Instantiate a lasso regressor: lasso\n",
    "lasso = Lasso(alpha=1.0, normalize=True, random_state=26)\n",
    "\n",
    "# Fit the regressor to the data\n",
    "lasso.fit(X_train, y_train)\n",
    "\n",
    "sgdr.fit(X_train, y_train)\n",
    "\n",
    "# Compute and print the coefficients\n",
    "lasso_coef = lasso.coef_\n",
    "\n",
    "# Plot the coefficients\n",
    "plt.plot(range(len(X.columns)), lasso_coef)\n",
    "plt.xticks(range(len(X.columns)), X.columns.values, rotation=60)\n",
    "plt.margins(0.02)\n",
    "plt.show()\n",
    "\n",
    "r_sq = lasso.score(X_test, y_test)\n",
    "print('The linear regression model explains {:.2f}% of the injured earnings prediction variance.'.format(r_sq*100))\n"
   ]
  },
  {
   "cell_type": "code",
   "execution_count": null,
   "metadata": {},
   "outputs": [],
   "source": [
    "print(X_test.shape)\n",
    "# lasso.feature_importances_  \n",
    "model = SelectFromModel(lasso, prefit=True)\n",
    "X_new = model.transform(X_test)\n",
    "print(X_new.shape)\n",
    "# importances = pd.DataFrame([X_test.columns, lasso.feature_importances_])\\\n",
    "#                 .T.rename(columns={0:'feature', 1:'importance'})\\\n",
    "#                 .sort_values(by='importance', ascending=False)\n",
    "# print(importances)"
   ]
  },
  {
   "cell_type": "code",
   "execution_count": null,
   "metadata": {},
   "outputs": [],
   "source": [
    "# Plot the feature importances of the lasso regressor\n",
    "fig, ax = plt.subplots(facecolor='powderblue', figsize=(8,5))\n",
    "importances.plot('feature', 'importance', kind='bar', color=\"b\", yerr='std', align=\"center\", ax=ax)\n",
    "plt.title('Feature importances', fontsize=14)\n",
    "plt.ylabel('importance')\n",
    "ax.set_xticklabels(importances['feature'], rotation=0, fontsize=14)\n",
    "plt.show()"
   ]
  },
  {
   "cell_type": "code",
   "execution_count": null,
   "metadata": {},
   "outputs": [],
   "source": [
    "# logistic regression:\n",
    "lrc = LogisticRegression()\n",
    "lrc.fit(X_train, y_train)\n",
    "cv_scores = cross_val_score(lrc, X_train, y_train, cv=10, scoring='roc_auc')\n",
    "print('mean cv score:', np.mean(cv_scores), '\\n')\n",
    "\n",
    "# hyper-parameter tuning\n",
    "param_grid = {'C': [0.001, 0.1, 1, 10, 100]}\n",
    "\n",
    "gs = GridSearchCV(lrc, param_grid, cv=10)\n",
    "gs.fit(X_train, y_train)\n",
    "print(gs.best_params_)\n",
    "print(gs.best_score_)\n",
    "cv_scores = cross_val_score(lrc, X, y, cv=10, scoring='roc_auc')\n",
    "print('mean cv score:', np.mean(cv_scores), '\\n')\n"
   ]
  },
  {
   "cell_type": "code",
   "execution_count": null,
   "metadata": {},
   "outputs": [],
   "source": [
    "# train a decision tree classifier:\n",
    "dtc = DecisionTreeClassifier(max_depth=2, min_samples_split=100)\n",
    "dtc.fit(X_train, y_train)\n",
    "\n",
    "# metrics:\n",
    "print('Score:', dtc.score(X_test, y_test))\n",
    "cm = metrics.confusion_matrix(y, dtc.predict(X))\n",
    "print('Confusion matrix:', '\\n', cm)\n",
    "accuracy = (cm[0][0] + cm[1][1])/pol_ff.shape[0]\n",
    "a2 = metrics.accuracy_score(dtc.predict(X_test), y_test)\n",
    "print('Accuracy:', accuracy, '\\n', a2)\n",
    "cv_scores = cross_val_score(dtc, X, y, cv=10)\n",
    "print('mean cv score:', np.mean(cv_scores), '\\n')\n"
   ]
  },
  {
   "cell_type": "code",
   "execution_count": null,
   "metadata": {
    "scrolled": false
   },
   "outputs": [],
   "source": [
    "dot_data = export_graphviz(dtc, out_file=None) \n",
    "graph = graphviz.Source(dot_data) \n",
    "graph\n"
   ]
  },
  {
   "cell_type": "code",
   "execution_count": null,
   "metadata": {
    "scrolled": false
   },
   "outputs": [],
   "source": [
    "# train a random forest classifier:\n",
    "rfc = RandomForestClassifier(n_estimators=100, max_depth=8, min_samples_split=20)\n",
    "rfc.fit(X_train, y_train)\n",
    "\n",
    "# metrics:\n",
    "print('Score:', rfc.score(X_test, y_test))\n",
    "cm = metrics.confusion_matrix(y, rfc.predict(X))\n",
    "print('Confusion matrix:', '\\n', cm)\n",
    "accuracy = (cm[0][0] + cm[1][1])/pol_ff.shape[0]\n",
    "a2 = metrics.accuracy_score(rfc.predict(X_test), y_test)\n",
    "print('Accuracy:', accuracy, '\\n', a2)\n",
    "cv_scores = cross_val_score(rfc, X, y, cv=10)\n",
    "print('mean cv score:', np.mean(cv_scores), '\\n')\n",
    "\n",
    "# generate feature importances and standard deviations dataframe\n",
    "std = np.std([tree.feature_importances_ for tree in rfc.estimators_], axis=0)\n",
    "importances = pd.DataFrame([X_test.columns, rfc.feature_importances_, std])\\\n",
    "                .T.rename(columns={0:'feature', 1:'importance', 2:'std'})\\\n",
    "                .sort_values(by='importance', ascending=False)\n",
    "print(importances)"
   ]
  },
  {
   "cell_type": "code",
   "execution_count": null,
   "metadata": {},
   "outputs": [],
   "source": [
    "# Plot the feature importances of the forest\n",
    "fig, ax = plt.subplots(facecolor='powderblue', figsize=(8,5))\n",
    "importances.plot('feature', 'importance', kind='bar', color=\"b\", yerr='std', align=\"center\", ax=ax)\n",
    "plt.title('Feature importances', fontsize=14)\n",
    "plt.ylabel('importance')\n",
    "ax.set_xticklabels(importances['feature'], rotation=0, fontsize=14)\n",
    "plt.show()"
   ]
  },
  {
   "cell_type": "code",
   "execution_count": null,
   "metadata": {},
   "outputs": [],
   "source": [
    "by_dept = earnings.groupby('dept_clean')['total'].agg(np.sum)\n",
    "plt.pie(by_dept, labels=by_dept.index)\n",
    "plt.axis('equal')\n",
    "plt.show()"
   ]
  },
  {
   "cell_type": "markdown",
   "metadata": {},
   "source": [
    "Almost half of the total payroll goes towards the school department and almost one third towards the police and fire departments. The remaining payroll is spread among 49 smaller departments."
   ]
  },
  {
   "cell_type": "code",
   "execution_count": null,
   "metadata": {},
   "outputs": [],
   "source": [
    "growth = pd.pivot_table(earnings, columns='year', index=['name', 'title_clean', 'dept_clean'], values='total')\n",
    "print('Unique employees, 2011-2017:', growth.shape[0])\n",
    "growth = growth.dropna()\n",
    "growth['cagr'] = (growth.iloc[:,-1] / growth.iloc[:,-5]) ** (1/(len(growth.columns)-1)) - 1\n",
    "growth = growth[growth['cagr'] > 0].reset_index() # filter retirees etc.\n",
    "print('Continuously employed, 2011-2017', growth.shape[0])\n",
    "growth = growth.groupby('title_clean')['name','cagr'].agg({'name':np.size, 'cagr':np.mean})\n",
    "growth = growth[growth['name'] > 50]\n",
    "growth"
   ]
  },
  {
   "cell_type": "code",
   "execution_count": null,
   "metadata": {},
   "outputs": [],
   "source": [
    "# total payroll by year\n",
    "total_payroll = earnings.groupby(earnings['year'])[['regular', 'total', 'name']]\\\n",
    "                        .agg({'regular': np.sum, 'total': np.sum, 'name': 'count'})\\\n",
    "                        .reset_index()\\\n",
    "                        .set_index('year')\n",
    "total_payroll['epc'] = total_payroll['total'] / total_payroll['name'] # average total earnings per capita\n",
    "total_payroll['rpc'] = total_payroll['regular'] / total_payroll['name'] # average regular earnings per capita\n",
    "total_payroll = total_payroll.reset_index()\n",
    "\n",
    "\"\"\" \n",
    "Average wage index (AWI) for the United States\n",
    "Source: https://www.ssa.gov/oact/cola/awidevelop.html\n",
    "\"\"\"\n",
    "total_payroll['awi'] = pd.Series([42979.61, 44321.67, 44888.16, 46481.52, 48098.63, 48642.15]) # AWI, years 2011-2016\n",
    "\n",
    "\"\"\"\n",
    "City of Boston population estimates\n",
    "https://www.census.gov/quickfacts/fact/table/bostoncitymassachusetts/PST045216\n",
    "2017 data is extrapolated from 2011-2016 data\n",
    "\"\"\"\n",
    "\n",
    "year_actual, pop_actual = np.array([2011, 2012, 2013, 2014, 2015, 2016]), \\\n",
    "                        np.array([630195, 641911, 651090, 659180, 665984, 673184])\n",
    "f = interpolate.interp1d(year_actual, pop_actual, fill_value='extrapolate')\n",
    "population = np.append(pop_actual, f(2017))\n",
    "\n",
    "fig, ((ax1, ax2), (ax3, ax4)) = plt.subplots(2, 2, figsize=(10, 8))\n",
    "\n",
    "x = total_payroll['year']\n",
    "\n",
    "# Total payroll by year\n",
    "ax1.bar(x, total_payroll['total']/1000000)\n",
    "ax1.set_xlabel('year')\n",
    "ax1.set_ylabel('annual payroll expenditure (millions $)')\n",
    "ax1.set_title('Total payroll by year')\n",
    "\n",
    "# City population\n",
    "ax2.bar(x, population/1000)\n",
    "ax2.set_xlabel('year')\n",
    "ax2.set_ylabel('Number of residents (thousands)')\n",
    "ax2.set_title('City population (2017 estimated)')\n",
    "\n",
    "# Employees per year\n",
    "ax3.bar(x, total_payroll['name'])\n",
    "ax3.set_xlabel('year')\n",
    "ax3.set_ylabel('Number of employees')\n",
    "ax3.set_title('Employees per year')\n",
    "\n",
    "# Average earnings per employee\n",
    "ax4.bar(x, total_payroll['epc'])\n",
    "ax4.plot(x, total_payroll['rpc'], alpha=1, color='r', linewidth=4)\n",
    "ax4.plot(x, total_payroll['awi'], color='y', linewidth=4)\n",
    "ax4.set_xlabel('year')\n",
    "ax4.set_ylabel('average earnings ($)')\n",
    "ax4.set_title('Average earnings per employee')\n",
    "ax4.legend(['regular earnings', 'SSA average wage index', 'total earnings'])\n",
    "ax4.set_ylim(0, 100000)\n",
    "\n",
    "plt.tight_layout()\n",
    "plt.show()"
   ]
  },
  {
   "cell_type": "markdown",
   "metadata": {},
   "source": [
    "The plots above show that the rate of payroll growth is slowing in the past few years. The number of employees has not grown since 2013 despite a growing population and the average earnings per employee are nearly stagnant since 2015."
   ]
  },
  {
   "cell_type": "code",
   "execution_count": null,
   "metadata": {},
   "outputs": [],
   "source": [
    "teachers = earnings[(earnings['year'] == 2017) & (earnings['title_clean'] == 'Teacher')][['regular', 'department']]\n",
    "teachers.plot(kind='hist', bins=30, title='Histogram of Teacher\\'s regular earnings')\n",
    "plt.xlabel('regular earnings')\n",
    "plt.show()"
   ]
  },
  {
   "cell_type": "markdown",
   "metadata": {},
   "source": [
    "Three modes are visible in the histogram plot. The first at around \\$20,000 could be due to part time work, new hires, retirees, etc. The third at around \\$100,000 is what is generally considered a teacher's salary in Boston. The second between \\$60,000 and \\$80,000 is worth looking into. The chart below suggests that the title \"Teacher\" may have been inappropriately given to "
   ]
  },
  {
   "cell_type": "code",
   "execution_count": null,
   "metadata": {},
   "outputs": [],
   "source": [
    "# separate out the employees from the second mode from $60-85K\n",
    "teachers70 = earnings[(earnings['year'] == 2017) \\\n",
    "                      & (earnings['title_clean'] == 'Teacher') \\\n",
    "                      & (earnings['regular'] > 60000) \\\n",
    "                      & (earnings['regular'] < 85000)] \\\n",
    "                      .groupby('department')\\\n",
    "                     [['regular', 'department']]\\\n",
    "                      .agg([np.median, np.size])\\\n",
    "                    .reset_index()\n",
    "teachers70.columns = ['department', 'median', 'employees']\n",
    "teachers70 = teachers70.sort_values(by='employees', ascending=False)[:20]\n",
    "    \n",
    "# for comparison: departments by size:\n",
    "bps_depts = earnings[(earnings['year'] == 2017) \\\n",
    "                      & (earnings['title_clean'] == 'Teacher')] \\\n",
    "                     .groupby('department')\\\n",
    "                     ['name']\\\n",
    "                     .agg(np.size)\\\n",
    "            .reset_index()\n",
    "            \n",
    "bps_depts.columns = ['department', 'total_employees']\n",
    "\n",
    "teachers_merged = pd.merge(teachers70, bps_depts, how='left', on='department')\n",
    "                      \n",
    "print(teachers_merged)"
   ]
  },
  {
   "cell_type": "code",
   "execution_count": null,
   "metadata": {},
   "outputs": [],
   "source": [
    "# Median earnings by department for 2017. Small departments are excluded for better statistics.\n",
    "\n",
    "large_depts = pd.pivot_table(earnings[earnings.year==2017], values='total', aggfunc=[np.size, np.median], index='dept_clean')\n",
    "large_depts = large_depts[large_depts[('size', 'total')] > 200] \\\n",
    "              .sort_values([('median', 'total')], ascending=False)[:15]\n",
    "\n",
    "# for later use\n",
    "large_depts_list = large_depts.index \n",
    "\n",
    "large_depts.columns = large_depts.columns.droplevel(1)\n",
    "large_depts = large_depts['median']\n",
    "\n",
    "fig = plt.figure(figsize=(10, 8))                 \n",
    "large_depts.plot.barh().invert_yaxis()\n",
    "\n",
    "_ = plt.title('Median Earnings of Boston\\'s Largest Departments', fontsize=15)\n",
    "_ = plt.ylabel('Department')\n",
    "_ = plt.xlabel('Median earnings')\n",
    "_ = plt.rc('ytick', labelsize=12)\n",
    "_ = plt.rc('axes', labelsize=12)\n",
    "\n",
    "plt.show()"
   ]
  },
  {
   "cell_type": "code",
   "execution_count": null,
   "metadata": {},
   "outputs": [],
   "source": [
    "# plot earnings growth by department\n",
    "ld = pd.pivot_table(earnings, index='dept_clean', columns='year', values=['total'], aggfunc=np.median)\n",
    "ld.columns = ld.columns.droplevel()\n",
    "ld = ld.loc[large_depts_list].T # filter based on list above\n",
    "\n",
    "fig, ax = plt.subplots(figsize=(8,8))\n",
    "ld.plot(ax=ax)\n",
    "ax.legend(bbox_to_anchor=(1.1, 1.05))\n",
    "ax.set_title('median earnings growth by department')\n",
    "ax.set_ylabel('US-$')\n",
    "ax.set_xlabel('year')\n",
    "# ax.set_yscale('log')\n",
    "\n",
    "# cmap = plt.cm.hot\n",
    "# rcParams['axes.prop_cycle'] = cycler(color=cmap(np.linspace(0, 1, len(ld.columns))))\n",
    "\n",
    "plt.show()"
   ]
  },
  {
   "cell_type": "code",
   "execution_count": null,
   "metadata": {},
   "outputs": [],
   "source": [
    "# fire fighters vs. police officers\n",
    "\n",
    "ff = earnings[(earnings['title_clean'] == 'Police Officer')\\\n",
    "                             | (earnings['title_clean'] == 'Fire Fighter')]\n",
    "\n",
    "fig, (ax1, ax2) = plt.subplots(1, 2, figsize=(15, 6))\n",
    "ax1.set_title('Median total earnings of police officers and fire fighters')\n",
    "sns.violinplot(x='year', y='total', hue='title_clean', data=ff, split=True, ax=ax1,\n",
    "              inner='quartile', palette='RdBu_r')\n",
    "ax2.set_title('Median regular earnings of police officers and fire fighters')\n",
    "sns.violinplot(x='year', y='total', hue='title_clean', data=ff, split=True, ax=ax2,\n",
    "              inner='quartile', palette='RdBu_r')\n",
    "plt.show()"
   ]
  },
  {
   "cell_type": "code",
   "execution_count": null,
   "metadata": {},
   "outputs": [],
   "source": [
    "# fire fighters vs. police officers: Overtime\n",
    "\n",
    "ff = earnings[(earnings['title_clean'] == 'Police Officer')\\\n",
    "                             | (earnings['title_clean'] == 'Fire Fighter')]\n",
    "\n",
    "fig, ax= plt.subplots(figsize=(8, 6))\n",
    "ax.set_title('Median overtime earnings of police officers and fire fighters')\n",
    "sns.violinplot(x='year', y='overtime', hue='title_clean', data=ff, split=True, ax=ax,\n",
    "              inner='quartile', palette='RdBu_r')\n",
    "plt.show()"
   ]
  },
  {
   "cell_type": "code",
   "execution_count": null,
   "metadata": {},
   "outputs": [],
   "source": [
    "# What???\n",
    "\n",
    "retro = earnings[(earnings['title_clean'] == 'Police Officer')\\\n",
    "                             | (earnings['title_clean'] == 'Fire Fighter')]\n",
    "\n",
    "fig, ax = plt.subplots(figsize=(8, 6))\n",
    "ax.set_title('Median retro earnings of police officers and fire fighters')\n",
    "sns.violinplot(x='year', y='retro', hue='title_clean', data=ff, split=True, ax=ax,\n",
    "              inner='quartile', palette='RdBu_r')\n",
    "plt.show()"
   ]
  },
  {
   "cell_type": "code",
   "execution_count": null,
   "metadata": {},
   "outputs": [],
   "source": [
    "# retro earnings by year\n",
    "retro_by_year = pd.pivot_table(earnings[earnings.retro != 0], columns='year', values='retro', index='dept_clean', aggfunc=[np.size, np.sum]).agg(np.sum)\n",
    "print(retro_by_year)"
   ]
  },
  {
   "cell_type": "code",
   "execution_count": null,
   "metadata": {},
   "outputs": [],
   "source": [
    "# by dept\n",
    "retro_by_dept = pd.pivot_table(earnings[(earnings.year == 2014)], values='retro', index='dept_clean', aggfunc=np.sum).sort_values(by='retro', ascending=False)\n",
    "print(retro_by_dept[:10])"
   ]
  },
  {
   "cell_type": "code",
   "execution_count": null,
   "metadata": {},
   "outputs": [],
   "source": [
    "# by title\n",
    "retro_by_title = earnings[(earnings.year == 2014) \\\n",
    "                          & (earnings.dept_clean.isin(['Boston Police Department', \\\n",
    "                                                        'Boston Fire Department']))]\\\n",
    "                        .groupby('title_clean')\\\n",
    "                        ['retro']\\\n",
    "                        .agg(np.sum)\\\n",
    "                        .sort_values(ascending=False)\n",
    "print(retro_by_title[:10])\n"
   ]
  },
  {
   "cell_type": "code",
   "execution_count": null,
   "metadata": {},
   "outputs": [],
   "source": [
    "# by name 2016\n",
    "retro_by_name = earnings.loc[(earnings.year == 2016) & (earnings.title == 'Police Detective')]\\\n",
    "                    [['name', 'regular', 'retro']]\\\n",
    "                    .sort_values(by='retro', ascending=False)\n",
    "print(retro_by_name[:20])"
   ]
  },
  {
   "cell_type": "code",
   "execution_count": null,
   "metadata": {},
   "outputs": [],
   "source": [
    "greg = earnings.loc[earnings.name.str.startswith('Therriault')]\n",
    "greg"
   ]
  },
  {
   "cell_type": "code",
   "execution_count": null,
   "metadata": {},
   "outputs": [],
   "source": [
    "\"\"\"\n",
    "1. Obtain latitude and longitude data for US zip codes from\n",
    "https://www.census.gov/geo/maps-data/data/gazetteer2017.html\n",
    "\n",
    "2. Count number of employees by zip code\n",
    "\n",
    "3. Perform inner merge to get complete sets \n",
    "\n",
    "4. Filter Boston zip codes from suburban zip codes.\n",
    "\"\"\"\n",
    "zll = pd.read_csv('2017_Gaz_zcta_national.txt', sep='\\t', encoding = \"ISO-8859-1\", usecols=[0, 5, 6], names=['zip', 'lat', 'long'], header=0, dtype={'zip': object})\n",
    "\n",
    "zip_count = earnings[earnings.year == 2017].groupby('zip')['name'].agg(np.size).reset_index().rename(columns={'name': 'employees'})\n",
    "\n",
    "zip_df = pd.merge(zip_count, zll, on='zip', how='inner')\n",
    "\n",
    "# Read in Boston zipcode list\n",
    "boston = pd.read_csv('boston-zipcodes.csv', names=['zip'], header=None, dtype={'zip': object})\n",
    "\n",
    "# US population by zipcode (2010 Census)\n",
    "population = pd.read_csv('2010+Census+Population+By+Zipcode+(ZCTA).csv', encoding = \"ISO-8859-1\", usecols=[0, 1], names=['zip', 'pop'], header=0, dtype={'zip': object})\n",
    "population = population.groupby('zip')['pop'].agg(np.sum).reset_index()\n",
    "\n",
    "# generate various zip code maps\n",
    "boston = pd.merge(zip_df, boston, on='zip', how='inner')\n",
    "suburbs = zip_df[~zip_df['zip'].isin(boston.zip)]\n",
    "\n",
    "# by title\n",
    "teachers = earnings[(earnings['year'] == 2017) & (earnings['title_clean'] == 'Teacher')].groupby('zip')['name'].agg(np.size).reset_index().rename(columns={'name': 'teachers'})\n",
    "policemen = earnings[(earnings['year'] == 2017) & (earnings['title_clean'] == 'Police Officer')].groupby('zip')['name'].agg(np.size).reset_index().rename(columns={'name': 'police_officers'})\n",
    "firemen = earnings[(earnings['year'] == 2017) & (earnings['title_clean'] == 'Fire Fighter')].groupby('zip')['name'].agg(np.size).reset_index().rename(columns={'name': 'fire_fighters'})\n",
    "titles = teachers.merge(policemen, on='zip', how='outer')\\\n",
    "                .merge(firemen, on='zip', how='outer')\\\n",
    "                .merge(zll, on='zip', how='left')\\\n",
    "                .merge(population, on='zip', how='left')\\\n",
    "                .fillna(0)\n",
    "titles = titles[titles['pop'] >= 1] # avoid div by zero error (and nonsense data)\n",
    "titles['teachers_pc'] = titles['teachers'] / titles['pop'] * 100\n",
    "                \n",
    "# by income level \n",
    "rich = earnings[(earnings['year'] == 2017) & (earnings['total'] >= 81500)].groupby('zip')['name'].agg(np.size).reset_index().rename(columns={'name': 'employees'})\n",
    "poor = earnings[(earnings['year'] == 2017) & (earnings['total'] < 81500) & (earnings['total'] >= 19917)].groupby('zip')['name'].agg(np.size).reset_index().rename(columns={'name': 'employees'})\n",
    "rich = rich.merge(zll, on='zip', how='left').merge(population, on='zip', how='left')\n",
    "poor = poor.merge(zll, on='zip', how='left').merge(population, on='zip', how='left')\n",
    "rich = rich[rich['pop'] >= 1] # avoid div by zero error (and nonsense data)\n",
    "poor = poor[poor['pop'] >= 1] # avoid div by zero error (and nonsense data)\n",
    "rich['emp'] = rich['employees'] / rich['pop'] * 100\n",
    "poor['emp'] = poor['employees'] / poor['pop'] * 100\n",
    "\n",
    "# normalize \"rich\" employee count to match \"poor\":\n",
    "print(rich.employees.sum(), poor.employees.sum())\n",
    "# titles[titles['teachers_pc'] >1]\n",
    "\n",
    "rich.head()"
   ]
  },
  {
   "cell_type": "code",
   "execution_count": null,
   "metadata": {},
   "outputs": [],
   "source": [
    "# map image from open street maps\n",
    "osm_tiles = OSM()\n",
    "\n",
    "fig = plt.figure(figsize=(16, 16))\n",
    "ax = plt.axes(projection=osm_tiles.crs)\n",
    "\n",
    "# define map range\n",
    "img_extent = (-71.8, -70.5, 42.85, 41.8)\n",
    "ax.set_extent(img_extent, ccrs.PlateCarree())\n",
    "\n",
    "# add map image, state lines\n",
    "ax.add_image(osm_tiles, 9)\n",
    "states_provinces = cfeature.NaturalEarthFeature(\n",
    "        category='cultural',\n",
    "        name='admin_1_states_provinces_lines',\n",
    "        scale='10m',\n",
    "        facecolor='none')\n",
    "ax.add_feature(states_provinces, edgecolor='gray')\n",
    "\n",
    "# suburban zip codes with at least 10 employees\n",
    "suburbs_min10 = suburbs[suburbs['employees'] > 9]\n",
    "suburbs_min10.plot('long','lat', kind='scatter', marker='.', s=suburbs_min10['employees'].values * 10, c='employees', cmap=plt.cm.inferno, ax=ax, transform=ccrs.PlateCarree())\n",
    "\n",
    "ax.set_title('In which suburbs do Boston city employees live?', fontsize=15)\n",
    "plt.savefig('suburbs.png')\n",
    "plt.show()"
   ]
  },
  {
   "cell_type": "code",
   "execution_count": null,
   "metadata": {},
   "outputs": [],
   "source": [
    "fig, (ax1, ax2) = plt.subplots(ncols=2, subplot_kw={'projection': osm_tiles.crs}, figsize=(16, 8))\n",
    "\n",
    "# define map range\n",
    "img_extent = (-71.3, -70.9, 42.45, 42.2)\n",
    "ax1.set_extent(img_extent, ccrs.PlateCarree())\n",
    "ax2.set_extent(img_extent, ccrs.PlateCarree())\n",
    "\n",
    "# # add map image, state lines\n",
    "ax1.add_image(osm_tiles, 10)\n",
    "ax2.add_image(osm_tiles, 10)\n",
    "\n",
    "poor.plot('long','lat', kind='scatter', marker='.', s=poor['emp'].values*1000, c='emp', cmap=plt.cm.inferno, ax=ax1, transform=ccrs.PlateCarree())\n",
    "rich.plot('long','lat', kind='scatter', marker='.', s=rich['emp'].values*1000, c='emp', cmap=plt.cm.inferno, ax=ax2, transform=ccrs.PlateCarree())\n",
    "\n",
    "ax1.set_title('Lower income employees', fontsize=12)\n",
    "ax2.set_title('Higher income employees', fontsize=12)\n",
    "plt.suptitle('Wealth segregation (equal populations)', fontsize=18)\n",
    "plt.show()\n"
   ]
  },
  {
   "cell_type": "code",
   "execution_count": null,
   "metadata": {},
   "outputs": [],
   "source": [
    "fig = plt.figure(figsize=(16, 16))\n",
    "ax = plt.axes(projection=osm_tiles.crs)\n",
    "\n",
    "# define map range\n",
    "img_extent = (-71.8, -70.5, 42.85, 41.8)\n",
    "ax.set_extent(img_extent, ccrs.PlateCarree())\n",
    "\n",
    "# add map image, state lines\n",
    "ax.add_image(osm_tiles, 9)\n",
    "states_provinces = cfeature.NaturalEarthFeature(\n",
    "        category='cultural',\n",
    "        name='admin_1_states_provinces_lines',\n",
    "        scale='10m',\n",
    "        facecolor='none')\n",
    "ax.add_feature(states_provinces, edgecolor='gray')\n",
    "\n",
    "titles.plot('long','lat', kind='scatter', marker='.', s=titles['teachers_pc'].values * 1000, c='teachers_pc', cmap=plt.cm.inferno, ax=ax, transform=ccrs.PlateCarree())\n",
    "\n",
    "ax.set_title('Where do Boston\\'s public school teachers live?', fontsize=15)\n",
    "\n",
    "plt.show()"
   ]
  },
  {
   "cell_type": "code",
   "execution_count": null,
   "metadata": {
    "scrolled": false
   },
   "outputs": [],
   "source": [
    "fig = plt.figure(figsize=(16, 16))\n",
    "ax = plt.axes(projection=osm_tiles.crs)\n",
    "\n",
    "# define map range (city of Boston)\n",
    "img_extent = (-71.19, -70.985, 42.395, 42.23)\n",
    "ax.set_extent(img_extent, ccrs.PlateCarree())\n",
    "\n",
    "# add map image\n",
    "ax.add_image(osm_tiles, 12)\n",
    "\n",
    "# boston data\n",
    "boston.plot('long','lat', kind='scatter', marker='.', s=boston['employees'].values*5, c='employees', cmap=plt.cm.viridis, ax=ax, transform=ccrs.PlateCarree())\n",
    "\n",
    "ax.set_title('In which Boston neighborhoods do city employees live?', fontsize=16)\n",
    "\n",
    "plt.show()"
   ]
  },
  {
   "cell_type": "code",
   "execution_count": null,
   "metadata": {},
   "outputs": [],
   "source": [
    "\"\"\"\n",
    "Adjusted Gross Income (AGI) by zip code\n",
    "\n",
    "Available for years 1998 through 2015\n",
    "from:\n",
    "https://www.irs.gov/statistics/soi-tax-stats-individual-income-tax-statistics-2015-zip-code-data-soi\n",
    "\n",
    "data:\n",
    "https://www.irs.gov/pub/irs-soi/15zpallagi.csv\n",
    "data documentation:\n",
    "https://www.irs.gov/pub/irs-soi/15zpdoc.doc\n",
    "\n",
    "\"\"\"\n",
    "agi = pd.read_csv('15zpallagi.csv', encoding = \"ISO-8859-1\", usecols=['STATE', 'zipcode', 'agi_stub', 'N1', 'NUMDEP', 'A00100', 'A00200', 'A02650'], dtype={'zipcode': object})\n",
    "print(agi.head())\n",
    "agi['sum'] = agi['N1'] *  agi['A00100']\n",
    "agi = agi.groupby('zipcode').agg(np.sum).reset_index()\n",
    "\n",
    "agi['agi'] = agi['sum'] / agi['N1']"
   ]
  },
  {
   "cell_type": "code",
   "execution_count": null,
   "metadata": {
    "scrolled": false
   },
   "outputs": [],
   "source": [
    "fig, ax = plt.subplots(1, 1, figsize=(8, 8))\n",
    "zipcode = earnings.groupby('zip')['total'].agg([np.size, np.median]).sort_values(by='size', ascending=False).reset_index()[:100]\n",
    "zip_agi = pd.merge(zipcode, agi, left_on='zip', right_on='zipcode', how='left')\n",
    "ax.scatter(zip_agi['agi'], zip_agi['median'])\n",
    "ax.set_xlim(0, 1000000)\n",
    "ax.set_xlabel('adjusted gross income ($, by zipcode)')\n",
    "ax.set_ylabel('median income ($, by zipcode)')\n",
    "ax.set_title('income by agi of zipcode')\n",
    "# plt.xticks(rotation='vertical')\n",
    "# ax.locator_params(nbins=25, axis='x')\n",
    "plt.show()"
   ]
  },
  {
   "cell_type": "markdown",
   "metadata": {},
   "source": [
    "## Residency Requirement\n",
    "Boston city employees are required to live within city limits. The law is not strictly enforced and is confounded by state, federal and union regulations. \n",
    "\n",
    "https://www.boston.gov/departments/human-resources/residency-requirements-city-workers\n",
    "\n",
    "https://www.bostonglobe.com/metro/2016/01/13/mayor-walsh-seeks-strengthen-boston-residency-requirement-with-caveat/ZyG8xmkOsu0dMHgITSUOKN/story.html\n",
    "\n",
    "What does the distribution look like in 2017?"
   ]
  },
  {
   "cell_type": "code",
   "execution_count": null,
   "metadata": {},
   "outputs": [],
   "source": [
    "# Read in Boston zipcode list\n",
    "boston_zips = pd.read_csv('boston-zipcodes.csv', names=['bzips'], header=None)\n",
    "boston_zips = boston_zips.astype(str).apply(lambda x: '0' + x) # treat zipcodes as strings and add leading \"0\"\n",
    "\n",
    "# define resident and non-resident employees\n",
    "inzips = earnings.loc[(earnings.zip.isin(boston_zips.bzips) & (earnings.year == 2017))]\n",
    "outzips = earnings.loc[(~earnings.zip.isin(boston_zips.bzips) & (earnings.year == 2017))]\n",
    "residents = inzips.shape[0] /(inzips.shape[0] + outzips.shape[0]) * 100\n",
    "\n",
    "# income distribution\n",
    "in_earnings = inzips['total'].agg(np.median)\n",
    "print(in_earnings)\n",
    "out_earnings = outzips['total'].agg(np.median)\n",
    "zip_df = pd.DataFrame({'median earnings ($)': [in_earnings, out_earnings]}, index=['Residents', 'Non-residents'])\n",
    " \n",
    "# plot\n",
    "ax = zip_df.plot.bar(title='%s %% of city employees live in Boston (2017)'%(int(residents)), rot=0)\n",
    "ax.set_ylabel(\"median earnings ($)\")\n",
    "plt.show()"
   ]
  }
 ],
 "metadata": {
  "kernelspec": {
   "display_name": "Python 3",
   "language": "python",
   "name": "python3"
  },
  "language_info": {
   "codemirror_mode": {
    "name": "ipython",
    "version": 3
   },
   "file_extension": ".py",
   "mimetype": "text/x-python",
   "name": "python",
   "nbconvert_exporter": "python",
   "pygments_lexer": "ipython3",
   "version": "3.6.4"
  }
 },
 "nbformat": 4,
 "nbformat_minor": 2
}
