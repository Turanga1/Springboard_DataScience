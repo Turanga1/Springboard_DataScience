{
 "cells": [
  {
   "cell_type": "markdown",
   "metadata": {},
   "source": [
    "# Examining Racial Discrimination in the US Job Market\n",
    "\n",
    "### Background\n",
    "Racial discrimination continues to be pervasive in cultures throughout the world. Researchers examined the level of racial discrimination in the United States labor market by randomly assigning identical résumés to black-sounding or white-sounding names and observing the impact on requests for interviews from employers.\n",
    "\n",
    "### Data\n",
    "In the dataset provided, each row represents a resume. The 'race' column has two values, 'b' and 'w', indicating black-sounding and white-sounding. The column 'call' has two values, 1 and 0, indicating whether the resume received a call from employers or not.\n",
    "\n",
    "Note that the 'b' and 'w' values in race are assigned randomly to the resumes when presented to the employer."
   ]
  },
  {
   "cell_type": "markdown",
   "metadata": {},
   "source": [
    "### Exercises\n",
    "You will perform a statistical analysis to establish whether race has a significant impact on the rate of callbacks for resumes.\n",
    "\n",
    "Answer the following questions **in this notebook below and submit to your Github account**. \n",
    "\n",
    "   1. What test is appropriate for this problem? Does CLT apply?\n",
    "   2. What are the null and alternate hypotheses?\n",
    "   3. Compute margin of error, confidence interval, and p-value.\n",
    "   4. Write a story describing the statistical significance in the context or the original problem.\n",
    "   5. Does your analysis mean that race/name is the most important factor in callback success? Why or why not? If not, how would you amend your analysis?\n",
    "\n",
    "You can include written notes in notebook cells using Markdown: \n",
    "   - In the control panel at the top, choose Cell > Cell Type > Markdown\n",
    "   - Markdown syntax: http://nestacms.com/docs/creating-content/markdown-cheat-sheet\n",
    "\n",
    "\n",
    "#### Resources\n",
    "+ Experiment information and data source: http://www.povertyactionlab.org/evaluation/discrimination-job-market-united-states\n",
    "+ Scipy statistical methods: http://docs.scipy.org/doc/scipy/reference/stats.html \n",
    "+ Markdown syntax: http://nestacms.com/docs/creating-content/markdown-cheat-sheet\n",
    "****"
   ]
  },
  {
   "cell_type": "code",
   "execution_count": 1,
   "metadata": {
    "collapsed": true
   },
   "outputs": [],
   "source": [
    "# import modules\n",
    "\n",
    "import pandas as pd\n",
    "import numpy as np\n",
    "from scipy import stats, special\n",
    "import matplotlib.pyplot as plt\n",
    "import seaborn as sns\n",
    "sns.set()"
   ]
  },
  {
   "cell_type": "code",
   "execution_count": 2,
   "metadata": {},
   "outputs": [
    {
     "name": "stdout",
     "output_type": "stream",
     "text": [
      "  id ad  education  ofjobs  yearsexp  honors  volunteer  military  empholes  \\\n",
      "0  b  1          4       2         6       0          0         0         1   \n",
      "1  b  1          3       3         6       0          1         1         0   \n",
      "2  b  1          4       1         6       0          0         0         0   \n",
      "3  b  1          3       4         6       0          1         0         1   \n",
      "4  b  1          3       3        22       0          0         0         0   \n",
      "\n",
      "   occupspecific    ...      compreq  orgreq  manuf  transcom  bankreal trade  \\\n",
      "0             17    ...          1.0     0.0    1.0       0.0       0.0   0.0   \n",
      "1            316    ...          1.0     0.0    1.0       0.0       0.0   0.0   \n",
      "2             19    ...          1.0     0.0    1.0       0.0       0.0   0.0   \n",
      "3            313    ...          1.0     0.0    1.0       0.0       0.0   0.0   \n",
      "4            313    ...          1.0     1.0    0.0       0.0       0.0   0.0   \n",
      "\n",
      "  busservice othservice  missind  ownership  \n",
      "0        0.0        0.0      0.0             \n",
      "1        0.0        0.0      0.0             \n",
      "2        0.0        0.0      0.0             \n",
      "3        0.0        0.0      0.0             \n",
      "4        0.0        1.0      0.0  Nonprofit  \n",
      "\n",
      "[5 rows x 65 columns]\n"
     ]
    }
   ],
   "source": [
    "# read data\n",
    "\n",
    "data = pd.io.stata.read_stata('data/us_job_market_discrimination.dta')\n",
    "print(data.head())"
   ]
  },
  {
   "cell_type": "markdown",
   "metadata": {},
   "source": [
    "Q1. What test is appropriate for this problem? Does CLT apply?\n",
    "\n",
    "     This is an example of a Bernoulli trial. We can perform hypothesis testing on the success of call backs. CLT would apply if our sample size is large enough (N > 30)."
   ]
  },
  {
   "cell_type": "code",
   "execution_count": 3,
   "metadata": {},
   "outputs": [
    {
     "name": "stdout",
     "output_type": "stream",
     "text": [
      "Call backs for black sounding names: 157.0\n",
      "Call backs for white sounding names: 235.0\n",
      "Number of applications submitted, i.e. number of trials: 2435\n",
      "Success rate by race:\n",
      "b: 0.064 w: 0.097\n"
     ]
    },
    {
     "data": {
      "image/png": "[encoded data removed]",
      "text/plain": [
       "<matplotlib.figure.Figure at 0x23b4b110320>"
      ]
     },
     "metadata": {},
     "output_type": "display_data"
    }
   ],
   "source": [
    "# callbacks by race\n",
    "\n",
    "b = np.sum(data[data.race=='b'].call)\n",
    "w = np.sum(data[data.race=='w'].call)\n",
    "print('Call backs for black sounding names:', b)\n",
    "print('Call backs for white sounding names:', w)\n",
    "\n",
    "bc = data[data.race=='b'].call\n",
    "wc = data[data.race=='w'].call\n",
    "print('Number of applications submitted, i.e. number of trials:', len(bc))\n",
    "\n",
    "print('Success rate by race:')\n",
    "br = b/len(bc)\n",
    "wr = w/len(wc)\n",
    "print('b:', '{:.3f}'.format(br), 'w:', '{:.3f}'.format(wr))\n",
    "\n",
    "_ = sns.barplot(x=['black', 'white'], y=[b, w])\n",
    "_ = plt.ylabel('callbacks (count)')\n",
    "plt.show()"
   ]
  },
  {
   "cell_type": "markdown",
   "metadata": {},
   "source": [
    "Q2. What are the null and alternate hypotheses?\n",
    "\n",
    "       H0: There is no difference between call back rates for black and white sounding names\n",
    "       H1: There is a statistically significant difference, p: >= 0.05"
   ]
  },
  {
   "cell_type": "markdown",
   "metadata": {},
   "source": [
    "Q3. Compute margin of error, confidence interval, and p-value."
   ]
  },
  {
   "cell_type": "code",
   "execution_count": 4,
   "metadata": {},
   "outputs": [
    {
     "name": "stdout",
     "output_type": "stream",
     "text": [
      "Margin of error for 95% confidence: 0.0152554063499\n",
      "95% CI: 0.0167774478596 0.0472882605593\n",
      "z: 4.11555043573\n",
      "p = 1.93128260376e-05\n"
     ]
    }
   ],
   "source": [
    "se = ((br * (1-br))/len(bc) + (wr * (1-wr))/len(wc)) ** 0.5   # standard error\n",
    "me = 1.96 * se                                                # margin of error for 95% confidence\n",
    "print('Margin of error for 95% confidence:', me)\n",
    "\n",
    "diff = wr - br\n",
    "print('95% CI:', diff - me, diff + me)\n",
    "\n",
    "z = diff/se  # z score for H0: diff = 0\n",
    "\n",
    "print('z:', z)\n",
    "p = 1 - stats.norm.cdf(z)\n",
    "print('p =', p)"
   ]
  },
  {
   "cell_type": "markdown",
   "metadata": {},
   "source": [
    "Q4. Write a story describing the statistical significance in the context or the original problem.\n",
    "\n",
    "    The small p value indicates that our original hypothesis must be rejected, i.e. there is a significant statistical difference between call back rates for black and white sounding names."
   ]
  },
  {
   "cell_type": "code",
   "execution_count": 5,
   "metadata": {},
   "outputs": [
    {
     "name": "stdout",
     "output_type": "stream",
     "text": [
      "The difference in call back rates between black and white sounding names is 0.032 +- 0.015 .\n"
     ]
    }
   ],
   "source": [
    "print('The difference in call back rates between black and white sounding names is',\\\n",
    "      '{:.3f}'.format(diff), '+-', '{:.3f}'.format(me), '.')"
   ]
  },
  {
   "cell_type": "markdown",
   "metadata": {},
   "source": [
    "Q5. Does your analysis mean that race/name is the most important factor in callback success? Why or why not? If not, how would you amend your analysis?\n",
    "\n",
    "     This analysis did not take other factors into consideration. It is possible other factors have a stronger impact on call back rates than the applicant's name. It should also be noted that call back rates are very low for either race. Perhaps another test would be more appropriate to measure racial discrimination."
   ]
  }
 ],
 "metadata": {
  "kernelspec": {
   "display_name": "Python 3",
   "language": "python",
   "name": "python3"
  },
  "language_info": {
   "codemirror_mode": {
    "name": "ipython",
    "version": 3
   },
   "file_extension": ".py",
   "mimetype": "text/x-python",
   "name": "python",
   "nbconvert_exporter": "python",
   "pygments_lexer": "ipython3",
   "version": "3.6.3"
  }
 },
 "nbformat": 4,
 "nbformat_minor": 1
}
