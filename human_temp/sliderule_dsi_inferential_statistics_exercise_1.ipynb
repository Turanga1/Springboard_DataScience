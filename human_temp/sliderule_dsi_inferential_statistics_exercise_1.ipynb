{
 "cells": [
  {
   "cell_type": "markdown",
   "metadata": {},
   "source": [
    "# What is the True Normal Human Body Temperature? \n",
    "\n",
    "#### Background\n",
    "\n",
    "The mean normal body temperature was held to be 37$^{\\circ}$C or 98.6$^{\\circ}$F for more than 120 years since it was first conceptualized and reported by Carl Wunderlich in a famous 1868 book. But, is this value statistically correct?"
   ]
  },
  {
   "cell_type": "markdown",
   "metadata": {},
   "source": [
    "<h3>Exercises</h3>\n",
    "\n",
    "<p>In this exercise, you will analyze a dataset of human body temperatures and employ the concepts of hypothesis testing, confidence intervals, and statistical significance.</p>\n",
    "\n",
    "<p>Answer the following questions <b>in this notebook below and submit to your Github account</b>.</p> \n",
    "\n",
    "<ol>\n",
    "<li>  Is the distribution of body temperatures normal? \n",
    "    <ul>\n",
    "    <li> Although this is not a requirement for CLT to hold (read CLT carefully), it gives us some peace of mind that the population may also be normally distributed if we assume that this sample is representative of the population.\n",
    "    </ul>\n",
    "<li>  Is the sample size large? Are the observations independent?\n",
    "    <ul>\n",
    "    <li> Remember that this is a condition for the CLT, and hence the statistical tests we are using, to apply.\n",
    "    </ul>\n",
    "<li>  Is the true population mean really 98.6 degrees F?\n",
    "    <ul>\n",
    "    <li> Would you use a one-sample or two-sample test? Why?\n",
    "    <li> In this situation, is it appropriate to use the $t$ or $z$ statistic? \n",
    "    <li> Now try using the other test. How is the result be different? Why?\n",
    "    </ul>\n",
    "<li>  Draw a small sample of size 10 from the data and repeat both tests. \n",
    "    <ul>\n",
    "    <li> Which one is the correct one to use? \n",
    "    <li> What do you notice? What does this tell you about the difference in application of the $t$ and $z$ statistic?\n",
    "    </ul>\n",
    "<li>  At what temperature should we consider someone's temperature to be \"abnormal\"?\n",
    "    <ul>\n",
    "    <li> Start by computing the margin of error and confidence interval.\n",
    "    </ul>\n",
    "<li>  Is there a significant difference between males and females in normal temperature?\n",
    "    <ul>\n",
    "    <li> What test did you use and why?\n",
    "    <li> Write a story with your conclusion in the context of the original problem.\n",
    "    </ul>\n",
    "</ol>\n",
    "\n",
    "You can include written notes in notebook cells using Markdown: \n",
    "   - In the control panel at the top, choose Cell > Cell Type > Markdown\n",
    "   - Markdown syntax: http://nestacms.com/docs/creating-content/markdown-cheat-sheet\n",
    "\n",
    "#### Resources\n",
    "\n",
    "+ Information and data sources: http://www.amstat.org/publications/jse/datasets/normtemp.txt, http://www.amstat.org/publications/jse/jse_data_archive.htm\n",
    "+ Markdown syntax: http://nestacms.com/docs/creating-content/markdown-cheat-sheet\n",
    "\n",
    "****"
   ]
  },
  {
   "cell_type": "markdown",
   "metadata": {},
   "source": [
    "## 0. Basic Descriptive Analysis"
   ]
  },
  {
   "cell_type": "code",
   "execution_count": 1,
   "metadata": {},
   "outputs": [],
   "source": [
    "import numpy as np\n",
    "import pandas as pd\n",
    "import matplotlib.pyplot as plt\n",
    "import seaborn as sns\n",
    "sns.set()\n",
    "df = pd.read_csv('data/human_body_temperature.csv')"
   ]
  },
  {
   "cell_type": "code",
   "execution_count": 2,
   "metadata": {},
   "outputs": [
    {
     "name": "stdout",
     "output_type": "stream",
     "text": [
      "<class 'pandas.core.frame.DataFrame'>\n",
      "RangeIndex: 130 entries, 0 to 129\n",
      "Data columns (total 3 columns):\n",
      "temperature    130 non-null float64\n",
      "gender         130 non-null object\n",
      "heart_rate     130 non-null float64\n",
      "dtypes: float64(2), object(1)\n",
      "memory usage: 3.1+ KB\n"
     ]
    }
   ],
   "source": [
    "df.info()"
   ]
  },
  {
   "cell_type": "code",
   "execution_count": 3,
   "metadata": {},
   "outputs": [
    {
     "data": {
      "text/html": [
       "<div>\n",
       "<style>\n",
       "    .dataframe thead tr:only-child th {\n",
       "        text-align: right;\n",
       "    }\n",
       "\n",
       "    .dataframe thead th {\n",
       "        text-align: left;\n",
       "    }\n",
       "\n",
       "    .dataframe tbody tr th {\n",
       "        vertical-align: top;\n",
       "    }\n",
       "</style>\n",
       "<table border=\"1\" class=\"dataframe\">\n",
       "  <thead>\n",
       "    <tr style=\"text-align: right;\">\n",
       "      <th></th>\n",
       "      <th>temperature</th>\n",
       "      <th>heart_rate</th>\n",
       "    </tr>\n",
       "  </thead>\n",
       "  <tbody>\n",
       "    <tr>\n",
       "      <th>count</th>\n",
       "      <td>130.000000</td>\n",
       "      <td>130.000000</td>\n",
       "    </tr>\n",
       "    <tr>\n",
       "      <th>mean</th>\n",
       "      <td>98.249231</td>\n",
       "      <td>73.761538</td>\n",
       "    </tr>\n",
       "    <tr>\n",
       "      <th>std</th>\n",
       "      <td>0.733183</td>\n",
       "      <td>7.062077</td>\n",
       "    </tr>\n",
       "    <tr>\n",
       "      <th>min</th>\n",
       "      <td>96.300000</td>\n",
       "      <td>57.000000</td>\n",
       "    </tr>\n",
       "    <tr>\n",
       "      <th>25%</th>\n",
       "      <td>97.800000</td>\n",
       "      <td>69.000000</td>\n",
       "    </tr>\n",
       "    <tr>\n",
       "      <th>50%</th>\n",
       "      <td>98.300000</td>\n",
       "      <td>74.000000</td>\n",
       "    </tr>\n",
       "    <tr>\n",
       "      <th>75%</th>\n",
       "      <td>98.700000</td>\n",
       "      <td>79.000000</td>\n",
       "    </tr>\n",
       "    <tr>\n",
       "      <th>max</th>\n",
       "      <td>100.800000</td>\n",
       "      <td>89.000000</td>\n",
       "    </tr>\n",
       "  </tbody>\n",
       "</table>\n",
       "</div>"
      ],
      "text/plain": [
       "       temperature  heart_rate\n",
       "count   130.000000  130.000000\n",
       "mean     98.249231   73.761538\n",
       "std       0.733183    7.062077\n",
       "min      96.300000   57.000000\n",
       "25%      97.800000   69.000000\n",
       "50%      98.300000   74.000000\n",
       "75%      98.700000   79.000000\n",
       "max     100.800000   89.000000"
      ]
     },
     "execution_count": 3,
     "metadata": {},
     "output_type": "execute_result"
    }
   ],
   "source": [
    "df.describe()"
   ]
  },
  {
   "cell_type": "markdown",
   "metadata": {},
   "source": [
    "Slight differences are observed between male and female subjects. The high temperature tail in the females is noteworthy."
   ]
  },
  {
   "cell_type": "code",
   "execution_count": 4,
   "metadata": {},
   "outputs": [
    {
     "data": {
      "image/png": "[encoded data removed]",
      "text/plain": [
       "<matplotlib.figure.Figure at 0x2ba9c6d1978>"
      ]
     },
     "metadata": {},
     "output_type": "display_data"
    },
    {
     "name": "stdout",
     "output_type": "stream",
     "text": [
      "Median temperatures by gender\n",
      "F    98.4\n",
      "M    98.1\n",
      "Name: temperature, dtype: float64\n"
     ]
    }
   ],
   "source": [
    "sns.swarmplot(df.gender, df.temperature)\n",
    "plt.show()\n",
    "print('Median temperatures by', df.groupby('gender')['temperature'].agg(np.median))"
   ]
  },
  {
   "cell_type": "markdown",
   "metadata": {},
   "source": [
    "## 1. Is the distribution of body temperatures normal?"
   ]
  },
  {
   "cell_type": "markdown",
   "metadata": {},
   "source": [
    "A histogram of the temperature shows a slight asymmetric distribution. "
   ]
  },
  {
   "cell_type": "code",
   "execution_count": 5,
   "metadata": {},
   "outputs": [
    {
     "data": {
      "image/png": "[encoded data removed]",
      "text/plain": [
       "<matplotlib.figure.Figure at 0x2ba9c728898>"
      ]
     },
     "metadata": {},
     "output_type": "display_data"
    }
   ],
   "source": [
    "_ = plt.hist(df.temperature, bins=11 )\n",
    "_ = plt.xlabel('Temperature (degrees F)')\n",
    "_ = plt.ylabel('Observations (count)')\n",
    "plt.show()"
   ]
  },
  {
   "cell_type": "code",
   "execution_count": 6,
   "metadata": {
    "collapsed": true
   },
   "outputs": [],
   "source": [
    "def ecdf(data):\n",
    "    \"\"\"Compute ECDF for a one-dimensional array of measurements.\"\"\"\n",
    "\n",
    "    # Number of data points: n\n",
    "    n = len(data)\n",
    "\n",
    "    # x-data for the ECDF: x\n",
    "    x = np.sort(data)\n",
    "\n",
    "    # y-data for the ECDF: y\n",
    "    y = np.arange(1, n+1) / n\n",
    "        \n",
    "    return x, y"
   ]
  },
  {
   "cell_type": "code",
   "execution_count": 7,
   "metadata": {},
   "outputs": [
    {
     "data": {
      "image/png": "[encoded data removed]",
      "text/plain": [
       "<matplotlib.figure.Figure at 0x2ba9cdf17b8>"
      ]
     },
     "metadata": {},
     "output_type": "display_data"
    }
   ],
   "source": [
    "# compute CDF of temperature data\n",
    "tx, ty = ecdf(df.temperature)\n",
    "\n",
    "# true normal distribution for comparison:\n",
    "mu = np.mean(df.temperature)\n",
    "sigma = np.std(df.temperature)\n",
    "normal = np.random.normal(mu, sigma, 10000)\n",
    "\n",
    "nx, ny = ecdf(normal)\n",
    "\n",
    "# plot the CDFs\n",
    "_ = plt.plot(tx, ty, marker='.', linestyle='none', color='r', label='Temperature Data')\n",
    "_ = plt.plot(nx, ny, color='b', label='Normal Distribution')\n",
    "_ = plt.xlabel('Temperature (degrees F)')\n",
    "_ = plt.ylabel('ECDF')\n",
    "_ = plt.legend(loc='lower right')\n",
    "plt.margins(0.02)\n",
    "plt.show()"
   ]
  },
  {
   "cell_type": "markdown",
   "metadata": {},
   "source": [
    "The ECDF shows a reasonable overlap to a theoretical normal distribution."
   ]
  },
  {
   "cell_type": "code",
   "execution_count": 8,
   "metadata": {},
   "outputs": [
    {
     "name": "stdout",
     "output_type": "stream",
     "text": [
      "H0: Normal distribution of temperature data, p: >= 0.05\n",
      "k^2: 2.70380143332 , p: 0.258747986349\n"
     ]
    }
   ],
   "source": [
    "# D’Agostino and Pearson normality test\n",
    "from scipy import stats\n",
    "k2, p = stats.normaltest(df.temperature)\n",
    "\n",
    "print('H0: Normal distribution of temperature data, p: >= 0.05')\n",
    "print('k^2:', k2, ', p:', p)"
   ]
  },
  {
   "cell_type": "markdown",
   "metadata": {},
   "source": [
    "The statistical normality test above suggests normal distribution of the temperature data."
   ]
  },
  {
   "cell_type": "markdown",
   "metadata": {},
   "source": [
    "## 2. Is the sample size large? Are the observations independent?"
   ]
  },
  {
   "cell_type": "code",
   "execution_count": 9,
   "metadata": {},
   "outputs": [
    {
     "name": "stdout",
     "output_type": "stream",
     "text": [
      "Number of observations: 130\n"
     ]
    }
   ],
   "source": [
    "# sample size\n",
    "n = len(df.temperature)\n",
    "print('Number of observations:', n)"
   ]
  },
  {
   "cell_type": "markdown",
   "metadata": {},
   "source": [
    "The sample size N is 130 observations. This is generally considered a large sample size with respect to t-test. A z-test should be used instead. \n",
    "\n",
    "Knowing the temperature of one person does not change our expectations of the next temperature measurement."
   ]
  },
  {
   "cell_type": "markdown",
   "metadata": {},
   "source": [
    "## 3. Is the true population mean really 98.6 degrees F?\n",
    "\n",
    "Would you use a one-sample or two-sample test? Why?\n",
    "\n",
    "    A one-sample test is sufficient since we are comparing to a single value."
   ]
  },
  {
   "cell_type": "markdown",
   "metadata": {},
   "source": [
    "In this situation, is it appropriate to use the  tt  or  zz  statistic?\n",
    "\n",
    "    The sample size is large enough to use a zz statistic. Below N = 30 the standard deviation of the population must be estimated using tt statistics."
   ]
  },
  {
   "cell_type": "markdown",
   "metadata": {},
   "source": [
    "Now try using the other test. How is the result be different? Why?\n",
    "\n",
    "    As the sample size increases, the sample mean approaches the population mean and the two test statistics become more similar. In both cases, the very small p values suggest there is a significant difference between the means and the reference value of 98.6, therefore the population mean is likely not 98.6 degrees F based on our data.\n",
    "\n"
   ]
  },
  {
   "cell_type": "code",
   "execution_count": 10,
   "metadata": {},
   "outputs": [
    {
     "name": "stdout",
     "output_type": "stream",
     "text": [
      "H0: The sample mean is equal to 98.6, p: >= 0.05\n",
      "t-statistic: -5.455 , p-value: 2.41e-07\n",
      "z-statistic: -5.455 , p-value: 4.90e-08\n"
     ]
    }
   ],
   "source": [
    "# Calculate t and z statistics\n",
    "from statsmodels.stats import weightstats\n",
    "from scipy import stats\n",
    "\n",
    "print('H0: The sample mean is equal to 98.6, p: >= 0.05')\n",
    "\n",
    "# t statistic\n",
    "t_stat, pt_value = stats.ttest_1samp(df.temperature, 98.6)\n",
    "print('t-statistic:', '{:.3f}'.format(t_stat), ', p-value:', '{:.2e}'.format(pt_value))\n",
    "\n",
    "# z statistic\n",
    "z_stat, pz_value = weightstats.ztest(df.temperature, value=98.6)\n",
    "print('z-statistic:', '{:.3f}'.format(z_stat), ', p-value:', '{:.2e}'.format(pz_value))"
   ]
  },
  {
   "cell_type": "markdown",
   "metadata": {},
   "source": [
    "## 4. Draw a small sample of size 10 from the data and repeat both tests.\n",
    "\n",
    "Reducing the sample size increases the statistical uncertainty. As expected, the t-statistic p-value is larger than that caluclated from the z-statistic. The p values are now above 0.05, therefore we cannot reject the null hypothesis, i.e. we can't conlude there is a difference of the actual mean human body temperature from 98.6 degrees F."
   ]
  },
  {
   "cell_type": "code",
   "execution_count": 11,
   "metadata": {},
   "outputs": [
    {
     "name": "stdout",
     "output_type": "stream",
     "text": [
      "t-statistic: -1.618 , p-value: 0.140\n",
      "z-statistic: -1.618 , p-value: 0.106\n"
     ]
    }
   ],
   "source": [
    "# draw 10 random observations from the dataset\n",
    "np.random.seed(98)\n",
    "df10 = np.random.choice(df.temperature, 10)\n",
    "\n",
    "# t statistic\n",
    "t_stat, pt_value = stats.ttest_1samp(df10, 98.6)\n",
    "print('t-statistic:', '{:.3f}'.format(t_stat), ', p-value:', '{:.3f}'.format(pt_value))\n",
    "\n",
    "# z statistic\n",
    "z_stat, pz_value = weightstats.ztest(df10, value=98.6)\n",
    "print('z-statistic:', '{:.3f}'.format(z_stat), ', p-value:', '{:.3f}'.format(pz_value))"
   ]
  },
  {
   "cell_type": "markdown",
   "metadata": {},
   "source": [
    "## 5. At what temperature should we consider someone's temperature to be \"abnormal\"?\n",
    "\n",
    "\"Abnormal\" can be defined in different ways. In statistical analysis it is common to use multiples of the standard devation, or \"${\\sigma}$\"."
   ]
  },
  {
   "cell_type": "code",
   "execution_count": 12,
   "metadata": {},
   "outputs": [
    {
     "name": "stdout",
     "output_type": "stream",
     "text": [
      "The 95% confidence interval of the mean temperature is 98.124 < T < 98.375 degrees F.\n"
     ]
    },
    {
     "data": {
      "image/png": "[encoded data removed]",
      "text/plain": [
       "<matplotlib.figure.Figure at 0x2ba9ceb0438>"
      ]
     },
     "metadata": {},
     "output_type": "display_data"
    }
   ],
   "source": [
    "# calculate confidence interval of the mean\n",
    "interval = stats.norm.interval(0.95, loc=mu, scale=sigma/np.sqrt(n))\n",
    "print('The 95% confidence interval of the mean temperature is', '{:.3f} < T < {:.3f}'.format(*interval), 'degrees F.')\n",
    "\n",
    "# calculate 2.5 and 97.5 percentiles of observations\n",
    "stdev = np.std(df.temperature)\n",
    "low1_temp = mu - stdev\n",
    "high1_temp = mu + stdev\n",
    "low2_temp = mu - 2 * stdev\n",
    "high2_temp = mu + 2 * stdev\n",
    "\n",
    "# print('The 95% observation interval of the sample temperatures is', '{:.3f} < T < {:.3f}'.format(*percentiles), 'degrees F.')\n",
    "\n",
    "# show intervals in histogram\n",
    "_ = plt.hist(df.temperature, bins=11 )\n",
    "_ = plt.axvline(x=interval[0], linewidth=1.2, color='r', label='CI of mean')\n",
    "_ = plt.axvline(x=interval[1], linewidth=1.2, color='r')\n",
    "_ = plt.axvline(low1_temp, color='y', linestyle='--', label='1 ${\\sigma}$')\n",
    "_ = plt.axvline(high1_temp, color='y', linestyle='--')\n",
    "_ = plt.axvline(low2_temp, color='g', linestyle=':', label='2 ${\\sigma}$')\n",
    "_ = plt.axvline(high2_temp, color='g', linestyle=':')\n",
    "_ = plt.xlim(96, 101.3)\n",
    "_ = plt.xlabel('Temperature (degrees F)')\n",
    "_ = plt.ylabel('Observations (count)')\n",
    "_ = plt.legend(loc='upper right')\n",
    "plt.show()"
   ]
  },
  {
   "cell_type": "markdown",
   "metadata": {},
   "source": [
    "## 6. Is there a significant difference between males and females in normal temperature?"
   ]
  },
  {
   "cell_type": "markdown",
   "metadata": {},
   "source": [
    "We can look at this question two different ways. First, a box plot can be used to show overlapping (or separated) variances. Another approach is to generate permutation samples to determine if the variance of combined data from both genders is distinct from gender separated data."
   ]
  },
  {
   "cell_type": "code",
   "execution_count": 13,
   "metadata": {},
   "outputs": [
    {
     "data": {
      "image/png": "[encoded data removed]",
      "text/plain": [
       "<matplotlib.figure.Figure at 0x2ba9cf09c18>"
      ]
     },
     "metadata": {},
     "output_type": "display_data"
    }
   ],
   "source": [
    "# extract temperature data by gender\n",
    "male = df.temperature[df['gender'] == 'M']\n",
    "female = df.temperature[df['gender'] == 'F']\n",
    "\n",
    "# boxplots\n",
    "_ = sns.boxplot(df.gender, df.temperature, data=df)\n",
    "plt.show()"
   ]
  },
  {
   "cell_type": "code",
   "execution_count": 14,
   "metadata": {
    "collapsed": true
   },
   "outputs": [],
   "source": [
    "def permutation_sample(data1, data2):\n",
    "    \"\"\"Generate a permutation sample from two data sets.\"\"\"\n",
    "\n",
    "    # Concatenate the data sets: data\n",
    "    data = np.concatenate((data1, data2))\n",
    "\n",
    "    # Permute the concatenated array: permuted_data\n",
    "    permuted_data = np.random.permutation(data)\n",
    "\n",
    "    # Split the permuted array into two: perm_sample_1, perm_sample_2\n",
    "    perm_sample_1 = permuted_data[:len(data1)]\n",
    "    perm_sample_2 = permuted_data[len(data1):]\n",
    "\n",
    "    return perm_sample_1, perm_sample_2"
   ]
  },
  {
   "cell_type": "code",
   "execution_count": 15,
   "metadata": {},
   "outputs": [
    {
     "data": {
      "image/png": "[encoded data removed]",
      "text/plain": [
       "<matplotlib.figure.Figure at 0x2ba9c8a6470>"
      ]
     },
     "metadata": {},
     "output_type": "display_data"
    }
   ],
   "source": [
    "for i in range(30):\n",
    "    # Generate permutation samples\n",
    "    perm_sample_1, perm_sample_2 = permutation_sample(male, female)\n",
    "\n",
    "\n",
    "    # Compute ECDFs\n",
    "    x_1, y_1 = ecdf(perm_sample_1)\n",
    "    x_2, y_2 = ecdf(perm_sample_2)\n",
    "\n",
    "    # Plot ECDFs of permutation sample\n",
    "    _ = plt.plot(x_1, y_1, marker='.', linestyle='none',\n",
    "                 color='red', alpha=0.02)\n",
    "    _ = plt.plot(x_2, y_2, marker='.', linestyle='none',\n",
    "                 color='blue', alpha=0.02)\n",
    "\n",
    "# Create and plot ECDFs from original data\n",
    "x_1, y_1 = ecdf(male)\n",
    "x_2, y_2 = ecdf(female)\n",
    "_ = plt.plot(x_1, y_1, marker='.', linestyle='none', color='red', label='male')\n",
    "_ = plt.plot(x_2, y_2, marker='.', linestyle='none', color='blue', label='female')\n",
    "_ = plt.legend()\n",
    "\n",
    "# Label axes, set margin, and show plot\n",
    "plt.margins(0.02)\n",
    "_ = plt.xlabel('Temperature (degrees F)')\n",
    "_ = plt.ylabel('ECDF')\n",
    "plt.show()\n",
    "\n"
   ]
  },
  {
   "cell_type": "markdown",
   "metadata": {},
   "source": [
    "The ECDFs of the permutation samples of combined male and female data overlap with the gender separated data. This is evidence that there are no statistically significant differences between men and women's temperature measurements."
   ]
  }
 ],
 "metadata": {
  "kernelspec": {
   "display_name": "Python 3",
   "language": "python",
   "name": "python3"
  },
  "language_info": {
   "codemirror_mode": {
    "name": "ipython",
    "version": 3
   },
   "file_extension": ".py",
   "mimetype": "text/x-python",
   "name": "python",
   "nbconvert_exporter": "python",
   "pygments_lexer": "ipython3",
   "version": "3.6.3"
  }
 },
 "nbformat": 4,
 "nbformat_minor": 1
}
