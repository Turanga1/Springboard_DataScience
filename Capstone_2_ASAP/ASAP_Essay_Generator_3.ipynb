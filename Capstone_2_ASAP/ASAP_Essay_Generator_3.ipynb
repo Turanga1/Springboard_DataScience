{
 "cells": [
  {
   "cell_type": "code",
   "execution_count": 1,
   "metadata": {},
   "outputs": [
    {
     "name": "stderr",
     "output_type": "stream",
     "text": [
      "C:\\Users\\rujjn\\Anaconda3\\envs\\capstone2\\lib\\site-packages\\gensim\\utils.py:1197: UserWarning: detected Windows; aliasing chunkize to chunkize_serial\n",
      "  warnings.warn(\"detected Windows; aliasing chunkize to chunkize_serial\")\n",
      "C:\\Users\\rujjn\\Anaconda3\\envs\\capstone2\\lib\\site-packages\\h5py\\__init__.py:36: FutureWarning: Conversion of the second argument of issubdtype from `float` to `np.floating` is deprecated. In future, it will be treated as `np.float64 == np.dtype(float).type`.\n",
      "  from ._conv import register_converters as _register_converters\n",
      "Using TensorFlow backend.\n"
     ]
    }
   ],
   "source": [
    "import numpy as np\n",
    "import gensim\n",
    "import string\n",
    "import pandas as pd\n",
    "\n",
    "from keras.callbacks import LambdaCallback\n",
    "from keras.layers.recurrent import LSTM\n",
    "from keras.layers.embeddings import Embedding\n",
    "from keras.layers import Dense, Activation\n",
    "from keras.models import Sequential\n",
    "from keras.optimizers import RMSprop\n",
    "from keras.utils.data_utils import get_file"
   ]
  },
  {
   "cell_type": "code",
   "execution_count": 134,
   "metadata": {},
   "outputs": [
    {
     "data": {
      "text/html": [
       "<div>\n",
       "<style scoped>\n",
       "    .dataframe tbody tr th:only-of-type {\n",
       "        vertical-align: middle;\n",
       "    }\n",
       "\n",
       "    .dataframe tbody tr th {\n",
       "        vertical-align: top;\n",
       "    }\n",
       "\n",
       "    .dataframe thead th {\n",
       "        text-align: right;\n",
       "    }\n",
       "</style>\n",
       "<table border=\"1\" class=\"dataframe\">\n",
       "  <thead>\n",
       "    <tr style=\"text-align: right;\">\n",
       "      <th></th>\n",
       "      <th>essay_id</th>\n",
       "      <th>topic</th>\n",
       "      <th>essay</th>\n",
       "      <th>rater1_domain1</th>\n",
       "      <th>rater2_domain1</th>\n",
       "      <th>rater3_domain1</th>\n",
       "      <th>target_score</th>\n",
       "      <th>rater1_domain2</th>\n",
       "      <th>rater2_domain2</th>\n",
       "      <th>topic2_target</th>\n",
       "      <th>...</th>\n",
       "      <th>rater3_trait2</th>\n",
       "      <th>rater3_trait3</th>\n",
       "      <th>rater3_trait4</th>\n",
       "      <th>rater3_trait5</th>\n",
       "      <th>rater3_trait6</th>\n",
       "      <th>char_len</th>\n",
       "      <th>word_count</th>\n",
       "      <th>tokens</th>\n",
       "      <th>lemma</th>\n",
       "      <th>pos</th>\n",
       "    </tr>\n",
       "  </thead>\n",
       "  <tbody>\n",
       "    <tr>\n",
       "      <th>0</th>\n",
       "      <td>1</td>\n",
       "      <td>computers</td>\n",
       "      <td>Dear local newspaper, I think effects computer...</td>\n",
       "      <td>4</td>\n",
       "      <td>4</td>\n",
       "      <td>NaN</td>\n",
       "      <td>8</td>\n",
       "      <td>NaN</td>\n",
       "      <td>NaN</td>\n",
       "      <td>NaN</td>\n",
       "      <td>...</td>\n",
       "      <td>NaN</td>\n",
       "      <td>NaN</td>\n",
       "      <td>NaN</td>\n",
       "      <td>NaN</td>\n",
       "      <td>NaN</td>\n",
       "      <td>1875</td>\n",
       "      <td>351</td>\n",
       "      <td>[Dear, local, newspaper, ,, I, think, effects,...</td>\n",
       "      <td>[dear, local, newspaper, ,, -PRON-, think, eff...</td>\n",
       "      <td>[ADJ, ADJ, NOUN, PUNCT, PRON, VERB, NOUN, NOUN...</td>\n",
       "    </tr>\n",
       "    <tr>\n",
       "      <th>1</th>\n",
       "      <td>2</td>\n",
       "      <td>computers</td>\n",
       "      <td>Dear @CAPS1 @CAPS2, I believe that using compu...</td>\n",
       "      <td>5</td>\n",
       "      <td>4</td>\n",
       "      <td>NaN</td>\n",
       "      <td>9</td>\n",
       "      <td>NaN</td>\n",
       "      <td>NaN</td>\n",
       "      <td>NaN</td>\n",
       "      <td>...</td>\n",
       "      <td>NaN</td>\n",
       "      <td>NaN</td>\n",
       "      <td>NaN</td>\n",
       "      <td>NaN</td>\n",
       "      <td>NaN</td>\n",
       "      <td>2288</td>\n",
       "      <td>424</td>\n",
       "      <td>[Dear, @CAPS1, @CAPS2, ,, I, believe, that, us...</td>\n",
       "      <td>[dear, @caps1, @caps2, ,, -PRON-, believe, tha...</td>\n",
       "      <td>[ADJ, PROPN, PUNCT, PUNCT, PRON, VERB, ADP, VE...</td>\n",
       "    </tr>\n",
       "    <tr>\n",
       "      <th>2</th>\n",
       "      <td>3</td>\n",
       "      <td>computers</td>\n",
       "      <td>Dear, @CAPS1 @CAPS2 @CAPS3 More and more peopl...</td>\n",
       "      <td>4</td>\n",
       "      <td>3</td>\n",
       "      <td>NaN</td>\n",
       "      <td>7</td>\n",
       "      <td>NaN</td>\n",
       "      <td>NaN</td>\n",
       "      <td>NaN</td>\n",
       "      <td>...</td>\n",
       "      <td>NaN</td>\n",
       "      <td>NaN</td>\n",
       "      <td>NaN</td>\n",
       "      <td>NaN</td>\n",
       "      <td>NaN</td>\n",
       "      <td>1541</td>\n",
       "      <td>284</td>\n",
       "      <td>[Dear, ,, @CAPS1, @CAPS2, @CAPS3, More, and, m...</td>\n",
       "      <td>[dear, ,, @caps1, @caps2, @caps3, more, and, m...</td>\n",
       "      <td>[ADJ, PUNCT, PROPN, PUNCT, PROPN, ADJ, CCONJ, ...</td>\n",
       "    </tr>\n",
       "    <tr>\n",
       "      <th>3</th>\n",
       "      <td>4</td>\n",
       "      <td>computers</td>\n",
       "      <td>Dear Local Newspaper, @CAPS1 I have found that...</td>\n",
       "      <td>5</td>\n",
       "      <td>5</td>\n",
       "      <td>NaN</td>\n",
       "      <td>10</td>\n",
       "      <td>NaN</td>\n",
       "      <td>NaN</td>\n",
       "      <td>NaN</td>\n",
       "      <td>...</td>\n",
       "      <td>NaN</td>\n",
       "      <td>NaN</td>\n",
       "      <td>NaN</td>\n",
       "      <td>NaN</td>\n",
       "      <td>NaN</td>\n",
       "      <td>3165</td>\n",
       "      <td>531</td>\n",
       "      <td>[Dear, Local, Newspaper, ,, @CAPS1, I, have, f...</td>\n",
       "      <td>[dear, local, newspaper, ,, @caps1, -PRON-, ha...</td>\n",
       "      <td>[ADJ, PROPN, PROPN, PUNCT, PROPN, PRON, VERB, ...</td>\n",
       "    </tr>\n",
       "    <tr>\n",
       "      <th>4</th>\n",
       "      <td>5</td>\n",
       "      <td>computers</td>\n",
       "      <td>Dear @LOCATION1, I know having computers has a...</td>\n",
       "      <td>4</td>\n",
       "      <td>4</td>\n",
       "      <td>NaN</td>\n",
       "      <td>8</td>\n",
       "      <td>NaN</td>\n",
       "      <td>NaN</td>\n",
       "      <td>NaN</td>\n",
       "      <td>...</td>\n",
       "      <td>NaN</td>\n",
       "      <td>NaN</td>\n",
       "      <td>NaN</td>\n",
       "      <td>NaN</td>\n",
       "      <td>NaN</td>\n",
       "      <td>2569</td>\n",
       "      <td>474</td>\n",
       "      <td>[Dear, @LOCATION1, ,, I, know, having, compute...</td>\n",
       "      <td>[dear, @location1, ,, -PRON-, know, have, comp...</td>\n",
       "      <td>[ADJ, ADP, PUNCT, PRON, VERB, VERB, NOUN, VERB...</td>\n",
       "    </tr>\n",
       "  </tbody>\n",
       "</table>\n",
       "<p>5 rows × 33 columns</p>\n",
       "</div>"
      ],
      "text/plain": [
       "   essay_id      topic                                              essay  \\\n",
       "0         1  computers  Dear local newspaper, I think effects computer...   \n",
       "1         2  computers  Dear @CAPS1 @CAPS2, I believe that using compu...   \n",
       "2         3  computers  Dear, @CAPS1 @CAPS2 @CAPS3 More and more peopl...   \n",
       "3         4  computers  Dear Local Newspaper, @CAPS1 I have found that...   \n",
       "4         5  computers  Dear @LOCATION1, I know having computers has a...   \n",
       "\n",
       "   rater1_domain1  rater2_domain1  rater3_domain1  target_score  \\\n",
       "0               4               4             NaN             8   \n",
       "1               5               4             NaN             9   \n",
       "2               4               3             NaN             7   \n",
       "3               5               5             NaN            10   \n",
       "4               4               4             NaN             8   \n",
       "\n",
       "   rater1_domain2  rater2_domain2  topic2_target  \\\n",
       "0             NaN             NaN            NaN   \n",
       "1             NaN             NaN            NaN   \n",
       "2             NaN             NaN            NaN   \n",
       "3             NaN             NaN            NaN   \n",
       "4             NaN             NaN            NaN   \n",
       "\n",
       "                         ...                          rater3_trait2  \\\n",
       "0                        ...                                    NaN   \n",
       "1                        ...                                    NaN   \n",
       "2                        ...                                    NaN   \n",
       "3                        ...                                    NaN   \n",
       "4                        ...                                    NaN   \n",
       "\n",
       "   rater3_trait3  rater3_trait4  rater3_trait5  rater3_trait6  char_len  \\\n",
       "0            NaN            NaN            NaN            NaN      1875   \n",
       "1            NaN            NaN            NaN            NaN      2288   \n",
       "2            NaN            NaN            NaN            NaN      1541   \n",
       "3            NaN            NaN            NaN            NaN      3165   \n",
       "4            NaN            NaN            NaN            NaN      2569   \n",
       "\n",
       "   word_count                                             tokens  \\\n",
       "0         351  [Dear, local, newspaper, ,, I, think, effects,...   \n",
       "1         424  [Dear, @CAPS1, @CAPS2, ,, I, believe, that, us...   \n",
       "2         284  [Dear, ,, @CAPS1, @CAPS2, @CAPS3, More, and, m...   \n",
       "3         531  [Dear, Local, Newspaper, ,, @CAPS1, I, have, f...   \n",
       "4         474  [Dear, @LOCATION1, ,, I, know, having, compute...   \n",
       "\n",
       "                                               lemma  \\\n",
       "0  [dear, local, newspaper, ,, -PRON-, think, eff...   \n",
       "1  [dear, @caps1, @caps2, ,, -PRON-, believe, tha...   \n",
       "2  [dear, ,, @caps1, @caps2, @caps3, more, and, m...   \n",
       "3  [dear, local, newspaper, ,, @caps1, -PRON-, ha...   \n",
       "4  [dear, @location1, ,, -PRON-, know, have, comp...   \n",
       "\n",
       "                                                 pos  \n",
       "0  [ADJ, ADJ, NOUN, PUNCT, PRON, VERB, NOUN, NOUN...  \n",
       "1  [ADJ, PROPN, PUNCT, PUNCT, PRON, VERB, ADP, VE...  \n",
       "2  [ADJ, PUNCT, PROPN, PUNCT, PROPN, ADJ, CCONJ, ...  \n",
       "3  [ADJ, PROPN, PROPN, PUNCT, PROPN, PRON, VERB, ...  \n",
       "4  [ADJ, ADP, PUNCT, PRON, VERB, VERB, NOUN, VERB...  \n",
       "\n",
       "[5 rows x 33 columns]"
      ]
     },
     "execution_count": 134,
     "metadata": {},
     "output_type": "execute_result"
    }
   ],
   "source": [
    "docs = pd.read_pickle('training_set.pkl')\n",
    "\n",
    "\n",
    "# for clarity, rename numbered essay topics to one-word topic summary \n",
    "\n",
    "topic_dict = {'topic':{1: 'computers', \n",
    "                       2: 'censorship', \n",
    "                       3: 'cyclist', \n",
    "                       4: 'hibiscus', \n",
    "                       5: 'mood', \n",
    "                       6: 'dirigibles', \n",
    "                       7: 'patience', \n",
    "                       8: 'laughter'}}\n",
    "\n",
    "docs.replace(topic_dict, inplace=True)\n",
    "\n",
    "t12 = docs[['essay_id', 'topic', 'essay', 'target_score', 'tokens']]\n",
    "\n",
    "t12.to_csv('t12.csv')\n",
    "\n",
    "docs.head()"
   ]
  },
  {
   "cell_type": "code",
   "execution_count": 19,
   "metadata": {},
   "outputs": [
    {
     "name": "stdout",
     "output_type": "stream",
     "text": [
      "\n",
      "Fetching the text...\n",
      "\n",
      "Preparing the sentences...\n",
      "Num sentences: 7200\n"
     ]
    }
   ],
   "source": [
    "print('\\nFetching the text...')\n",
    "url = 'https://raw.githubusercontent.com/maxim5/stanford-tensorflow-tutorials/master/data/arxiv_abstracts.txt'\n",
    "path = get_file('arxiv_abstracts.txt', origin=url)\n",
    "\n",
    "print('\\nPreparing the sentences...')\n",
    "max_sentence_len = 40\n",
    "with open(path) as file_:\n",
    "  docs = file_.readlines()\n",
    "sentences = [[word for word in doc.lower().translate(string.punctuation).split()[:max_sentence_len]] for doc in docs]\n",
    "print('Num sentences:', len(sentences))"
   ]
  },
  {
   "cell_type": "code",
   "execution_count": 3,
   "metadata": {},
   "outputs": [],
   "source": [
    "# load ascii text and covert to lowercase\n",
    "essays = docs[((docs.topic == 'computers') &\n",
    "            (docs.target_score > 6)) |\n",
    "            ((docs.topic == 'censorship') & \n",
    "            (docs.target_score > 2))]\\\n",
    "            ['tokens']"
   ]
  },
  {
   "cell_type": "code",
   "execution_count": 4,
   "metadata": {},
   "outputs": [
    {
     "name": "stdout",
     "output_type": "stream",
     "text": [
      "Num sentences: 3251\n"
     ]
    }
   ],
   "source": [
    "max_sentence_len = 40\n",
    "# sentences = [[word for word in doc.lower().translate(string.punctuation).split()[:max_sentence_len]] for doc in essays]\n",
    "sentences = [[word.lower() for word in doc[:max_sentence_len]] for doc in essays]\n",
    "print('Num sentences:', len(sentences))"
   ]
  },
  {
   "cell_type": "code",
   "execution_count": 6,
   "metadata": {},
   "outputs": [
    {
     "name": "stdout",
     "output_type": "stream",
     "text": [
      "\n",
      "Training word2vec...\n",
      "Result embedding shape: (5065, 100)\n",
      "Checking similar words:\n",
      "  computer -> computers (0.69), internet (0.40), infront (0.33), day (0.33), side (0.33), thing (0.33), effect (0.32), technology (0.32)\n",
      "  library -> libraries (0.64), libary (0.59), book (0.39), walk (0.37), shelve (0.37), librarie (0.37), parent (0.37), libraies (0.35)\n",
      "  book -> movie (0.52), material (0.49), books (0.47), magazine (0.46), place (0.42), somthing (0.42), something (0.42), song (0.41)\n",
      "  learn -> talk (0.57), connect (0.52), communicate (0.49), learning (0.44), explore (0.43), teach (0.43), give (0.42), informs (0.41)\n",
      "\n",
      "Preparing the data for LSTM...\n",
      "train_x shape: (3251, 40)\n",
      "train_y shape: (3251,)\n"
     ]
    }
   ],
   "source": [
    "print('\\nTraining word2vec...')\n",
    "word_model = gensim.models.Word2Vec(sentences, size=100, min_count=1, window=5, iter=100)\n",
    "pretrained_weights = word_model.wv.vectors\n",
    "vocab_size, emdedding_size = pretrained_weights.shape\n",
    "print('Result embedding shape:', pretrained_weights.shape)\n",
    "print('Checking similar words:')\n",
    "for word in ['computer', 'library', 'book', 'learn']:\n",
    "  most_similar = ', '.join('%s (%.2f)' % (similar, dist) for similar, dist in word_model.wv.most_similar(word)[:8])\n",
    "  print('  %s -> %s' % (word, most_similar))\n",
    "\n",
    "def word2idx(word):\n",
    "  return word_model.wv.vocab[word].index\n",
    "def idx2word(idx):\n",
    "  return word_model.wv.index2word[idx]\n",
    "\n",
    "print('\\nPreparing the data for LSTM...')\n",
    "train_x = np.zeros([len(sentences), max_sentence_len], dtype=np.int32)\n",
    "train_y = np.zeros([len(sentences)], dtype=np.int32)\n",
    "for i, sentence in enumerate(sentences):\n",
    "  for t, word in enumerate(sentence[:-1]):\n",
    "    train_x[i, t] = word2idx(word)\n",
    "  train_y[i] = word2idx(sentence[-1])\n",
    "print('train_x shape:', train_x.shape)\n",
    "print('train_y shape:', train_y.shape)"
   ]
  },
  {
   "cell_type": "code",
   "execution_count": 7,
   "metadata": {},
   "outputs": [
    {
     "name": "stdout",
     "output_type": "stream",
     "text": [
      "\n",
      "Training LSTM...\n"
     ]
    }
   ],
   "source": [
    "print('\\nTraining LSTM...')\n",
    "model = Sequential()\n",
    "model.add(Embedding(input_dim=vocab_size, output_dim=emdedding_size, weights=[pretrained_weights]))\n",
    "model.add(LSTM(units=emdedding_size))\n",
    "model.add(Dense(units=vocab_size))\n",
    "model.add(Activation('softmax'))\n",
    "optimizer = RMSprop(lr=0.01)\n",
    "model.compile(optimizer=optimizer, loss='sparse_categorical_crossentropy')"
   ]
  },
  {
   "cell_type": "code",
   "execution_count": 8,
   "metadata": {},
   "outputs": [],
   "source": [
    "def sample(preds, temperature=1.0):\n",
    "  if temperature <= 0:\n",
    "    return np.argmax(preds)\n",
    "  preds = np.asarray(preds).astype('float64')\n",
    "  preds = np.log(preds) / temperature\n",
    "  exp_preds = np.exp(preds)\n",
    "  preds = exp_preds / np.sum(exp_preds)\n",
    "  probas = np.random.multinomial(1, preds, 1)\n",
    "  return np.argmax(probas)\n",
    "\n",
    "#   choice = np.random.choice(len(preds), p=preds) \n",
    "#   return choice"
   ]
  },
  {
   "cell_type": "code",
   "execution_count": 9,
   "metadata": {},
   "outputs": [],
   "source": [
    "def generate_next(text, num_generated=5):\n",
    "  word_idxs = [word2idx(word) for word in text.lower().split()]\n",
    "  for i in range(num_generated):\n",
    "    prediction = model.predict(x=np.array(word_idxs))\n",
    "    idx = sample(prediction[-1], temperature=0.7)\n",
    "    word_idxs.append(idx)\n",
    "  return ' '.join(idx2word(idx) for idx in word_idxs)\n",
    "\n",
    "def on_epoch_end(epoch, _):\n",
    "  print('\\nGenerating text after epoch: %d' % epoch)\n",
    "  texts = [\n",
    "    'dear local newspaper every library should have these books',\n",
    "    'books in library',\n",
    "  ]\n",
    "  for text in texts:\n",
    "    gen_text = generate_next(text)\n",
    "    print('%s... -> %s' % (text, gen_text))"
   ]
  },
  {
   "cell_type": "code",
   "execution_count": 76,
   "metadata": {},
   "outputs": [
    {
     "name": "stdout",
     "output_type": "stream",
     "text": [
      "Epoch 1/40\n",
      "3251/3251 [==============================] - 3s 997us/step - loss: 4.7738\n",
      "\n",
      "Generating text after epoch: 0\n",
      "dear local newspaper every library should have these books... -> dear local newspaper every library should have these books neccessary hiding ur recorders mistake\n",
      "books in library... -> books in library confirmed usage newapaper cell our\n",
      "a computer... -> a computer misunderstanding exotic shelf- nessessarilly borught\n",
      "a... -> a did like removed outspoken held\n",
      "Epoch 2/40\n",
      "3251/3251 [==============================] - 3s 990us/step - loss: 4.1838\n",
      "\n",
      "Generating text after epoch: 1\n",
      "dear local newspaper every library should have these books... -> dear local newspaper every library should have these books direction warm exclusive distribution kill\n",
      "books in library... -> books in library deffinately atical easy cellular solitude\n",
      "a computer... -> a computer judgement quality priorities shining toomany\n",
      "a... -> a good shut @month1 package countries\n",
      "Epoch 3/40\n",
      "3251/3251 [==============================] - 3s 994us/step - loss: 3.5368\n",
      "\n",
      "Generating text after epoch: 2\n",
      "dear local newspaper every library should have these books... -> dear local newspaper every library should have these books magazines inportant implement accumulated @num3\n",
      "books in library... -> books in library book allows upcoming my on\n",
      "a computer... -> a computer strictly piece screen simpler lost\n",
      "a... -> a when one stuff exercize tutoring\n",
      "Epoch 4/40\n",
      "3251/3251 [==============================] - 3s 1ms/step - loss: 2.9227\n",
      "\n",
      "Generating text after epoch: 3\n",
      "dear local newspaper every library should have these books... -> dear local newspaper every library should have these books surfing and control shelvesthe restricted\n",
      "books in library... -> books in library bedroom real cary let you\n",
      "a computer... -> a computer competer penalty his amounts containing\n",
      "a... -> a - sings decided surf controll\n",
      "Epoch 5/40\n",
      "3251/3251 [==============================] - 3s 1ms/step - loss: 2.3140\n",
      "\n",
      "Generating text after epoch: 4\n",
      "dear local newspaper every library should have these books... -> dear local newspaper every library should have these books exercising awesome safe author conditions\n",
      "books in library... -> books in library shelf much comunties classmate      \n",
      "a computer... -> a computer citadel around ! hello @caps8\n",
      "a... -> a lyrics impact @num1 monitors affend\n",
      "Epoch 6/40\n",
      "3251/3251 [==============================] - 3s 1000us/step - loss: 1.7525\n",
      "\n",
      "Generating text after epoch: 5\n",
      "dear local newspaper every library should have these books... -> dear local newspaper every library should have these books apropreate unique constituition images prove\n",
      "books in library... -> books in library addictions opinoin apon freedom dare\n",
      "a computer... -> a computer best bring pretty buisnesses one\n",
      "a... -> a things had browsing abhor @caps3\n",
      "Epoch 7/40\n",
      "3251/3251 [==============================] - 3s 1ms/step - loss: 1.2496\n",
      "\n",
      "Generating text after epoch: 6\n",
      "dear local newspaper every library should have these books... -> dear local newspaper every library should have these books movies being life offened artedclie\n",
      "books in library... -> books in library off beside seem found material\n",
      "a computer... -> a computer ! longer incredibly benefit .\n",
      "a... -> a @caps1 air is in modern\n",
      "Epoch 8/40\n",
      "3251/3251 [==============================] - 3s 1ms/step - loss: 0.8420\n",
      "\n",
      "Generating text after epoch: 7\n",
      "dear local newspaper every library should have these books... -> dear local newspaper every library should have these books having would'nt unable on office\n",
      "books in library... -> books in library advance school and for everybody\n",
      "a computer... -> a computer explain deciding job readings !\n",
      "a... -> a it she companies create people\n",
      "Epoch 9/40\n",
      "3251/3251 [==============================] - 3s 1ms/step - loss: 0.5378\n",
      "\n",
      "Generating text after epoch: 8\n",
      "dear local newspaper every library should have these books... -> dear local newspaper every library should have these books readings mostly to do learn\n",
      "books in library... -> books in library influence materials censorship touch future\n",
      "a computer... -> a computer researching enormous innoproprate selection nt\n",
      "a... -> a i remeove @caps4 mostly censored\n",
      "Epoch 10/40\n",
      "3251/3251 [==============================] - 3s 1000us/step - loss: 0.3348\n",
      "\n",
      "Generating text after epoch: 9\n",
      "dear local newspaper every library should have these books... -> dear local newspaper every library should have these books save educating killings bad funding\n",
      "books in library... -> books in library understand discusion all pick someone\n",
      "a computer... -> a computer shuffling learn people -- view\n",
      "a... -> a not in extensive everyday happens\n",
      "Epoch 11/40\n",
      "3251/3251 [==============================] - 3s 1ms/step - loss: 0.2089\n",
      "\n",
      "Generating text after epoch: 10\n",
      "dear local newspaper every library should have these books... -> dear local newspaper every library should have these books movies often gargantuan @caps11 virtual\n",
      "books in library... -> books in library proved mine whomever ask easy\n",
      "a computer... -> a computer ever too traffic extensive fashioned\n",
      "a... -> a magazine matter take little children\n",
      "Epoch 12/40\n",
      "3251/3251 [==============================] - 3s 1ms/step - loss: 0.1339\n",
      "\n",
      "Generating text after epoch: 11\n",
      "dear local newspaper every library should have these books... -> dear local newspaper every library should have these books music front created @caps1't char\n",
      "books in library... -> books in library inapropiate under lose distracting trip\n",
      "a computer... -> a computer yes impact not aloud paterson\n",
      "a... -> a computers twelve entertainment outdoors features\n",
      "Epoch 13/40\n",
      "3251/3251 [==============================] - 3s 1ms/step - loss: 0.0860\n",
      "\n",
      "Generating text after epoch: 12\n",
      "dear local newspaper every library should have these books... -> dear local newspaper every library should have these books day monitred healthy items own\n",
      "books in library... -> books in library whispers let express you talk\n",
      "a computer... -> a computer subject tecnology mine throughh certainyly\n",
      "a... -> a part funding humorous . the\n",
      "Epoch 14/40\n",
      "3251/3251 [==============================] - 3s 1ms/step - loss: 0.0655\n",
      "\n",
      "Generating text after epoch: 13\n",
      "dear local newspaper every library should have these books... -> dear local newspaper every library should have these books proved write realtives unique affect\n",
      "books in library... -> books in library button finds see nepaper body\n",
      "a computer... -> a computer @location1 positions dident positions care\n",
      "a... -> a life maybe think art ;\n",
      "Epoch 15/40\n",
      "3251/3251 [==============================] - 3s 1ms/step - loss: 0.0514\n",
      "\n",
      "Generating text after epoch: 14\n",
      "dear local newspaper every library should have these books... -> dear local newspaper every library should have these books 've addiction caring taste costs\n",
      "books in library... -> books in library child doomed benefit effects consumers\n",
      "a computer... -> a computer reason freinds exercising quality finds\n",
      "a... -> a thing @percent1 offends modern touch\n",
      "Epoch 16/40\n",
      "3251/3251 [==============================] - 3s 1ms/step - loss: 0.0366\n",
      "\n",
      "Generating text after epoch: 15\n",
      "dear local newspaper every library should have these books... -> dear local newspaper every library should have these books should not spent diffrent school\n",
      "books in library... -> books in library no comes instant themself instant\n",
      "a computer... -> a computer is - books resolve @num2\n",
      "a... -> a new offended hear shelf kids\n",
      "Epoch 17/40\n",
      "3251/3251 [==============================] - 4s 1ms/step - loss: 0.0342\n",
      "\n",
      "Generating text after epoch: 16\n",
      "dear local newspaper every library should have these books... -> dear local newspaper every library should have these books paterson said choice acting mean\n",
      "books in library... -> books in library others wanna ' as an\n",
      "a computer... -> a computer best childern take them learning\n",
      "a... -> a life choose : marveles misuse\n",
      "Epoch 18/40\n",
      "3251/3251 [==============================] - 4s 1ms/step - loss: 0.0432\n",
      "\n",
      "Generating text after epoch: 17\n",
      "dear local newspaper every library should have these books... -> dear local newspaper every library should have these books magazines doomed lesson everything exercise\n",
      "books in library... -> books in library quality save life enjoyed nuthing\n",
      "a computer... -> a computer around entertainment children magazines adults\n",
      "a... -> a - lesson library offensive younger\n",
      "Epoch 19/40\n"
     ]
    },
    {
     "name": "stdout",
     "output_type": "stream",
     "text": [
      "3251/3251 [==============================] - 4s 1ms/step - loss: 0.0251\n",
      "\n",
      "Generating text after epoch: 18\n",
      "dear local newspaper every library should have these books... -> dear local newspaper every library should have these books interacting tecnology weight young even\n",
      "books in library... -> books in library available busy argue understand coolest\n",
      "a computer... -> a computer offends word worried impact bad\n",
      "a... -> a online then well and should\n",
      "Epoch 20/40\n",
      "3251/3251 [==============================] - 4s 1ms/step - loss: 0.0270\n",
      "\n",
      "Generating text after epoch: 19\n",
      "dear local newspaper every library should have these books... -> dear local newspaper every library should have these books strain on believe positive hundreds\n",
      "books in library... -> books in library available 've item funding !\n",
      "a computer... -> a computer have alot those in families\n",
      "a... -> a such put could take leave\n",
      "Epoch 21/40\n",
      "3251/3251 [==============================] - 4s 1ms/step - loss: 0.0264A: \n",
      "\n",
      "Generating text after epoch: 20\n",
      "dear local newspaper every library should have these books... -> dear local newspaper every library should have these books       used thats a different\n",
      "books in library... -> books in library available having computer offends parents\n",
      "a computer... -> a computer offends catagories are that is\n",
      "a... -> a new books wether readers hundreds\n",
      "Epoch 22/40\n",
      "3251/3251 [==============================] - 4s 1ms/step - loss: 0.0108\n",
      "\n",
      "Generating text after epoch: 21\n",
      "dear local newspaper every library should have these books... -> dear local newspaper every library should have these books music ( benefits tecnology proved\n",
      "books in library... -> books in library on them censored younger inlighten\n",
      "a computer... -> a computer quicker you can childrens operate\n",
      "a... -> a new offended this kids in\n",
      "Epoch 23/40\n",
      "3251/3251 [==============================] - 4s 1ms/step - loss: 0.0299\n",
      "\n",
      "Generating text after epoch: 22\n",
      "dear local newspaper every library should have these books... -> dear local newspaper every library should have these books are that had create dangerous\n",
      "books in library... -> books in library monitor injoying if also nothing\n",
      "a computer... -> a computer offends graphic little he ever\n",
      "a... -> a kids n't much away many\n",
      "Epoch 24/40\n",
      "3251/3251 [==============================] - 4s 1ms/step - loss: 0.0321\n",
      "\n",
      "Generating text after epoch: 23\n",
      "dear local newspaper every library should have these books... -> dear local newspaper every library should have these books magazines project you talk throughh\n",
      "books in library... -> books in library monitor how @date1 kids do\n",
      "a computer... -> a computer @date1 parents inapropriate finds teach\n",
      "a... -> a online , our in the\n",
      "Epoch 25/40\n",
      "3251/3251 [==============================] - 4s 1ms/step - loss: 0.0210\n",
      "\n",
      "Generating text after epoch: 24\n",
      "dear local newspaper every library should have these books... -> dear local newspaper every library should have these books mess staying online @date1 're\n",
      "books in library... -> books in library contradicts come understand specifically      \n",
      "a computer... -> a computer offends matter throughh evoloution again\n",
      "a... -> a in library benefits religion young\n",
      "Epoch 26/40\n",
      "3251/3251 [==============================] - 4s 1ms/step - loss: 0.0154\n",
      "\n",
      "Generating text after epoch: 25\n",
      "dear local newspaper every library should have these books... -> dear local newspaper every library should have these books inappropreite write wha agre attention\n",
      "books in library... -> books in library freedom however making crucial valuable\n",
      "a computer... -> a computer offends offened playing they is\n",
      "a... -> a money paterson complete helps you\n",
      "Epoch 27/40\n",
      "3251/3251 [==============================] - 4s 1ms/step - loss: 0.0284\n",
      "\n",
      "Generating text after epoch: 26\n",
      "dear local newspaper every library should have these books... -> dear local newspaper every library should have these books hundreds purpose control helpful affect\n",
      "books in library... -> books in library monitor now our in the\n",
      "a computer... -> a computer offends agree instance realizing medias\n",
      "a... -> a online sites black draws content\n",
      "Epoch 28/40\n",
      "3251/3251 [==============================] - 4s 1ms/step - loss: 0.0174\n",
      "\n",
      "Generating text after epoch: 27\n",
      "dear local newspaper every library should have these books... -> dear local newspaper every library should have these books hundreds make @location1 saw saw\n",
      "books in library... -> books in library others get interacting mean rights\n",
      "a computer... -> a computer coordinator instantly the online other\n",
      "a... -> a thing because the online more\n",
      "Epoch 29/40\n",
      "3251/3251 [==============================] - 3s 1ms/step - loss: 0.0115\n",
      "\n",
      "Generating text after epoch: 28\n",
      "dear local newspaper every library should have these books... -> dear local newspaper every library should have these books connect go wha uses author\n",
      "books in library... -> books in library benefits subject vision situation enjoy\n",
      "a computer... -> a computer offends future & offensive censoring\n",
      "a... -> a online censored black her own\n",
      "Epoch 30/40\n",
      "3251/3251 [==============================] - 3s 1ms/step - loss: 0.0189\n",
      "\n",
      "Generating text after epoch: 29\n",
      "dear local newspaper every library should have these books... -> dear local newspaper every library should have these books cd item after adults and\n",
      "books in library... -> books in library reason news weather for the\n",
      "a computer... -> a computer @date1 past watching weight go\n",
      "a... -> a influence how @date1 conflicting pool\n",
      "Epoch 31/40\n",
      "3251/3251 [==============================] - 4s 1ms/step - loss: 0.0157\n",
      "\n",
      "Generating text after epoch: 30\n",
      "dear local newspaper every library should have these books... -> dear local newspaper every library should have these books agree instance instance staying online\n",
      "books in library... -> books in library children magazines forms local age\n",
      "a computer... -> a computer @date1 plans thousands many -\n",
      "a... -> a online for people off seen\n",
      "Epoch 32/40\n",
      "3251/3251 [==============================] - 3s 1ms/step - loss: 0.0090\n",
      "\n",
      "Generating text after epoch: 31\n",
      "dear local newspaper every library should have these books... -> dear local newspaper every library should have these books black history mind news thing\n",
      "books in library... -> books in library information certain posts idea same\n",
      "a computer... -> a computer offends offened helpful than there\n",
      "a... -> a thing @caps3 anything kids hurts\n",
      "Epoch 33/40\n",
      "3251/3251 [==============================] - 4s 1ms/step - loss: 0.0238\n",
      "\n",
      "Generating text after epoch: 32\n",
      "dear local newspaper every library should have these books... -> dear local newspaper every library should have these books weight doomed finaully entertain even\n",
      "books in library... -> books in library children a - books day\n",
      "a computer... -> a computer offends offened could offensive to\n",
      "a... -> a influence on the in the\n",
      "Epoch 34/40\n",
      "3251/3251 [==============================] - 4s 1ms/step - loss: 0.0290\n",
      "\n",
      "Generating text after epoch: 33\n",
      "dear local newspaper every library should have these books... -> dear local newspaper every library should have these books educating - -- let banning\n",
      "books in library... -> books in library others get having in front\n",
      "a computer... -> a computer @date1 saw virtual provided &\n",
      "a... -> a in . beaming religion banned\n",
      "Epoch 35/40\n",
      "3251/3251 [==============================] - 4s 1ms/step - loss: 0.0077\n",
      "\n",
      "Generating text after epoch: 34\n",
      "dear local newspaper every library should have these books... -> dear local newspaper every library should have these books spending friends think animal instead\n",
      "books in library... -> books in library children remove stuff just modern\n",
      "a computer... -> a computer @date1 learning answerd negative subject\n",
      "a... -> a because make ideas different thing\n",
      "Epoch 36/40\n",
      "3251/3251 [==============================] - 4s 1ms/step - loss: 0.0043\n",
      "\n",
      "Generating text after epoch: 35\n",
      "dear local newspaper every library should have these books... -> dear local newspaper every library should have these books cellphones graphic whatever strain have\n",
      "books in library... -> books in library banned tecnology negative twelve typing\n",
      "a computer... -> a computer year kid catagories on the\n",
      "a... -> a influence how negative else positive\n",
      "Epoch 37/40\n"
     ]
    },
    {
     "name": "stdout",
     "output_type": "stream",
     "text": [
      "3251/3251 [==============================] - 3s 1ms/step - loss: 0.0042\n",
      "\n",
      "Generating text after epoch: 36\n",
      "dear local newspaper every library should have these books... -> dear local newspaper every library should have these books write was interesting offensive banned\n",
      "books in library... -> books in library teenagers uses websites instant magazine\n",
      "a computer... -> a computer @date1 ables it is in\n",
      "a... -> a part since virtual going positions\n",
      "Epoch 38/40\n",
      "3251/3251 [==============================] - 3s 1ms/step - loss: 0.0406\n",
      "\n",
      "Generating text after epoch: 37\n",
      "dear local newspaper every library should have these books... -> dear local newspaper every library should have these books interacting come understand classic tell\n",
      "books in library... -> books in library finds see sanction censoring censoring\n",
      "a computer... -> a computer pros @caps5 able also piece\n",
      "a... -> a part dangerous there hundreds draws\n",
      "Epoch 39/40\n",
      "3251/3251 [==============================] - 4s 1ms/step - loss: 0.0176\n",
      "\n",
      "Generating text after epoch: 38\n",
      "dear local newspaper every library should have these books... -> dear local newspaper every library should have these books spending notice await neagtive lastly\n",
      "books in library... -> books in library resolve if we should not\n",
      "a computer... -> a computer ( look up a influence\n",
      "a... -> a part offencive as an take\n",
      "Epoch 40/40\n",
      "3251/3251 [==============================] - 4s 1ms/step - loss: 0.0050\n",
      "\n",
      "Generating text after epoch: 39\n",
      "dear local newspaper every library should have these books... -> dear local newspaper every library should have these books spending unhealthy future so none\n",
      "books in library... -> books in library save computer quicker can help\n",
      "a computer... -> a computer @date1 nuthing exponetially decades -\n",
      "a... -> a new community now ' by\n"
     ]
    },
    {
     "data": {
      "text/plain": [
       "<keras.callbacks.History at 0x28031b51518>"
      ]
     },
     "execution_count": 76,
     "metadata": {},
     "output_type": "execute_result"
    }
   ],
   "source": [
    "model.fit(train_x, train_y,\n",
    "          batch_size=128,\n",
    "          epochs=40,\n",
    "          callbacks=[LambdaCallback(on_epoch_end=on_epoch_end)])"
   ]
  },
  {
   "cell_type": "markdown",
   "metadata": {},
   "source": [
    "And now the same thing performed manually:"
   ]
  },
  {
   "cell_type": "code",
   "execution_count": 52,
   "metadata": {},
   "outputs": [],
   "source": [
    "text = 'dear local newspaper'"
   ]
  },
  {
   "cell_type": "code",
   "execution_count": 80,
   "metadata": {},
   "outputs": [
    {
     "name": "stdout",
     "output_type": "stream",
     "text": [
      "dear local newspaper out question than the childrens ways angers with\n"
     ]
    }
   ],
   "source": [
    "num_generated = 8\n",
    "word_idxs = [word2idx(word) for word in text.lower().split()]\n",
    "for i in range(num_generated):\n",
    "    prediction = model.predict(x=np.array(word_idxs))\n",
    "    idx = sample(prediction[-1], temperature=0.7)\n",
    "    word_idxs.append(idx)\n",
    "print(' '.join(idx2word(idx) for idx in word_idxs))"
   ]
  },
  {
   "cell_type": "markdown",
   "metadata": {},
   "source": [
    "The \"sample\" function run explicitly:"
   ]
  },
  {
   "cell_type": "code",
   "execution_count": 81,
   "metadata": {},
   "outputs": [
    {
     "data": {
      "text/plain": [
       "array([4.0528440e-04, 2.0602324e-04, 7.2131952e-05, ..., 4.6114925e-05,\n",
       "       2.1005133e-05, 4.9224611e-05], dtype=float32)"
      ]
     },
     "execution_count": 81,
     "metadata": {},
     "output_type": "execute_result"
    }
   ],
   "source": [
    "preds = prediction[-1]\n",
    "preds"
   ]
  },
  {
   "cell_type": "code",
   "execution_count": 83,
   "metadata": {
    "scrolled": true
   },
   "outputs": [
    {
     "name": "stdout",
     "output_type": "stream",
     "text": [
      "36 ---> with\n"
     ]
    },
    {
     "data": {
      "image/png": "[encoded data removed]",
      "text/plain": [
       "<Figure size 432x288 with 1 Axes>"
      ]
     },
     "metadata": {},
     "output_type": "display_data"
    }
   ],
   "source": [
    "print(np.argmax(preds), '--->', idx2word(np.argmax(preds)))\n",
    "\n",
    "import matplotlib.pyplot as plt\n",
    "plt.bar(np.arange(len(preds)), preds)\n",
    "plt.xlim(0,50)\n",
    "plt.show()"
   ]
  },
  {
   "cell_type": "code",
   "execution_count": 84,
   "metadata": {
    "scrolled": true
   },
   "outputs": [
    {
     "name": "stdout",
     "output_type": "stream",
     "text": [
      "36\n"
     ]
    }
   ],
   "source": [
    "preds_log = np.log(np.asarray(preds).astype('float64'))/0.7\n",
    "preds_exp = np.exp(preds_log)\n",
    "print(np.argmax(preds_exp))"
   ]
  },
  {
   "cell_type": "code",
   "execution_count": 85,
   "metadata": {},
   "outputs": [
    {
     "data": {
      "text/plain": [
       "36"
      ]
     },
     "execution_count": 85,
     "metadata": {},
     "output_type": "execute_result"
    }
   ],
   "source": [
    "preds_normalized = preds_exp/np.sum(preds_exp)\n",
    "np.argmax(preds_normalized)"
   ]
  },
  {
   "cell_type": "code",
   "execution_count": 86,
   "metadata": {},
   "outputs": [
    {
     "data": {
      "image/png": "[encoded data removed]",
      "text/plain": [
       "<Figure size 432x288 with 1 Axes>"
      ]
     },
     "metadata": {},
     "output_type": "display_data"
    }
   ],
   "source": [
    "a = []\n",
    "for i in range(20000):\n",
    "    preds_random = np.random.multinomial(1, preds_normalized, 1)\n",
    "    a.append(np.argmax(preds_random))\n",
    "#     preds_random = np.random.choice(len(preds_normalized), p=preds_normalized)\n",
    "#     a.append(preds_random)\n",
    "\n",
    "plt.hist(a)\n",
    "plt.show()"
   ]
  },
  {
   "cell_type": "markdown",
   "metadata": {},
   "source": [
    "Alternative prediction:"
   ]
  },
  {
   "cell_type": "code",
   "execution_count": 130,
   "metadata": {},
   "outputs": [
    {
     "name": "stdout",
     "output_type": "stream",
     "text": [
      "with prove usage shelves through without ask air \n"
     ]
    }
   ],
   "source": [
    "def sample_prediction(prediction):\n",
    "    rnd_idx = np.random.choice(len(prediction), p=prediction)\n",
    "    return rnd_idx\n",
    "\n",
    "text_output = ''\n",
    "for i in range(8):\n",
    "    text_output += idx2word(sample_prediction(preds)) + ' '\n",
    "\n",
    "print(text_output)"
   ]
  },
  {
   "cell_type": "code",
   "execution_count": 131,
   "metadata": {},
   "outputs": [
    {
     "data": {
      "image/png": "[encoded data removed]",
      "text/plain": [
       "<Figure size 432x288 with 1 Axes>"
      ]
     },
     "metadata": {},
     "output_type": "display_data"
    }
   ],
   "source": [
    "a = []\n",
    "preds_normalized_2 = preds/np.sum(preds)\n",
    "\n",
    "for i in range(20000):\n",
    "#     preds_random = np.random.multinomial(1, preds_normalized, 1)\n",
    "#     a.append(np.argmax(preds_random))\n",
    "    preds_random = np.random.choice(len(preds_normalized_2), p=preds_normalized_2)\n",
    "    a.append(preds_random)\n",
    "\n",
    "plt.hist(a)\n",
    "plt.show()"
   ]
  },
  {
   "cell_type": "markdown",
   "metadata": {},
   "source": [
    "alternative #2"
   ]
  },
  {
   "cell_type": "code",
   "execution_count": null,
   "metadata": {},
   "outputs": [],
   "source": [
    "for i in range(8):\n",
    "x = numpy.reshape(pattern, (1, len(pattern), 1))\n",
    "    x = x / float(n_vocab)\n",
    "    prediction = model.predict(x, verbose=0)\n",
    "    index = numpy.argmax(prediction)\n",
    "    result = int_to_char[index]\n",
    "    seq_in = [int_to_char[value] for value in pattern]\n",
    "    sys.stdout.write(result)\n",
    "    pattern.append(index)\n",
    "    pattern = pattern[1:len(pattern)]\n",
    "print \"\\nDone.\""
   ]
  },
  {
   "cell_type": "markdown",
   "metadata": {},
   "source": [
    " Gustavo Führ March 23, 2017 at 9:31 am #\n",
    "\n",
    "Actually Jason,\n",
    "\n",
    "I advanced my experiments and found some interesting things, I will probably do a Medium about it.\n",
    "\n",
    "For the loop problem, as mentioned in http://karpathy.github.io/2015/05/21/rnn-effectiveness/, makes no sense to always use the argmax in the generation. Since the network output a list of probabilities is easy to randomically sample letter using this distribution:\n",
    "\n",
    "def sample_prediction(char_map, prediction):\n",
    "rnd_idx = np.random.choice(len(prediction), p=prediction)\n",
    "return char_map[rnd_idx]\n",
    "\n",
    "That simple change made the network to avoid loops and be much more diverse. (Using\n",
    "temperature as you mentioned will be even better)"
   ]
  },
  {
   "cell_type": "code",
   "execution_count": null,
   "metadata": {},
   "outputs": [],
   "source": [
    "def sample_prediction(prediction):\n",
    "    \"\"\"Get rand index from preds based on its prob distribution.\n",
    "\n",
    "    Params\n",
    "    ——\n",
    "    prediction (array (array)): array of length 1 containing array of probs that sums to 1\n",
    "\n",
    "    Returns\n",
    "    ——-\n",
    "    rnd_idx (int): random index from prediction[0]\n",
    "\n",
    "    Notes\n",
    "    —–\n",
    "    Helps to solve problem of repeated outputs.\n",
    "\n",
    "    len(prediction) = 1\n",
    "    len(prediction[0]) >> 1\n",
    "    \"\"\"\n",
    "    X = prediction[0] # sum(X) is approx 1\n",
    "    rnd_idx = np.random.choice(len(X), p=X)\n",
    "return rnd_idx\n",
    "\n",
    "for i in range(num_outputs):\n",
    "x = np.reshape(pattern, (1, len(pattern), 1))\n",
    "x = x / float(n_vocab)\n",
    "prediction = model.predict(x, verbose=0)\n",
    "#index = numpy.argmax(prediction)\n",
    "# per Gustavo’s suggestion, we should not use argmax here\n",
    "index = sample_prediction(prediction)\n",
    "result = int_to_char[index]\n",
    "#seq_in = [int_to_char[value] for value in pattern]\n",
    "# not sure why seq_in was here\n",
    "sys.stdout.write(result)\n",
    "pattern.append(index)\n",
    "pattern = pattern[1:len(pattern)]\n",
    "print “\\nDone.”"
   ]
  }
 ],
 "metadata": {
  "kernelspec": {
   "display_name": "Python [conda env:capstone2]",
   "language": "python",
   "name": "conda-env-capstone2-py"
  },
  "language_info": {
   "codemirror_mode": {
    "name": "ipython",
    "version": 3
   },
   "file_extension": ".py",
   "mimetype": "text/x-python",
   "name": "python",
   "nbconvert_exporter": "python",
   "pygments_lexer": "ipython3",
   "version": "3.6.5"
  }
 },
 "nbformat": 4,
 "nbformat_minor": 2
}
