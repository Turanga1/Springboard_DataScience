{
 "cells": [
  {
   "cell_type": "code",
   "execution_count": 1,
   "metadata": {
    "slideshow": {
     "slide_type": "skip"
    }
   },
   "outputs": [
    {
     "data": {
      "text/plain": [
       "{'width': 1280, 'height': 800, 'scroll': True}"
      ]
     },
     "execution_count": 1,
     "metadata": {},
     "output_type": "execute_result"
    }
   ],
   "source": [
    "from notebook.services.config import ConfigManager\n",
    "cm = ConfigManager()\n",
    "cm.update('livereveal', {\n",
    "    'width': 1280,\n",
    "    'height': 800,\n",
    "    'scroll': True\n",
    "})"
   ]
  },
  {
   "cell_type": "markdown",
   "metadata": {
    "slideshow": {
     "slide_type": "slide"
    }
   },
   "source": [
    "## Setup"
   ]
  },
  {
   "cell_type": "markdown",
   "metadata": {
    "slideshow": {
     "slide_type": "fragment"
    }
   },
   "source": [
    "### Imports"
   ]
  },
  {
   "cell_type": "code",
   "execution_count": 4,
   "metadata": {
    "slideshow": {
     "slide_type": "fragment"
    }
   },
   "outputs": [],
   "source": [
    "from time import time\n",
    "from collections import Counter\n",
    "# from pathlib import Path\n",
    "import pandas as pd\n",
    "import numpy as np\n",
    "from numpy.linalg import norm\n",
    "from scipy.spatial.distance import cdist, cosine\n",
    "\n",
    "import matplotlib.pyplot as plt\n",
    "from IPython.display import SVG, display\n",
    "\n",
    "from scipy.spatial.distance import cdist\n",
    "from keras.models import Model\n",
    "from keras.layers import Input, Dense, Reshape, Dot\n",
    "from keras.layers.embeddings import Embedding\n",
    "from keras.preprocessing.sequence import skipgrams\n",
    "from keras.preprocessing import sequence\n",
    "from keras.callbacks import Callback, TensorBoard\n",
    "\n",
    "from gensim.models import Word2Vec, KeyedVectors\n",
    "from gensim.models.word2vec import LineSentence\n",
    "from sklearn.decomposition import IncrementalPCA"
   ]
  },
  {
   "cell_type": "markdown",
   "metadata": {
    "slideshow": {
     "slide_type": ""
    }
   },
   "source": [
    "### Settings"
   ]
  },
  {
   "cell_type": "code",
   "execution_count": 2,
   "metadata": {
    "slideshow": {
     "slide_type": "fragment"
    }
   },
   "outputs": [],
   "source": [
    "plt.style.use('ggplot')\n",
    "pd.set_option('float_format', '{:,.2f}'.format)\n",
    "%matplotlib inline\n",
    "np.random.seed(42)"
   ]
  },
  {
   "cell_type": "markdown",
   "metadata": {
    "slideshow": {
     "slide_type": "slide"
    }
   },
   "source": [
    "## TED2013 Corpus Statistics"
   ]
  },
  {
   "cell_type": "code",
   "execution_count": 5,
   "metadata": {
    "slideshow": {
     "slide_type": "fragment"
    }
   },
   "outputs": [
    {
     "name": "stdout",
     "output_type": "stream",
     "text": [
      "<class 'pandas.io.pytables.HDFStore'>\n",
      "File path: vocab.h5\n",
      "/ngrams            frame        (shape->[570,4])    \n",
      "/stats             series       (shape->[3])        \n",
      "/tokens            frame        (shape->[3224080,3])\n",
      "/vocab             frame        (shape->[42276,1])  \n"
     ]
    }
   ],
   "source": [
    "with pd.HDFStore('vocab.h5') as store:\n",
    "    print(store.info())"
   ]
  },
  {
   "cell_type": "code",
   "execution_count": 6,
   "metadata": {
    "slideshow": {
     "slide_type": "slide"
    }
   },
   "outputs": [
    {
     "name": "stdout",
     "output_type": "stream",
     "text": [
      "# words: 2,917,337\n",
      "   word_count  freq  n_words  vocab_size  coverage\n",
      "0      151222     1   151222           1      0.05\n",
      "1       98829     1    98829           2      0.09\n",
      "2       79482     1    79482           3      0.11\n",
      "3       61783     1    61783           4      0.13\n",
      "4       53451     1    53451           5      0.15\n",
      "5       51688     1    51688           6      0.17\n",
      "6       51036     1    51036           7      0.19\n",
      "7       43901     1    43901           8      0.20\n",
      "8       39446     1    39446           9      0.22\n",
      "9       38687     1    38687          10      0.23\n",
      "      word_count   freq  n_words  vocab_size  coverage\n",
      "1001          10    352     3520        6623      0.98\n",
      "1002           9    383     3447        7006      0.98\n",
      "1003           8    510     4080        7516      0.98\n",
      "1004           7    619     4333        8135      0.98\n",
      "1005           6    779     4674        8914      0.98\n",
      "1006           5   1032     5160        9946      0.98\n",
      "1007           4   1477     5908       11423      0.99\n",
      "1008           3   2464     7392       13887      0.99\n",
      "1009           2   5028    10056       18915      0.99\n",
      "1010           1  23361    23361       42276      1.00\n"
     ]
    }
   ],
   "source": [
    "with pd.HDFStore('vocab.h5') as store:\n",
    "    df = store['vocab']\n",
    "\n",
    "wc = df['count'].value_counts().sort_index(ascending=False).reset_index()\n",
    "wc.columns = ['word_count', 'freq']\n",
    "wc['n_words'] = wc.word_count.mul(wc.freq)\n",
    "\n",
    "wc['corpus_share'] = wc.n_words.div(wc.n_words.sum())\n",
    "wc['coverage'] = wc.corpus_share.cumsum()\n",
    "wc['vocab_size'] = wc.freq.cumsum()\n",
    "\n",
    "print('# words: {:,d}'.format(wc.n_words.sum()))\n",
    "print(wc.loc[:, ['word_count', 'freq', 'n_words', 'vocab_size', 'coverage']].head(10))\n",
    "print(wc.loc[:, ['word_count', 'freq', 'n_words', 'vocab_size', 'coverage']].tail(10))"
   ]
  },
  {
   "cell_type": "code",
   "execution_count": 7,
   "metadata": {
    "scrolled": true,
    "slideshow": {
     "slide_type": "slide"
    }
   },
   "outputs": [
    {
     "data": {
      "text/plain": [
       "count   1,011.00\n",
       "mean        0.08\n",
       "std         0.28\n",
       "min         0.00\n",
       "50%         0.02\n",
       "75%         0.06\n",
       "95%         0.32\n",
       "96%         0.37\n",
       "97%         0.49\n",
       "98%         0.65\n",
       "99%         1.11\n",
       "99.9%       3.38\n",
       "max         5.18\n",
       "Name: word_count, dtype: float64"
      ]
     },
     "execution_count": 7,
     "metadata": {},
     "output_type": "execute_result"
    }
   ],
   "source": [
    "wc.word_count.div(wc.n_words.sum()).mul(100).describe(percentiles=[.5, .75, .95, .96, .97, .98, .99, .999])"
   ]
  },
  {
   "cell_type": "code",
   "execution_count": 11,
   "metadata": {},
   "outputs": [],
   "source": [
    "with pd.HDFStore('vocab.h5') as store:\n",
    "    sentences = store['vocab'].index"
   ]
  },
  {
   "cell_type": "code",
   "execution_count": 12,
   "metadata": {},
   "outputs": [
    {
     "ename": "KeyError",
     "evalue": "\"word 'computer' not in vocabulary\"",
     "output_type": "error",
     "traceback": [
      "\u001b[1;31m---------------------------------------------------------------------------\u001b[0m",
      "\u001b[1;31mKeyError\u001b[0m                                  Traceback (most recent call last)",
      "\u001b[1;32m<ipython-input-12-e845848dc51d>\u001b[0m in \u001b[0;36m<module>\u001b[1;34m()\u001b[0m\n\u001b[0;32m      6\u001b[0m \u001b[1;33m\u001b[0m\u001b[0m\n\u001b[0;32m      7\u001b[0m \u001b[1;31m#words most similar to mother\u001b[0m\u001b[1;33m\u001b[0m\u001b[1;33m\u001b[0m\u001b[0m\n\u001b[1;32m----> 8\u001b[1;33m \u001b[0mprint\u001b[0m\u001b[1;33m(\u001b[0m\u001b[0mmodel\u001b[0m\u001b[1;33m.\u001b[0m\u001b[0mwv\u001b[0m\u001b[1;33m.\u001b[0m\u001b[0mmost_similar\u001b[0m\u001b[1;33m(\u001b[0m\u001b[1;34m'computer'\u001b[0m\u001b[1;33m)\u001b[0m\u001b[1;33m)\u001b[0m\u001b[1;33m\u001b[0m\u001b[0m\n\u001b[0m\u001b[0;32m      9\u001b[0m \u001b[1;33m\u001b[0m\u001b[0m\n\u001b[0;32m     10\u001b[0m \u001b[1;31m#find the odd one out\u001b[0m\u001b[1;33m\u001b[0m\u001b[1;33m\u001b[0m\u001b[0m\n",
      "\u001b[1;32m~\\Anaconda3\\envs\\spacy\\lib\\site-packages\\gensim\\models\\keyedvectors.py\u001b[0m in \u001b[0;36mmost_similar\u001b[1;34m(self, positive, negative, topn, restrict_vocab, indexer)\u001b[0m\n\u001b[0;32m    363\u001b[0m                 \u001b[0mmean\u001b[0m\u001b[1;33m.\u001b[0m\u001b[0mappend\u001b[0m\u001b[1;33m(\u001b[0m\u001b[0mweight\u001b[0m \u001b[1;33m*\u001b[0m \u001b[0mword\u001b[0m\u001b[1;33m)\u001b[0m\u001b[1;33m\u001b[0m\u001b[0m\n\u001b[0;32m    364\u001b[0m             \u001b[1;32melse\u001b[0m\u001b[1;33m:\u001b[0m\u001b[1;33m\u001b[0m\u001b[0m\n\u001b[1;32m--> 365\u001b[1;33m                 \u001b[0mmean\u001b[0m\u001b[1;33m.\u001b[0m\u001b[0mappend\u001b[0m\u001b[1;33m(\u001b[0m\u001b[0mweight\u001b[0m \u001b[1;33m*\u001b[0m \u001b[0mself\u001b[0m\u001b[1;33m.\u001b[0m\u001b[0mword_vec\u001b[0m\u001b[1;33m(\u001b[0m\u001b[0mword\u001b[0m\u001b[1;33m,\u001b[0m \u001b[0muse_norm\u001b[0m\u001b[1;33m=\u001b[0m\u001b[1;32mTrue\u001b[0m\u001b[1;33m)\u001b[0m\u001b[1;33m)\u001b[0m\u001b[1;33m\u001b[0m\u001b[0m\n\u001b[0m\u001b[0;32m    366\u001b[0m                 \u001b[1;32mif\u001b[0m \u001b[0mword\u001b[0m \u001b[1;32min\u001b[0m \u001b[0mself\u001b[0m\u001b[1;33m.\u001b[0m\u001b[0mvocab\u001b[0m\u001b[1;33m:\u001b[0m\u001b[1;33m\u001b[0m\u001b[0m\n\u001b[0;32m    367\u001b[0m                     \u001b[0mall_words\u001b[0m\u001b[1;33m.\u001b[0m\u001b[0madd\u001b[0m\u001b[1;33m(\u001b[0m\u001b[0mself\u001b[0m\u001b[1;33m.\u001b[0m\u001b[0mvocab\u001b[0m\u001b[1;33m[\u001b[0m\u001b[0mword\u001b[0m\u001b[1;33m]\u001b[0m\u001b[1;33m.\u001b[0m\u001b[0mindex\u001b[0m\u001b[1;33m)\u001b[0m\u001b[1;33m\u001b[0m\u001b[0m\n",
      "\u001b[1;32m~\\Anaconda3\\envs\\spacy\\lib\\site-packages\\gensim\\models\\keyedvectors.py\u001b[0m in \u001b[0;36mword_vec\u001b[1;34m(self, word, use_norm)\u001b[0m\n\u001b[0;32m    272\u001b[0m             \u001b[1;32mreturn\u001b[0m \u001b[0mresult\u001b[0m\u001b[1;33m\u001b[0m\u001b[0m\n\u001b[0;32m    273\u001b[0m         \u001b[1;32melse\u001b[0m\u001b[1;33m:\u001b[0m\u001b[1;33m\u001b[0m\u001b[0m\n\u001b[1;32m--> 274\u001b[1;33m             \u001b[1;32mraise\u001b[0m \u001b[0mKeyError\u001b[0m\u001b[1;33m(\u001b[0m\u001b[1;34m\"word '%s' not in vocabulary\"\u001b[0m \u001b[1;33m%\u001b[0m \u001b[0mword\u001b[0m\u001b[1;33m)\u001b[0m\u001b[1;33m\u001b[0m\u001b[0m\n\u001b[0m\u001b[0;32m    275\u001b[0m \u001b[1;33m\u001b[0m\u001b[0m\n\u001b[0;32m    276\u001b[0m     \u001b[1;32mdef\u001b[0m \u001b[0mget_vector\u001b[0m\u001b[1;33m(\u001b[0m\u001b[0mself\u001b[0m\u001b[1;33m,\u001b[0m \u001b[0mword\u001b[0m\u001b[1;33m)\u001b[0m\u001b[1;33m:\u001b[0m\u001b[1;33m\u001b[0m\u001b[0m\n",
      "\u001b[1;31mKeyError\u001b[0m: \"word 'computer' not in vocabulary\""
     ]
    }
   ],
   "source": [
    "model = Word2Vec(sentences, min_count=1)\n",
    "# model.save('brown_model')\n",
    "# print(' Brown corpus model saved.')\n",
    "\n",
    "# model = Word2Vec.load('brown_model')\n",
    "\n",
    "#words most similar to mother\n",
    "print(model.wv.most_similar('computer'))\n",
    "\n",
    "#find the odd one out\n",
    "print(model.wv.doesnt_match('computer book library newspaper'.split()))\n",
    "\n",
    "#vector representation of word human\n",
    "print(model['computer'])"
   ]
  },
  {
   "cell_type": "markdown",
   "metadata": {
    "slideshow": {
     "slide_type": "slide"
    }
   },
   "source": [
    "## `word2vec` - skipgram Architecture using Keras"
   ]
  },
  {
   "cell_type": "markdown",
   "metadata": {
    "slideshow": {
     "slide_type": "slide"
    }
   },
   "source": [
    "### Settings"
   ]
  },
  {
   "cell_type": "code",
   "execution_count": 17,
   "metadata": {
    "slideshow": {
     "slide_type": "fragment"
    }
   },
   "outputs": [],
   "source": [
    "NGRAMS = 3                                # Longest ngram in text\n",
    "FILE_NAME = 'ngrams_{}'.format(NGRAMS)    # Input to use\n",
    "MIN_FREQ = 5\n",
    "SAMPLING_FACTOR = 1e-4\n",
    "WINDOW_SIZE = 5\n",
    "EMBEDDING_SIZE = 200\n",
    "EPOCHS = 1\n",
    "BATCH_SIZE = 50\n",
    "\n",
    "# Set up validation\n",
    "VALID_SET = 10      # Random set of words to get nearest neighbors for\n",
    "VALID_WINDOW = 150  # Most frequent words to draw validation set from\n",
    "NN = 10             # Number of nearest neighbors for evaluation\n",
    "\n",
    "valid_examples = np.random.choice(VALID_WINDOW, size=VALID_SET, replace=False)"
   ]
  },
  {
   "cell_type": "code",
   "execution_count": 14,
   "metadata": {
    "slideshow": {
     "slide_type": "fragment"
    }
   },
   "outputs": [],
   "source": [
    "path = Path('keras', SOURCE, LANGUAGE, FILE_NAME).resolve()\n",
    "tb_path = path / 'tensorboard'\n",
    "if not tb_path.exists():\n",
    "    tb_path.mkdir(parents=True, exist_ok=True)"
   ]
  },
  {
   "cell_type": "markdown",
   "metadata": {
    "slideshow": {
     "slide_type": "slide"
    }
   },
   "source": [
    "### Build Data Set"
   ]
  },
  {
   "cell_type": "markdown",
   "metadata": {
    "slideshow": {
     "slide_type": "fragment"
    }
   },
   "source": [
    "#### Tokens to ID\n",
    "\n",
    "1. Extract the top *n* most common words to learn embeddings\n",
    "2. Index these *n* words with unique integers\n",
    "3. Create an `{index: word}` dictionary\n",
    "4. Replace the *n* words with their index, and a dummy value `UNK` elsewhere"
   ]
  },
  {
   "cell_type": "code",
   "execution_count": 15,
   "metadata": {
    "slideshow": {
     "slide_type": "slide"
    }
   },
   "outputs": [],
   "source": [
    "def build_data(ngrams=1):\n",
    "    file_path = 'ngrams_{}.txt'.format(ngrams)\n",
    "    words = file_path.read_text().split()\n",
    "    \n",
    "    # Get (token, count) tuples for tokens meeting MIN_FREQ \n",
    "    token_counts = [t for t in Counter(words).most_common() if t[1] >= MIN_FREQ]\n",
    "    tokens, counts = list(zip(*token_counts))\n",
    "    \n",
    "    # create id-token dicts & reverse dicts\n",
    "    id_to_token = pd.Series(tokens, index=range(1, len(tokens) + 1)).to_dict()\n",
    "    id_to_token.update({0: 'UNK'})\n",
    "    token_to_id = {t:i for i, t in id_to_token.items()}\n",
    "    data = [token_to_id.get(word, 0) for word in words]\n",
    "    return data, token_to_id, id_to_token"
   ]
  },
  {
   "cell_type": "code",
   "execution_count": 18,
   "metadata": {
    "slideshow": {
     "slide_type": "fragment"
    }
   },
   "outputs": [
    {
     "ename": "AttributeError",
     "evalue": "'str' object has no attribute 'read_text'",
     "output_type": "error",
     "traceback": [
      "\u001b[1;31m---------------------------------------------------------------------------\u001b[0m",
      "\u001b[1;31mAttributeError\u001b[0m                            Traceback (most recent call last)",
      "\u001b[1;32m<ipython-input-18-c0bda6510799>\u001b[0m in \u001b[0;36m<module>\u001b[1;34m()\u001b[0m\n\u001b[1;32m----> 1\u001b[1;33m \u001b[0mdata\u001b[0m\u001b[1;33m,\u001b[0m \u001b[0mtoken_to_id\u001b[0m\u001b[1;33m,\u001b[0m \u001b[0mid_to_token\u001b[0m \u001b[1;33m=\u001b[0m \u001b[0mbuild_data\u001b[0m\u001b[1;33m(\u001b[0m\u001b[0mngrams\u001b[0m\u001b[1;33m=\u001b[0m\u001b[0mNGRAMS\u001b[0m\u001b[1;33m)\u001b[0m\u001b[1;33m\u001b[0m\u001b[0m\n\u001b[0m",
      "\u001b[1;32m<ipython-input-15-f3845bd367a4>\u001b[0m in \u001b[0;36mbuild_data\u001b[1;34m(ngrams)\u001b[0m\n\u001b[0;32m      1\u001b[0m \u001b[1;32mdef\u001b[0m \u001b[0mbuild_data\u001b[0m\u001b[1;33m(\u001b[0m\u001b[0mngrams\u001b[0m\u001b[1;33m=\u001b[0m\u001b[1;36m1\u001b[0m\u001b[1;33m)\u001b[0m\u001b[1;33m:\u001b[0m\u001b[1;33m\u001b[0m\u001b[0m\n\u001b[0;32m      2\u001b[0m     \u001b[0mfile_path\u001b[0m \u001b[1;33m=\u001b[0m \u001b[1;34m'ngrams_{}.txt'\u001b[0m\u001b[1;33m.\u001b[0m\u001b[0mformat\u001b[0m\u001b[1;33m(\u001b[0m\u001b[0mngrams\u001b[0m\u001b[1;33m)\u001b[0m\u001b[1;33m\u001b[0m\u001b[0m\n\u001b[1;32m----> 3\u001b[1;33m     \u001b[0mwords\u001b[0m \u001b[1;33m=\u001b[0m \u001b[0mfile_path\u001b[0m\u001b[1;33m.\u001b[0m\u001b[0mread_text\u001b[0m\u001b[1;33m(\u001b[0m\u001b[1;33m)\u001b[0m\u001b[1;33m.\u001b[0m\u001b[0msplit\u001b[0m\u001b[1;33m(\u001b[0m\u001b[1;33m)\u001b[0m\u001b[1;33m\u001b[0m\u001b[0m\n\u001b[0m\u001b[0;32m      4\u001b[0m \u001b[1;33m\u001b[0m\u001b[0m\n\u001b[0;32m      5\u001b[0m     \u001b[1;31m# Get (token, count) tuples for tokens meeting MIN_FREQ\u001b[0m\u001b[1;33m\u001b[0m\u001b[1;33m\u001b[0m\u001b[0m\n",
      "\u001b[1;31mAttributeError\u001b[0m: 'str' object has no attribute 'read_text'"
     ]
    }
   ],
   "source": [
    "data, token_to_id, id_to_token = build_data(ngrams=NGRAMS)"
   ]
  },
  {
   "cell_type": "code",
   "execution_count": 16,
   "metadata": {
    "slideshow": {
     "slide_type": "slide"
    }
   },
   "outputs": [],
   "source": [
    "vocab_size = len(token_to_id)"
   ]
  },
  {
   "cell_type": "code",
   "execution_count": 17,
   "metadata": {
    "slideshow": {
     "slide_type": "fragment"
    }
   },
   "outputs": [
    {
     "data": {
      "text/plain": [
       "24038"
      ]
     },
     "execution_count": 17,
     "metadata": {},
     "output_type": "execute_result"
    }
   ],
   "source": [
    "vocab_size"
   ]
  },
  {
   "cell_type": "code",
   "execution_count": 18,
   "metadata": {
    "slideshow": {
     "slide_type": "fragment"
    }
   },
   "outputs": [
    {
     "data": {
      "text/plain": [
       "(0, 24037)"
      ]
     },
     "execution_count": 18,
     "metadata": {},
     "output_type": "execute_result"
    }
   ],
   "source": [
    "min(data), max(data)"
   ]
  },
  {
   "cell_type": "code",
   "execution_count": 19,
   "metadata": {
    "slideshow": {
     "slide_type": "fragment"
    }
   },
   "outputs": [],
   "source": [
    "s = pd.Series(data).value_counts().reset_index()\n",
    "s.columns = ['id', 'count']\n",
    "s['token'] = s.id.map(id_to_token)"
   ]
  },
  {
   "cell_type": "code",
   "execution_count": 20,
   "metadata": {
    "slideshow": {
     "slide_type": "slide"
    }
   },
   "outputs": [
    {
     "data": {
      "text/html": [
       "<div>\n",
       "<style scoped>\n",
       "    .dataframe tbody tr th:only-of-type {\n",
       "        vertical-align: middle;\n",
       "    }\n",
       "\n",
       "    .dataframe tbody tr th {\n",
       "        vertical-align: top;\n",
       "    }\n",
       "\n",
       "    .dataframe thead th {\n",
       "        text-align: right;\n",
       "    }\n",
       "</style>\n",
       "<table border=\"1\" class=\"dataframe\">\n",
       "  <thead>\n",
       "    <tr style=\"text-align: right;\">\n",
       "      <th></th>\n",
       "      <th>id</th>\n",
       "      <th>count</th>\n",
       "      <th>token</th>\n",
       "    </tr>\n",
       "  </thead>\n",
       "  <tbody>\n",
       "    <tr>\n",
       "      <th>0</th>\n",
       "      <td>1</td>\n",
       "      <td>255096</td>\n",
       "      <td>the</td>\n",
       "    </tr>\n",
       "    <tr>\n",
       "      <th>1</th>\n",
       "      <td>2</td>\n",
       "      <td>181404</td>\n",
       "      <td>and</td>\n",
       "    </tr>\n",
       "    <tr>\n",
       "      <th>2</th>\n",
       "      <td>3</td>\n",
       "      <td>148988</td>\n",
       "      <td>to</td>\n",
       "    </tr>\n",
       "    <tr>\n",
       "      <th>3</th>\n",
       "      <td>4</td>\n",
       "      <td>140548</td>\n",
       "      <td>of</td>\n",
       "    </tr>\n",
       "    <tr>\n",
       "      <th>4</th>\n",
       "      <td>5</td>\n",
       "      <td>128774</td>\n",
       "      <td>a</td>\n",
       "    </tr>\n",
       "    <tr>\n",
       "      <th>5</th>\n",
       "      <td>6</td>\n",
       "      <td>113156</td>\n",
       "      <td>that</td>\n",
       "    </tr>\n",
       "    <tr>\n",
       "      <th>6</th>\n",
       "      <td>7</td>\n",
       "      <td>99242</td>\n",
       "      <td>i</td>\n",
       "    </tr>\n",
       "    <tr>\n",
       "      <th>7</th>\n",
       "      <td>8</td>\n",
       "      <td>94808</td>\n",
       "      <td>in</td>\n",
       "    </tr>\n",
       "    <tr>\n",
       "      <th>8</th>\n",
       "      <td>9</td>\n",
       "      <td>93862</td>\n",
       "      <td>it</td>\n",
       "    </tr>\n",
       "    <tr>\n",
       "      <th>9</th>\n",
       "      <td>10</td>\n",
       "      <td>88098</td>\n",
       "      <td>you</td>\n",
       "    </tr>\n",
       "  </tbody>\n",
       "</table>\n",
       "</div>"
      ],
      "text/plain": [
       "   id   count token\n",
       "0   1  255096   the\n",
       "1   2  181404   and\n",
       "2   3  148988    to\n",
       "3   4  140548    of\n",
       "4   5  128774     a\n",
       "5   6  113156  that\n",
       "6   7   99242     i\n",
       "7   8   94808    in\n",
       "8   9   93862    it\n",
       "9  10   88098   you"
      ]
     },
     "execution_count": 20,
     "metadata": {},
     "output_type": "execute_result"
    }
   ],
   "source": [
    "s.sort_values('count', ascending=False).head(10)"
   ]
  },
  {
   "cell_type": "code",
   "execution_count": 21,
   "metadata": {
    "slideshow": {
     "slide_type": "fragment"
    }
   },
   "outputs": [],
   "source": [
    "s.sort_values('id').token.dropna().to_csv(tb_path / 'meta.tsv', index=False)"
   ]
  },
  {
   "cell_type": "markdown",
   "metadata": {
    "slideshow": {
     "slide_type": "slide"
    }
   },
   "source": [
    "#### Analogies to ID"
   ]
  },
  {
   "cell_type": "code",
   "execution_count": 22,
   "metadata": {
    "slideshow": {
     "slide_type": "fragment"
    }
   },
   "outputs": [],
   "source": [
    "df = pd.read_csv(Path('data', 'analogies', 'analogies-{}.txt'.format(LANGUAGE)), \n",
    "                 header=None, squeeze=True)\n",
    "categories = df[df.str.startswith(':')]\n",
    "analogies = df[~df.str.startswith(':')].str.split(expand=True)\n",
    "analogies.columns = list('abcd')"
   ]
  },
  {
   "cell_type": "code",
   "execution_count": 23,
   "metadata": {
    "slideshow": {
     "slide_type": "slide"
    }
   },
   "outputs": [
    {
     "data": {
      "text/html": [
       "<div>\n",
       "<style scoped>\n",
       "    .dataframe tbody tr th:only-of-type {\n",
       "        vertical-align: middle;\n",
       "    }\n",
       "\n",
       "    .dataframe tbody tr th {\n",
       "        vertical-align: top;\n",
       "    }\n",
       "\n",
       "    .dataframe thead th {\n",
       "        text-align: right;\n",
       "    }\n",
       "</style>\n",
       "<table border=\"1\" class=\"dataframe\">\n",
       "  <thead>\n",
       "    <tr style=\"text-align: right;\">\n",
       "      <th></th>\n",
       "      <th>a</th>\n",
       "      <th>b</th>\n",
       "      <th>c</th>\n",
       "      <th>d</th>\n",
       "    </tr>\n",
       "  </thead>\n",
       "  <tbody>\n",
       "    <tr>\n",
       "      <th>1</th>\n",
       "      <td>athens</td>\n",
       "      <td>greece</td>\n",
       "      <td>baghdad</td>\n",
       "      <td>iraq</td>\n",
       "    </tr>\n",
       "    <tr>\n",
       "      <th>2</th>\n",
       "      <td>athens</td>\n",
       "      <td>greece</td>\n",
       "      <td>bangkok</td>\n",
       "      <td>thailand</td>\n",
       "    </tr>\n",
       "    <tr>\n",
       "      <th>3</th>\n",
       "      <td>athens</td>\n",
       "      <td>greece</td>\n",
       "      <td>beijing</td>\n",
       "      <td>china</td>\n",
       "    </tr>\n",
       "    <tr>\n",
       "      <th>4</th>\n",
       "      <td>athens</td>\n",
       "      <td>greece</td>\n",
       "      <td>berlin</td>\n",
       "      <td>germany</td>\n",
       "    </tr>\n",
       "    <tr>\n",
       "      <th>5</th>\n",
       "      <td>athens</td>\n",
       "      <td>greece</td>\n",
       "      <td>bern</td>\n",
       "      <td>switzerland</td>\n",
       "    </tr>\n",
       "  </tbody>\n",
       "</table>\n",
       "</div>"
      ],
      "text/plain": [
       "        a       b        c            d\n",
       "1  athens  greece  baghdad         iraq\n",
       "2  athens  greece  bangkok     thailand\n",
       "3  athens  greece  beijing        china\n",
       "4  athens  greece   berlin      germany\n",
       "5  athens  greece     bern  switzerland"
      ]
     },
     "execution_count": 23,
     "metadata": {},
     "output_type": "execute_result"
    }
   ],
   "source": [
    "analogies.head()"
   ]
  },
  {
   "cell_type": "code",
   "execution_count": 24,
   "metadata": {
    "slideshow": {
     "slide_type": "fragment"
    }
   },
   "outputs": [
    {
     "data": {
      "text/plain": [
       "0.40422180214240705"
      ]
     },
     "execution_count": 24,
     "metadata": {},
     "output_type": "execute_result"
    }
   ],
   "source": [
    "analogies_id = analogies.apply(lambda x: x.map(token_to_id))\n",
    "analogies_id.notnull().all(1).sum()/len(analogies_id)"
   ]
  },
  {
   "cell_type": "markdown",
   "metadata": {
    "slideshow": {
     "slide_type": "slide"
    }
   },
   "source": [
    "### Generate Sampling Probabilities\n",
    "\n",
    "There is an alternative, faster scheme than the traditional SoftMax loss function called [Noise Contrastive Estimation (NCE)](http://papers.nips.cc/paper/5021-distributed-representations-of-words-and-phrases-and-their-compositionality.pdf).\n",
    "\n",
    "Instead of getting the softmax probability for all possible context words, randomly sample 2-20 possible context words and evaluate the probability only for these."
   ]
  },
  {
   "cell_type": "markdown",
   "metadata": {
    "slideshow": {
     "slide_type": "slide"
    }
   },
   "source": [
    "**SAMPLING_FACTOR**: used for generating the `sampling_table` argument for `skipgrams`. \n",
    "\n",
    "`sampling_table[i]` is the probability of sampling the word i-th most common word in a dataset\n",
    "\n",
    "The sampling probabilities are generated according\n",
    "to the sampling distribution used in word2vec:\n",
    "\n",
    "$p(\\text{word}) = \\min(1, \\frac{\\sqrt{\\frac{\\text{word frequency}}{\\text{sampling factor}}}}{\\frac{\\text{word frequency}}{\\text{sampling factor}}}$"
   ]
  },
  {
   "cell_type": "code",
   "execution_count": 13,
   "metadata": {
    "slideshow": {
     "slide_type": "slide"
    }
   },
   "outputs": [
    {
     "ename": "NameError",
     "evalue": "name 's' is not defined",
     "output_type": "error",
     "traceback": [
      "\u001b[1;31m---------------------------------------------------------------------------\u001b[0m",
      "\u001b[1;31mNameError\u001b[0m                                 Traceback (most recent call last)",
      "\u001b[1;32m<ipython-input-13-fe69b78bfa36>\u001b[0m in \u001b[0;36m<module>\u001b[1;34m()\u001b[0m\n\u001b[1;32m----> 1\u001b[1;33m \u001b[0mdf\u001b[0m \u001b[1;33m=\u001b[0m \u001b[0ms\u001b[0m\u001b[1;33m[\u001b[0m\u001b[1;34m'count'\u001b[0m\u001b[1;33m]\u001b[0m\u001b[1;33m.\u001b[0m\u001b[0mto_frame\u001b[0m\u001b[1;33m(\u001b[0m\u001b[1;34m'freq'\u001b[0m\u001b[1;33m)\u001b[0m\u001b[1;33m\u001b[0m\u001b[0m\n\u001b[0m\u001b[0;32m      2\u001b[0m \u001b[0mfactors\u001b[0m \u001b[1;33m=\u001b[0m \u001b[1;33m[\u001b[0m\u001b[1;36m1e-2\u001b[0m\u001b[1;33m,\u001b[0m \u001b[1;36m1e-3\u001b[0m\u001b[1;33m,\u001b[0m \u001b[1;36m1e-4\u001b[0m\u001b[1;33m,\u001b[0m \u001b[1;36m1e-5\u001b[0m\u001b[1;33m]\u001b[0m\u001b[1;33m\u001b[0m\u001b[0m\n\u001b[0;32m      3\u001b[0m \u001b[1;32mfor\u001b[0m \u001b[0mf\u001b[0m \u001b[1;32min\u001b[0m \u001b[0mfactors\u001b[0m\u001b[1;33m:\u001b[0m\u001b[1;33m\u001b[0m\u001b[0m\n\u001b[0;32m      4\u001b[0m     \u001b[0msf\u001b[0m \u001b[1;33m=\u001b[0m \u001b[0msequence\u001b[0m\u001b[1;33m.\u001b[0m\u001b[0mmake_sampling_table\u001b[0m\u001b[1;33m(\u001b[0m\u001b[0mvocab_size\u001b[0m\u001b[1;33m,\u001b[0m \u001b[0msampling_factor\u001b[0m\u001b[1;33m=\u001b[0m\u001b[0mf\u001b[0m\u001b[1;33m)\u001b[0m\u001b[1;33m\u001b[0m\u001b[0m\n\u001b[0;32m      5\u001b[0m     \u001b[0mdf\u001b[0m\u001b[1;33m[\u001b[0m\u001b[0mf\u001b[0m\u001b[1;33m]\u001b[0m \u001b[1;33m=\u001b[0m \u001b[0mdf\u001b[0m\u001b[1;33m.\u001b[0m\u001b[0mfreq\u001b[0m\u001b[1;33m.\u001b[0m\u001b[0mmul\u001b[0m\u001b[1;33m(\u001b[0m\u001b[0msf\u001b[0m\u001b[1;33m)\u001b[0m\u001b[1;33m\u001b[0m\u001b[0m\n",
      "\u001b[1;31mNameError\u001b[0m: name 's' is not defined"
     ]
    }
   ],
   "source": [
    "df = s['count'].to_frame('freq')\n",
    "factors = [1e-2, 1e-3, 1e-4, 1e-5]\n",
    "for f in factors:\n",
    "    sf = sequence.make_sampling_table(vocab_size, sampling_factor=f)\n",
    "    df[f] = df.freq.mul(sf)\n",
    "df[factors].plot(logy=True);"
   ]
  },
  {
   "cell_type": "code",
   "execution_count": 26,
   "metadata": {
    "slideshow": {
     "slide_type": "slide"
    }
   },
   "outputs": [],
   "source": [
    "sampling_table = sequence.make_sampling_table(vocab_size, sampling_factor=SAMPLING_FACTOR)"
   ]
  },
  {
   "cell_type": "code",
   "execution_count": 27,
   "metadata": {
    "slideshow": {
     "slide_type": "fragment"
    }
   },
   "outputs": [
    {
     "data": {
      "image/png": "[encoded data removed]",
      "text/plain": [
       "<Figure size 432x288 with 1 Axes>"
      ]
     },
     "metadata": {},
     "output_type": "display_data"
    }
   ],
   "source": [
    "pd.Series(sampling_table).plot(title='Skip-Gram Sampling Probabilities')\n",
    "plt.tight_layout();"
   ]
  },
  {
   "cell_type": "markdown",
   "metadata": {
    "slideshow": {
     "slide_type": "slide"
    }
   },
   "source": [
    "### Generate target-context word pairs"
   ]
  },
  {
   "cell_type": "code",
   "execution_count": 28,
   "metadata": {
    "slideshow": {
     "slide_type": "fragment"
    }
   },
   "outputs": [
    {
     "name": "stdout",
     "output_type": "stream",
     "text": [
      "35,689,830 pairs created\n"
     ]
    }
   ],
   "source": [
    "pairs, labels = skipgrams(sequence=data,\n",
    "                            vocabulary_size=vocab_size,\n",
    "                            window_size=WINDOW_SIZE,\n",
    "                            sampling_table=sampling_table,\n",
    "                            negative_samples=1.0,\n",
    "                            shuffle=True)\n",
    "\n",
    "print('{:,d} pairs created'.format(len(pairs)))"
   ]
  },
  {
   "cell_type": "code",
   "execution_count": 29,
   "metadata": {
    "slideshow": {
     "slide_type": "fragment"
    }
   },
   "outputs": [
    {
     "data": {
      "text/plain": [
       "[[122, 99], [1226, 6944], [6529, 8063], [666, 23363], [19601, 20119]]"
      ]
     },
     "execution_count": 29,
     "metadata": {},
     "output_type": "execute_result"
    }
   ],
   "source": [
    "pairs[:5]"
   ]
  },
  {
   "cell_type": "code",
   "execution_count": 30,
   "metadata": {
    "slideshow": {
     "slide_type": "slide"
    }
   },
   "outputs": [],
   "source": [
    "target_word, context_word = np.array(pairs, dtype=np.int32).T\n",
    "labels = np.array(labels, dtype=np.int8)\n",
    "del pairs"
   ]
  },
  {
   "cell_type": "code",
   "execution_count": 31,
   "metadata": {
    "slideshow": {
     "slide_type": "fragment"
    }
   },
   "outputs": [
    {
     "data": {
      "text/plain": [
       "array([  122,  1226,  6529,   666, 19601], dtype=int32)"
      ]
     },
     "execution_count": 31,
     "metadata": {},
     "output_type": "execute_result"
    }
   ],
   "source": [
    "target_word[:5]"
   ]
  },
  {
   "cell_type": "code",
   "execution_count": 32,
   "metadata": {
    "slideshow": {
     "slide_type": "fragment"
    }
   },
   "outputs": [
    {
     "data": {
      "text/html": [
       "<div>\n",
       "<style scoped>\n",
       "    .dataframe tbody tr th:only-of-type {\n",
       "        vertical-align: middle;\n",
       "    }\n",
       "\n",
       "    .dataframe tbody tr th {\n",
       "        vertical-align: top;\n",
       "    }\n",
       "\n",
       "    .dataframe thead th {\n",
       "        text-align: right;\n",
       "    }\n",
       "</style>\n",
       "<table border=\"1\" class=\"dataframe\">\n",
       "  <thead>\n",
       "    <tr style=\"text-align: right;\">\n",
       "      <th></th>\n",
       "      <th>context</th>\n",
       "      <th>label</th>\n",
       "      <th>target</th>\n",
       "    </tr>\n",
       "  </thead>\n",
       "  <tbody>\n",
       "    <tr>\n",
       "      <th>0</th>\n",
       "      <td>99</td>\n",
       "      <td>1</td>\n",
       "      <td>122</td>\n",
       "    </tr>\n",
       "    <tr>\n",
       "      <th>1</th>\n",
       "      <td>6944</td>\n",
       "      <td>0</td>\n",
       "      <td>1226</td>\n",
       "    </tr>\n",
       "    <tr>\n",
       "      <th>2</th>\n",
       "      <td>8063</td>\n",
       "      <td>0</td>\n",
       "      <td>6529</td>\n",
       "    </tr>\n",
       "    <tr>\n",
       "      <th>3</th>\n",
       "      <td>23363</td>\n",
       "      <td>0</td>\n",
       "      <td>666</td>\n",
       "    </tr>\n",
       "    <tr>\n",
       "      <th>4</th>\n",
       "      <td>20119</td>\n",
       "      <td>0</td>\n",
       "      <td>19601</td>\n",
       "    </tr>\n",
       "  </tbody>\n",
       "</table>\n",
       "</div>"
      ],
      "text/plain": [
       "   context  label  target\n",
       "0       99      1     122\n",
       "1     6944      0    1226\n",
       "2     8063      0    6529\n",
       "3    23363      0     666\n",
       "4    20119      0   19601"
      ]
     },
     "execution_count": 32,
     "metadata": {},
     "output_type": "execute_result"
    }
   ],
   "source": [
    "df = pd.DataFrame({'target': target_word[:5], 'context': context_word[:5], 'label': labels[:5]})\n",
    "df"
   ]
  },
  {
   "cell_type": "code",
   "execution_count": 33,
   "metadata": {
    "slideshow": {
     "slide_type": "slide"
    }
   },
   "outputs": [
    {
     "data": {
      "text/plain": [
       "1    17844915\n",
       "0    17844915\n",
       "dtype: int64"
      ]
     },
     "execution_count": 33,
     "metadata": {},
     "output_type": "execute_result"
    }
   ],
   "source": [
    "pd.Series(labels).value_counts()"
   ]
  },
  {
   "cell_type": "code",
   "execution_count": 34,
   "metadata": {
    "hide_input": false,
    "slideshow": {
     "slide_type": "fragment"
    }
   },
   "outputs": [],
   "source": [
    "with pd.HDFStore(path / 'data.h5') as store:\n",
    "    store.put('id_to_token', pd.Series(id_to_token))"
   ]
  },
  {
   "cell_type": "markdown",
   "metadata": {
    "slideshow": {
     "slide_type": "slide"
    }
   },
   "source": [
    "### Define Keras Model Components"
   ]
  },
  {
   "cell_type": "markdown",
   "metadata": {
    "slideshow": {
     "slide_type": "fragment"
    }
   },
   "source": [
    "#### Scalar Input Variables"
   ]
  },
  {
   "cell_type": "code",
   "execution_count": 35,
   "metadata": {
    "slideshow": {
     "slide_type": "fragment"
    }
   },
   "outputs": [],
   "source": [
    "input_target = Input((1,), name='target_input')\n",
    "input_context = Input((1,), name='context_input')"
   ]
  },
  {
   "cell_type": "markdown",
   "metadata": {
    "slideshow": {
     "slide_type": "slide"
    }
   },
   "source": [
    "#### Shared Embedding Layer"
   ]
  },
  {
   "cell_type": "code",
   "execution_count": 36,
   "metadata": {
    "slideshow": {
     "slide_type": "fragment"
    }
   },
   "outputs": [],
   "source": [
    "embedding = Embedding(input_dim=vocab_size,\n",
    "                      output_dim=EMBEDDING_SIZE,\n",
    "                      input_length=1,\n",
    "                      name='embedding_layer')"
   ]
  },
  {
   "cell_type": "code",
   "execution_count": 37,
   "metadata": {
    "slideshow": {
     "slide_type": "fragment"
    }
   },
   "outputs": [],
   "source": [
    "target = embedding(input_target)\n",
    "target = Reshape((EMBEDDING_SIZE, 1), name='target_embedding')(target)\n",
    "\n",
    "context = embedding(input_context)\n",
    "context = Reshape((EMBEDDING_SIZE, 1), name='context_embedding')(context)"
   ]
  },
  {
   "cell_type": "markdown",
   "metadata": {
    "slideshow": {
     "slide_type": "slide"
    }
   },
   "source": [
    "#### Create Similarity Measure"
   ]
  },
  {
   "cell_type": "code",
   "execution_count": 38,
   "metadata": {
    "slideshow": {
     "slide_type": "fragment"
    }
   },
   "outputs": [],
   "source": [
    "dot_product = Dot(axes=1)([target, context])\n",
    "dot_product = Reshape((1,), name='similarity')(dot_product)"
   ]
  },
  {
   "cell_type": "markdown",
   "metadata": {
    "slideshow": {
     "slide_type": "slide"
    }
   },
   "source": [
    "#### Sigmoid Output Layer"
   ]
  },
  {
   "cell_type": "code",
   "execution_count": 39,
   "metadata": {
    "slideshow": {
     "slide_type": "fragment"
    }
   },
   "outputs": [],
   "source": [
    "output = Dense(units=1, activation='sigmoid', name='output')(dot_product)"
   ]
  },
  {
   "cell_type": "markdown",
   "metadata": {
    "slideshow": {
     "slide_type": "slide"
    }
   },
   "source": [
    "#### Compile Training Model"
   ]
  },
  {
   "cell_type": "code",
   "execution_count": 40,
   "metadata": {
    "slideshow": {
     "slide_type": "fragment"
    }
   },
   "outputs": [],
   "source": [
    "model = Model(inputs=[input_target, input_context], outputs=output)\n",
    "model.compile(loss='binary_crossentropy', optimizer='rmsprop')"
   ]
  },
  {
   "cell_type": "markdown",
   "metadata": {},
   "source": [
    "#### Display Architecture"
   ]
  },
  {
   "cell_type": "code",
   "execution_count": 41,
   "metadata": {
    "slideshow": {
     "slide_type": "slide"
    }
   },
   "outputs": [
    {
     "name": "stdout",
     "output_type": "stream",
     "text": [
      "__________________________________________________________________________________________________\n",
      "Layer (type)                    Output Shape         Param #     Connected to                     \n",
      "==================================================================================================\n",
      "target_input (InputLayer)       (None, 1)            0                                            \n",
      "__________________________________________________________________________________________________\n",
      "context_input (InputLayer)      (None, 1)            0                                            \n",
      "__________________________________________________________________________________________________\n",
      "embedding_layer (Embedding)     (None, 1, 200)       4807600     target_input[0][0]               \n",
      "                                                                 context_input[0][0]              \n",
      "__________________________________________________________________________________________________\n",
      "target_embedding (Reshape)      (None, 200, 1)       0           embedding_layer[0][0]            \n",
      "__________________________________________________________________________________________________\n",
      "context_embedding (Reshape)     (None, 200, 1)       0           embedding_layer[1][0]            \n",
      "__________________________________________________________________________________________________\n",
      "dot_1 (Dot)                     (None, 1, 1)         0           target_embedding[0][0]           \n",
      "                                                                 context_embedding[0][0]          \n",
      "__________________________________________________________________________________________________\n",
      "similarity (Reshape)            (None, 1)            0           dot_1[0][0]                      \n",
      "__________________________________________________________________________________________________\n",
      "output (Dense)                  (None, 1)            2           similarity[0][0]                 \n",
      "==================================================================================================\n",
      "Total params: 4,807,602\n",
      "Trainable params: 4,807,602\n",
      "Non-trainable params: 0\n",
      "__________________________________________________________________________________________________\n"
     ]
    }
   ],
   "source": [
    "model.summary()"
   ]
  },
  {
   "cell_type": "markdown",
   "metadata": {
    "slideshow": {
     "slide_type": "slide"
    }
   },
   "source": [
    "#### Validation Model"
   ]
  },
  {
   "cell_type": "code",
   "execution_count": 42,
   "metadata": {
    "slideshow": {
     "slide_type": "fragment"
    }
   },
   "outputs": [],
   "source": [
    "similarity = Dot(normalize=True, \n",
    "                 axes=1, \n",
    "                 name='cosine_similarity')([target, context])"
   ]
  },
  {
   "cell_type": "code",
   "execution_count": 43,
   "metadata": {
    "slideshow": {
     "slide_type": "fragment"
    }
   },
   "outputs": [],
   "source": [
    "# create a secondary validation model to run our similarity checks during training\n",
    "validation_model = Model(inputs=[input_target, input_context], outputs=similarity)"
   ]
  },
  {
   "cell_type": "code",
   "execution_count": 44,
   "metadata": {
    "slideshow": {
     "slide_type": "slide"
    }
   },
   "outputs": [
    {
     "name": "stdout",
     "output_type": "stream",
     "text": [
      "__________________________________________________________________________________________________\n",
      "Layer (type)                    Output Shape         Param #     Connected to                     \n",
      "==================================================================================================\n",
      "target_input (InputLayer)       (None, 1)            0                                            \n",
      "__________________________________________________________________________________________________\n",
      "context_input (InputLayer)      (None, 1)            0                                            \n",
      "__________________________________________________________________________________________________\n",
      "embedding_layer (Embedding)     (None, 1, 200)       4807600     target_input[0][0]               \n",
      "                                                                 context_input[0][0]              \n",
      "__________________________________________________________________________________________________\n",
      "target_embedding (Reshape)      (None, 200, 1)       0           embedding_layer[0][0]            \n",
      "__________________________________________________________________________________________________\n",
      "context_embedding (Reshape)     (None, 200, 1)       0           embedding_layer[1][0]            \n",
      "__________________________________________________________________________________________________\n",
      "cosine_similarity (Dot)         (None, 1, 1)         0           target_embedding[0][0]           \n",
      "                                                                 context_embedding[0][0]          \n",
      "==================================================================================================\n",
      "Total params: 4,807,600\n",
      "Trainable params: 4,807,600\n",
      "Non-trainable params: 0\n",
      "__________________________________________________________________________________________________\n"
     ]
    }
   ],
   "source": [
    "validation_model.summary()"
   ]
  },
  {
   "cell_type": "markdown",
   "metadata": {
    "slideshow": {
     "slide_type": "slide"
    }
   },
   "source": [
    "![Keras Graph](https://s3.amazonaws.com/applied-ai/images/keras_graph_tensorboard.png)"
   ]
  },
  {
   "cell_type": "markdown",
   "metadata": {
    "slideshow": {
     "slide_type": "slide"
    }
   },
   "source": [
    "### Create Keras Callbacks"
   ]
  },
  {
   "cell_type": "markdown",
   "metadata": {
    "slideshow": {
     "slide_type": "fragment"
    }
   },
   "source": [
    "####  Nearest Neighors & Analogies"
   ]
  },
  {
   "cell_type": "code",
   "execution_count": 45,
   "metadata": {
    "slideshow": {
     "slide_type": "fragment"
    }
   },
   "outputs": [],
   "source": [
    "test_set = analogies_id.dropna().astype(int)\n",
    "a, b, c, actual = test_set.values.T\n",
    "actual = actual.reshape(-1, 1)\n",
    "n_analogies = len(actual)"
   ]
  },
  {
   "cell_type": "code",
   "execution_count": 46,
   "metadata": {
    "slideshow": {
     "slide_type": "slide"
    }
   },
   "outputs": [],
   "source": [
    "class EvalCallback(Callback):\n",
    "        \n",
    "    def on_train_begin(self, logs={}):\n",
    "        self.eval_nn()\n",
    "        self.test_analogies()\n",
    "\n",
    "    def on_train_end(self, logs={}):\n",
    "        self.eval_nn()\n",
    "\n",
    "    def on_epoch_end(self, batch, logs={}):\n",
    "        self.test_analogies()\n",
    "\n",
    "    @staticmethod\n",
    "    def test_analogies():\n",
    "        print('\\nAnalogy Accuracy:\\n\\t', end='')\n",
    "        embeddings = embedding.get_weights()[0]\n",
    "        target = embeddings[c] + embeddings[b] - embeddings[a]\n",
    "        neighbors = np.argsort(cdist(target, embeddings, metric='cosine'))\n",
    "        match_id = np.argwhere(neighbors == actual)[:, 1]\n",
    "        print('\\n\\t'.join(['Top {}: {:.2%}'.format(i, (match_id < i).sum() / n_analogies) for i in [1, 5, 10]]))\n",
    "\n",
    "    def eval_nn(self):\n",
    "        print('\\n{} Nearest Neighbors:'.format(NN))\n",
    "        for i in range(VALID_SET):\n",
    "            valid_id = valid_examples[i]\n",
    "            valid_word = id_to_token[valid_id]\n",
    "            similarity = self._get_similiarity(valid_id).reshape(-1)\n",
    "            nearest = (-similarity).argsort()[1:NN + 1]\n",
    "            neighbors = [id_to_token[nearest[n]] for n in range(NN)]\n",
    "            print('{}:\\t{}'.format(valid_word, ', '.join(neighbors)))            \n",
    "        \n",
    "    @staticmethod\n",
    "    def _get_similiarity(valid_word_idx):\n",
    "        target = np.full(shape=vocab_size, fill_value=valid_word_idx)\n",
    "        context = np.arange(vocab_size)\n",
    "        return validation_model.predict([target, context])\n",
    "\n",
    "\n",
    "evaluation = EvalCallback()"
   ]
  },
  {
   "cell_type": "markdown",
   "metadata": {
    "slideshow": {
     "slide_type": "slide"
    }
   },
   "source": [
    "#### Tensorboard Callback"
   ]
  },
  {
   "cell_type": "code",
   "execution_count": 47,
   "metadata": {
    "slideshow": {
     "slide_type": "fragment"
    }
   },
   "outputs": [],
   "source": [
    "tensorboard = TensorBoard(log_dir=str(tb_path),\n",
    "                          write_graph=True,\n",
    "                          embeddings_freq=1,\n",
    "                          embeddings_metadata=str(tb_path / 'meta.tsv'))"
   ]
  },
  {
   "cell_type": "markdown",
   "metadata": {
    "slideshow": {
     "slide_type": "slide"
    }
   },
   "source": [
    "### Train Model"
   ]
  },
  {
   "cell_type": "code",
   "execution_count": 48,
   "metadata": {
    "scrolled": false,
    "slideshow": {
     "slide_type": "fragment"
    }
   },
   "outputs": [
    {
     "name": "stdout",
     "output_type": "stream",
     "text": [
      "\n",
      "10 Nearest Neighbors:\n",
      "'ve:\trelaxed, mute, parcel, strolling, loudspeaker, reserve, beginning, envisioned, louisiana, filth\n",
      "for:\trhyme, typewriter, traced, bir, academically, resembles, shelter, port, kissed, urethra\n",
      "kind:\tinfectious_diseases, wire, 1830s, portraits, snaps, cocoon, dominion, decided, blanket, deneb\n",
      "time:\tpaleontologist, bed_nets, baldness, definitions, node, leopard, scrolls, berkley, photoshopped, lgbt\n",
      "'m:\twounds, civil_rights_movement, anomalies, spines, twittering, laggards, algeria, theories, alma, 87\n",
      "at:\tnavigate, item, richest, shuffler, schizophrenic, 1879, synaptic, drives, ice_caps, stereotypical\n",
      "had:\tpearls, maintenance, telemedicine, charcoal, elizabeth, shocked, declined, submissive, populations, tilting\n",
      "put:\tamalgam, adulterous, coastal, banjo, maneuver, compartment, kahn, touch, beers, sharper\n",
      "your:\tskylight, andromeda, eats, spits, mannahatta, jp, worthwhile, climax, swallows, drummer\n",
      "things:\tmaps, once, bulldozed, unison, vikings, directors, points, boardwalk, cot, pac\n",
      "\n",
      "Analogy Accuracy:\n",
      "\tTop 1: 0.00%\n",
      "\tTop 5: 0.01%\n",
      "\tTop 10: 0.04%\n",
      "Epoch 1/1\n",
      "35689830/35689830 [==============================] - 1844s 52us/step - loss: 0.6773\n",
      "\n",
      "10 Nearest Neighbors:\n",
      "'ve:\twill, lot, another, idea, good, working, work, got, any, back\n",
      "for:\tso, with, are, they, on, but, have, was, as, from\n",
      "kind:\tleave, place, turned, evolution, reason, changes, wanted, choice, another, getting\n",
      "time:\tover, may, thing, way, information, reason, same, any, another, right\n",
      "'m:\tright, any, life, want, 'd, could, before, working, talk, lot\n",
      "at:\tone, what, there, by, these, be, but, do, all, from\n",
      "had:\tyour, has, because, when, get, then, years, world, where, some\n",
      "put:\tany, together, learn, data, again, already, build, possible, working, wrong\n",
      "your:\tthen, going, where, has, some, years, world, will, me, see\n",
      "things:\tlot, work, any, thing, much, doing, say, somebody, play, create\n",
      "\n",
      "Analogy Accuracy:\n",
      "\tTop 1: 0.06%\n",
      "\tTop 5: 0.28%\n",
      "\tTop 10: 0.46%\n"
     ]
    }
   ],
   "source": [
    "loss = model.fit(x=[target_word, context_word],\n",
    "                 y=labels,\n",
    "                 shuffle=True,\n",
    "                 batch_size=BATCH_SIZE,\n",
    "                 epochs=EPOCHS,\n",
    "                 callbacks=[evaluation, tensorboard])\n",
    "\n",
    "model.save(str(path / 'skipgram_model.h5'))"
   ]
  },
  {
   "cell_type": "markdown",
   "metadata": {
    "slideshow": {
     "slide_type": "slide"
    }
   },
   "source": [
    "## Optimized TensorFlow Model\n",
    "\n",
    "Compile custom ops using `compile-ops.sh`.\n",
    "\n",
    "Run from command line."
   ]
  },
  {
   "cell_type": "code",
   "execution_count": 46,
   "metadata": {},
   "outputs": [
    {
     "name": "stdout",
     "output_type": "stream",
     "text": [
      "\u001b[31mcompile-ops.sh\u001b[m\u001b[m      \u001b[31mword2vec.py\u001b[m\u001b[m         word2vec_ops.so.zip\r\n",
      "\u001b[31mrun_tf.sh\u001b[m\u001b[m           \u001b[31mword2vec_ops.so\u001b[m\u001b[m\r\n"
     ]
    }
   ],
   "source": [
    "!ls tensorflow/"
   ]
  },
  {
   "cell_type": "code",
   "execution_count": 49,
   "metadata": {
    "slideshow": {
     "slide_type": "fragment"
    }
   },
   "outputs": [],
   "source": [
    "# %%bash\n",
    "# python tensorflow/word2vec.py --language=en --source=Ted --file=ngrams_1 --embedding_size=300 --num_neg_samples=20 --starter_lr=.1 --target_lr=.05 --batch_size=10 --min_count=10 --window_size=10"
   ]
  },
  {
   "cell_type": "markdown",
   "metadata": {
    "slideshow": {
     "slide_type": "slide"
    }
   },
   "source": [
    "## word2vec using Gensim"
   ]
  },
  {
   "cell_type": "markdown",
   "metadata": {
    "slideshow": {
     "slide_type": "fragment"
    }
   },
   "source": [
    "### Evaluation"
   ]
  },
  {
   "cell_type": "code",
   "execution_count": 9,
   "metadata": {
    "slideshow": {
     "slide_type": "fragment"
    }
   },
   "outputs": [],
   "source": [
    "def accuracy_by_category(acc, detail=True):\n",
    "    results = [[c['section'], len(c['correct']), len(c['incorrect'])] for c in acc]\n",
    "    results = pd.DataFrame(results, columns=['category', 'correct', 'incorrect'])\n",
    "    results['average'] = results.correct.div(results[['correct', 'incorrect']].sum(1))\n",
    "    if detail:\n",
    "        print(results.sort_values('average', ascending=False))\n",
    "    return results.loc[results.category=='total', ['correct', 'incorrect', 'average']].squeeze().tolist()"
   ]
  },
  {
   "cell_type": "markdown",
   "metadata": {
    "slideshow": {
     "slide_type": "slide"
    }
   },
   "source": [
    "### Settings"
   ]
  },
  {
   "cell_type": "code",
   "execution_count": 15,
   "metadata": {
    "slideshow": {
     "slide_type": "fragment"
    }
   },
   "outputs": [],
   "source": [
    "ANALOGIES_PATH = PROJECT_DIR / 'data' / 'analogies' / 'analogies-{}.txt'.format(LANGUAGE)\n",
    "gensim_path = PROJECT_DIR / 'gensim' / SOURCE / LANGUAGE / FILE_NAME\n",
    "if not gensim_path.exists():\n",
    "    gensim_path.mkdir(parents=True, exist_ok=True)"
   ]
  },
  {
   "cell_type": "markdown",
   "metadata": {
    "slideshow": {
     "slide_type": "slide"
    }
   },
   "source": [
    "### Sentence Generator"
   ]
  },
  {
   "cell_type": "code",
   "execution_count": 19,
   "metadata": {
    "slideshow": {
     "slide_type": "fragment"
    }
   },
   "outputs": [
    {
     "ename": "NameError",
     "evalue": "name 'docs' is not defined",
     "output_type": "error",
     "traceback": [
      "\u001b[1;31m---------------------------------------------------------------------------\u001b[0m",
      "\u001b[1;31mNameError\u001b[0m                                 Traceback (most recent call last)",
      "\u001b[1;32m<ipython-input-19-143c94fc8d01>\u001b[0m in \u001b[0;36m<module>\u001b[1;34m()\u001b[0m\n\u001b[0;32m      1\u001b[0m \u001b[1;31m# sentence_path = PROJECT_DIR / 'vocab' / SOURCE / LANGUAGE / '{}.txt'.format(FILE_NAME)\u001b[0m\u001b[1;33m\u001b[0m\u001b[1;33m\u001b[0m\u001b[0m\n\u001b[1;32m----> 2\u001b[1;33m \u001b[0msentences\u001b[0m \u001b[1;33m=\u001b[0m \u001b[0mLineSentence\u001b[0m\u001b[1;33m(\u001b[0m\u001b[0mdocs\u001b[0m\u001b[1;33m.\u001b[0m\u001b[0mtokens\u001b[0m\u001b[1;33m)\u001b[0m\u001b[1;33m\u001b[0m\u001b[0m\n\u001b[0m",
      "\u001b[1;31mNameError\u001b[0m: name 'docs' is not defined"
     ]
    }
   ],
   "source": [
    "# sentence_path = PROJECT_DIR / 'vocab' / SOURCE / LANGUAGE / '{}.txt'.format(FILE_NAME)\n",
    "sentences = LineSentence(docs.tokens)"
   ]
  },
  {
   "cell_type": "markdown",
   "metadata": {
    "slideshow": {
     "slide_type": "slide"
    }
   },
   "source": [
    "### Model"
   ]
  },
  {
   "cell_type": "code",
   "execution_count": 27,
   "metadata": {
    "slideshow": {
     "slide_type": "fragment"
    }
   },
   "outputs": [
    {
     "name": "stdout",
     "output_type": "stream",
     "text": [
      "Duration: 266.9s\n",
      "                       category  correct  incorrect  average\n",
      "4                        family      128        144     0.47\n",
      "9      gram5-present-participle      174        756     0.19\n",
      "7             gram3-comparative      159       1101     0.13\n",
      "8             gram4-superlative       57        495     0.10\n",
      "14                        total      824       7700     0.10\n",
      "12                 gram8-plural       87        843     0.09\n",
      "11             gram7-past-tense      119       1363     0.08\n",
      "13           gram9-plural-verbs       45        605     0.07\n",
      "6                gram2-opposite       12        294     0.04\n",
      "0      capital-common-countries        7        175     0.04\n",
      "2                 city-in-state       17        429     0.04\n",
      "1                 capital-world        3         87     0.03\n",
      "10  gram6-nationality-adjective       10        746     0.01\n",
      "5     gram1-adjective-to-adverb        6        644     0.01\n",
      "3                      currency        0         18     0.00\n",
      "Base Accuracy: Correct 824 | Wrong 7,700 | Avg 9.67%\n",
      "\n"
     ]
    }
   ],
   "source": [
    "start = time()\n",
    "\n",
    "model = Word2Vec(sentences,\n",
    "                 sg=1,\n",
    "                 size=300,\n",
    "                 window=5,\n",
    "                 min_count=10,\n",
    "                 negative=10,\n",
    "                 workers=8,\n",
    "                 iter=20,\n",
    "                 alpha=0.05)\n",
    "\n",
    "model.wv.save(str(gensim_path / 'word_vectors.bin'))\n",
    "print('Duration: {:,.1f}s'.format(time() - start))\n",
    "\n",
    "# gensim computes accuracy based on source text files\n",
    "detailed_accuracy = model.wv.accuracy(str(ANALOGIES_PATH), case_insensitive=True)\n",
    "\n",
    "# get accuracy per category\n",
    "summary = accuracy_by_category(detailed_accuracy)\n",
    "print('Base Accuracy: Correct {:,.0f} | Wrong {:,.0f} | Avg {:,.2%}\\n'.format(*summary))"
   ]
  },
  {
   "cell_type": "code",
   "execution_count": 28,
   "metadata": {
    "slideshow": {
     "slide_type": "slide"
    }
   },
   "outputs": [
    {
     "data": {
      "text/html": [
       "<div>\n",
       "<style scoped>\n",
       "    .dataframe tbody tr th:only-of-type {\n",
       "        vertical-align: middle;\n",
       "    }\n",
       "\n",
       "    .dataframe tbody tr th {\n",
       "        vertical-align: top;\n",
       "    }\n",
       "\n",
       "    .dataframe thead th {\n",
       "        text-align: right;\n",
       "    }\n",
       "</style>\n",
       "<table border=\"1\" class=\"dataframe\">\n",
       "  <thead>\n",
       "    <tr style=\"text-align: right;\">\n",
       "      <th></th>\n",
       "      <th>token</th>\n",
       "      <th>similarity</th>\n",
       "    </tr>\n",
       "  </thead>\n",
       "  <tbody>\n",
       "    <tr>\n",
       "      <th>0</th>\n",
       "      <td>lear</td>\n",
       "      <td>0.27</td>\n",
       "    </tr>\n",
       "    <tr>\n",
       "      <th>1</th>\n",
       "      <td>her</td>\n",
       "      <td>0.27</td>\n",
       "    </tr>\n",
       "    <tr>\n",
       "      <th>2</th>\n",
       "      <td>mother</td>\n",
       "      <td>0.27</td>\n",
       "    </tr>\n",
       "    <tr>\n",
       "      <th>3</th>\n",
       "      <td>she</td>\n",
       "      <td>0.26</td>\n",
       "    </tr>\n",
       "    <tr>\n",
       "      <th>4</th>\n",
       "      <td>lg</td>\n",
       "      <td>0.26</td>\n",
       "    </tr>\n",
       "    <tr>\n",
       "      <th>5</th>\n",
       "      <td>nurse</td>\n",
       "      <td>0.26</td>\n",
       "    </tr>\n",
       "    <tr>\n",
       "      <th>6</th>\n",
       "      <td>ace</td>\n",
       "      <td>0.26</td>\n",
       "    </tr>\n",
       "    <tr>\n",
       "      <th>7</th>\n",
       "      <td>zoe</td>\n",
       "      <td>0.26</td>\n",
       "    </tr>\n",
       "    <tr>\n",
       "      <th>8</th>\n",
       "      <td>queen</td>\n",
       "      <td>0.25</td>\n",
       "    </tr>\n",
       "    <tr>\n",
       "      <th>9</th>\n",
       "      <td>girl</td>\n",
       "      <td>0.24</td>\n",
       "    </tr>\n",
       "  </tbody>\n",
       "</table>\n",
       "</div>"
      ],
      "text/plain": [
       "    token  similarity\n",
       "0    lear        0.27\n",
       "1     her        0.27\n",
       "2  mother        0.27\n",
       "3     she        0.26\n",
       "4      lg        0.26\n",
       "5   nurse        0.26\n",
       "6     ace        0.26\n",
       "7     zoe        0.26\n",
       "8   queen        0.25\n",
       "9    girl        0.24"
      ]
     },
     "execution_count": 28,
     "metadata": {},
     "output_type": "execute_result"
    }
   ],
   "source": [
    "most_sim = model.wv.most_similar(positive=['woman', 'king'], negative=['man'], topn=10)\n",
    "pd.DataFrame(most_sim, columns=['token', 'similarity'])"
   ]
  },
  {
   "cell_type": "code",
   "execution_count": 31,
   "metadata": {
    "scrolled": false,
    "slideshow": {
     "slide_type": "slide"
    }
   },
   "outputs": [
    {
     "data": {
      "text/html": [
       "<div>\n",
       "<style scoped>\n",
       "    .dataframe tbody tr th:only-of-type {\n",
       "        vertical-align: middle;\n",
       "    }\n",
       "\n",
       "    .dataframe tbody tr th {\n",
       "        vertical-align: top;\n",
       "    }\n",
       "\n",
       "    .dataframe thead th {\n",
       "        text-align: right;\n",
       "    }\n",
       "</style>\n",
       "<table border=\"1\" class=\"dataframe\">\n",
       "  <thead>\n",
       "    <tr style=\"text-align: right;\">\n",
       "      <th></th>\n",
       "      <th>0</th>\n",
       "      <th>1</th>\n",
       "      <th>2</th>\n",
       "      <th>3</th>\n",
       "      <th>4</th>\n",
       "      <th>5</th>\n",
       "      <th>6</th>\n",
       "      <th>7</th>\n",
       "      <th>8</th>\n",
       "      <th>9</th>\n",
       "    </tr>\n",
       "  </thead>\n",
       "  <tbody>\n",
       "    <tr>\n",
       "      <th>'ve</th>\n",
       "      <td>have</td>\n",
       "      <td>’ve</td>\n",
       "      <td>got</td>\n",
       "      <td>been</td>\n",
       "      <td>'d</td>\n",
       "      <td>had</td>\n",
       "      <td>has</td>\n",
       "      <td>'re</td>\n",
       "      <td>wandered</td>\n",
       "      <td>unknowns</td>\n",
       "    </tr>\n",
       "    <tr>\n",
       "      <th>for</th>\n",
       "      <td>and</td>\n",
       "      <td>of</td>\n",
       "      <td>in</td>\n",
       "      <td>to</td>\n",
       "      <td>that</td>\n",
       "      <td>is</td>\n",
       "      <td>so</td>\n",
       "      <td>at</td>\n",
       "      <td>with</td>\n",
       "      <td>or</td>\n",
       "    </tr>\n",
       "    <tr>\n",
       "      <th>kind</th>\n",
       "      <td>sort</td>\n",
       "      <td>kinds</td>\n",
       "      <td>manipulative</td>\n",
       "      <td>trite</td>\n",
       "      <td>urgency</td>\n",
       "      <td>type</td>\n",
       "      <td>bit</td>\n",
       "      <td>a</td>\n",
       "      <td>sense</td>\n",
       "      <td>capricious</td>\n",
       "    </tr>\n",
       "    <tr>\n",
       "      <th>time</th>\n",
       "      <td>moment</td>\n",
       "      <td>and</td>\n",
       "      <td>haas</td>\n",
       "      <td>outlaw</td>\n",
       "      <td>dusk</td>\n",
       "      <td>night</td>\n",
       "      <td>swine_flu</td>\n",
       "      <td>year</td>\n",
       "      <td>way</td>\n",
       "      <td>dm</td>\n",
       "    </tr>\n",
       "    <tr>\n",
       "      <th>'m</th>\n",
       "      <td>am</td>\n",
       "      <td>i</td>\n",
       "      <td>'re</td>\n",
       "      <td>’m</td>\n",
       "      <td>was</td>\n",
       "      <td>skeptic</td>\n",
       "      <td>want</td>\n",
       "      <td>optimist</td>\n",
       "      <td>going</td>\n",
       "      <td>perplexed</td>\n",
       "    </tr>\n",
       "    <tr>\n",
       "      <th>at</th>\n",
       "      <td>in</td>\n",
       "      <td>the</td>\n",
       "      <td>rory</td>\n",
       "      <td>fiddler</td>\n",
       "      <td>from</td>\n",
       "      <td>and</td>\n",
       "      <td>mater</td>\n",
       "      <td>on</td>\n",
       "      <td>for</td>\n",
       "      <td>look</td>\n",
       "    </tr>\n",
       "    <tr>\n",
       "      <th>had</th>\n",
       "      <td>have</td>\n",
       "      <td>was</td>\n",
       "      <td>has</td>\n",
       "      <td>'d</td>\n",
       "      <td>got</td>\n",
       "      <td>'ve</td>\n",
       "      <td>could</td>\n",
       "      <td>would</td>\n",
       "      <td>were</td>\n",
       "      <td>61</td>\n",
       "    </tr>\n",
       "    <tr>\n",
       "      <th>put</th>\n",
       "      <td>putting</td>\n",
       "      <td>puts</td>\n",
       "      <td>strap</td>\n",
       "      <td>take</td>\n",
       "      <td>go</td>\n",
       "      <td>squeeze</td>\n",
       "      <td>zoom</td>\n",
       "      <td>punched</td>\n",
       "      <td>bring</td>\n",
       "      <td>taped</td>\n",
       "    </tr>\n",
       "    <tr>\n",
       "      <th>your</th>\n",
       "      <td>my</td>\n",
       "      <td>you</td>\n",
       "      <td>their</td>\n",
       "      <td>our</td>\n",
       "      <td>her</td>\n",
       "      <td>yourself</td>\n",
       "      <td>his</td>\n",
       "      <td>the</td>\n",
       "      <td>its</td>\n",
       "      <td>can</td>\n",
       "    </tr>\n",
       "    <tr>\n",
       "      <th>things</th>\n",
       "      <td>ways</td>\n",
       "      <td>thing</td>\n",
       "      <td>milestones</td>\n",
       "      <td>modes</td>\n",
       "      <td>places</td>\n",
       "      <td>something</td>\n",
       "      <td>projects</td>\n",
       "      <td>kinds</td>\n",
       "      <td>beetles</td>\n",
       "      <td>that</td>\n",
       "    </tr>\n",
       "  </tbody>\n",
       "</table>\n",
       "</div>"
      ],
      "text/plain": [
       "              0      1             2        3        4          5          6  \\\n",
       "'ve        have    ’ve           got     been       'd        had        has   \n",
       "for         and     of            in       to     that         is         so   \n",
       "kind       sort  kinds  manipulative    trite  urgency       type        bit   \n",
       "time     moment    and          haas   outlaw     dusk      night  swine_flu   \n",
       "'m           am      i           're       ’m      was    skeptic       want   \n",
       "at           in    the          rory  fiddler     from        and      mater   \n",
       "had        have    was           has       'd      got        've      could   \n",
       "put     putting   puts         strap     take       go    squeeze       zoom   \n",
       "your         my    you         their      our      her   yourself        his   \n",
       "things     ways  thing    milestones    modes   places  something   projects   \n",
       "\n",
       "               7         8           9  \n",
       "'ve          're  wandered    unknowns  \n",
       "for           at      with          or  \n",
       "kind           a     sense  capricious  \n",
       "time        year       way          dm  \n",
       "'m      optimist     going   perplexed  \n",
       "at            on       for        look  \n",
       "had        would      were          61  \n",
       "put      punched     bring       taped  \n",
       "your         the       its         can  \n",
       "things     kinds   beetles        that  "
      ]
     },
     "execution_count": 31,
     "metadata": {},
     "output_type": "execute_result"
    }
   ],
   "source": [
    "similars = pd.DataFrame()\n",
    "for id in valid_examples:\n",
    "    word = id_to_token[id]\n",
    "    similars[word] = [s[0] for s in model.wv.most_similar(id_to_token[id])]\n",
    "    \n",
    "similars.T"
   ]
  },
  {
   "cell_type": "markdown",
   "metadata": {
    "slideshow": {
     "slide_type": "slide"
    }
   },
   "source": [
    "#### Continue Training"
   ]
  },
  {
   "cell_type": "code",
   "execution_count": 60,
   "metadata": {
    "slideshow": {
     "slide_type": "fragment"
    }
   },
   "outputs": [
    {
     "name": "stdout",
     "output_type": "stream",
     "text": [
      "1 | Duration: 30.1 | Accuracy: 9.87% \n",
      "2 | Duration: 29.7 | Accuracy: 10.50% \n",
      "3 | Duration: 32.2 | Accuracy: 10.28% \n",
      "4 | Duration: 32.0 | Accuracy: 10.10% \n",
      "5 | Duration: 31.4 | Accuracy: 10.57% \n",
      "6 | Duration: 29.9 | Accuracy: 9.89% \n",
      "7 | Duration: 30.0 | Accuracy: 10.85% \n",
      "8 | Duration: 30.7 | Accuracy: 11.05% \n",
      "9 | Duration: 29.5 | Accuracy: 10.71% \n",
      "10 | Duration: 29.4 | Accuracy: 11.27% \n"
     ]
    }
   ],
   "source": [
    "accuracies = [summary]\n",
    "for i in range(1, 11):\n",
    "    start = time()\n",
    "    model.train(sentences, epochs=1, total_examples=model.corpus_count)\n",
    "    detailed_accuracy = model.wv.accuracy(str(ANALOGIES_PATH))\n",
    "    accuracies.append(accuracy_by_category(detailed_accuracy, detail=False))\n",
    "    print('{} | Duration: {:,.1f} | Accuracy: {:.2%} '.format(i, time() - start, accuracies[-1][-1]))\n",
    "\n",
    "pd.DataFrame(accuracies, columns=['correct', 'wrong', 'average']).to_csv(gensim_path / 'accuracies.csv', index=False)\n",
    "model.wv.save(str(gensim_path / 'word_vectors_final.bin'))"
   ]
  },
  {
   "cell_type": "markdown",
   "metadata": {
    "slideshow": {
     "slide_type": "slide"
    }
   },
   "source": [
    "## The `google` command-line Tool"
   ]
  },
  {
   "cell_type": "markdown",
   "metadata": {
    "slideshow": {
     "slide_type": "fragment"
    }
   },
   "source": [
    "### Run from Command Line"
   ]
  },
  {
   "cell_type": "code",
   "execution_count": null,
   "metadata": {
    "slideshow": {
     "slide_type": "fragment"
    }
   },
   "outputs": [],
   "source": [
    "%%bash\n",
    "file_name=../data/wiki/en/wiki.txt\n",
    "time ./word2vec -train \"$file_name\" -output vectors_en.bin - cbow 1 -size 300  -min-count 10  -window 10 -negative 10 -hs 0 -sample 1e-4 -threads 8 -binary 1 -iter 1"
   ]
  },
  {
   "cell_type": "markdown",
   "metadata": {
    "slideshow": {
     "slide_type": "slide"
    }
   },
   "source": [
    "### Load Trained Model & Word Vectors via `gensim`"
   ]
  },
  {
   "cell_type": "code",
   "execution_count": 32,
   "metadata": {
    "slideshow": {
     "slide_type": "fragment"
    }
   },
   "outputs": [],
   "source": [
    "file_name = 'word2vec/word_vectors/vectors_en.bin'\n",
    "model = KeyedVectors.load_word2vec_format(file_name, binary=True, unicode_errors='ignore')"
   ]
  },
  {
   "cell_type": "code",
   "execution_count": 33,
   "metadata": {
    "slideshow": {
     "slide_type": "fragment"
    }
   },
   "outputs": [
    {
     "data": {
      "text/plain": [
       "(100000, 300)"
      ]
     },
     "execution_count": 33,
     "metadata": {},
     "output_type": "execute_result"
    }
   ],
   "source": [
    "vectors = model.vectors[:100000]\n",
    "vectors /= norm(vectors, axis=1).reshape(-1, 1)\n",
    "vectors.shape"
   ]
  },
  {
   "cell_type": "code",
   "execution_count": 34,
   "metadata": {
    "slideshow": {
     "slide_type": "fragment"
    }
   },
   "outputs": [],
   "source": [
    "words = model.index2word[:100000]\n",
    "word2id = {w:i for i, w in enumerate(words)}"
   ]
  },
  {
   "cell_type": "markdown",
   "metadata": {
    "slideshow": {
     "slide_type": "slide"
    }
   },
   "source": [
    "### Compute Accuracy"
   ]
  },
  {
   "cell_type": "code",
   "execution_count": 37,
   "metadata": {
    "slideshow": {
     "slide_type": "fragment"
    }
   },
   "outputs": [],
   "source": [
    "analogy_path = PROJECT_DIR / 'data/analogies/analogies-en.txt'\n",
    "accuracy = model.accuracy(questions=str(analogy_path), restrict_vocab=100000)"
   ]
  },
  {
   "cell_type": "code",
   "execution_count": 38,
   "metadata": {
    "slideshow": {
     "slide_type": "fragment"
    }
   },
   "outputs": [
    {
     "name": "stdout",
     "output_type": "stream",
     "text": [
      "                       category  correct  incorrect  average\n",
      "0      capital-common-countries      459         47     0.91\n",
      "7             gram3-comparative     1207        125     0.91\n",
      "10  gram6-nationality-adjective     1472        168     0.90\n",
      "4                        family      438         68     0.87\n",
      "1                 capital-world     7058       1132     0.86\n",
      "12                 gram8-plural     1082        250     0.81\n",
      "14                        total    17974       6458     0.74\n",
      "11             gram7-past-tense     1118        442     0.72\n",
      "9      gram5-present-participle      726        330     0.69\n",
      "13           gram9-plural-verbs      580        290     0.67\n",
      "2                 city-in-state     2601       1641     0.61\n",
      "8             gram4-superlative      605        387     0.61\n",
      "6                gram2-opposite      254        502     0.34\n",
      "5     gram1-adjective-to-adverb      312        680     0.31\n",
      "3                      currency       62        396     0.14\n",
      "\n",
      "Overall Accuracy: Correct 17,974 | Wrong 6,458 | Avg 73.57%\n",
      "\n"
     ]
    }
   ],
   "source": [
    "summary = accuracy_by_category(accuracy, detail=True)\n",
    "print('\\nOverall Accuracy: Correct {:,.0f} | Wrong {:,.0f} | Avg {:,.2%}\\n'.format(*summary))"
   ]
  },
  {
   "cell_type": "markdown",
   "metadata": {
    "slideshow": {
     "slide_type": "slide"
    }
   },
   "source": [
    "### Project Data using `tensorboard` Projector"
   ]
  },
  {
   "cell_type": "code",
   "execution_count": 66,
   "metadata": {
    "slideshow": {
     "slide_type": "fragment"
    }
   },
   "outputs": [],
   "source": [
    "PROJECTION_LIMIT = 10000\n",
    "proj_path = Path('word2vec', 'projector')\n",
    "pd.Series(words).iloc[:PROJECTION_LIMIT].to_csv(proj_path / 'meta_data.tsv', index=False, header=None, sep='\\t')\n",
    "pd.DataFrame(vectors).iloc[:PROJECTION_LIMIT].to_csv(proj_path / 'embeddings.tsv', index=False, header=None, sep='\\t')"
   ]
  },
  {
   "cell_type": "markdown",
   "metadata": {
    "slideshow": {
     "slide_type": "slide"
    }
   },
   "source": [
    "### Project Analogies"
   ]
  },
  {
   "cell_type": "markdown",
   "metadata": {
    "slideshow": {
     "slide_type": "fragment"
    }
   },
   "source": [
    "#### Incremental PCA"
   ]
  },
  {
   "cell_type": "code",
   "execution_count": 35,
   "metadata": {
    "slideshow": {
     "slide_type": "fragment"
    }
   },
   "outputs": [
    {
     "data": {
      "text/plain": [
       "0   3.69\n",
       "1   3.19\n",
       "dtype: float64"
      ]
     },
     "execution_count": 35,
     "metadata": {},
     "output_type": "execute_result"
    }
   ],
   "source": [
    "pca = IncrementalPCA(n_components=2)\n",
    "\n",
    "vectors2D = pca.fit_transform(vectors)\n",
    "pd.Series(pca.explained_variance_ratio_).mul(100)"
   ]
  },
  {
   "cell_type": "markdown",
   "metadata": {
    "slideshow": {
     "slide_type": "slide"
    }
   },
   "source": [
    "#### Group Analogies by Category"
   ]
  },
  {
   "cell_type": "code",
   "execution_count": 39,
   "metadata": {
    "slideshow": {
     "slide_type": "fragment"
    }
   },
   "outputs": [],
   "source": [
    "results = pd.DataFrame()\n",
    "correct = incorrect = 0\n",
    "for section in accuracy:\n",
    "    correct += len(section['correct'])\n",
    "    incorrect += len(section['incorrect'])\n",
    "    df = pd.DataFrame(section['correct']).apply(lambda x: x.str.lower()).assign(section=section['section'])\n",
    "    results = pd.concat([results, df])"
   ]
  },
  {
   "cell_type": "markdown",
   "metadata": {
    "slideshow": {
     "slide_type": "slide"
    }
   },
   "source": [
    "#### Identify Analogy most similar in 2D"
   ]
  },
  {
   "cell_type": "code",
   "execution_count": 41,
   "metadata": {
    "slideshow": {
     "slide_type": "fragment"
    }
   },
   "outputs": [],
   "source": [
    "def find_most_similar_analogy(v):\n",
    "    \"\"\"Find analogy that most similar in 2D\"\"\"\n",
    "    v1 = vectors2D[v[1]] - vectors2D[v[0]]\n",
    "    v2 = vectors2D[v[3]] - vectors2D[v[2]]\n",
    "    idx, most_similar = None, np.inf\n",
    "    \n",
    "    for i in range(len(v1)):\n",
    "        similarity = cosine(v1[i], v2[i])\n",
    "        if similarity < most_similar:\n",
    "            idx = i\n",
    "            most_similar = similarity\n",
    "    return idx"
   ]
  },
  {
   "cell_type": "code",
   "execution_count": 42,
   "metadata": {
    "slideshow": {
     "slide_type": "fragment"
    }
   },
   "outputs": [],
   "source": [
    "def get_plot_lims(coordinates):\n",
    "    xlim, ylim = coordinates.agg(['min', 'max']).T.values\n",
    "    xrange, yrange = (xlim[1] - xlim[0]) * .1, (ylim[1] - ylim[0]) * .1\n",
    "    xlim[0], xlim[1] = xlim[0] - xrange, xlim[1] + xrange\n",
    "    ylim[0], ylim[1] = ylim[0] - yrange, ylim[1] + yrange\n",
    "    return xlim, ylim"
   ]
  },
  {
   "cell_type": "code",
   "execution_count": 43,
   "metadata": {
    "slideshow": {
     "slide_type": "slide"
    }
   },
   "outputs": [
    {
     "data": {
      "image/png": "[encoded data removed]",
      "text/plain": [
       "<Figure size 1152x648 with 12 Axes>"
      ]
     },
     "metadata": {},
     "output_type": "display_data"
    }
   ],
   "source": [
    "fig, axes = plt.subplots(nrows=3, ncols=4, figsize=(16, 9))\n",
    "axes = axes.flatten()\n",
    "fc = ec = 'darkgrey'\n",
    "for s, (section, result) in enumerate(results.groupby('section')):\n",
    "    if s > 11:\n",
    "        continue\n",
    "        \n",
    "    df = result.drop('section', axis=1).apply(lambda x: x.map(word2id))\n",
    "    most_similar_idx = find_most_similar_analogy(df)\n",
    "    \n",
    "    best_analogy = result.iloc[most_similar_idx, :4].tolist()\n",
    "\n",
    "    analogy_idx = [words.index(word) for word in best_analogy]\n",
    "    best_analogy = [a.capitalize() for a in best_analogy]\n",
    "    \n",
    "    coords = pd.DataFrame(vectors2D[analogy_idx])  # xy array\n",
    "    \n",
    "    xlim, ylim = get_plot_lims(coords)\n",
    "    axes[s].set_xlim(xlim)\n",
    "    axes[s].set_ylim(ylim)\n",
    "\n",
    "    for i in [0, 2]:\n",
    "        axes[s].annotate(s=best_analogy[i], xy=coords.iloc[i+1], xytext=coords.iloc[i],\n",
    "                         arrowprops=dict(width=1,headwidth=5, headlength=5,\n",
    "                                         fc=fc, ec=ec, shrink=.1),\n",
    "                         fontsize=12)\n",
    "    \n",
    "        axes[s].annotate(best_analogy[i+1], xy=coords.iloc[i+1],\n",
    "                         xytext=coords.iloc[i+1],\n",
    "                         va='center', ha='center',\n",
    "                         fontsize=12, color='darkred' if i == 2 else 'k');\n",
    "\n",
    "    axes[s].axis('off')\n",
    "    title = ' '.join([s.capitalize()\n",
    "                      for s in section.split('-') if not s.startswith('gram')])\n",
    "    axes[s].set_title(title, fontsize=16)\n",
    "\n",
    "fig.tight_layout();"
   ]
  },
  {
   "cell_type": "markdown",
   "metadata": {},
   "source": [
    "## Resources\n",
    "\n",
    "- [Distributed representations of words and phrases and their compositionality](http://papers.nips.cc/paper/5021-distributed-representations-of-words-and-phrases-and-their-compositionality.pdf)\n",
    "- [Efficient estimation of word representations in vector space](https://arxiv.org/pdf/1301.3781.pdf?)\n",
    "- [Sebastian Ruder's Blog](http://ruder.io/word-embeddings-1/)"
   ]
  }
 ],
 "metadata": {
  "celltoolbar": "Slideshow",
  "kernelspec": {
   "display_name": "Python (Spacy)",
   "language": "python",
   "name": "spacy"
  },
  "language_info": {
   "codemirror_mode": {
    "name": "ipython",
    "version": 3
   },
   "file_extension": ".py",
   "mimetype": "text/x-python",
   "name": "python",
   "nbconvert_exporter": "python",
   "pygments_lexer": "ipython3",
   "version": "3.6.5"
  },
  "toc": {
   "base_numbering": 1,
   "nav_menu": {},
   "number_sections": true,
   "sideBar": false,
   "skip_h1_title": false,
   "title_cell": "Table of Contents",
   "title_sidebar": "Contents",
   "toc_cell": false,
   "toc_position": {
    "height": "47px",
    "left": "1405px",
    "right": "1340px",
    "top": "138px",
    "width": "212px"
   },
   "toc_section_display": true,
   "toc_window_display": true
  }
 },
 "nbformat": 4,
 "nbformat_minor": 2
}
